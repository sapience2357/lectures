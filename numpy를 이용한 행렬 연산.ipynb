{
 "cells": [
  {
   "cell_type": "code",
   "execution_count": 2,
   "metadata": {},
   "outputs": [],
   "source": [
    "import numpy as np"
   ]
  },
  {
   "cell_type": "markdown",
   "metadata": {},
   "source": [
    "# numpy의 행렬\n",
    "\n",
    "1. np.matrix: 수학\n",
    "2. np.array: 머신러닝"
   ]
  },
  {
   "cell_type": "markdown",
   "metadata": {},
   "source": [
    "### matrix 생성"
   ]
  },
  {
   "cell_type": "code",
   "execution_count": 2,
   "metadata": {},
   "outputs": [
    {
     "name": "stdout",
     "output_type": "stream",
     "text": [
      "[[ 1  2  3  4]\n",
      " [ 5  6  7  8]\n",
      " [ 9 10 11 12]]\n",
      "[[1]\n",
      " [2]\n",
      " [3]\n",
      " [4]]\n"
     ]
    }
   ],
   "source": [
    "A = np.matrix('1,2,3,4 ; 5,6,7,8 ; 9,10,11,12')\n",
    "x = np.matrix('1;2;3;4')\n",
    "print(A)\n",
    "print(x)"
   ]
  },
  {
   "cell_type": "markdown",
   "metadata": {},
   "source": [
    "### array 생성"
   ]
  },
  {
   "cell_type": "code",
   "execution_count": 4,
   "metadata": {},
   "outputs": [
    {
     "name": "stdout",
     "output_type": "stream",
     "text": [
      "[[ 1  2  3  4]\n",
      " [ 5  6  7  8]\n",
      " [ 9 10 11 12]]\n",
      "[[1]\n",
      " [2]\n",
      " [3]\n",
      " [4]]\n"
     ]
    }
   ],
   "source": [
    "A = np.array([\n",
    "    [1,2,3,4],\n",
    "    [5,6,7,8],\n",
    "    [9, 10, 11, 12]\n",
    "])\n",
    "x = np.array([\n",
    "    [1],\n",
    "    [2],\n",
    "    [3],\n",
    "    [4]\n",
    "])\n",
    "print(A)\n",
    "print(x)"
   ]
  },
  {
   "cell_type": "markdown",
   "metadata": {},
   "source": [
    "## 행렬 곱셈\n",
    "- 행렬의 덧셈은 별게 없어서... \n",
    "- 그냥 넘어 갈게요 "
   ]
  },
  {
   "cell_type": "markdown",
   "metadata": {},
   "source": [
    "### 행렬 / 벡터 곱\n",
    "\n",
    "$$\n",
    "    \\begin{bmatrix}\n",
    "        a_{11} & a_{12} & a_{13} \\\\\n",
    "        a_{21} & a_{22} & a_{23} \\\\\n",
    "        a_{31} & a_{32} & a_{33} \\\\\n",
    "    \\end{bmatrix}\n",
    "    \\begin{bmatrix}\n",
    "        x_1 \\\\\n",
    "        x_2 \\\\\n",
    "        x_3 \\\\\n",
    "        x_4\n",
    "    \\end{bmatrix} = \n",
    "    \\begin{bmatrix}\n",
    "        a_{11} \\cdot x_1 + a_{12} \\cdot x_2 + a_{13} \\cdot x_3 \\\\\n",
    "        a_{21} \\cdot x_1 + a_{22} \\cdot x_2 + a_{23} \\cdot x_3 \\\\\n",
    "        a_{31} \\cdot x_1 + a_{32} \\cdot x_2 + a_{33} \\cdot x_3 \\\\\n",
    "    \\end{bmatrix}\n",
    "$$"
   ]
  },
  {
   "cell_type": "markdown",
   "metadata": {},
   "source": [
    "### 행렬 / 벡터 곱 - 첫번째 - 01\n",
    "- 손으로 계산해보기\n",
    "\n",
    "$$\n",
    "    \\begin{bmatrix}\n",
    "            1 & 4 & 2 & 0 \\\\\n",
    "            9 & 5 & 0 & 0 \\\\\n",
    "            4 & 0 & 2 & 4 \\\\\n",
    "            6 & 1 & 8 & 3 \\\\\n",
    "    \\end{bmatrix}\n",
    "    \\begin{bmatrix}\n",
    "            1 \\\\\n",
    "            2 \\\\\n",
    "            3 \\\\\n",
    "            4 \\\\\n",
    "    \\end{bmatrix} = \n",
    "    \\begin{bmatrix}\n",
    "            1 \\cdot 1 + 4 \\cdot 2 + 2 \\cdot 3 + 0 \\cdot 4 \\\\\n",
    "            9 \\cdot 1 + 5 \\cdot 2 + 0 \\cdot 3 + 0 \\cdot 4 \\\\\n",
    "            4 \\cdot 1 + 0 \\cdot 2 + 2 \\cdot 3 + 4 \\cdot 4 \\\\\n",
    "            6 \\cdot 1 + 1 \\cdot 2 + 8 \\cdot 3 + 3 \\cdot 4 \\\\\n",
    "    \\end{bmatrix}\n",
    "$$"
   ]
  },
  {
   "cell_type": "markdown",
   "metadata": {},
   "source": [
    "- 정답 확인해보기\n",
    "\n",
    "$$\n",
    "    \\begin{bmatrix}\n",
    "            1 & 4 & 2 & 0 \\\\\n",
    "            9 & 5 & 0 & 0 \\\\\n",
    "            4 & 0 & 2 & 4 \\\\\n",
    "            6 & 1 & 8 & 3 \\\\\n",
    "    \\end{bmatrix}\n",
    "    \\begin{bmatrix}\n",
    "            1 \\\\\n",
    "            2 \\\\\n",
    "            3 \\\\\n",
    "            4 \\\\\n",
    "    \\end{bmatrix} = \n",
    "    \\begin{bmatrix}\n",
    "            15 \\\\\n",
    "            19 \\\\\n",
    "            26 \\\\\n",
    "            44 \\\\\n",
    "    \\end{bmatrix}\n",
    "$$\n"
   ]
  },
  {
   "cell_type": "markdown",
   "metadata": {},
   "source": [
    "### 행렬 / 벡터 곱 - 첫번째 - 02\n",
    "- 손으로 계산해보기\n",
    "\n",
    "$$\n",
    "    \\begin{bmatrix}\n",
    "            4 & 5 & 2 & 1 \\\\\n",
    "            2 & 3 & 8 & 0 \\\\\n",
    "            1 & 0 & 7 & 2 \\\\\n",
    "    \\end{bmatrix}\n",
    "    \\begin{bmatrix}\n",
    "            1 \\\\\n",
    "            2 \\\\\n",
    "            3 \\\\\n",
    "            4 \\\\\n",
    "    \\end{bmatrix} = \n",
    "    ?\n",
    "$$"
   ]
  },
  {
   "cell_type": "markdown",
   "metadata": {},
   "source": [
    "- 정답 확인해보기\n",
    "\n",
    "$$\n",
    "    \\begin{bmatrix}\n",
    "            4 & 5 & 2 & 1 \\\\\n",
    "            2 & 3 & 8 & 0 \\\\\n",
    "            1 & 0 & 7 & 2 \\\\\n",
    "    \\end{bmatrix}\n",
    "    \\begin{bmatrix}\n",
    "            1 \\\\\n",
    "            2 \\\\\n",
    "            3 \\\\\n",
    "            4 \\\\\n",
    "    \\end{bmatrix} = \n",
    "    \\begin{bmatrix}\n",
    "            24 \\\\\n",
    "            32 \\\\\n",
    "            30 \\\\\n",
    "    \\end{bmatrix}\n",
    "$$\n"
   ]
  },
  {
   "cell_type": "markdown",
   "metadata": {},
   "source": [
    "### 행렬/벡터 곱 - 두번째 "
   ]
  },
  {
   "cell_type": "code",
   "execution_count": 16,
   "metadata": {},
   "outputs": [
    {
     "name": "stdout",
     "output_type": "stream",
     "text": [
      "[[15.]\n",
      " [19.]\n",
      " [26.]\n",
      " [44.]]\n"
     ]
    }
   ],
   "source": [
    "A = np.matrix('1,4,2,0; 9,5,0,0; 4,0,2,4; 6,1,8,3')\n",
    "x = np.matrix('1;2;3;4')\n",
    "b = np.zeros((4,1))\n",
    "n = 4\n",
    "\n",
    "# todo martix를 이용한 행렬곱 결과를 출력 \n",
    "for i in range(0, n):\n",
    "    val = 0.0\n",
    "    for j in range(0,n):\n",
    "        # TODO\n",
    "        val += A[i,j] * x[j,0]\n",
    "    b[i] = val\n",
    "print(b)"
   ]
  },
  {
   "cell_type": "code",
   "execution_count": 18,
   "metadata": {},
   "outputs": [
    {
     "name": "stdout",
     "output_type": "stream",
     "text": [
      "[15 19 26 44]\n"
     ]
    }
   ],
   "source": [
    "A = np.array([\n",
    "    [1,4,2,0],\n",
    "    [9,5,0,0],\n",
    "    [4,0,2,4],\n",
    "    [6,1,8,3]\n",
    "])\n",
    "x = np.array([1,2,3,4])\n",
    "b = np.array([0,0,0,0])\n",
    "n= 4\n",
    "\n",
    "for i in range(0, n):\n",
    "    val = 0.0\n",
    "    for j in range(0,n):\n",
    "        # TODO\n",
    "        val += A[i,j] * x[j]\n",
    "    b[i] = val\n",
    "print(b)"
   ]
  },
  {
   "cell_type": "markdown",
   "metadata": {},
   "source": [
    "### 행렬/벡터 곱 - 세번째"
   ]
  },
  {
   "cell_type": "code",
   "execution_count": 20,
   "metadata": {},
   "outputs": [
    {
     "name": "stdout",
     "output_type": "stream",
     "text": [
      "[[1 4 2 0]\n",
      " [9 5 0 0]\n",
      " [4 0 2 4]\n",
      " [6 1 8 3]]\n",
      "[[1]\n",
      " [2]\n",
      " [3]\n",
      " [4]]\n",
      "[[15]\n",
      " [19]\n",
      " [26]\n",
      " [44]]\n"
     ]
    }
   ],
   "source": [
    "A = np.matrix('1,4,2,0; 9,5,0,0; 4,0,2,4; 6,1,8,3')\n",
    "x = np.matrix('1;2;3;4')\n",
    "\n",
    "print(A)\n",
    "print(x)\n",
    "\n",
    "b = A * x\n",
    "print(b)"
   ]
  },
  {
   "cell_type": "code",
   "execution_count": 26,
   "metadata": {},
   "outputs": [
    {
     "name": "stdout",
     "output_type": "stream",
     "text": [
      "[[1 4 2 0]\n",
      " [9 5 0 0]\n",
      " [4 0 2 4]\n",
      " [6 1 8 3]]\n",
      "[1 2 3 4]\n",
      "[15 19 26 44]\n",
      "[15 19 26 44]\n"
     ]
    }
   ],
   "source": [
    "A = np.array([\n",
    "    [1,4,2,0],\n",
    "    [9,5,0,0],\n",
    "    [4,0,2,4],\n",
    "    [6,1,8,3]\n",
    "])\n",
    "x = np.array([1,2,3,4])\n",
    "\n",
    "print(A)\n",
    "print(x)\n",
    "\n",
    "# b = A * x\n",
    "b = np.dot(A, x)\n",
    "print(b)\n",
    "\n",
    "b = np.matmul(A, x)\n",
    "print(b)"
   ]
  },
  {
   "cell_type": "markdown",
   "metadata": {},
   "source": [
    "### 행렬 / 벡터 곱 - 복습\n",
    "\n",
    "$$\n",
    "    \\begin{bmatrix}\n",
    "            4 & 5 & 2 & 1 \\\\\n",
    "            2 & 3 & 8 & 0 \\\\\n",
    "            1 & 0 & 7 & 2 \\\\\n",
    "    \\end{bmatrix}\n",
    "    \\begin{bmatrix}\n",
    "            1 \\\\\n",
    "            2 \\\\\n",
    "            3 \\\\\n",
    "            4 \\\\\n",
    "    \\end{bmatrix} = \n",
    "    ?\n",
    "$$"
   ]
  },
  {
   "cell_type": "code",
   "execution_count": 3,
   "metadata": {},
   "outputs": [],
   "source": [
    "A = np.matrix('4, 5, 2, 1; 2, 3, 8, 0; 1, 0, 7, 2')\n",
    "x = np.matrix('1;2;3;4')"
   ]
  },
  {
   "cell_type": "code",
   "execution_count": 5,
   "metadata": {},
   "outputs": [
    {
     "name": "stdout",
     "output_type": "stream",
     "text": [
      "[[24.]\n",
      " [32.]\n",
      " [30.]]\n"
     ]
    }
   ],
   "source": [
    "# for loop를 이용한 행렬/벡터 곱 구현\n",
    "\n",
    "b = np.zeros((3,1))\n",
    "#TODO\n",
    "for i in range(3):\n",
    "    val = 0.0\n",
    "    for j in range(4):\n",
    "        val += A[i,j] * x[j,0]\n",
    "    b[i] = val\n",
    "print(b)"
   ]
  },
  {
   "cell_type": "code",
   "execution_count": 7,
   "metadata": {},
   "outputs": [
    {
     "name": "stdout",
     "output_type": "stream",
     "text": [
      "[[24]\n",
      " [32]\n",
      " [30]]\n"
     ]
    }
   ],
   "source": [
    "# matrix 타입의 행렬/벡터 곱 구현\n",
    "b = A * x\n",
    "print(b)"
   ]
  },
  {
   "cell_type": "code",
   "execution_count": 12,
   "metadata": {},
   "outputs": [],
   "source": [
    "A = np.array([[4, 5, 2, 1], [2, 3, 8, 0], [1, 0, 7, 2]])\n",
    "x = np.array([1,2,3,4])"
   ]
  },
  {
   "cell_type": "code",
   "execution_count": 15,
   "metadata": {},
   "outputs": [
    {
     "name": "stdout",
     "output_type": "stream",
     "text": [
      "[24. 32. 30.]\n"
     ]
    }
   ],
   "source": [
    "# for loop를 이용한 행렬/벡터 곱 구현\n",
    "\n",
    "b = np.zeros(3)\n",
    "# TODO\n",
    "for i in range(3):\n",
    "    val = 0\n",
    "    for j in range(4):\n",
    "        val += A[i,j] * x[j]\n",
    "    b[i] = val\n",
    "print(b)"
   ]
  },
  {
   "cell_type": "code",
   "execution_count": 10,
   "metadata": {},
   "outputs": [
    {
     "name": "stdout",
     "output_type": "stream",
     "text": [
      "[24 32 30]\n",
      "[24 32 30]\n"
     ]
    }
   ],
   "source": [
    "# array 타입의 행렬/벡터 곱 구현\n",
    "\n",
    "b = np.dot(A, x)\n",
    "print(b)\n",
    "\n",
    "b = np.matmul(A, x)\n",
    "print(b)"
   ]
  },
  {
   "cell_type": "code",
   "execution_count": null,
   "metadata": {},
   "outputs": [],
   "source": []
  }
 ],
 "metadata": {
  "kernelspec": {
   "display_name": "Python 3",
   "language": "python",
   "name": "python3"
  },
  "language_info": {
   "codemirror_mode": {
    "name": "ipython",
    "version": 3
   },
   "file_extension": ".py",
   "mimetype": "text/x-python",
   "name": "python",
   "nbconvert_exporter": "python",
   "pygments_lexer": "ipython3",
   "version": "3.7.4"
  }
 },
 "nbformat": 4,
 "nbformat_minor": 4
}
