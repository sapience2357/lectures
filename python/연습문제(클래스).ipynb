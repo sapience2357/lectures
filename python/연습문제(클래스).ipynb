{
 "cells": [
  {
   "cell_type": "markdown",
   "metadata": {},
   "source": [
    "# 클래스 연습 문제\n",
    "- 주어진 상황에 맞는 클래스를 정의하시면 됩니다. "
   ]
  },
  {
   "cell_type": "markdown",
   "metadata": {},
   "source": [
    "## 1. 비어있는 Human 클래스를 정의 해봅니다. "
   ]
  },
  {
   "cell_type": "code",
   "execution_count": 1,
   "metadata": {},
   "outputs": [],
   "source": [
    "class Human:\n",
    "    pass"
   ]
  },
  {
   "cell_type": "markdown",
   "metadata": {},
   "source": [
    "## 2. Human 클래스의 인스턴스(객체)를 생성하고 이를 obj1 변수로 바인딩 합니다. "
   ]
  },
  {
   "cell_type": "code",
   "execution_count": 6,
   "metadata": {},
   "outputs": [
    {
     "data": {
      "text/plain": [
       "<__main__.Human at 0x7fa450ceac10>"
      ]
     },
     "execution_count": 6,
     "metadata": {},
     "output_type": "execute_result"
    }
   ],
   "source": [
    "obj1 = Human()\n",
    "obj1"
   ]
  },
  {
   "cell_type": "markdown",
   "metadata": {},
   "source": [
    "## 3. Human 클래스에 생성자를 추가하고, 생성자가 실행됐음을 확인할 수 있는 문자열을 출력 하도록 합니다. "
   ]
  },
  {
   "cell_type": "code",
   "execution_count": 1,
   "metadata": {},
   "outputs": [],
   "source": [
    "class Human:\n",
    "    \n",
    "    def __init__(self):\n",
    "        print(\"생성자가 실행되었습니다.\")"
   ]
  },
  {
   "cell_type": "code",
   "execution_count": 2,
   "metadata": {},
   "outputs": [
    {
     "name": "stdout",
     "output_type": "stream",
     "text": [
      "생성자가 실행되었습니다.\n"
     ]
    }
   ],
   "source": [
    "obj1 = Human()"
   ]
  },
  {
   "cell_type": "markdown",
   "metadata": {},
   "source": [
    "## 4. 생성자를 이용해 (이름, 나이, 성별)을 받을 수 있도록 객체변수를 정의 해주세요 \n",
    "- 생성자를 이용해 객체변수를 초기화 하시오. "
   ]
  },
  {
   "cell_type": "code",
   "execution_count": 6,
   "metadata": {},
   "outputs": [],
   "source": [
    "class Human:\n",
    "    \n",
    "    def __init__(self, name='', age=0, gender='unknown'):\n",
    "        self.name = name\n",
    "        self.age = age\n",
    "        self.gender = gender"
   ]
  },
  {
   "cell_type": "code",
   "execution_count": 7,
   "metadata": {},
   "outputs": [],
   "source": [
    "obj1 = Human('john', 22, 'male')\n",
    "obj2 = Human()"
   ]
  },
  {
   "cell_type": "markdown",
   "metadata": {},
   "source": [
    "## 5. 생성된 객체의 속성(이름, 나이, 성별)을 출력 해봅니다. "
   ]
  },
  {
   "cell_type": "code",
   "execution_count": 9,
   "metadata": {},
   "outputs": [
    {
     "name": "stdout",
     "output_type": "stream",
     "text": [
      "john\n",
      "22\n",
      "male\n"
     ]
    }
   ],
   "source": [
    "print(obj1.name)\n",
    "print(obj1.age)\n",
    "print(obj1.gender)"
   ]
  },
  {
   "cell_type": "code",
   "execution_count": 10,
   "metadata": {},
   "outputs": [
    {
     "name": "stdout",
     "output_type": "stream",
     "text": [
      "\n",
      "0\n",
      "unknown\n"
     ]
    }
   ],
   "source": [
    "print(obj2.name)\n",
    "print(obj2.age)\n",
    "print(obj2.gender)"
   ]
  },
  {
   "cell_type": "markdown",
   "metadata": {},
   "source": [
    "## 6. 속성(이름, 나이, 성별)을 출력할 수 있는 who() 메서드를 추가 합니다. "
   ]
  },
  {
   "cell_type": "code",
   "execution_count": 11,
   "metadata": {},
   "outputs": [],
   "source": [
    "class Human:\n",
    "    \n",
    "    def __init__(self, name='', age=0, gender='unknown'):\n",
    "        self.name = name\n",
    "        self.age = age\n",
    "        self.gender = gender\n",
    "        \n",
    "    def who(self):\n",
    "        print(self.name)\n",
    "        print(self.age)\n",
    "        print(self.gender)"
   ]
  },
  {
   "cell_type": "code",
   "execution_count": 12,
   "metadata": {},
   "outputs": [
    {
     "name": "stdout",
     "output_type": "stream",
     "text": [
      "john\n",
      "22\n",
      "male\n"
     ]
    }
   ],
   "source": [
    "obj1 = Human('john', 22, 'male')\n",
    "obj1.who()"
   ]
  },
  {
   "cell_type": "markdown",
   "metadata": {},
   "source": [
    "## 7. 속성(이름, 나이, 성별)을 받을 수 있는 getter와 setter를 추가 합니다. "
   ]
  },
  {
   "cell_type": "code",
   "execution_count": 19,
   "metadata": {},
   "outputs": [],
   "source": [
    "class Human:\n",
    "    \n",
    "    def __init__(self, name='', age=0, gender='unknown'):\n",
    "        self._name = name\n",
    "        self._age = age\n",
    "        self._gender = gender\n",
    "        \n",
    "    @property\n",
    "    def name(self):\n",
    "        return self._name\n",
    "    @name.setter\n",
    "    def name(self, name):\n",
    "        self._name = name\n",
    "    \n",
    "    @property\n",
    "    def age(self):\n",
    "        return self._age\n",
    "    @age.setter\n",
    "    def age(self, age):\n",
    "        self._age = age\n",
    "    \n",
    "    @property\n",
    "    def gender(self):\n",
    "        return self._gender\n",
    "    @gender.setter\n",
    "    def gender(self, gender):\n",
    "        self._gender = gender\n",
    "    \n",
    "    \n",
    "        \n",
    "    def who(self):\n",
    "        print(self._name)\n",
    "        print(self._age)\n",
    "        print(self._gender)"
   ]
  },
  {
   "cell_type": "code",
   "execution_count": 20,
   "metadata": {},
   "outputs": [],
   "source": [
    "obj1 = Human('john', 22, 'male')"
   ]
  },
  {
   "cell_type": "code",
   "execution_count": 22,
   "metadata": {},
   "outputs": [
    {
     "data": {
      "text/plain": [
       "33"
      ]
     },
     "execution_count": 22,
     "metadata": {},
     "output_type": "execute_result"
    }
   ],
   "source": [
    "obj1.age = 33\n",
    "obj1.age"
   ]
  },
  {
   "cell_type": "markdown",
   "metadata": {},
   "source": [
    "## 8. 다음의 코드는 에러가 발생 합니다. 원인을 확인해 보세요."
   ]
  },
  {
   "cell_type": "code",
   "execution_count": 25,
   "metadata": {},
   "outputs": [],
   "source": [
    "class OMG:\n",
    "    def print():\n",
    "        print(\"Oh My God\")"
   ]
  },
  {
   "cell_type": "code",
   "execution_count": 26,
   "metadata": {},
   "outputs": [
    {
     "ename": "TypeError",
     "evalue": "print() takes 0 positional arguments but 1 was given",
     "output_type": "error",
     "traceback": [
      "\u001b[0;31m---------------------------------------------------------------------------\u001b[0m",
      "\u001b[0;31mTypeError\u001b[0m                                 Traceback (most recent call last)",
      "\u001b[0;32m<ipython-input-26-e7ccc9f8acd6>\u001b[0m in \u001b[0;36m<module>\u001b[0;34m\u001b[0m\n\u001b[1;32m      1\u001b[0m \u001b[0mobj1\u001b[0m \u001b[0;34m=\u001b[0m \u001b[0mOMG\u001b[0m\u001b[0;34m(\u001b[0m\u001b[0;34m)\u001b[0m\u001b[0;34m\u001b[0m\u001b[0;34m\u001b[0m\u001b[0m\n\u001b[0;32m----> 2\u001b[0;31m \u001b[0mobj1\u001b[0m\u001b[0;34m.\u001b[0m\u001b[0mprint\u001b[0m\u001b[0;34m(\u001b[0m\u001b[0;34m)\u001b[0m\u001b[0;34m\u001b[0m\u001b[0;34m\u001b[0m\u001b[0m\n\u001b[0m",
      "\u001b[0;31mTypeError\u001b[0m: print() takes 0 positional arguments but 1 was given"
     ]
    }
   ],
   "source": [
    "obj1 = OMG()\n",
    "obj1.print()"
   ]
  },
  {
   "cell_type": "markdown",
   "metadata": {},
   "source": [
    "# 클래스 연습문제 두번째\n",
    "- 변수의 종류에 대해서 클래스와 함께 다룹니다. "
   ]
  },
  {
   "cell_type": "markdown",
   "metadata": {},
   "source": [
    "# 파이썬 에서 변수의 종류\n",
    "- 위치에 따라 변수의 종류가 구분되고, \n",
    "- 변수의 영향력이 달라진다. \n",
    "\n",
    "## 1. 전역변수(global)\n",
    "- 함수와 클래스 그 어디에도 포함되어 있지 않은 위치에 정의\n",
    "- 정의된 시점부터 파일의 끝까지 유효하다. \n",
    "\n",
    "## 2. 지역변수(local)\n",
    "- 함수 내에서 정의\n",
    "- 함수의 인자(매개변수)도 역시, 지역변수\n",
    "- 함수 내에서만 유효\n",
    "\n",
    "## 3. 클래스 변수\n",
    "- 메소드에 포함되어 있지 않은 클래스 내부에서 정의\n",
    "- 각 클래스마다 한개만 존재 하는 변수\n",
    "- 즉, 클래스가 아닌 곳에서는 참조가 불가능\n",
    "\n",
    "## 4. 객체 변수\n",
    "- 객체가 생성될 때 정의되는 변수\n",
    "- 객체 변수를 참조할 때에는 앞에 self가 붙는다. "
   ]
  },
  {
   "cell_type": "markdown",
   "metadata": {},
   "source": [
    "# 1. BankAccount 클래스 정의하기 \n",
    "- 은행에서 계좌를 개설하면 기본적으로 계좌번호와 잔액이 설정됩니다. \n",
    "- 생성자를 이용해서 구현해 봅시다. "
   ]
  },
  {
   "cell_type": "code",
   "execution_count": 44,
   "metadata": {},
   "outputs": [],
   "source": [
    "class BankAccount:\n",
    "    def __init__(self, account_no='', balance=0):\n",
    "        self.account_no = account_no\n",
    "        self.balance = balance"
   ]
  },
  {
   "cell_type": "markdown",
   "metadata": {},
   "source": [
    "# 2. 클래스 변수\n",
    "- 개설된 계좌의 갯수를 저장하는 클래스 변수 하나를 정의하세요. \n",
    "- number_of_bank_account"
   ]
  },
  {
   "cell_type": "code",
   "execution_count": 59,
   "metadata": {},
   "outputs": [],
   "source": [
    "class BankAccount:\n",
    "    # 클래스 변수\n",
    "    number_of_bank_account = 0\n",
    "    \n",
    "    # 생성자\n",
    "    # 객체가 생성될 때, 제일 먼저 실행되는 메서드\n",
    "    def __init__(self, account_no='', balance=0):\n",
    "        self.account_no = account_no # 객체변수 = 지역변수\n",
    "        self.balance = balance # 객체변수 = 지역변수\n",
    "        BankAccount.number_of_bank_account += 1"
   ]
  },
  {
   "cell_type": "code",
   "execution_count": 61,
   "metadata": {},
   "outputs": [
    {
     "data": {
      "text/plain": [
       "2"
      ]
     },
     "execution_count": 61,
     "metadata": {},
     "output_type": "execute_result"
    }
   ],
   "source": [
    "# 클래스 변수는 객체 생성 시점과는 무관 \n",
    "BankAccount.number_of_bank_account"
   ]
  },
  {
   "cell_type": "code",
   "execution_count": 60,
   "metadata": {},
   "outputs": [],
   "source": [
    "client1 = BankAccount('11111-1111', 100000)\n",
    "client2 = BankAccount('1111-1111-11111', 10000) # 생성자 호출"
   ]
  },
  {
   "cell_type": "markdown",
   "metadata": {},
   "source": [
    "# 3. 입금 메서드\n",
    "- 계좌를 개설한 객체에 입금을 하기 위한 deposit 메서드를 추가해 봅시다.\n",
    "- 최소 입금액은 1원이라고 가정 합니다. "
   ]
  },
  {
   "cell_type": "code",
   "execution_count": 1,
   "metadata": {},
   "outputs": [],
   "source": [
    "class BankAccount:\n",
    "    # 클래스 변수\n",
    "    number_of_bank_account = 0\n",
    "    \n",
    "    # 생성자\n",
    "    # 객체가 생성될 때, 제일 먼저 실행되는 메서드\n",
    "    def __init__(self, account_no='', balance=0):\n",
    "        self.account_no = account_no # 객체변수 = 지역변수\n",
    "        self.balance = balance # 객체변수 = 지역변수\n",
    "        BankAccount.number_of_bank_account += 1\n",
    "        \n",
    "    def deposit(self, amount=0):\n",
    "        if amount < 1:\n",
    "            print('최소 입금액은 1원 입니다.')\n",
    "        else:\n",
    "            # self.balance = self.balance + amount\n",
    "            self.balance += amount\n",
    "            print('{}원이 입금되었습니다.'.format(amount))\n",
    "        "
   ]
  },
  {
   "cell_type": "code",
   "execution_count": 2,
   "metadata": {},
   "outputs": [],
   "source": [
    "client1 = BankAccount('11-111111111-111-1', 10000)"
   ]
  },
  {
   "cell_type": "code",
   "execution_count": 3,
   "metadata": {},
   "outputs": [
    {
     "name": "stdout",
     "output_type": "stream",
     "text": [
      "10000원이 입금되었습니다.\n"
     ]
    },
    {
     "data": {
      "text/plain": [
       "20000"
      ]
     },
     "execution_count": 3,
     "metadata": {},
     "output_type": "execute_result"
    }
   ],
   "source": [
    "client1.deposit(10000)\n",
    "client1.balance"
   ]
  },
  {
   "cell_type": "code",
   "execution_count": 4,
   "metadata": {},
   "outputs": [
    {
     "name": "stdout",
     "output_type": "stream",
     "text": [
      "최소 입금액은 1원 입니다.\n"
     ]
    }
   ],
   "source": [
    "client1.deposit(-1)"
   ]
  },
  {
   "cell_type": "markdown",
   "metadata": {},
   "source": [
    "# 4. 출금 메서드\n",
    "- 마찬가지로 출금을 하기 위한, withdraw 메서드를 추가해 봅시다. \n",
    "- 잔액 이상으로는 출금할 수 없습니다. "
   ]
  },
  {
   "cell_type": "code",
   "execution_count": 1,
   "metadata": {},
   "outputs": [],
   "source": [
    "class BankAccount:\n",
    "    # 클래스 변수\n",
    "    number_of_bank_account = 0\n",
    "    \n",
    "    # 생성자\n",
    "    # 객체가 생성될 때, 제일 먼저 실행되는 메서드\n",
    "    def __init__(self, account_no='', balance=0):\n",
    "        self.account_no = account_no # 객체변수 = 지역변수\n",
    "        self.balance = balance # 객체변수 = 지역변수\n",
    "        BankAccount.number_of_bank_account += 1\n",
    "        \n",
    "    def deposit(self, amount=0):\n",
    "        if amount < 1:\n",
    "            print('최소 입금액은 1원 입니다.')\n",
    "        else:\n",
    "            # self.balance = self.balance + amount\n",
    "            self.balance += amount\n",
    "            print('{}원이 입금되었습니다.'.format(amount))\n",
    "            \n",
    "    def withdraw(self, amount=0):\n",
    "        if amount < self.balance:\n",
    "            self.balance -= amount\n",
    "            print('{}원이 출금되었습니다.'.format(amount))\n",
    "            print('현재 잔액은 {}원 입니다.'.format(self.balance))\n",
    "        else:\n",
    "            print('잔액이 부족합니다.')\n",
    "        "
   ]
  },
  {
   "cell_type": "markdown",
   "metadata": {},
   "source": [
    "#### 만약에... 대화식으로 작성하고 싶으시다면... "
   ]
  },
  {
   "cell_type": "code",
   "execution_count": 5,
   "metadata": {},
   "outputs": [
    {
     "name": "stdout",
     "output_type": "stream",
     "text": [
      "계좌번호를 입력해주세요: 11-111111111-111\n",
      "입금할 금액을 입력해주세요: 10000\n"
     ]
    }
   ],
   "source": [
    "account_no = input('계좌번호를 입력해주세요: ')\n",
    "amount = input('입금할 금액을 입력해주세요: ')\n",
    "\n",
    "amount = int(amount)\n",
    "\n",
    "client = BankAccount(account_no, amount)"
   ]
  },
  {
   "cell_type": "code",
   "execution_count": 6,
   "metadata": {},
   "outputs": [
    {
     "name": "stdout",
     "output_type": "stream",
     "text": [
      "입금할 금액을 입력해주세요: 20000\n",
      "20000원이 입금되었습니다.\n"
     ]
    }
   ],
   "source": [
    "amount = input('입금할 금액을 입력해주세요: ')\n",
    "amount = int(amount)\n",
    "client.deposit( amount )"
   ]
  },
  {
   "cell_type": "markdown",
   "metadata": {},
   "source": [
    "# 이자 지급하기\n",
    "- 입금횟수가 5회가 될 때 마다 잔고를 기준으로 1%의 이자를 잔고에 추가하도록 해 봅시다. "
   ]
  },
  {
   "cell_type": "code",
   "execution_count": 61,
   "metadata": {},
   "outputs": [],
   "source": [
    "class BankAccount:\n",
    "    # 클래스 변수\n",
    "    number_of_bank_account = 0\n",
    "    \n",
    "    # 생성자\n",
    "    # 객체가 생성될 때, 제일 먼저 실행되는 메서드\n",
    "    def __init__(self, account_no='', balance=0):\n",
    "        self.account_no = account_no # 객체변수 = 지역변수\n",
    "        self.balance = balance # 객체변수 = 지역변수\n",
    "        self.number_of_deposit = 0\n",
    "        BankAccount.number_of_bank_account += 1\n",
    "        \n",
    "    def deposit(self, amount=0):\n",
    "        if amount < 1:\n",
    "            print('최소 입금액은 1원 입니다.')\n",
    "        else:\n",
    "            # self.balance = self.balance + amount\n",
    "            self.balance += amount\n",
    "            self.number_of_deposit += 1\n",
    "            print('{}원이 입금되었습니다.'.format(amount))\n",
    "            print('{}회 입금하였습니다.'.format(self.number_of_deposit))\n",
    "            print('현재 잔액은 {}원 입니다.'.format(self.balance))\n",
    "            \n",
    "            if (self.number_of_deposit % 5) == 0: \n",
    "                interest = self.balance * 0.01\n",
    "                self.balance += interest\n",
    "                \n",
    "            \n",
    "    def withdraw(self, amount=0):\n",
    "        if amount < self.balance:\n",
    "            self.balance -= amount\n",
    "            print('{}원이 출금되었습니다.'.format(amount))\n",
    "            print('현재 잔액은 {}원 입니다.'.format(self.balance))\n",
    "        else:\n",
    "            print('잔액이 부족합니다.')\n",
    "        "
   ]
  },
  {
   "cell_type": "code",
   "execution_count": 62,
   "metadata": {},
   "outputs": [],
   "source": [
    "client = BankAccount('11-11111111-11', 100000)"
   ]
  },
  {
   "cell_type": "code",
   "execution_count": 68,
   "metadata": {},
   "outputs": [
    {
     "name": "stdout",
     "output_type": "stream",
     "text": [
      "1000000원이 입금되었습니다.\n",
      "6회 입금하였습니다.\n",
      "현재 잔액은 6151000.0원 입니다.\n"
     ]
    }
   ],
   "source": [
    "client.deposit(1000000)"
   ]
  },
  {
   "cell_type": "code",
   "execution_count": 52,
   "metadata": {},
   "outputs": [],
   "source": [
    "client2 = BankAccount('22-22222222-22-2', 1000)"
   ]
  },
  {
   "cell_type": "code",
   "execution_count": 60,
   "metadata": {},
   "outputs": [
    {
     "name": "stdout",
     "output_type": "stream",
     "text": [
      "1000원이 입금되었습니다.\n",
      "8회 입금하였습니다.\n"
     ]
    }
   ],
   "source": [
    "client2.deposit(1000)"
   ]
  },
  {
   "cell_type": "markdown",
   "metadata": {},
   "source": [
    "# 클래스 연습문제 세번째"
   ]
  },
  {
   "cell_type": "markdown",
   "metadata": {},
   "source": [
    "# 1. Stock 클래스 생성\n",
    "- 주식 종목에 대한 정보를 저장하는 Stock 클래스를 정의 해봅니다. "
   ]
  },
  {
   "cell_type": "code",
   "execution_count": null,
   "metadata": {},
   "outputs": [],
   "source": [
    "class Stock:\n",
    "    pass"
   ]
  },
  {
   "cell_type": "markdown",
   "metadata": {},
   "source": [
    "# 2. Stock 클래스의 객체가 생성될 때, 종목명과 종목코드를 입력 받을 수 있도록 생성자를 정의 해봅니다. \n",
    "\n",
    "- 입력예\n",
    "```\n",
    "    samsung = Stock(\"삼성전자\", \"005939\")\n",
    "```"
   ]
  },
  {
   "cell_type": "code",
   "execution_count": 5,
   "metadata": {},
   "outputs": [],
   "source": [
    "class Stock:\n",
    "    \n",
    "    def __init__(self, 종목명='', 종목코드=''):\n",
    "        self.종목명 = 종목명\n",
    "        self.종목코드 = 종목코드\n",
    "        \n",
    "    def set_name(self, 종목명=''):\n",
    "        self.종목명 = 종목명\n",
    "        "
   ]
  },
  {
   "cell_type": "markdown",
   "metadata": {},
   "source": [
    "# 3. 객체에 종목명을 입력할 수 있는 set_name 메서드를 추가 해봅니다. \n",
    "\n",
    "- 입력예\n",
    "```\n",
    "    a = Stock()\n",
    "    a.set_name(\"삼성전자\")\n",
    "```"
   ]
  },
  {
   "cell_type": "code",
   "execution_count": null,
   "metadata": {},
   "outputs": [],
   "source": []
  },
  {
   "cell_type": "markdown",
   "metadata": {},
   "source": [
    "# 4. 객체에 종목코드를 입력할 수 있는 set_code 메서드를 추가 해봅니다. \n",
    "\n",
    "- 입력예\n",
    "```\n",
    "    a = Stock()\n",
    "    a.set_code(\"005930\")\n",
    "```"
   ]
  },
  {
   "cell_type": "code",
   "execution_count": null,
   "metadata": {},
   "outputs": [],
   "source": []
  },
  {
   "cell_type": "markdown",
   "metadata": {},
   "source": [
    "# 5. 생성자에서 종목명, 종목코드, PER, PBR, 배당수익률을 입력 받을 수 있도록 생성자를 수정 해봅니다. "
   ]
  },
  {
   "cell_type": "code",
   "execution_count": null,
   "metadata": {},
   "outputs": [],
   "source": []
  },
  {
   "cell_type": "markdown",
   "metadata": {},
   "source": [
    "# 6. 수정된 생성자를 통해 다음의 객체를 생성 해봅니다. \n",
    "\n",
    "|항목|정보|\n",
    "|:---:|:---:|\n",
    "| 종목명 | 삼성전자 |\n",
    "| 종목코드 | 005930 |\n",
    "| PER | 15.79 |\n",
    "| PBR | 1.33 |\n",
    "| 배당수익률 | 2.83 |"
   ]
  },
  {
   "cell_type": "code",
   "execution_count": null,
   "metadata": {},
   "outputs": [],
   "source": []
  },
  {
   "cell_type": "markdown",
   "metadata": {},
   "source": [
    "# 7. 여러 종목의 객체를 생성해보겠습니다. \n",
    "\n",
    "| 종목명 | 종목코드 | PER | PBR | 배당수익률 |\n",
    "|:---:|:---:|:---:|:---:|:---:|\n",
    "| 삼성전자 | 005930 | 15.79 | 1.33 | 2.83 |\n",
    "| 현대차 | 005380 | 8.70 | 0.35 | 4.27 |\n",
    "| LG전자 | 066570 | 317.34 | 0.69 | 1.37 |"
   ]
  },
  {
   "cell_type": "code",
   "execution_count": null,
   "metadata": {},
   "outputs": [],
   "source": []
  }
 ],
 "metadata": {
  "kernelspec": {
   "display_name": "Python 3",
   "language": "python",
   "name": "python3"
  },
  "language_info": {
   "codemirror_mode": {
    "name": "ipython",
    "version": 3
   },
   "file_extension": ".py",
   "mimetype": "text/x-python",
   "name": "python",
   "nbconvert_exporter": "python",
   "pygments_lexer": "ipython3",
   "version": "3.8.3"
  }
 },
 "nbformat": 4,
 "nbformat_minor": 4
}
