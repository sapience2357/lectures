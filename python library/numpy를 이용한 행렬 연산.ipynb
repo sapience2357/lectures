{
 "cells": [
  {
   "cell_type": "code",
   "execution_count": 2,
   "metadata": {},
   "outputs": [],
   "source": [
    "import numpy as np"
   ]
  },
  {
   "cell_type": "markdown",
   "metadata": {},
   "source": [
    "# numpy의 행렬\n",
    "\n",
    "1. np.matrix: 수학\n",
    "2. np.array: 머신러닝"
   ]
  },
  {
   "cell_type": "markdown",
   "metadata": {},
   "source": [
    "### matrix 생성"
   ]
  },
  {
   "cell_type": "code",
   "execution_count": 2,
   "metadata": {},
   "outputs": [
    {
     "name": "stdout",
     "output_type": "stream",
     "text": [
      "[[ 1  2  3  4]\n",
      " [ 5  6  7  8]\n",
      " [ 9 10 11 12]]\n",
      "[[1]\n",
      " [2]\n",
      " [3]\n",
      " [4]]\n"
     ]
    }
   ],
   "source": [
    "A = np.matrix('1,2,3,4 ; 5,6,7,8 ; 9,10,11,12')\n",
    "x = np.matrix('1;2;3;4')\n",
    "print(A)\n",
    "print(x)"
   ]
  },
  {
   "cell_type": "markdown",
   "metadata": {},
   "source": [
    "### array 생성"
   ]
  },
  {
   "cell_type": "code",
   "execution_count": 4,
   "metadata": {},
   "outputs": [
    {
     "name": "stdout",
     "output_type": "stream",
     "text": [
      "[[ 1  2  3  4]\n",
      " [ 5  6  7  8]\n",
      " [ 9 10 11 12]]\n",
      "[[1]\n",
      " [2]\n",
      " [3]\n",
      " [4]]\n"
     ]
    }
   ],
   "source": [
    "A = np.array([\n",
    "    [1,2,3,4],\n",
    "    [5,6,7,8],\n",
    "    [9, 10, 11, 12]\n",
    "])\n",
    "x = np.array([\n",
    "    [1],\n",
    "    [2],\n",
    "    [3],\n",
    "    [4]\n",
    "])\n",
    "print(A)\n",
    "print(x)"
   ]
  },
  {
   "cell_type": "markdown",
   "metadata": {},
   "source": [
    "### ndarray 기본 연산자\n",
    "- add, substract, multiply, divide"
   ]
  },
  {
   "cell_type": "code",
   "execution_count": 3,
   "metadata": {},
   "outputs": [
    {
     "name": "stdout",
     "output_type": "stream",
     "text": [
      "[[1 8 7]\n",
      " [3 1 1]\n",
      " [2 7 3]\n",
      " [7 3 0]]\n",
      "[[0 8 1]\n",
      " [9 0 3]\n",
      " [5 9 6]\n",
      " [4 9 7]]\n"
     ]
    }
   ],
   "source": [
    "x = np.random.randint(10, size = (4,3))\n",
    "y = np.random.randint(10, size = (4,3))\n",
    "print(x)\n",
    "print(y)"
   ]
  },
  {
   "cell_type": "code",
   "execution_count": 4,
   "metadata": {},
   "outputs": [
    {
     "data": {
      "text/plain": [
       "array([[ 1, 16,  8],\n",
       "       [12,  1,  4],\n",
       "       [ 7, 16,  9],\n",
       "       [11, 12,  7]])"
      ]
     },
     "execution_count": 4,
     "metadata": {},
     "output_type": "execute_result"
    }
   ],
   "source": [
    "np.add(x, y)"
   ]
  },
  {
   "cell_type": "code",
   "execution_count": 5,
   "metadata": {},
   "outputs": [
    {
     "name": "stderr",
     "output_type": "stream",
     "text": [
      "/usr/local/lib/python3.7/site-packages/ipykernel_launcher.py:1: RuntimeWarning: divide by zero encountered in true_divide\n",
      "  \"\"\"Entry point for launching an IPython kernel.\n"
     ]
    },
    {
     "data": {
      "text/plain": [
       "array([[       inf, 1.        , 7.        ],\n",
       "       [0.33333333,        inf, 0.33333333],\n",
       "       [0.4       , 0.77777778, 0.5       ],\n",
       "       [1.75      , 0.33333333, 0.        ]])"
      ]
     },
     "execution_count": 5,
     "metadata": {},
     "output_type": "execute_result"
    }
   ],
   "source": [
    "np.divide(x,y)"
   ]
  },
  {
   "cell_type": "code",
   "execution_count": 6,
   "metadata": {},
   "outputs": [
    {
     "data": {
      "text/plain": [
       "array([[ 1, 16,  8],\n",
       "       [12,  1,  4],\n",
       "       [ 7, 16,  9],\n",
       "       [11, 12,  7]])"
      ]
     },
     "execution_count": 6,
     "metadata": {},
     "output_type": "execute_result"
    }
   ],
   "source": [
    "x + y"
   ]
  },
  {
   "cell_type": "code",
   "execution_count": 9,
   "metadata": {},
   "outputs": [
    {
     "data": {
      "text/plain": [
       "array([[ 0, 64,  7],\n",
       "       [27,  0,  3],\n",
       "       [10, 63, 18],\n",
       "       [28, 27,  0]])"
      ]
     },
     "execution_count": 9,
     "metadata": {},
     "output_type": "execute_result"
    }
   ],
   "source": [
    "# 행렬 곱셈 아님!!!\n",
    "np.multiply(x, y)"
   ]
  },
  {
   "cell_type": "code",
   "execution_count": 10,
   "metadata": {},
   "outputs": [
    {
     "data": {
      "text/plain": [
       "array([[ 0, 64,  7],\n",
       "       [27,  0,  3],\n",
       "       [10, 63, 18],\n",
       "       [28, 27,  0]])"
      ]
     },
     "execution_count": 10,
     "metadata": {},
     "output_type": "execute_result"
    }
   ],
   "source": [
    "# 행렬곱셈 아님!!!\n",
    "x * y"
   ]
  },
  {
   "cell_type": "code",
   "execution_count": 27,
   "metadata": {},
   "outputs": [],
   "source": [
    "a = np.array([1,2,3])\n",
    "b = np.array([4,5,6])\n",
    "a_list = [1,2,3]\n",
    "b_list = [4,5,6]"
   ]
  },
  {
   "cell_type": "code",
   "execution_count": 24,
   "metadata": {},
   "outputs": [
    {
     "data": {
      "text/plain": [
       "array([5, 7, 9])"
      ]
     },
     "execution_count": 24,
     "metadata": {},
     "output_type": "execute_result"
    }
   ],
   "source": [
    "a + b"
   ]
  },
  {
   "cell_type": "code",
   "execution_count": 28,
   "metadata": {},
   "outputs": [
    {
     "data": {
      "text/plain": [
       "[1, 2, 3, 4, 5, 6]"
      ]
     },
     "execution_count": 28,
     "metadata": {},
     "output_type": "execute_result"
    }
   ],
   "source": [
    "a_list + b_list"
   ]
  },
  {
   "cell_type": "code",
   "execution_count": 25,
   "metadata": {},
   "outputs": [
    {
     "data": {
      "text/plain": [
       "array([ True, False, False])"
      ]
     },
     "execution_count": 25,
     "metadata": {},
     "output_type": "execute_result"
    }
   ],
   "source": [
    "a == 1"
   ]
  },
  {
   "cell_type": "code",
   "execution_count": 29,
   "metadata": {},
   "outputs": [
    {
     "data": {
      "text/plain": [
       "False"
      ]
     },
     "execution_count": 29,
     "metadata": {},
     "output_type": "execute_result"
    }
   ],
   "source": [
    "a_list == b_list"
   ]
  },
  {
   "cell_type": "code",
   "execution_count": 26,
   "metadata": {},
   "outputs": [
    {
     "data": {
      "text/plain": [
       "array([ True, False, False])"
      ]
     },
     "execution_count": 26,
     "metadata": {},
     "output_type": "execute_result"
    }
   ],
   "source": [
    "b < 5"
   ]
  },
  {
   "cell_type": "code",
   "execution_count": 30,
   "metadata": {},
   "outputs": [
    {
     "data": {
      "text/plain": [
       "True"
      ]
     },
     "execution_count": 30,
     "metadata": {},
     "output_type": "execute_result"
    }
   ],
   "source": [
    "a_list < b_list"
   ]
  },
  {
   "cell_type": "markdown",
   "metadata": {},
   "source": [
    "## 행렬 곱셈(내적)\n",
    "- 행렬의 덧셈은 별게 없어서... \n",
    "- 그냥 넘어 갈게요 "
   ]
  },
  {
   "cell_type": "markdown",
   "metadata": {},
   "source": [
    "### 행렬 / 벡터 곱\n",
    "\n",
    "$$\n",
    "    \\begin{bmatrix}\n",
    "        a_{11} & a_{12} & a_{13} & a_{14} \\\\\n",
    "        a_{21} & a_{22} & a_{23} & a_{24} \\\\\n",
    "        a_{31} & a_{32} & a_{33} & a_{34} \\\\\n",
    "    \\end{bmatrix}\n",
    "    \\begin{bmatrix}\n",
    "        x_1 \\\\\n",
    "        x_2 \\\\\n",
    "        x_3 \\\\\n",
    "        x_4\n",
    "    \\end{bmatrix} = \n",
    "    \\begin{bmatrix}\n",
    "        a_{11} \\cdot x_1 + a_{12} \\cdot x_2 + a_{13} \\cdot x_3 + a_{14} \\cdot x_4 \\\\\n",
    "        a_{21} \\cdot x_1 + a_{22} \\cdot x_2 + a_{23} \\cdot x_3 + a_{24} \\cdot x_4 \\\\\n",
    "        a_{31} \\cdot x_1 + a_{32} \\cdot x_2 + a_{33} \\cdot x_3 + a_{34} \\cdot x_4 \\\\\n",
    "    \\end{bmatrix}\n",
    "$$"
   ]
  },
  {
   "cell_type": "markdown",
   "metadata": {},
   "source": [
    "### 행렬 / 벡터 곱 - 첫번째 - 01\n",
    "- 손으로 계산해보기\n",
    "\n",
    "$$\n",
    "    \\begin{bmatrix}\n",
    "            1 & 4 & 2 & 0 \\\\\n",
    "            9 & 5 & 0 & 0 \\\\\n",
    "            4 & 0 & 2 & 4 \\\\\n",
    "            6 & 1 & 8 & 3 \\\\\n",
    "    \\end{bmatrix}\n",
    "    \\begin{bmatrix}\n",
    "            1 \\\\\n",
    "            2 \\\\\n",
    "            3 \\\\\n",
    "            4 \\\\\n",
    "    \\end{bmatrix} = \n",
    "    \\begin{bmatrix}\n",
    "            1 \\cdot 1 + 4 \\cdot 2 + 2 \\cdot 3 + 0 \\cdot 4 \\\\\n",
    "            9 \\cdot 1 + 5 \\cdot 2 + 0 \\cdot 3 + 0 \\cdot 4 \\\\\n",
    "            4 \\cdot 1 + 0 \\cdot 2 + 2 \\cdot 3 + 4 \\cdot 4 \\\\\n",
    "            6 \\cdot 1 + 1 \\cdot 2 + 8 \\cdot 3 + 3 \\cdot 4 \\\\\n",
    "    \\end{bmatrix}\n",
    "$$"
   ]
  },
  {
   "cell_type": "markdown",
   "metadata": {},
   "source": [
    "- 정답 확인해보기\n",
    "\n",
    "$$\n",
    "    \\begin{bmatrix}\n",
    "            1 & 4 & 2 & 0 \\\\\n",
    "            9 & 5 & 0 & 0 \\\\\n",
    "            4 & 0 & 2 & 4 \\\\\n",
    "            6 & 1 & 8 & 3 \\\\\n",
    "    \\end{bmatrix}\n",
    "    \\begin{bmatrix}\n",
    "            1 \\\\\n",
    "            2 \\\\\n",
    "            3 \\\\\n",
    "            4 \\\\\n",
    "    \\end{bmatrix} = \n",
    "    \\begin{bmatrix}\n",
    "            15 \\\\\n",
    "            19 \\\\\n",
    "            26 \\\\\n",
    "            44 \\\\\n",
    "    \\end{bmatrix}\n",
    "$$\n"
   ]
  },
  {
   "cell_type": "markdown",
   "metadata": {},
   "source": [
    "### 행렬 / 벡터 곱 - 첫번째 - 02\n",
    "- 손으로 계산해보기\n",
    "\n",
    "$$\n",
    "    \\begin{bmatrix}\n",
    "            4 & 5 & 2 & 1 \\\\\n",
    "            2 & 3 & 8 & 0 \\\\\n",
    "            1 & 0 & 7 & 2 \\\\\n",
    "    \\end{bmatrix}\n",
    "    \\begin{bmatrix}\n",
    "            1 \\\\\n",
    "            2 \\\\\n",
    "            3 \\\\\n",
    "            4 \\\\\n",
    "    \\end{bmatrix} = \n",
    "    ?\n",
    "$$"
   ]
  },
  {
   "cell_type": "markdown",
   "metadata": {},
   "source": [
    "- 정답 확인해보기\n",
    "\n",
    "$$\n",
    "    \\begin{bmatrix}\n",
    "            4 & 5 & 2 & 1 \\\\\n",
    "            2 & 3 & 8 & 0 \\\\\n",
    "            1 & 0 & 7 & 2 \\\\\n",
    "    \\end{bmatrix}\n",
    "    \\begin{bmatrix}\n",
    "            1 \\\\\n",
    "            2 \\\\\n",
    "            3 \\\\\n",
    "            4 \\\\\n",
    "    \\end{bmatrix} = \n",
    "    \\begin{bmatrix}\n",
    "            24 \\\\\n",
    "            32 \\\\\n",
    "            30 \\\\\n",
    "    \\end{bmatrix}\n",
    "$$\n"
   ]
  },
  {
   "cell_type": "markdown",
   "metadata": {},
   "source": [
    "### 행렬/벡터 곱 - 두번째 "
   ]
  },
  {
   "cell_type": "code",
   "execution_count": 16,
   "metadata": {},
   "outputs": [
    {
     "name": "stdout",
     "output_type": "stream",
     "text": [
      "[[15.]\n",
      " [19.]\n",
      " [26.]\n",
      " [44.]]\n"
     ]
    }
   ],
   "source": [
    "A = np.matrix('1,4,2,0; 9,5,0,0; 4,0,2,4; 6,1,8,3')\n",
    "x = np.matrix('1;2;3;4')\n",
    "b = np.zeros((4,1))\n",
    "n = 4\n",
    "\n",
    "# todo martix를 이용한 행렬곱 결과를 출력 \n",
    "for i in range(0, n):\n",
    "    val = 0.0\n",
    "    for j in range(0,n):\n",
    "        # TODO\n",
    "        val += A[i,j] * x[j, 0]\n",
    "    b[i] = val\n",
    "print(b)"
   ]
  },
  {
   "cell_type": "code",
   "execution_count": 18,
   "metadata": {},
   "outputs": [
    {
     "name": "stdout",
     "output_type": "stream",
     "text": [
      "[15 19 26 44]\n"
     ]
    }
   ],
   "source": [
    "A = np.array([\n",
    "    [1,4,2,0],\n",
    "    [9,5,0,0],\n",
    "    [4,0,2,4],\n",
    "    [6,1,8,3]\n",
    "])\n",
    "x = np.array([1,2,3,4])\n",
    "b = np.array([0,0,0,0])\n",
    "n= 4\n",
    "\n",
    "for i in range(0, n):\n",
    "    val = 0.0\n",
    "    for j in range(0,n):\n",
    "        # TODO\n",
    "        val += A[i,j] * x[j]\n",
    "    b[i] = val\n",
    "print(b)"
   ]
  },
  {
   "cell_type": "markdown",
   "metadata": {},
   "source": [
    "### 행렬/벡터 곱 - 세번째"
   ]
  },
  {
   "cell_type": "code",
   "execution_count": 20,
   "metadata": {},
   "outputs": [
    {
     "name": "stdout",
     "output_type": "stream",
     "text": [
      "[[1 4 2 0]\n",
      " [9 5 0 0]\n",
      " [4 0 2 4]\n",
      " [6 1 8 3]]\n",
      "[[1]\n",
      " [2]\n",
      " [3]\n",
      " [4]]\n",
      "[[15]\n",
      " [19]\n",
      " [26]\n",
      " [44]]\n"
     ]
    }
   ],
   "source": [
    "A = np.matrix('1,4,2,0; 9,5,0,0; 4,0,2,4; 6,1,8,3')\n",
    "x = np.matrix('1;2;3;4')\n",
    "\n",
    "print(A)\n",
    "print(x)\n",
    "\n",
    "b = A * x\n",
    "print(b)"
   ]
  },
  {
   "cell_type": "code",
   "execution_count": 26,
   "metadata": {},
   "outputs": [
    {
     "name": "stdout",
     "output_type": "stream",
     "text": [
      "[[1 4 2 0]\n",
      " [9 5 0 0]\n",
      " [4 0 2 4]\n",
      " [6 1 8 3]]\n",
      "[1 2 3 4]\n",
      "[15 19 26 44]\n",
      "[15 19 26 44]\n"
     ]
    }
   ],
   "source": [
    "A = np.array([\n",
    "    [1,4,2,0],\n",
    "    [9,5,0,0],\n",
    "    [4,0,2,4],\n",
    "    [6,1,8,3]\n",
    "])\n",
    "x = np.array([1,2,3,4])\n",
    "\n",
    "print(A)\n",
    "print(x)\n",
    "\n",
    "# b = A * x\n",
    "b = np.dot(A, x)\n",
    "print(b)\n",
    "\n",
    "b = np.matmul(A, x)\n",
    "print(b)"
   ]
  },
  {
   "cell_type": "markdown",
   "metadata": {},
   "source": [
    "### 행렬 / 벡터 곱 - 복습\n",
    "\n",
    "$$\n",
    "    \\begin{bmatrix}\n",
    "            4 & 5 & 2 & 1 \\\\\n",
    "            2 & 3 & 8 & 0 \\\\\n",
    "            1 & 0 & 7 & 2 \\\\\n",
    "    \\end{bmatrix}\n",
    "    \\begin{bmatrix}\n",
    "            1 \\\\\n",
    "            2 \\\\\n",
    "            3 \\\\\n",
    "            4 \\\\\n",
    "    \\end{bmatrix} = \n",
    "    ?\n",
    "$$"
   ]
  },
  {
   "cell_type": "code",
   "execution_count": 3,
   "metadata": {},
   "outputs": [],
   "source": [
    "A = np.matrix('4, 5, 2, 1; 2, 3, 8, 0; 1, 0, 7, 2')\n",
    "x = np.matrix('1;2;3;4')"
   ]
  },
  {
   "cell_type": "code",
   "execution_count": 5,
   "metadata": {},
   "outputs": [
    {
     "name": "stdout",
     "output_type": "stream",
     "text": [
      "[[24.]\n",
      " [32.]\n",
      " [30.]]\n"
     ]
    }
   ],
   "source": [
    "# for loop를 이용한 행렬/벡터 곱 구현\n",
    "\n",
    "b = np.zeros((3,1))\n",
    "#TODO\n",
    "for i in range(3):\n",
    "    val = 0.0\n",
    "    for j in range(4):\n",
    "        val += A[i,j] * x[j,0]\n",
    "    b[i] = val\n",
    "print(b)"
   ]
  },
  {
   "cell_type": "code",
   "execution_count": 7,
   "metadata": {},
   "outputs": [
    {
     "name": "stdout",
     "output_type": "stream",
     "text": [
      "[[24]\n",
      " [32]\n",
      " [30]]\n"
     ]
    }
   ],
   "source": [
    "# matrix 타입의 행렬/벡터 곱 구현\n",
    "b = A * x\n",
    "print(b)"
   ]
  },
  {
   "cell_type": "code",
   "execution_count": 12,
   "metadata": {},
   "outputs": [],
   "source": [
    "A = np.array([[4, 5, 2, 1], [2, 3, 8, 0], [1, 0, 7, 2]])\n",
    "x = np.array([1,2,3,4])"
   ]
  },
  {
   "cell_type": "code",
   "execution_count": 15,
   "metadata": {},
   "outputs": [
    {
     "name": "stdout",
     "output_type": "stream",
     "text": [
      "[24. 32. 30.]\n"
     ]
    }
   ],
   "source": [
    "# for loop를 이용한 행렬/벡터 곱 구현\n",
    "\n",
    "b = np.zeros(3)\n",
    "# TODO\n",
    "for i in range(3):\n",
    "    val = 0\n",
    "    for j in range(4):\n",
    "        val += A[i,j] * x[j]\n",
    "    b[i] = val\n",
    "print(b)"
   ]
  },
  {
   "cell_type": "code",
   "execution_count": 10,
   "metadata": {},
   "outputs": [
    {
     "name": "stdout",
     "output_type": "stream",
     "text": [
      "[24 32 30]\n",
      "[24 32 30]\n"
     ]
    }
   ],
   "source": [
    "# array 타입의 행렬/벡터 곱 구현\n",
    "\n",
    "b = np.dot(A, x)\n",
    "print(b)\n",
    "\n",
    "b = np.matmul(A, x)\n",
    "print(b)"
   ]
  },
  {
   "cell_type": "markdown",
   "metadata": {},
   "source": [
    "### 행렬과 벡터의 곱만 확인 - 다른 형태의 연산도 확인\n",
    "- 내적(inner product/dot product)으로 제외한 행렬/벡터의 연산은 \n",
    "- 행렬/벡터 내의 모든 원소에 대한 반복적인 연산(+, -, *, /)\n",
    "- 행렬/벡터 끼리 연산을 하는 경우 두 피연산자의 크기가 같아야 한다."
   ]
  },
  {
   "cell_type": "markdown",
   "metadata": {},
   "source": [
    "#### 스칼라와 벡터의 연산\n",
    "- 크기가 다른 피 연산자의 연산인 경우 \n",
    "- 크기가 작은 피연산자를 반복 확장하여 크기가 큰 피연산자의 크기를 맞춘 후에 연산을 적용"
   ]
  },
  {
   "cell_type": "code",
   "execution_count": 7,
   "metadata": {},
   "outputs": [
    {
     "name": "stdout",
     "output_type": "stream",
     "text": [
      "[6 5 4 4 1 0]\n",
      "[60 50 40 40 10  0]\n",
      "[10 10 10 10 10 10]\n",
      "[60 50 40 40 10  0]\n"
     ]
    }
   ],
   "source": [
    "vector = np.random.randint(10, size=(6,))\n",
    "print(vector)\n",
    "\n",
    "print(10 * vector) # 브로드 캐스팅\n",
    "\n",
    "scalarVector = np.full((6,), 10)\n",
    "print(scalarVector)\n",
    "print(scalarVector * vector)"
   ]
  },
  {
   "cell_type": "code",
   "execution_count": 9,
   "metadata": {},
   "outputs": [
    {
     "name": "stdout",
     "output_type": "stream",
     "text": [
      "[6 5 4 4 1 0]\n",
      "[60 50 40 40 10  0]\n",
      "[16 15 14 14 11 10]\n",
      "[ 4  5  6  6  9 10]\n"
     ]
    }
   ],
   "source": [
    "print(vector)\n",
    "print(10 * vector)\n",
    "print(10 + vector)\n",
    "print(10 - vector)"
   ]
  },
  {
   "cell_type": "markdown",
   "metadata": {},
   "source": [
    "#### 스칼라와 행렬의 연산\n",
    "- 벡터와 마찬가지로 자동으로 확장하여 행렬내의 모든 원소에 반복적으로 적용"
   ]
  },
  {
   "cell_type": "code",
   "execution_count": 13,
   "metadata": {},
   "outputs": [
    {
     "name": "stdout",
     "output_type": "stream",
     "text": [
      "[[4 4 4]\n",
      " [7 6 1]\n",
      " [8 3 0]\n",
      " [7 9 6]]\n",
      "[[40 40 40]\n",
      " [70 60 10]\n",
      " [80 30  0]\n",
      " [70 90 60]]\n"
     ]
    }
   ],
   "source": [
    "arr = np.random.randint(10, size=(4,3))\n",
    "print(arr)\n",
    "print( 10 * arr)"
   ]
  },
  {
   "cell_type": "code",
   "execution_count": 12,
   "metadata": {},
   "outputs": [
    {
     "name": "stdout",
     "output_type": "stream",
     "text": [
      "[[8 4 8]\n",
      " [4 6 0]\n",
      " [4 2 1]\n",
      " [9 4 9]]\n",
      "[[80 40 80]\n",
      " [40 60  0]\n",
      " [40 20 10]\n",
      " [90 40 90]]\n",
      "[[18 14 18]\n",
      " [14 16 10]\n",
      " [14 12 11]\n",
      " [19 14 19]]\n",
      "[[ 2  6  2]\n",
      " [ 6  4 10]\n",
      " [ 6  8  9]\n",
      " [ 1  6  1]]\n"
     ]
    }
   ],
   "source": [
    "print(arr)\n",
    "print(10 * arr)\n",
    "print(10 + arr)\n",
    "print(10 - arr)"
   ]
  },
  {
   "cell_type": "markdown",
   "metadata": {},
   "source": [
    "#### 벡터와 벡터의 연산"
   ]
  },
  {
   "cell_type": "code",
   "execution_count": 16,
   "metadata": {},
   "outputs": [
    {
     "name": "stdout",
     "output_type": "stream",
     "text": [
      "[7 9 5 1]\n",
      "[9 4 1 5]\n",
      "[16 13  6  6]\n",
      "[63 36  5  5]\n"
     ]
    }
   ],
   "source": [
    "# 크기가 같다면 문제가 되지 않는다. \n",
    "v1 = np.random.randint(1, 10, size=(4,))\n",
    "v2 = np.random.randint(1, 10, size=(4,))\n",
    "print(v1)\n",
    "print(v2)\n",
    "print(v1 + v2)\n",
    "print(v1 * v2)"
   ]
  },
  {
   "cell_type": "code",
   "execution_count": 18,
   "metadata": {},
   "outputs": [
    {
     "data": {
      "text/plain": [
       "109"
      ]
     },
     "execution_count": 18,
     "metadata": {},
     "output_type": "execute_result"
    }
   ],
   "source": [
    "#내적을 구한다면... \n",
    "#벡터와 벡터간의 내적은 스칼라 형태의 결과가 나온다.\n",
    "np.dot(v1, v2)"
   ]
  },
  {
   "cell_type": "code",
   "execution_count": 19,
   "metadata": {},
   "outputs": [
    {
     "name": "stdout",
     "output_type": "stream",
     "text": [
      "[3 1 9]\n",
      "[4 1 1 4]\n"
     ]
    }
   ],
   "source": [
    "# 크기가 다르다면... \n",
    "v1 = np.random.randint(1, 10, size=(3,))\n",
    "v2 = np.random.randint(1, 10, size=(4,))\n",
    "print(v1)\n",
    "print(v2)"
   ]
  },
  {
   "cell_type": "code",
   "execution_count": 20,
   "metadata": {},
   "outputs": [
    {
     "ename": "ValueError",
     "evalue": "operands could not be broadcast together with shapes (3,) (4,) ",
     "output_type": "error",
     "traceback": [
      "\u001b[0;31m---------------------------------------------------------------------------\u001b[0m",
      "\u001b[0;31mValueError\u001b[0m                                Traceback (most recent call last)",
      "\u001b[0;32m<ipython-input-20-dba8d152e987>\u001b[0m in \u001b[0;36m<module>\u001b[0;34m\u001b[0m\n\u001b[0;32m----> 1\u001b[0;31m \u001b[0mprint\u001b[0m\u001b[0;34m(\u001b[0m\u001b[0mv1\u001b[0m \u001b[0;34m+\u001b[0m \u001b[0mv2\u001b[0m\u001b[0;34m)\u001b[0m\u001b[0;34m\u001b[0m\u001b[0;34m\u001b[0m\u001b[0m\n\u001b[0m",
      "\u001b[0;31mValueError\u001b[0m: operands could not be broadcast together with shapes (3,) (4,) "
     ]
    }
   ],
   "source": [
    "print(v1 + v2)"
   ]
  },
  {
   "cell_type": "code",
   "execution_count": 21,
   "metadata": {},
   "outputs": [
    {
     "ename": "ValueError",
     "evalue": "shapes (3,) and (4,) not aligned: 3 (dim 0) != 4 (dim 0)",
     "output_type": "error",
     "traceback": [
      "\u001b[0;31m---------------------------------------------------------------------------\u001b[0m",
      "\u001b[0;31mValueError\u001b[0m                                Traceback (most recent call last)",
      "\u001b[0;32m<ipython-input-21-ff84485458c1>\u001b[0m in \u001b[0;36m<module>\u001b[0;34m\u001b[0m\n\u001b[0;32m----> 1\u001b[0;31m \u001b[0mnp\u001b[0m\u001b[0;34m.\u001b[0m\u001b[0mdot\u001b[0m\u001b[0;34m(\u001b[0m\u001b[0mv1\u001b[0m\u001b[0;34m,\u001b[0m \u001b[0mv2\u001b[0m\u001b[0;34m)\u001b[0m\u001b[0;34m\u001b[0m\u001b[0;34m\u001b[0m\u001b[0m\n\u001b[0m",
      "\u001b[0;32m<__array_function__ internals>\u001b[0m in \u001b[0;36mdot\u001b[0;34m(*args, **kwargs)\u001b[0m\n",
      "\u001b[0;31mValueError\u001b[0m: shapes (3,) and (4,) not aligned: 3 (dim 0) != 4 (dim 0)"
     ]
    }
   ],
   "source": [
    "np.dot(v1, v2)"
   ]
  },
  {
   "cell_type": "markdown",
   "metadata": {},
   "source": [
    "### inner/dot product\n",
    "- 앞의 열과 뒤에 행의 갯수가 같아야만 합니다."
   ]
  },
  {
   "cell_type": "code",
   "execution_count": 22,
   "metadata": {},
   "outputs": [
    {
     "name": "stdout",
     "output_type": "stream",
     "text": [
      "[[1 2 3 4]]\n",
      "[[1]\n",
      " [2]\n",
      " [3]\n",
      " [4]]\n"
     ]
    }
   ],
   "source": [
    "arr1 = np.matrix('1,2,3,4')\n",
    "arr2 = np.matrix('1;2;3;4')\n",
    "print(arr1)\n",
    "print(arr2)"
   ]
  },
  {
   "cell_type": "code",
   "execution_count": 23,
   "metadata": {},
   "outputs": [
    {
     "data": {
      "text/plain": [
       "matrix([[30]])"
      ]
     },
     "execution_count": 23,
     "metadata": {},
     "output_type": "execute_result"
    }
   ],
   "source": [
    "arr1 * arr2 # dot product"
   ]
  },
  {
   "cell_type": "code",
   "execution_count": 24,
   "metadata": {},
   "outputs": [
    {
     "data": {
      "text/plain": [
       "matrix([[ 1,  2,  3,  4],\n",
       "        [ 2,  4,  6,  8],\n",
       "        [ 3,  6,  9, 12],\n",
       "        [ 4,  8, 12, 16]])"
      ]
     },
     "execution_count": 24,
     "metadata": {},
     "output_type": "execute_result"
    }
   ],
   "source": [
    "arr2 * arr1"
   ]
  },
  {
   "cell_type": "code",
   "execution_count": 25,
   "metadata": {},
   "outputs": [
    {
     "name": "stdout",
     "output_type": "stream",
     "text": [
      "[1 2 3 4]\n",
      "[1 2 3 4]\n"
     ]
    }
   ],
   "source": [
    "arr1 = np.array([1,2,3,4])\n",
    "arr2 = np.array([1,2,3,4])\n",
    "print(arr1)\n",
    "print(arr2)"
   ]
  },
  {
   "cell_type": "code",
   "execution_count": 26,
   "metadata": {},
   "outputs": [
    {
     "data": {
      "text/plain": [
       "30"
      ]
     },
     "execution_count": 26,
     "metadata": {},
     "output_type": "execute_result"
    }
   ],
   "source": [
    "np.dot(arr1, arr2)"
   ]
  },
  {
   "cell_type": "code",
   "execution_count": 34,
   "metadata": {},
   "outputs": [
    {
     "name": "stdout",
     "output_type": "stream",
     "text": [
      "[[1]\n",
      " [2]\n",
      " [3]\n",
      " [4]]\n",
      "[[1 2 3 4]]\n"
     ]
    },
    {
     "data": {
      "text/plain": [
       "array([[ 1,  2,  3,  4],\n",
       "       [ 2,  4,  6,  8],\n",
       "       [ 3,  6,  9, 12],\n",
       "       [ 4,  8, 12, 16]])"
      ]
     },
     "execution_count": 34,
     "metadata": {},
     "output_type": "execute_result"
    }
   ],
   "source": [
    "print(arr1.reshape(4,1))\n",
    "print(arr2.reshape(1,4))\n",
    "np.dot(arr1.reshape(4,1), arr2.reshape(1,4))"
   ]
  },
  {
   "cell_type": "markdown",
   "metadata": {},
   "source": [
    "#### 벡터와 행렬의 연산\n",
    "- 크기를 행렬의 열 크기와 베턱의 행 크기가 같아야 한다. "
   ]
  },
  {
   "cell_type": "code",
   "execution_count": 35,
   "metadata": {},
   "outputs": [
    {
     "name": "stdout",
     "output_type": "stream",
     "text": [
      "[6 8 8 6]\n",
      "[[9 7 9 8]\n",
      " [3 3 1 7]\n",
      " [0 1 3 3]]\n"
     ]
    }
   ],
   "source": [
    "arr1 = np.random.randint(10, size=(4,))\n",
    "arr2 = np.random.randint(10, size=(3,4))\n",
    "print(arr1)\n",
    "print(arr2)"
   ]
  },
  {
   "cell_type": "code",
   "execution_count": 38,
   "metadata": {},
   "outputs": [
    {
     "name": "stdout",
     "output_type": "stream",
     "text": [
      "[[15 15 17 14]\n",
      " [ 9 11  9 13]\n",
      " [ 6  9 11  9]]\n",
      "[[54 56 72 48]\n",
      " [18 24  8 42]\n",
      " [ 0  8 24 18]]\n"
     ]
    }
   ],
   "source": [
    "# 벡터가 행렬의 크기에 맞춰서 자동으로 확장(브로드 캐스팅)\n",
    "print(arr1 + arr2)\n",
    "print(arr1 * arr2)"
   ]
  },
  {
   "cell_type": "code",
   "execution_count": 39,
   "metadata": {},
   "outputs": [
    {
     "name": "stdout",
     "output_type": "stream",
     "text": [
      "[2 9 3 4]\n",
      "[[0 7 2]\n",
      " [7 6 1]\n",
      " [5 0 6]\n",
      " [5 0 9]]\n"
     ]
    }
   ],
   "source": [
    "arr1 = np.random.randint(10, size=(4,))\n",
    "arr2 = np.random.randint(10, size=(4,3))\n",
    "print(arr1)\n",
    "print(arr2)"
   ]
  },
  {
   "cell_type": "code",
   "execution_count": 40,
   "metadata": {},
   "outputs": [
    {
     "ename": "ValueError",
     "evalue": "operands could not be broadcast together with shapes (4,) (4,3) ",
     "output_type": "error",
     "traceback": [
      "\u001b[0;31m---------------------------------------------------------------------------\u001b[0m",
      "\u001b[0;31mValueError\u001b[0m                                Traceback (most recent call last)",
      "\u001b[0;32m<ipython-input-40-49e0ebdd2770>\u001b[0m in \u001b[0;36m<module>\u001b[0;34m\u001b[0m\n\u001b[0;32m----> 1\u001b[0;31m \u001b[0mprint\u001b[0m\u001b[0;34m(\u001b[0m\u001b[0marr1\u001b[0m \u001b[0;34m+\u001b[0m \u001b[0marr2\u001b[0m\u001b[0;34m)\u001b[0m\u001b[0;34m\u001b[0m\u001b[0;34m\u001b[0m\u001b[0m\n\u001b[0m",
      "\u001b[0;31mValueError\u001b[0m: operands could not be broadcast together with shapes (4,) (4,3) "
     ]
    }
   ],
   "source": [
    "print(arr1 + arr2)"
   ]
  },
  {
   "cell_type": "markdown",
   "metadata": {},
   "source": [
    "#### 행렬과 행렬의 연산\n",
    "- 행과 열의 갯수가 반드시 일치\n",
    "- 2차원 행렬과 3차원 행렬간에도 역시 브로드 캐스팅은 됩니다. \n",
    "- 행렬의 차원이 다르면 브로드 캐스팅 역시 적용이 되는데 \n",
    "- 자동으로 확장되었을 경우 모양이 일치하기만 하면 됩니다. "
   ]
  },
  {
   "cell_type": "code",
   "execution_count": 41,
   "metadata": {},
   "outputs": [],
   "source": [
    "arr1 = np.random.randint(10, size=(2,3))\n",
    "arr2 = np.random.randint(10, size=(2,3))\n",
    "print(arr1)\n",
    "print(arr2)"
   ]
  },
  {
   "cell_type": "code",
   "execution_count": 42,
   "metadata": {},
   "outputs": [
    {
     "name": "stdout",
     "output_type": "stream",
     "text": [
      "[[ 6 10  9]\n",
      " [10 18  7]]\n"
     ]
    }
   ],
   "source": [
    "print(arr1 + arr2)"
   ]
  }
 ],
 "metadata": {
  "kernelspec": {
   "display_name": "Python 3",
   "language": "python",
   "name": "python3"
  },
  "language_info": {
   "codemirror_mode": {
    "name": "ipython",
    "version": 3
   },
   "file_extension": ".py",
   "mimetype": "text/x-python",
   "name": "python",
   "nbconvert_exporter": "python",
   "pygments_lexer": "ipython3",
   "version": "3.9.0"
  }
 },
 "nbformat": 4,
 "nbformat_minor": 4
}
