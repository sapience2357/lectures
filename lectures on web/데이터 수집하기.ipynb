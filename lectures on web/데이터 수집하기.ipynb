{
 "cells": [
  {
   "cell_type": "code",
   "execution_count": 6,
   "id": "explicit-punch",
   "metadata": {},
   "outputs": [],
   "source": [
    "import urllib\n",
    "import requests\n",
    "import bs4\n",
    "\n",
    "# import selenium\n",
    "from selenium import webdriver\n",
    "from selenium.webdriver.common.keys import Keys\n",
    "\n",
    "from fake_useragent import UserAgent"
   ]
  },
  {
   "cell_type": "markdown",
   "id": "asian-membership",
   "metadata": {},
   "source": [
    "# 1. 댓글 수집하기"
   ]
  },
  {
   "cell_type": "code",
   "execution_count": 7,
   "id": "pediatric-privilege",
   "metadata": {},
   "outputs": [],
   "source": [
    "url = 'http://corners.auction.co.kr/AllKill/AllDay.aspx'"
   ]
  },
  {
   "cell_type": "markdown",
   "id": "recognized-warrior",
   "metadata": {},
   "source": [
    "## 1. urllib을 이용한 html page 가져오기"
   ]
  },
  {
   "cell_type": "code",
   "execution_count": 8,
   "id": "functional-pocket",
   "metadata": {},
   "outputs": [],
   "source": [
    "file, http = urllib.request.urlretrieve(url, './data/auction_list.html')"
   ]
  },
  {
   "cell_type": "markdown",
   "id": "incomplete-delicious",
   "metadata": {},
   "source": [
    "- 이미지, 영상 등의 파일을 바로 저장이 가능"
   ]
  },
  {
   "cell_type": "code",
   "execution_count": 9,
   "id": "pleasant-directory",
   "metadata": {},
   "outputs": [],
   "source": [
    "request = urllib.request.Request(url)\n",
    "response = urllib.request.urlopen(request)"
   ]
  },
  {
   "cell_type": "code",
   "execution_count": 10,
   "id": "bright-portrait",
   "metadata": {},
   "outputs": [],
   "source": [
    "html = response.read()"
   ]
  },
  {
   "cell_type": "markdown",
   "id": "inner-uganda",
   "metadata": {},
   "source": [
    "## 2. requests을 이용한 html page 가져오기"
   ]
  },
  {
   "cell_type": "code",
   "execution_count": 11,
   "id": "documentary-rider",
   "metadata": {},
   "outputs": [],
   "source": [
    "response = requests.get(url)"
   ]
  },
  {
   "cell_type": "code",
   "execution_count": null,
   "id": "wired-disclaimer",
   "metadata": {},
   "outputs": [],
   "source": [
    "# response.text\n",
    "response.content"
   ]
  },
  {
   "cell_type": "markdown",
   "id": "activated-material",
   "metadata": {},
   "source": [
    "## 3. 리눅스에서 selenium 설정\n",
    "\n",
    "### 1. chrome 설치\n",
    "```\n",
    "#> wget -q -O - https://dl-ssl.google.com/linux/linux_signing_key.pub | sudo apt-key add -\n",
    "#> sudo sh -c 'echo \"deb [arch=amd64] http://dl.google.com/linux/chrome/deb/ stable main\" >> /etc/apt/sources.list.d/google.list'\n",
    "#> apt-get update\n",
    "#> apt-get upgrade \n",
    "#> apt-get install google-chrome-stable\n",
    "#> google-chrome --version\n",
    "```\n",
    "\n",
    "### 2. webdriver 다운로드\n",
    "- url: https://chromedriver.chromium.org/downloads\n",
    "\n",
    "```\n",
    "#> wget https://chromedriver.storage.googleapis.com/88.0.4324.96/chromedriver_linux64.zip\n",
    "#> unzip chromedriver_linux64.zip\n",
    "```"
   ]
  },
  {
   "cell_type": "markdown",
   "id": "elementary-vault",
   "metadata": {},
   "source": [
    "## 4. selenium을 통한 html page 가져오기"
   ]
  },
  {
   "cell_type": "code",
   "execution_count": 14,
   "id": "relevant-thanksgiving",
   "metadata": {},
   "outputs": [],
   "source": [
    "options = webdriver.ChromeOptions()\n",
    "options.add_argument('--headless')\n",
    "options.add_argument('--no-sandbox')\n",
    "options.add_argument('--disable-dev-shm-usage')\n",
    "\n",
    "browser = webdriver.Chrome('./data/chromedriver', options=options)"
   ]
  },
  {
   "cell_type": "code",
   "execution_count": 15,
   "id": "radio-boost",
   "metadata": {},
   "outputs": [],
   "source": [
    "browser.get(url)\n",
    "response = browser.page_source\n",
    "\n",
    "browser.quit()"
   ]
  },
  {
   "cell_type": "markdown",
   "id": "southern-ensemble",
   "metadata": {},
   "source": [
    "## 5. BeautifulSoup을 이용한 html 파싱"
   ]
  },
  {
   "cell_type": "code",
   "execution_count": 21,
   "id": "olive-shadow",
   "metadata": {},
   "outputs": [],
   "source": [
    "# html 코드를 분석에 적당한 beautifulSoup 형태로 변환\n",
    "html = bs4.BeautifulSoup( response, 'html.parser')"
   ]
  },
  {
   "cell_type": "code",
   "execution_count": 25,
   "id": "rotary-oregon",
   "metadata": {},
   "outputs": [
    {
     "data": {
      "text/plain": [
       "<p class=\"layer-complainprocess__description\"><strong>옥션은 거래 과정에서 발생하는 판매자와의 분쟁</strong> 또는 <strong>옥션이 제공하는 서비스에 대한 불만을 신속, 공정하게 해결</strong>하기 위해 고객님의 목소리에 귀를 기울이고 분쟁해결을 위해 최선을 다하겠습니다.</p>"
      ]
     },
     "execution_count": 25,
     "metadata": {},
     "output_type": "execute_result"
    }
   ],
   "source": [
    "html.find('p')"
   ]
  },
  {
   "cell_type": "code",
   "execution_count": 28,
   "id": "recovered-carroll",
   "metadata": {},
   "outputs": [
    {
     "data": {
      "text/plain": [
       "[<div class=\"core_sitemap\" id=\"coreSitemap\" style=\"position: absolute; top: 0px; left: 40px; z-index: 1000002; display: none;\"></div>]"
      ]
     },
     "execution_count": 28,
     "metadata": {},
     "output_type": "execute_result"
    }
   ],
   "source": [
    "condition = {\n",
    "    'id':'coreSitemap',\n",
    "    'class': 'core_sitemap'\n",
    "}\n",
    "html.find_all('div', attrs = condition)"
   ]
  },
  {
   "cell_type": "code",
   "execution_count": 32,
   "id": "painted-aaron",
   "metadata": {},
   "outputs": [],
   "source": [
    "element = html.select_one('ul#ItemList li a')"
   ]
  },
  {
   "cell_type": "code",
   "execution_count": 34,
   "id": "finished-counter",
   "metadata": {},
   "outputs": [
    {
     "data": {
      "text/plain": [
       "'http://through.auction.co.kr/common/SafeRedirect.aspx?cc=178F&next=http%3a%2f%2fitempage3.auction.co.kr%2fDetailView.aspx%3fitemno%3dB737016790'"
      ]
     },
     "execution_count": 34,
     "metadata": {},
     "output_type": "execute_result"
    }
   ],
   "source": [
    "element['href']"
   ]
  },
  {
   "cell_type": "code",
   "execution_count": 53,
   "id": "resident-tumor",
   "metadata": {},
   "outputs": [],
   "source": [
    "elements = html.select('ul#ItemList > li > div.inner > a')"
   ]
  },
  {
   "cell_type": "code",
   "execution_count": 57,
   "id": "extraordinary-making",
   "metadata": {},
   "outputs": [],
   "source": [
    "item_list = []\n",
    "for element in elements:\n",
    "    if not 'javascript' in element['href']:\n",
    "        # print(element['href'])\n",
    "        item_list.append(element['href'])"
   ]
  },
  {
   "cell_type": "markdown",
   "id": "printable-nation",
   "metadata": {},
   "source": [
    "## 6. 댓글 가져오기"
   ]
  },
  {
   "cell_type": "markdown",
   "id": "intellectual-korean",
   "metadata": {},
   "source": [
    "### urllib을 통해서 가져오기"
   ]
  },
  {
   "cell_type": "code",
   "execution_count": 80,
   "id": "hungry-contrast",
   "metadata": {},
   "outputs": [
    {
     "name": "stdout",
     "output_type": "stream",
     "text": [
      "[<div id=\"divVipReview\"></div>]\n"
     ]
    }
   ],
   "source": [
    "for url in item_list:\n",
    "    request = urllib.request.Request(url)\n",
    "    response = urllib.request.urlopen(request)\n",
    "    data = response.read().decode('euc-kr')\n",
    "    html = bs4.BeautifulSoup(data, 'html.parser')\n",
    "    element = html.select('div#VIPReview div#sectionVipReview div#divVipReview')\n",
    "    print(element)\n",
    "    break"
   ]
  },
  {
   "cell_type": "markdown",
   "id": "equipped-anchor",
   "metadata": {},
   "source": [
    "### requests를 통한 댓글 가져오기"
   ]
  },
  {
   "cell_type": "code",
   "execution_count": 81,
   "id": "younger-journey",
   "metadata": {},
   "outputs": [
    {
     "name": "stdout",
     "output_type": "stream",
     "text": [
      "[<div id=\"divVipReview\"></div>]\n"
     ]
    }
   ],
   "source": [
    "for url in item_list:\n",
    "    response = requests.get(url)\n",
    "    html = bs4.BeautifulSoup(response.text, 'html.parser')\n",
    "    element = html.select('div#VIPReview div#sectionVipReview div#divVipReview')\n",
    "    print(element)\n",
    "    break"
   ]
  },
  {
   "cell_type": "markdown",
   "id": "female-phrase",
   "metadata": {},
   "source": [
    "### selenium을 통한 댓글 가져오기"
   ]
  },
  {
   "cell_type": "code",
   "execution_count": 83,
   "id": "exceptional-auction",
   "metadata": {},
   "outputs": [],
   "source": [
    "options = webdriver.ChromeOptions()\n",
    "options.add_argument('--headless')\n",
    "options.add_argument('--no-sandbox')\n",
    "options.add_argument('--disable-dev-shm-usage')"
   ]
  },
  {
   "cell_type": "code",
   "execution_count": null,
   "id": "awful-robin",
   "metadata": {},
   "outputs": [],
   "source": [
    "for url in item_list:\n",
    "    try:\n",
    "        browser = webdriver.Chrome('./data/chromedriver', options=options)\n",
    "        browser.get(url)\n",
    "        response = browser.page_source\n",
    "\n",
    "        html = bs4.BeautifulSoup(response, 'html.parser')\n",
    "        element = html.select('div#VIPReview div#sectionVipReview div#divVipReview')\n",
    "        print(element)\n",
    "        browser.quit()\n",
    "    except:\n",
    "        browser.quit()\n",
    "        break\n",
    "    break"
   ]
  }
 ],
 "metadata": {
  "kernelspec": {
   "display_name": "Python 3",
   "language": "python",
   "name": "python3"
  },
  "language_info": {
   "codemirror_mode": {
    "name": "ipython",
    "version": 3
   },
   "file_extension": ".py",
   "mimetype": "text/x-python",
   "name": "python",
   "nbconvert_exporter": "python",
   "pygments_lexer": "ipython3",
   "version": "3.9.1"
  }
 },
 "nbformat": 4,
 "nbformat_minor": 5
}
