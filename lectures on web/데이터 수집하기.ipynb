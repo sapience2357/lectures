{
 "cells": [
  {
   "cell_type": "code",
   "execution_count": 13,
   "id": "corporate-casting",
   "metadata": {},
   "outputs": [],
   "source": [
    "import urllib\n",
    "import requests\n",
    "import bs4\n",
    "import selenium"
   ]
  },
  {
   "cell_type": "markdown",
   "id": "labeled-hunger",
   "metadata": {},
   "source": [
    "# 1. 댓글 수집하기"
   ]
  },
  {
   "cell_type": "code",
   "execution_count": 24,
   "id": "subjective-friendly",
   "metadata": {},
   "outputs": [],
   "source": [
    "url = 'http://corners.auction.co.kr/AllKill/AllDay.aspx'"
   ]
  },
  {
   "cell_type": "markdown",
   "id": "precise-board",
   "metadata": {},
   "source": [
    "## 1. urllib을 이용한 html page 가져오기"
   ]
  },
  {
   "cell_type": "code",
   "execution_count": 3,
   "id": "understanding-cathedral",
   "metadata": {},
   "outputs": [],
   "source": [
    "file, http = urllib.request.urlretrieve(url, './data/auction_list.html')"
   ]
  },
  {
   "cell_type": "markdown",
   "id": "desirable-wellington",
   "metadata": {},
   "source": [
    "- 이미지, 영상 등의 파일을 바로바로 저장이 가능"
   ]
  },
  {
   "cell_type": "code",
   "execution_count": 21,
   "id": "sacred-victory",
   "metadata": {},
   "outputs": [],
   "source": [
    "request = urllib.request.Request(url)\n",
    "response = urllib.request.urlopen(request)"
   ]
  },
  {
   "cell_type": "code",
   "execution_count": 22,
   "id": "permanent-fireplace",
   "metadata": {},
   "outputs": [],
   "source": [
    "html = response.read()"
   ]
  },
  {
   "cell_type": "markdown",
   "id": "crude-appreciation",
   "metadata": {},
   "source": [
    "## 2. requests을 이용한 html page 가져오기"
   ]
  },
  {
   "cell_type": "code",
   "execution_count": 26,
   "id": "angry-matthew",
   "metadata": {},
   "outputs": [],
   "source": [
    "response = requests.get(url)"
   ]
  },
  {
   "cell_type": "code",
   "execution_count": null,
   "id": "knowing-thomson",
   "metadata": {},
   "outputs": [],
   "source": [
    "# response.text\n",
    "response.content"
   ]
  },
  {
   "cell_type": "markdown",
   "id": "downtown-scenario",
   "metadata": {},
   "source": [
    "## 3. 리눅스에서 selenium 설정\n",
    "\n",
    "### 1. chrome 설치\n",
    "```\n",
    "#> wget -q -O - https://dl-ssl.google.com/linux/linux_signing_key.pub | sudo apt-key add -\n",
    "#> sudo sh -c 'echo \"deb [arch=amd64] http://dl.google.com/linux/chrome/deb/ stable main\" >> /etc/apt/sources.list.d/google.list'\n",
    "#> apt-get update\n",
    "#> apt-get upgrade \n",
    "#> gpt-get install google-chrome-stable\n",
    "```"
   ]
  },
  {
   "cell_type": "code",
   "execution_count": null,
   "id": "incident-advertiser",
   "metadata": {},
   "outputs": [],
   "source": []
  }
 ],
 "metadata": {
  "kernelspec": {
   "display_name": "Python 3",
   "language": "python",
   "name": "python3"
  },
  "language_info": {
   "codemirror_mode": {
    "name": "ipython",
    "version": 3
   },
   "file_extension": ".py",
   "mimetype": "text/x-python",
   "name": "python",
   "nbconvert_exporter": "python",
   "pygments_lexer": "ipython3",
   "version": "3.9.1"
  }
 },
 "nbformat": 4,
 "nbformat_minor": 5
}
