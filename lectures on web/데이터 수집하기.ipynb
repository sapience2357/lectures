{
 "cells": [
  {
   "cell_type": "code",
   "execution_count": 6,
   "id": "adverse-dining",
   "metadata": {},
   "outputs": [],
   "source": [
    "import urllib\n",
    "import requests\n",
    "import bs4\n",
    "\n",
    "# import selenium\n",
    "from selenium import webdriver\n",
    "from selenium.webdriver.common.keys import Keys\n",
    "\n",
    "from fake_useragent import UserAgent"
   ]
  },
  {
   "cell_type": "markdown",
   "id": "innocent-venice",
   "metadata": {},
   "source": [
    "# 1. 댓글 수집하기"
   ]
  },
  {
   "cell_type": "code",
   "execution_count": 7,
   "id": "included-blogger",
   "metadata": {},
   "outputs": [],
   "source": [
    "url = 'http://corners.auction.co.kr/AllKill/AllDay.aspx'"
   ]
  },
  {
   "cell_type": "markdown",
   "id": "recovered-question",
   "metadata": {},
   "source": [
    "## 1. urllib을 이용한 html page 가져오기"
   ]
  },
  {
   "cell_type": "code",
   "execution_count": 8,
   "id": "dying-signature",
   "metadata": {},
   "outputs": [],
   "source": [
    "file, http = urllib.request.urlretrieve(url, './data/auction_list.html')"
   ]
  },
  {
   "cell_type": "markdown",
   "id": "excellent-native",
   "metadata": {},
   "source": [
    "- 이미지, 영상 등의 파일을 바로 저장이 가능"
   ]
  },
  {
   "cell_type": "code",
   "execution_count": 9,
   "id": "growing-transmission",
   "metadata": {},
   "outputs": [],
   "source": [
    "request = urllib.request.Request(url)\n",
    "response = urllib.request.urlopen(request)"
   ]
  },
  {
   "cell_type": "code",
   "execution_count": 10,
   "id": "diverse-parameter",
   "metadata": {},
   "outputs": [],
   "source": [
    "html = response.read()"
   ]
  },
  {
   "cell_type": "markdown",
   "id": "dramatic-workshop",
   "metadata": {},
   "source": [
    "## 2. requests을 이용한 html page 가져오기"
   ]
  },
  {
   "cell_type": "code",
   "execution_count": 11,
   "id": "opening-completion",
   "metadata": {},
   "outputs": [],
   "source": [
    "response = requests.get(url)"
   ]
  },
  {
   "cell_type": "code",
   "execution_count": null,
   "id": "innocent-latvia",
   "metadata": {},
   "outputs": [],
   "source": [
    "# response.text\n",
    "response.content"
   ]
  },
  {
   "cell_type": "markdown",
   "id": "closing-reservoir",
   "metadata": {},
   "source": [
    "## 3. 리눅스에서 selenium 설정\n",
    "\n",
    "### 1. chrome 설치\n",
    "```\n",
    "#> wget -q -O - https://dl-ssl.google.com/linux/linux_signing_key.pub | sudo apt-key add -\n",
    "#> sudo sh -c 'echo \"deb [arch=amd64] http://dl.google.com/linux/chrome/deb/ stable main\" >> /etc/apt/sources.list.d/google.list'\n",
    "#> apt-get update\n",
    "#> apt-get upgrade \n",
    "#> apt-get install google-chrome-stable\n",
    "#> google-chrome --version\n",
    "```\n",
    "\n",
    "### 2. webdriver 다운로드\n",
    "- url: https://chromedriver.chromium.org/downloads\n",
    "\n",
    "```\n",
    "#> wget https://chromedriver.storage.googleapis.com/88.0.4324.96/chromedriver_linux64.zip\n",
    "#> unzip chromedriver_linux64.zip\n",
    "```"
   ]
  },
  {
   "cell_type": "markdown",
   "id": "expensive-track",
   "metadata": {},
   "source": [
    "## 4. selenium을 통한 html page 가져오기"
   ]
  },
  {
   "cell_type": "code",
   "execution_count": 14,
   "id": "seventh-killer",
   "metadata": {},
   "outputs": [],
   "source": [
    "options = webdriver.ChromeOptions()\n",
    "options.add_argument('--headless')\n",
    "options.add_argument('--no-sandbox')\n",
    "options.add_argument('--disable-dev-shm-usage')\n",
    "\n",
    "browser = webdriver.Chrome('./data/chromedriver', options=options)"
   ]
  },
  {
   "cell_type": "code",
   "execution_count": 15,
   "id": "controversial-selection",
   "metadata": {},
   "outputs": [],
   "source": [
    "browser.get(url)\n",
    "response = browser.page_source\n",
    "\n",
    "browser.quit()"
   ]
  },
  {
   "cell_type": "code",
   "execution_count": null,
   "id": "royal-intention",
   "metadata": {},
   "outputs": [],
   "source": [
    "response"
   ]
  }
 ],
 "metadata": {
  "kernelspec": {
   "display_name": "Python 3",
   "language": "python",
   "name": "python3"
  },
  "language_info": {
   "codemirror_mode": {
    "name": "ipython",
    "version": 3
   },
   "file_extension": ".py",
   "mimetype": "text/x-python",
   "name": "python",
   "nbconvert_exporter": "python",
   "pygments_lexer": "ipython3",
   "version": "3.9.1"
  }
 },
 "nbformat": 4,
 "nbformat_minor": 5
}
