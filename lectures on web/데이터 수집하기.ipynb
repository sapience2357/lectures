{
 "cells": [
  {
   "cell_type": "code",
   "execution_count": 13,
   "id": "blocked-cycling",
   "metadata": {},
   "outputs": [],
   "source": [
    "import urllib\n",
    "import requests\n",
    "import bs4\n",
    "import selenium"
   ]
  },
  {
   "cell_type": "markdown",
   "id": "communist-logan",
   "metadata": {},
   "source": [
    "# 1. 댓글 수집하기"
   ]
  },
  {
   "cell_type": "code",
   "execution_count": 24,
   "id": "statewide-recycling",
   "metadata": {},
   "outputs": [],
   "source": [
    "url = 'http://corners.auction.co.kr/AllKill/AllDay.aspx'"
   ]
  },
  {
   "cell_type": "markdown",
   "id": "enabling-groove",
   "metadata": {},
   "source": [
    "## 1. urllib을 이용한 html page 가져오기"
   ]
  },
  {
   "cell_type": "code",
   "execution_count": 3,
   "id": "extensive-addition",
   "metadata": {},
   "outputs": [],
   "source": [
    "file, http = urllib.request.urlretrieve(url, './data/auction_list.html')"
   ]
  },
  {
   "cell_type": "markdown",
   "id": "happy-coach",
   "metadata": {},
   "source": [
    "- 이미지, 영상 등의 파일을 바로바로 저장이 가능"
   ]
  },
  {
   "cell_type": "code",
   "execution_count": 21,
   "id": "stone-statistics",
   "metadata": {},
   "outputs": [],
   "source": [
    "request = urllib.request.Request(url)\n",
    "response = urllib.request.urlopen(request)"
   ]
  },
  {
   "cell_type": "code",
   "execution_count": 22,
   "id": "standard-debate",
   "metadata": {},
   "outputs": [],
   "source": [
    "html = response.read()"
   ]
  },
  {
   "cell_type": "markdown",
   "id": "incoming-vinyl",
   "metadata": {},
   "source": [
    "## 2. requests을 이용한 html page 가져오기"
   ]
  },
  {
   "cell_type": "code",
   "execution_count": 26,
   "id": "placed-hurricane",
   "metadata": {},
   "outputs": [],
   "source": [
    "response = requests.get(url)"
   ]
  },
  {
   "cell_type": "code",
   "execution_count": null,
   "id": "forbidden-samoa",
   "metadata": {},
   "outputs": [],
   "source": [
    "# response.text\n",
    "response.content"
   ]
  },
  {
   "cell_type": "markdown",
   "id": "macro-bhutan",
   "metadata": {},
   "source": [
    "## 3. 리눅스에서 selenium 설정\n",
    "\n",
    "### 1. chrome 설치\n",
    "```\n",
    "#> wget -q -O - https://dl-ssl.google.com/linux/linux_signing_key.pub | sudo apt-key add -\n",
    "#> sudo sh -c 'echo \"deb [arch=amd64] http://dl.google.com/linux/chrome/deb/ stable main\" >> /etc/apt/sources.list.d/google.list'\n",
    "#> apt-get update\n",
    "#> apt-get upgrade \n",
    "#> gpt-get install google-chrome-stable\n",
    "```"
   ]
  },
  {
   "cell_type": "code",
   "execution_count": null,
   "id": "specific-savings",
   "metadata": {},
   "outputs": [],
   "source": []
  }
 ],
 "metadata": {
  "kernelspec": {
   "display_name": "Python 3",
   "language": "python",
   "name": "python3"
  },
  "language_info": {
   "codemirror_mode": {
    "name": "ipython",
    "version": 3
   },
   "file_extension": ".py",
   "mimetype": "text/x-python",
   "name": "python",
   "nbconvert_exporter": "python",
   "pygments_lexer": "ipython3",
   "version": "3.9.1"
  }
 },
 "nbformat": 4,
 "nbformat_minor": 5
}
