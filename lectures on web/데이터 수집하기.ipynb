{
 "cells": [
  {
   "cell_type": "code",
   "execution_count": 2,
   "id": "established-failing",
   "metadata": {},
   "outputs": [],
   "source": [
    "import urllib\n",
    "import requests\n",
    "import bs4\n",
    "\n",
    "# import selenium\n",
    "from selenium import webdriver\n",
    "from selenium.webdriver.common.keys import Keys\n",
    "\n",
    "from fake_useragent import UserAgent"
   ]
  },
  {
   "cell_type": "markdown",
   "id": "domestic-steel",
   "metadata": {},
   "source": [
    "# 댓글 수집하기"
   ]
  },
  {
   "cell_type": "code",
   "execution_count": 3,
   "id": "positive-monitor",
   "metadata": {},
   "outputs": [],
   "source": [
    "url = 'http://corners.auction.co.kr/AllKill/AllDay.aspx'"
   ]
  },
  {
   "cell_type": "markdown",
   "id": "returning-bullet",
   "metadata": {},
   "source": [
    "## urllib을 이용한 html page 가져오기"
   ]
  },
  {
   "cell_type": "code",
   "execution_count": 4,
   "id": "communist-bachelor",
   "metadata": {},
   "outputs": [],
   "source": [
    "file, http = urllib.request.urlretrieve(url, './data/auction_list.html')"
   ]
  },
  {
   "cell_type": "markdown",
   "id": "through-positive",
   "metadata": {},
   "source": [
    "- 이미지, 영상 등의 파일을 바로 저장이 가능"
   ]
  },
  {
   "cell_type": "code",
   "execution_count": 5,
   "id": "beginning-morris",
   "metadata": {},
   "outputs": [],
   "source": [
    "request = urllib.request.Request(url)\n",
    "response = urllib.request.urlopen(request)"
   ]
  },
  {
   "cell_type": "code",
   "execution_count": 6,
   "id": "christian-metabolism",
   "metadata": {},
   "outputs": [],
   "source": [
    "html = response.read()"
   ]
  },
  {
   "cell_type": "markdown",
   "id": "reasonable-supply",
   "metadata": {},
   "source": [
    "## requests을 이용한 html page 가져오기"
   ]
  },
  {
   "cell_type": "code",
   "execution_count": 7,
   "id": "prime-maine",
   "metadata": {},
   "outputs": [],
   "source": [
    "response = requests.get(url)"
   ]
  },
  {
   "cell_type": "code",
   "execution_count": null,
   "id": "olympic-flexibility",
   "metadata": {},
   "outputs": [],
   "source": [
    "# response.text\n",
    "response.content"
   ]
  },
  {
   "cell_type": "markdown",
   "id": "impressive-monday",
   "metadata": {},
   "source": [
    "## 리눅스에서 selenium 설정\n",
    "\n",
    "### chrome 설치\n",
    "```\n",
    "#> wget -q -O - https://dl-ssl.google.com/linux/linux_signing_key.pub | sudo apt-key add -\n",
    "#> sudo sh -c 'echo \"deb [arch=amd64] http://dl.google.com/linux/chrome/deb/ stable main\" >> /etc/apt/sources.list.d/google.list'\n",
    "#> apt-get update\n",
    "#> apt-get upgrade \n",
    "#> apt-get install google-chrome-stable\n",
    "#> google-chrome --version\n",
    "```\n",
    "\n",
    "### 2. webdriver 다운로드\n",
    "- url: https://chromedriver.chromium.org/downloads\n",
    "\n",
    "```\n",
    "#> wget https://chromedriver.storage.googleapis.com/88.0.4324.96/chromedriver_linux64.zip\n",
    "#> unzip chromedriver_linux64.zip\n",
    "```"
   ]
  },
  {
   "cell_type": "markdown",
   "id": "cloudy-subsection",
   "metadata": {},
   "source": [
    "## selenium을 통한 html page 가져오기"
   ]
  },
  {
   "cell_type": "code",
   "execution_count": 9,
   "id": "known-cycle",
   "metadata": {},
   "outputs": [],
   "source": [
    "options = webdriver.ChromeOptions()\n",
    "options.add_argument('--headless')\n",
    "options.add_argument('--no-sandbox')\n",
    "options.add_argument('--disable-dev-shm-usage')\n",
    "\n",
    "browser = webdriver.Chrome('./data/chromedriver', options=options)"
   ]
  },
  {
   "cell_type": "code",
   "execution_count": 10,
   "id": "honest-enemy",
   "metadata": {},
   "outputs": [],
   "source": [
    "browser.get(url)\n",
    "response = browser.page_source\n",
    "\n",
    "browser.quit()"
   ]
  },
  {
   "cell_type": "markdown",
   "id": "regulation-morocco",
   "metadata": {},
   "source": [
    "## BeautifulSoup을 이용한 html 파싱"
   ]
  },
  {
   "cell_type": "code",
   "execution_count": 11,
   "id": "bright-gallery",
   "metadata": {},
   "outputs": [],
   "source": [
    "# html 코드를 분석에 적당한 beautifulSoup 형태로 변환\n",
    "html = bs4.BeautifulSoup( response, 'html.parser')"
   ]
  },
  {
   "cell_type": "code",
   "execution_count": 12,
   "id": "stock-recruitment",
   "metadata": {},
   "outputs": [
    {
     "data": {
      "text/plain": [
       "<p class=\"layer-complainprocess__description\"><strong>옥션은 거래 과정에서 발생하는 판매자와의 분쟁</strong> 또는 <strong>옥션이 제공하는 서비스에 대한 불만을 신속, 공정하게 해결</strong>하기 위해 고객님의 목소리에 귀를 기울이고 분쟁해결을 위해 최선을 다하겠습니다.</p>"
      ]
     },
     "execution_count": 12,
     "metadata": {},
     "output_type": "execute_result"
    }
   ],
   "source": [
    "html.find('p')"
   ]
  },
  {
   "cell_type": "code",
   "execution_count": 13,
   "id": "southwest-remedy",
   "metadata": {},
   "outputs": [
    {
     "data": {
      "text/plain": [
       "[<div class=\"core_sitemap\" id=\"coreSitemap\" style=\"position: absolute; top: 0px; left: 40px; z-index: 1000002; display: none;\"></div>]"
      ]
     },
     "execution_count": 13,
     "metadata": {},
     "output_type": "execute_result"
    }
   ],
   "source": [
    "condition = {\n",
    "    'id':'coreSitemap',\n",
    "    'class': 'core_sitemap'\n",
    "}\n",
    "html.find_all('div', attrs = condition)"
   ]
  },
  {
   "cell_type": "markdown",
   "id": "incorporated-mineral",
   "metadata": {},
   "source": [
    "- find()를 이용해서 원하는 속성의 조건을 검색할 수 있는 기능"
   ]
  },
  {
   "cell_type": "code",
   "execution_count": 14,
   "id": "mature-underground",
   "metadata": {},
   "outputs": [],
   "source": [
    "element = html.select_one('ul#ItemList li a')"
   ]
  },
  {
   "cell_type": "code",
   "execution_count": 15,
   "id": "productive-ferry",
   "metadata": {},
   "outputs": [
    {
     "data": {
      "text/plain": [
       "'http://through.auction.co.kr/common/SafeRedirect.aspx?cc=178F&next=http%3a%2f%2fitempage3.auction.co.kr%2fDetailView.aspx%3fitemno%3dC222562959'"
      ]
     },
     "execution_count": 15,
     "metadata": {},
     "output_type": "execute_result"
    }
   ],
   "source": [
    "element['href']"
   ]
  },
  {
   "cell_type": "code",
   "execution_count": 16,
   "id": "sharp-halloween",
   "metadata": {},
   "outputs": [],
   "source": [
    "elements = html.select('ul#ItemList > li > div.inner > a')"
   ]
  },
  {
   "cell_type": "code",
   "execution_count": 17,
   "id": "august-perspective",
   "metadata": {},
   "outputs": [],
   "source": [
    "item_list = []\n",
    "for element in elements:\n",
    "    if not 'javascript' in element['href']:\n",
    "        # print(element['href'])\n",
    "        item_list.append(element['href'])"
   ]
  },
  {
   "cell_type": "markdown",
   "id": "sized-fitting",
   "metadata": {},
   "source": [
    "- select()는 CSS SELECTOR를 통해서 원하는 요소를 검색할 수 있는 기능"
   ]
  },
  {
   "cell_type": "markdown",
   "id": "interested-trouble",
   "metadata": {},
   "source": [
    "## 댓글 가져오기"
   ]
  },
  {
   "cell_type": "markdown",
   "id": "round-victor",
   "metadata": {},
   "source": [
    "### urllib을 통해서 가져오기"
   ]
  },
  {
   "cell_type": "code",
   "execution_count": 18,
   "id": "tight-complex",
   "metadata": {},
   "outputs": [
    {
     "name": "stdout",
     "output_type": "stream",
     "text": [
      "[<div id=\"divVipReview\"></div>]\n"
     ]
    }
   ],
   "source": [
    "for url in item_list:\n",
    "    request = urllib.request.Request(url)\n",
    "    response = urllib.request.urlopen(request)\n",
    "    data = response.read().decode('euc-kr')\n",
    "    html = bs4.BeautifulSoup(data, 'html.parser')\n",
    "    element = html.select('div#VIPReview div#sectionVipReview div#divVipReview')\n",
    "    print(element)\n",
    "    break"
   ]
  },
  {
   "cell_type": "markdown",
   "id": "automated-mouth",
   "metadata": {},
   "source": [
    "### requests를 통한 댓글 가져오기"
   ]
  },
  {
   "cell_type": "code",
   "execution_count": 19,
   "id": "least-calvin",
   "metadata": {},
   "outputs": [
    {
     "name": "stdout",
     "output_type": "stream",
     "text": [
      "[<div id=\"divVipReview\"></div>]\n"
     ]
    }
   ],
   "source": [
    "for url in item_list:\n",
    "    response = requests.get(url)\n",
    "    html = bs4.BeautifulSoup(response.text, 'html.parser')\n",
    "    element = html.select('div#VIPReview div#sectionVipReview div#divVipReview')\n",
    "    print(element)\n",
    "    break"
   ]
  },
  {
   "cell_type": "markdown",
   "id": "exceptional-synthetic",
   "metadata": {},
   "source": [
    "### selenium을 통한 댓글 가져오기"
   ]
  },
  {
   "cell_type": "code",
   "execution_count": 20,
   "id": "rough-imaging",
   "metadata": {},
   "outputs": [],
   "source": [
    "options = webdriver.ChromeOptions()\n",
    "options.add_argument('--headless')\n",
    "options.add_argument('--no-sandbox')\n",
    "options.add_argument('--disable-dev-shm-usage')"
   ]
  },
  {
   "cell_type": "code",
   "execution_count": null,
   "id": "coated-rugby",
   "metadata": {},
   "outputs": [],
   "source": [
    "for url in item_list:\n",
    "    try:\n",
    "        browser = webdriver.Chrome('./data/chromedriver', options=options)\n",
    "        browser.get(url)\n",
    "        response = browser.page_source\n",
    "\n",
    "        html = bs4.BeautifulSoup(response, 'html.parser')\n",
    "        elements = html.select('div#VIPReview div#sectionVipReview div#divVipReview p.text')\n",
    "        # print(elements)\n",
    "        for ele in elements:\n",
    "            print(ele.get_text())\n",
    "        browser.quit()\n",
    "    except:\n",
    "        browser.quit()\n",
    "        break\n",
    "    # break"
   ]
  },
  {
   "cell_type": "markdown",
   "id": "rational-motion",
   "metadata": {},
   "source": [
    "# openAPI 이용하기"
   ]
  },
  {
   "cell_type": "code",
   "execution_count": 65,
   "id": "breathing-milan",
   "metadata": {},
   "outputs": [],
   "source": [
    "import os\n",
    "import sys\n",
    "import urllib.request\n",
    "import json\n",
    "\n",
    "client_id = \"zgQm1ndA_GdvPFSL3Pfn\"\n",
    "client_secret = \"yFBFM1DG3K\"\n",
    "\n",
    "encText = urllib.parse.quote(\"코로나\")\n",
    "news_list = []\n",
    "\n",
    "for idx in range(0, 5):\n",
    "    # url = \"https://openapi.naver.com/v1/search/blog?query=\" + encText # json 결과\n",
    "    url = \"https://openapi.naver.com/v1/search/news?query=\" + encText + '&start=' + str(idx * 10 + 1)\n",
    "\n",
    "    request = urllib.request.Request(url)\n",
    "    request.add_header(\"X-Naver-Client-Id\",client_id)\n",
    "    request.add_header(\"X-Naver-Client-Secret\",client_secret)\n",
    "    response = urllib.request.urlopen(request)\n",
    "    rescode = response.getcode()\n",
    "    if(rescode==200):\n",
    "        response_body = response.read()\n",
    "        # print(response_body.decode('utf-8'))\n",
    "        text = response_body.decode('utf-8')\n",
    "        text = json.loads(text)\n",
    "        news_list.append(text)\n",
    "    else:\n",
    "        print(\"Error Code:\" + rescode)"
   ]
  },
  {
   "cell_type": "code",
   "execution_count": 47,
   "id": "wireless-nursery",
   "metadata": {},
   "outputs": [
    {
     "data": {
      "text/plain": [
       "5"
      ]
     },
     "execution_count": 47,
     "metadata": {},
     "output_type": "execute_result"
    }
   ],
   "source": [
    "len(news_list)"
   ]
  },
  {
   "cell_type": "code",
   "execution_count": 59,
   "id": "secondary-excess",
   "metadata": {},
   "outputs": [
    {
     "data": {
      "text/plain": [
       "10"
      ]
     },
     "execution_count": 59,
     "metadata": {},
     "output_type": "execute_result"
    }
   ],
   "source": [
    "len(news_list[0]['items'])"
   ]
  },
  {
   "cell_type": "code",
   "execution_count": 63,
   "id": "hired-italian",
   "metadata": {},
   "outputs": [
    {
     "data": {
      "text/plain": [
       "'https://blog.naver.com/mc922js?Redirect=Log&logNo=222207292905'"
      ]
     },
     "execution_count": 63,
     "metadata": {},
     "output_type": "execute_result"
    }
   ],
   "source": [
    "news_list[0]['items'][0]['link']"
   ]
  },
  {
   "cell_type": "code",
   "execution_count": 68,
   "id": "monthly-radical",
   "metadata": {},
   "outputs": [],
   "source": [
    "urls = []\n",
    "for pages in news_list:\n",
    "    for item in pages['items']:\n",
    "        if 'https://news.naver.com/main' in item['link']:\n",
    "            # print(item['link'])\n",
    "            urls.append(item['link'])"
   ]
  },
  {
   "cell_type": "code",
   "execution_count": 75,
   "id": "rough-suite",
   "metadata": {},
   "outputs": [],
   "source": [
    "options = webdriver.ChromeOptions()\n",
    "options.add_argument('--headless')\n",
    "options.add_argument('--no-sandbox')\n",
    "options.add_argument('--disable-dev-shm-usage')"
   ]
  },
  {
   "cell_type": "code",
   "execution_count": 83,
   "id": "inside-module",
   "metadata": {},
   "outputs": [
    {
     "name": "stdout",
     "output_type": "stream",
     "text": [
      "김용범 기획재정부 1차관. 사진| 연합뉴스[스포츠서울 동효정 기자] 김용범 기획재정부 1차관이 설 민생안정대책으로 기부 릴레이 운동이 이어지기를 기대한다고 말했다. 30일 김 차관은 자신의 페이스북에 “기부를 통해 모인 자금은 위기 상황으로 인해 어려움을 겪는 저소득층의 생계비, 의료비, 교육비 지원에 사용될 예정”이라며 이같이 밝혔다.김 차관은 “명절을 계기로 열리는 기부 캠페인 행사로는 처음 시도되는 이번 프로그램은 코로나19 상황을 고려해 비대면 방식으로 진행된다”며 “QR 코드 및 각종 간편결제 방식을 활용해 누구나 손쉽게 기부에 참여할 수 있도록 설계됐다”고 설명했다.김 차관은 “정부는 기부문화 확산을 뒷받침하기 위해 올해 기부금에 대해서는 기부금 세액공제율을 한시 상향하는 방침도 확정했다”며 “구체적 추가공제율은 7월께 세법 개정안을 통해 발표할 예정”이라고 말했다.김 차관은 최근 한 신사가 추위에 떨며 커피 한잔 사달라는 서울역 노숙인에게 자신이 입고 있던 외투와 장갑, 현금 5만원을 건넨 사진 사례를 들며 “신사의 따뜻한 마음은 비단 노숙자뿐만 아니라 코로나19 장기화로 힘든 시기를 보내고 있는 국민들의마음까지 위로해줬다”고 했다. 기초생활보장 수급자 부부가 100만원을 기부한 사례도 소개했다. 김 차관은 “안타깝게도 올해는 지난해와 달리 비대면으로 마음만 전하는 설 명절이 될 가능성이 높아 보인다”며 “비록 사랑하는 가족들의 얼굴을 직접 보지는 못하지만 마음만은 어느 때보다 따뜻한 설 연휴가 되길 희망한다”고 말했다.  vivid@sportsseoul.com\n"
     ]
    }
   ],
   "source": [
    "for url in urls:\n",
    "    try:\n",
    "        browser = webdriver.Chrome('./data/chromedriver', options=options)\n",
    "        browser.get(url)\n",
    "        response = browser.page_source\n",
    "        soup = bs4.BeautifulSoup(response, 'html.parser')\n",
    "        title = soup.find('h3', id='articleTitle').get_text()\n",
    "        # print(title)\n",
    "        \n",
    "        body = soup.find('font', class_='article')\n",
    "        print(body.get_text())\n",
    "    except Exception as e:\n",
    "        browser.quit()\n",
    "        print(e)\n",
    "        break\n",
    "        \n",
    "    browser.quit()\n",
    "    break"
   ]
  }
 ],
 "metadata": {
  "kernelspec": {
   "display_name": "Python 3",
   "language": "python",
   "name": "python3"
  },
  "toc": {
   "base_numbering": 1,
   "nav_menu": {},
   "number_sections": true,
   "sideBar": true,
   "skip_h1_title": false,
   "title_cell": "Table of Contents",
   "title_sidebar": "Contents",
   "toc_cell": false,
   "toc_position": {
    "height": "calc(100% - 180px)",
    "left": "10px",
    "top": "150px",
    "width": "165px"
   },
   "toc_section_display": true,
   "toc_window_display": true
  }
 },
 "nbformat": 4,
 "nbformat_minor": 5
}
