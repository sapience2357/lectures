{
 "cells": [
  {
   "cell_type": "code",
   "execution_count": 1,
   "id": "positive-professional",
   "metadata": {},
   "outputs": [],
   "source": [
    "import urllib\n",
    "import requests\n",
    "import bs4\n",
    "import selenium"
   ]
  },
  {
   "cell_type": "markdown",
   "id": "normal-option",
   "metadata": {},
   "source": [
    "# 1. 댓글 수집하기"
   ]
  },
  {
   "cell_type": "code",
   "execution_count": 2,
   "id": "decimal-parts",
   "metadata": {},
   "outputs": [],
   "source": [
    "url = 'http://corners.auction.co.kr/AllKill/AllDay.aspx'"
   ]
  },
  {
   "cell_type": "markdown",
   "id": "satellite-vancouver",
   "metadata": {},
   "source": [
    "## 1. urllib을 이용한 html page 가져오기"
   ]
  },
  {
   "cell_type": "code",
   "execution_count": 3,
   "id": "acoustic-replacement",
   "metadata": {},
   "outputs": [],
   "source": [
    "file, http = urllib.request.urlretrieve(url, './data/auction_list.html')"
   ]
  }
 ],
 "metadata": {
  "kernelspec": {
   "display_name": "Python 3",
   "language": "python",
   "name": "python3"
  },
  "language_info": {
   "codemirror_mode": {
    "name": "ipython",
    "version": 3
   },
   "file_extension": ".py",
   "mimetype": "text/x-python",
   "name": "python",
   "nbconvert_exporter": "python",
   "pygments_lexer": "ipython3",
   "version": "3.9.1"
  }
 },
 "nbformat": 4,
 "nbformat_minor": 5
}
