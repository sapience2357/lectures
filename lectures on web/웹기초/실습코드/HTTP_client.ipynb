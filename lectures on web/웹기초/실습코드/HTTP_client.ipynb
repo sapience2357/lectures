{
 "cells": [
  {
   "cell_type": "code",
   "execution_count": 1,
   "metadata": {},
   "outputs": [],
   "source": [
    "import socket"
   ]
  },
  {
   "cell_type": "code",
   "execution_count": 2,
   "metadata": {},
   "outputs": [],
   "source": [
    "serverIpAddress = socket.gethostbyname('info.cern.ch')\n",
    "serverPortNumber = 80"
   ]
  },
  {
   "cell_type": "code",
   "execution_count": 12,
   "metadata": {},
   "outputs": [
    {
     "name": "stdout",
     "output_type": "stream",
     "text": [
      "HTTP/1.1 200 OK\r\n",
      "Date: Sun, 06 Dec 2020 04:16:21 GMT\r\n",
      "Server: Apache\r\n",
      "Last-Modified: Wed, 05 Feb 2014 16:00:31 GMT\r\n",
      "ETag: \"40521bd2-286-4f1aadb3105c0\"\r\n",
      "Accept-Ranges: bytes\r\n",
      "Content-Length: 646\r\n",
      "Connection: close\r\n",
      "Content-Type: text/html\r\n",
      "\r\n",
      "<html><head></head><body><header>\n",
      "<title>http://info.cern.ch</title>\n",
      "</header>\n",
      "\n",
      "<h1>http://info.cern.ch - home of the first website</h1>\n",
      "<p>From here you can:</p>\n",
      "<ul>\n",
      "<li><a href=\"http://info.cern.ch/hypertext/WWW/TheProject.html\">Browse the first website</a></li>\n",
      "<li><a href=\"http://line-mode.cern.ch/www/hypertext/WWW/TheProject.html\">Browse the first website using the line-mode browser simulator</a></li>\n",
      "<li><a href=\"http://home.web.cern.ch/topics/birth-web\">Learn about the birth of the web</a></li>\n",
      "<li><a href=\"http://home.web.cern.ch/about\">Learn about CERN, the physics laboratory where the web was born</a></li>\n",
      "</ul>\n",
      "</body></html>\n",
      "\n"
     ]
    }
   ],
   "source": [
    "# TCP 통신을 하기 위한 소켓을 생성\n",
    "sock = socket.socket(socket.AF_INET, socket.SOCK_STREAM)\n",
    "\n",
    "sock.connect(\n",
    "    # 접속할 서버의 정보는 튜플 형태로 전달\n",
    "    (serverIpAddress, serverPortNumber)\n",
    ")\n",
    "\n",
    "request_header = 'GET /index.html HTTP/1.1\\r\\n'\n",
    "request_header += 'Host: info.cern.ch\\r\\n' # 헤더 필드\n",
    "request_header += '\\r\\n'\n",
    "\n",
    "sock.send(request_header.encode())\n",
    "response = sock.recv(1024)\n",
    "print(\n",
    "    response.decode()\n",
    ")\n",
    "\n",
    "sock.close()"
   ]
  }
 ],
 "metadata": {
  "kernelspec": {
   "display_name": "Python 3",
   "language": "python",
   "name": "python3"
  },
  "language_info": {
   "codemirror_mode": {
    "name": "ipython",
    "version": 3
   },
   "file_extension": ".py",
   "mimetype": "text/x-python",
   "name": "python",
   "nbconvert_exporter": "python",
   "pygments_lexer": "ipython3",
   "version": "3.7.4"
  }
 },
 "nbformat": 4,
 "nbformat_minor": 4
}
