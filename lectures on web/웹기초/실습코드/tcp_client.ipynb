{
 "cells": [
  {
   "cell_type": "markdown",
   "metadata": {},
   "source": [
    "## 매우 간단한 TCP 클라이언트 프로그램"
   ]
  },
  {
   "cell_type": "code",
   "execution_count": 3,
   "metadata": {},
   "outputs": [],
   "source": [
    "# 소켓 프로그래밍\n",
    "import socket\n",
    "import struct"
   ]
  },
  {
   "cell_type": "code",
   "execution_count": 16,
   "metadata": {},
   "outputs": [],
   "source": [
    "# domain: vortex.labs.overthewire.org\n",
    "# port: 5842\n",
    "\n",
    "domain='vortex.labs.overthewire.org'\n",
    "# domain='www.naver.com'\n",
    "serverIpAddress = socket.gethostbyname(domain) # 도메인 주소 => IP 주소 변경\n",
    "serverPortNumber = 5842"
   ]
  },
  {
   "cell_type": "code",
   "execution_count": 31,
   "metadata": {},
   "outputs": [
    {
     "name": "stdout",
     "output_type": "stream",
     "text": [
      "1608415012 1338338509 577997348 1369261694\n",
      "total: 4894012563\n",
      "received: Username: vortex1 Password: Gq#qu3bF3\n"
     ]
    }
   ],
   "source": [
    "# TCP 통신을 하기 위한 소켓을 생성\n",
    "# 파일 입/출력을 위한 파일 객체를 얻어오는것과 비슷한 작업\n",
    "sock = socket.socket(socket.AF_INET, socket.SOCK_STREAM)\n",
    "\n",
    "sock.connect(\n",
    "    # 접속할 서버의 정보는 튜플 형태로 전달\n",
    "    (serverIpAddress, serverPortNumber)\n",
    ")\n",
    "number1 = sock.recv(4)\n",
    "number2 = sock.recv(4)\n",
    "number3 = sock.recv(4)\n",
    "number4 = sock.recv(4)\n",
    "\n",
    "number1 = struct.unpack('<I', number1)[0] \n",
    "number2 = struct.unpack('<I', number2)[0]\n",
    "number3 = struct.unpack('<I', number3)[0]\n",
    "number4 = struct.unpack('<I', number4)[0]\n",
    "\n",
    "print(number1, number2, number3, number4)\n",
    "\n",
    "total = number1 + number2 + number3 + number4\n",
    "print('total:', total)\n",
    "total = struct.pack('<Q', total)\n",
    "\n",
    "# 생성된 소켓을 통해서 데이터를 송신\n",
    "sock.send(total)\n",
    "\n",
    "data = sock.recv(1024)\n",
    "print(\n",
    "    'received:',\n",
    "    data.decode()\n",
    ")\n",
    "\n",
    "sock.close()"
   ]
  }
 ],
 "metadata": {
  "kernelspec": {
   "display_name": "Python 3",
   "language": "python",
   "name": "python3"
  },
  "language_info": {
   "codemirror_mode": {
    "name": "ipython",
    "version": 3
   },
   "file_extension": ".py",
   "mimetype": "text/x-python",
   "name": "python",
   "nbconvert_exporter": "python",
   "pygments_lexer": "ipython3",
   "version": "3.7.4"
  }
 },
 "nbformat": 4,
 "nbformat_minor": 4
}
