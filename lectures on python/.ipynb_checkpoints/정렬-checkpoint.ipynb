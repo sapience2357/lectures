{
 "cells": [
  {
   "cell_type": "markdown",
   "metadata": {},
   "source": [
    "# 기본적인 정렬(sort)\n",
    "- 거품, 삽입, 선택 정렬"
   ]
  },
  {
   "cell_type": "markdown",
   "metadata": {},
   "source": [
    "# 거품 정렬(Bubble Sort)"
   ]
  },
  {
   "cell_type": "code",
   "execution_count": 98,
   "metadata": {},
   "outputs": [],
   "source": [
    "import random\n",
    "\n",
    "unsort = [x for x in range(1, 1001)]\n",
    "random.shuffle(unsort)\n",
    "# unsort"
   ]
  },
  {
   "cell_type": "code",
   "execution_count": null,
   "metadata": {},
   "outputs": [],
   "source": [
    "print(unsort)\n",
    "size = len(unsort)\n",
    "\n",
    "for _ in range(size-1):\n",
    "    for i in range(size-1):\n",
    "        # print('{}: {}, {}: {}'.format(i, unsort[i], i+1, unsort[i+1]))\n",
    "        if unsort[i+1] < unsort[i]:\n",
    "            unsort[i], unsort[i+1] = unsort[i+1], unsort[i]\n",
    "        # print('{}: {}, {}: {}'.format(i, unsort[i], i+1, unsort[i+1]))\n",
    "\n",
    "print(unsort)"
   ]
  },
  {
   "cell_type": "code",
   "execution_count": 102,
   "metadata": {},
   "outputs": [
    {
     "name": "stdout",
     "output_type": "stream",
     "text": [
      "5\n",
      "5\n",
      "4\n",
      "3\n",
      "2\n",
      "1\n",
      "1\n",
      "2\n",
      "3\n",
      "4\n",
      "5\n"
     ]
    }
   ],
   "source": [
    "n = int(input())\n",
    "\n",
    "list_ = []\n",
    "for _ in range(n):\n",
    "    list_.append(int(input()))\n",
    "\n",
    "for _ in range(n-1):\n",
    "    for i in range(n-1):\n",
    "        if list_[i+1] < list_[i]:\n",
    "            list_[i], list_[i+1] = list_[i+1], list_[i]\n",
    "\n",
    "for item in list_:\n",
    "    print(item)"
   ]
  },
  {
   "cell_type": "markdown",
   "metadata": {},
   "source": [
    "# 삽입정렬\n",
    "- 인플레이스 방식은 조금 어려우니 일단 정렬된 리스트를 따로 구해봅시다. "
   ]
  },
  {
   "cell_type": "code",
   "execution_count": 47,
   "metadata": {},
   "outputs": [
    {
     "data": {
      "text/plain": [
       "[1, 5, 2, 3, 4]"
      ]
     },
     "execution_count": 47,
     "metadata": {},
     "output_type": "execute_result"
    }
   ],
   "source": [
    "import random\n",
    "\n",
    "unsort = [x for x in range(1, 6)]\n",
    "random.shuffle(unsort)\n",
    "unsort"
   ]
  },
  {
   "cell_type": "code",
   "execution_count": 48,
   "metadata": {},
   "outputs": [
    {
     "name": "stdout",
     "output_type": "stream",
     "text": [
      "[] [1, 5, 2, 3, 4]\n",
      "1\n",
      "[1]\n",
      "5\n",
      "[1, 5]\n",
      "2\n",
      "[1, 2, 5]\n",
      "3\n",
      "[1, 2, 3, 5]\n",
      "4\n",
      "[1, 2, 3, 4, 5]\n"
     ]
    }
   ],
   "source": [
    "sort = []\n",
    "print(sort, unsort)\n",
    "\n",
    "for pick in unsort:\n",
    "    print(pick)\n",
    "    i = 0\n",
    "    for i in range(len(sort)):\n",
    "        if sort[i] > pick:\n",
    "            sort.insert(i, pick)\n",
    "            break\n",
    "    \n",
    "    if i >= len(sort)-1:\n",
    "        # sort += [pick]\n",
    "        sort.append(pick)\n",
    "    print(sort)"
   ]
  },
  {
   "cell_type": "markdown",
   "metadata": {},
   "source": [
    "## in-place 형태로도 구현해 봅시다 "
   ]
  },
  {
   "cell_type": "code",
   "execution_count": 103,
   "metadata": {},
   "outputs": [
    {
     "data": {
      "text/plain": [
       "[1, 5, 2, 4, 3]"
      ]
     },
     "execution_count": 103,
     "metadata": {},
     "output_type": "execute_result"
    }
   ],
   "source": [
    "import random\n",
    "\n",
    "unsort = [x for x in range(1, 6)]\n",
    "random.shuffle(unsort)\n",
    "unsort"
   ]
  },
  {
   "cell_type": "code",
   "execution_count": 104,
   "metadata": {},
   "outputs": [
    {
     "name": "stdout",
     "output_type": "stream",
     "text": [
      "[1, 5, 2, 4, 3]\n",
      "[1, 5, 2, 4, 3]\n",
      "[1, 2, 5, 4, 3]\n",
      "[1, 2, 4, 5, 3]\n",
      "[1, 2, 3, 4, 5]\n"
     ]
    }
   ],
   "source": [
    "size = len(unsort)\n",
    "for i in range(size):\n",
    "    for j in range(i):\n",
    "        if unsort[i] < unsort[j]:\n",
    "            # tmp = unsort[i]\n",
    "            # unsort.remove(unsort[i])\n",
    "            # unsort.insert(j, tmp)\n",
    "            unsort.insert(j, unsort.pop(i))\n",
    "            break\n",
    "    print(unsort)"
   ]
  },
  {
   "cell_type": "markdown",
   "metadata": {},
   "source": [
    "# 선택정렬\n",
    "1. 주어진 리스트에서 최소값을 찾는다. \n",
    "2. 최소값을 리스트의 맨 앞의 값과 교체한다. \n",
    "3. 맨 앞을 제외한 나머지 원소를 이용해 같은 작업을 반복한다. "
   ]
  },
  {
   "cell_type": "code",
   "execution_count": 61,
   "metadata": {},
   "outputs": [
    {
     "data": {
      "text/plain": [
       "[2, 5, 3, 4, 1]"
      ]
     },
     "execution_count": 61,
     "metadata": {},
     "output_type": "execute_result"
    }
   ],
   "source": [
    "import random\n",
    "\n",
    "sort = []\n",
    "unsort = [x for x in range(1, 6)]\n",
    "random.shuffle(unsort)\n",
    "unsort"
   ]
  },
  {
   "cell_type": "markdown",
   "metadata": {},
   "source": [
    "## 빈 리스트를 만들어서 쉽게 접근해보자. "
   ]
  },
  {
   "cell_type": "code",
   "execution_count": 38,
   "metadata": {},
   "outputs": [
    {
     "name": "stdout",
     "output_type": "stream",
     "text": [
      "[1, 2] [3, 5, 4]\n"
     ]
    }
   ],
   "source": [
    "min_ = min(unsort)\n",
    "sort.append(min_)\n",
    "unsort.remove(min_)\n",
    "\n",
    "print(sort, unsort)"
   ]
  },
  {
   "cell_type": "code",
   "execution_count": 42,
   "metadata": {},
   "outputs": [
    {
     "name": "stdout",
     "output_type": "stream",
     "text": [
      "[1, 2, 3, 4, 5]\n"
     ]
    }
   ],
   "source": [
    "size = len(unsort)\n",
    "\n",
    "for _ in range(size):\n",
    "    min_ = min(unsort)\n",
    "    sort.append(min_)\n",
    "    unsort.remove(min_)\n",
    "print(sort)"
   ]
  },
  {
   "cell_type": "markdown",
   "metadata": {},
   "source": [
    "## in-place 형식으로도 만들어보자. "
   ]
  },
  {
   "cell_type": "code",
   "execution_count": 56,
   "metadata": {},
   "outputs": [
    {
     "name": "stdout",
     "output_type": "stream",
     "text": [
      "[1, 2, 4, 5, 3]\n",
      "[1, 2, 4, 5, 3]\n",
      "[1, 2, 4, 5, 3]\n",
      "\n",
      "1 \n",
      "1 2 \n",
      "1 2 4 \n",
      "1 2 4 5 \n",
      "\n",
      "1 2 4 5 3 \n",
      "2 4 5 3 \n",
      "4 5 3 \n",
      "5 3 \n",
      "3 \n"
     ]
    }
   ],
   "source": [
    "def minIndex(list_, start, end):\n",
    "    min_ = list_[start] # 리스트내의 임의의 값을 최소값으로 지정\n",
    "    min_idx = start # 리스트내의 임의의 값의 인덱스를 저장\n",
    "    \n",
    "    for idx in range(start+1, end):\n",
    "        if list_[idx] < min_:\n",
    "            min_ = list_[idx]\n",
    "            min_idx = idx # 리스트내의 최소값이 아닌 최소값의 인덱스를 찾는다. \n",
    "    return min_idx\n",
    "\n",
    "size = len(unsort)\n",
    "print(unsort)\n",
    "\n",
    "minIdx = minIndex(unsort, 0, size)\n",
    "unsort[0], unsort[minIdx] = unsort[minIdx], unsort[0]\n",
    "print(unsort)\n",
    "\n",
    "minIdx = minIndex(unsort, 1, size)\n",
    "unsort[1], unsort[minIdx] = unsort[minIdx], unsort[1]\n",
    "print(unsort)\n",
    "\n",
    "\n",
    "for i in range(size):\n",
    "    # 첫 번째 루프의 i값에 따라서 두번째 루프의 끝나는 범위가 바뀐다. \n",
    "    for j in range(0, i): \n",
    "        print(unsort[j], end=' ')\n",
    "    print()\n",
    "\n",
    "print()\n",
    "for i in range(size):\n",
    "    # 첫 번째 루프의 i값에 따라서 두번째 루프의 시작 범위가 바뀐다. \n",
    "    for j in range(i, size): \n",
    "        print(unsort[j], end=' ')\n",
    "    print()"
   ]
  },
  {
   "cell_type": "code",
   "execution_count": 62,
   "metadata": {},
   "outputs": [
    {
     "name": "stdout",
     "output_type": "stream",
     "text": [
      "[2, 5, 3, 4, 1]\n",
      "[1, 2, 3, 4, 5]\n"
     ]
    }
   ],
   "source": [
    "def getMinIndex(list_, start, end):\n",
    "    min_ = list_[start] # 리스트내의 임의의 값을 최소값으로 지정\n",
    "    min_idx = start # 리스트내의 임의의 값의 인덱스를 저장\n",
    "    \n",
    "    for idx in range(start, end):\n",
    "        if list_[idx] < min_:\n",
    "            min_ = list_[idx]\n",
    "            min_idx = idx # 리스트내의 최소값이 아닌 최소값의 인덱스를 찾는다. \n",
    "    return min_idx\n",
    "\n",
    "print(unsort)\n",
    "size = len(unsort)\n",
    "for i in range(size):\n",
    "    # 첫 번째 루프의 i값에 따라서 두번째 루프의 시작 범위가 바뀐다. \n",
    "    # for j in range(i, size)\n",
    "    min_idx = getMinIndex(unsort, i, size)\n",
    "    unsort[i], unsort[min_idx] = unsort[min_idx], unsort[i]\n",
    "print(unsort)"
   ]
  },
  {
   "cell_type": "code",
   "execution_count": 58,
   "metadata": {},
   "outputs": [
    {
     "data": {
      "text/plain": [
       "[5, 4, 1, 3, 2]"
      ]
     },
     "execution_count": 58,
     "metadata": {},
     "output_type": "execute_result"
    }
   ],
   "source": [
    "unsort"
   ]
  }
 ],
 "metadata": {
  "kernelspec": {
   "display_name": "Python 3",
   "language": "python",
   "name": "python3"
  },
  "language_info": {
   "codemirror_mode": {
    "name": "ipython",
    "version": 3
   },
   "file_extension": ".py",
   "mimetype": "text/x-python",
   "name": "python",
   "nbconvert_exporter": "python",
   "pygments_lexer": "ipython3",
   "version": "3.7.4"
  }
 },
 "nbformat": 4,
 "nbformat_minor": 2
}
