{
 "cells": [
  {
   "cell_type": "markdown",
   "metadata": {},
   "source": [
    "# 분해합\n",
    "- 1 부터 1씩 증가하면서 주어진 수까지 모든 분해합을 구하는 방법 \n",
    "- 1 부터 주어진 수까지 모든 순열을 찾아서 분해합을 구하는 방법\n",
    "- 모든 가능한 경우의 수에 대해서 전부 찾아보는 방법"
   ]
  },
  {
   "cell_type": "code",
   "execution_count": 23,
   "metadata": {},
   "outputs": [
    {
     "name": "stdout",
     "output_type": "stream",
     "text": [
      "198\n"
     ]
    }
   ],
   "source": [
    "# 자릿수 구하기와 동일한 방법(문자열, 숫자)\n",
    "def 분해합(number):\n",
    "    add = number\n",
    "    while number != 0:\n",
    "        add = add + (number % 10)\n",
    "        number = number // 10\n",
    "    return add\n",
    "\n",
    "# 1부터 주어진 수까지 모든 수의 분해합을 구하면 된다. \n",
    "\n",
    "n = 216\n",
    "답 = 0\n",
    "\n",
    "for 생성자 in range(1, n+1):\n",
    "    ret = 분해합(생성자)\n",
    "    if ret == n: # 분해합을 한 수와 주어진 수가 같을 때의\n",
    "        답 = 생성자 # 생성자가 우리가 찾으려고 하는 답이다. \n",
    "        break\n",
    "        \n",
    "print(답)"
   ]
  }
 ],
 "metadata": {
  "kernelspec": {
   "display_name": "Python 3",
   "language": "python",
   "name": "python3"
  },
  "language_info": {
   "codemirror_mode": {
    "name": "ipython",
    "version": 3
   },
   "file_extension": ".py",
   "mimetype": "text/x-python",
   "name": "python",
   "nbconvert_exporter": "python",
   "pygments_lexer": "ipython3",
   "version": "3.8.3"
  }
 },
 "nbformat": 4,
 "nbformat_minor": 4
}
