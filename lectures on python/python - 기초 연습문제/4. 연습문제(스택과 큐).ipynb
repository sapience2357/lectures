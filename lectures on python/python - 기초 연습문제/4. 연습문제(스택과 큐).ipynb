{
 "cells": [
  {
   "cell_type": "markdown",
   "metadata": {},
   "source": [
    "# Level 스택 문제 풀이"
   ]
  },
  {
   "cell_type": "markdown",
   "metadata": {},
   "source": [
    "입력 예시 1\n",
    "```\n",
    "3\n",
    "0\n",
    "10\n",
    "0\n",
    "20\n",
    "0\n",
    "30\n",
    "```"
   ]
  },
  {
   "cell_type": "markdown",
   "metadata": {},
   "source": [
    "입력예시 2\n",
    "\n",
    "```\n",
    "6\n",
    "1\n",
    "1\n",
    "1\n",
    "2\n",
    "```"
   ]
  },
  {
   "cell_type": "code",
   "execution_count": null,
   "metadata": {},
   "outputs": [],
   "source": [
    "# 제일 먼저 첫번째 입력으로부터 입력 횟수를 입력 받습니다. \n",
    "n = int(input())\n",
    "\n",
    "stack = []\n",
    "for _ in range(n):\n",
    "    cmd = int(input())\n",
    "    if cmd == 0: # push\n",
    "        value = int(input()) # push이면 데이터를 추가로 입력\n",
    "        if len(stack) < 10: # 스택의 크기가 10보다 크면 더 이상 데이터를 입력 X\n",
    "            stack.append(value)\n",
    "        else:\n",
    "            print('overflow')\n",
    "    elif cmd == 1: # pop\n",
    "        if not len(stack) == 0:# 스택의 크기가 0이 아니면 즉, 스택에 데이터가 있으면 꺼내온다\n",
    "            stack.pop(-1)\n",
    "        else:\n",
    "            print('underflow')\n",
    "    else: # exit\n",
    "        break\n",
    "\n",
    "for data in stack:\n",
    "    print(data, end= ' ')"
   ]
  },
  {
   "cell_type": "markdown",
   "metadata": {},
   "source": [
    "# 스택을 이용한 괄호 짝 맞추기"
   ]
  },
  {
   "cell_type": "markdown",
   "metadata": {},
   "source": [
    "입력 예시\n",
    "```\n",
    "6\n",
    "(())())\n",
    "(((()())()\n",
    "(()())((()))\n",
    "((()()(()))(((())))()\n",
    "()()()()(()()())()\n",
    "(()((())()(\n",
    "```"
   ]
  },
  {
   "cell_type": "code",
   "execution_count": null,
   "metadata": {},
   "outputs": [],
   "source": [
    "n = int(input()) # 첫번째 입력으로부터 입력 횟수를 입력받는다.\n",
    "\n",
    "stack = []\n",
    "flag = 0\n",
    "\n",
    "for _ in range(n):\n",
    "    line = input() # 괄호 짝을 체크할 라인을 읽어 옵니다. \n",
    "    for braket in line:\n",
    "        if braket == '(': # 여는 괄호가 입력되면 스택에 넣어줍니다. \n",
    "            stack.append(braket)\n",
    "        else: \n",
    "            if not len(stack) == 0: # 닫는 괄호가 입력되면 스택에서 꺼내옵니다. \n",
    "                stack.pop(-1)\n",
    "            else:\n",
    "                flag = 1 # 스택에 자료가 없는 경우(underflow)는 플래그 변수를 통해 체크 해줍니다.\n",
    "                break\n",
    "                \n",
    "    # 스택이 비어있고, 언더플로우가 없었다면 짝이 맞는 겁니다. \n",
    "    if len(stack) == 0 and flag == 0: print(\"짝이 맞습니다\")\n",
    "    # 스택이 비어있지 않거나, 비어 있었다고 해도 언더플로우가 있었으면 짝이 안맞는 겁니다. \n",
    "    elif not len(stack) == 0 or flag == 1: print(\"짝이 맞지 않습니다.\")\n",
    "    # 다음 라인을 위해 스택과 플래그를 초기화 해줍니다.\n",
    "    stack = []\n",
    "    flag = 0\n",
    "    "
   ]
  },
  {
   "cell_type": "markdown",
   "metadata": {},
   "source": [
    "# 스택 문제 풀이"
   ]
  },
  {
   "cell_type": "code",
   "execution_count": null,
   "metadata": {},
   "outputs": [],
   "source": [
    "# 제일 먼저 첫번째 입력으로부터 입력 횟수를 입력 받습니다. \n",
    "n = int(input())\n",
    "\n",
    "stack = []\n",
    "for _ in range(n):\n",
    "    cmd = int(input())\n",
    "    if cmd == 0: # push\n",
    "        value = int(input()) # push이면 데이터를 추가로 입력\n",
    "        if len(stack) < 10: # 스택의 크기가 10보다 크면 더 이상 데이터를 입력 X\n",
    "            stack.append(value)\n",
    "        else:\n",
    "            print('overflow')\n",
    "    elif cmd == 1: # pop\n",
    "        if not len(stack) == 0:\n",
    "            stack.pop(-1)\n",
    "        else:\n",
    "            print('underflow')\n",
    "    else: # exit\n",
    "        break\n",
    "\n",
    "for data in stack:\n",
    "    print(data, end= ' ')"
   ]
  },
  {
   "cell_type": "markdown",
   "metadata": {},
   "source": [
    "# 스택 문제풀이(괄호 짝 맞추기)"
   ]
  },
  {
   "cell_type": "code",
   "execution_count": null,
   "metadata": {},
   "outputs": [],
   "source": [
    "stack = []\n",
    "flag = True\n",
    "\n",
    "line = input() # 괄호 짝을 체크할 라인을 읽어 옵니다. \n",
    "\n",
    "# 읽어들인 라인으로부터 괄호 문자를 하나씩 얻어온다. \n",
    "for braket in line:\n",
    "    print('current braket: {}'.format(braket))\n",
    "    # 열려있는 괄호는 전부 스택에 저장(괄호의 종류는 중요하지 않습니다)\n",
    "    if braket == '(' or braket == '{' or braket == '[':\n",
    "        stack.append(braket)\n",
    "        print('push {}'.format(braket))\n",
    "    else: # 닫힌 괄호들이 들어오는 경우\n",
    "        if not len(stack) == 0: # 스택이 비어있지 않다면\n",
    "            print('len: {}, pop: {}'.format(len(stack), stack[-1]))\n",
    "            # 스택에서 꺼낸 데이터가 닫힌 괄호와 종류가 같은 괄호인지 확인\n",
    "            if braket == ')': \n",
    "                if not (stack.pop(-1) == '('):\n",
    "                    flag = False\n",
    "                    print('flag: {}'.format(flag))\n",
    "                    break\n",
    "            elif braket == '}': \n",
    "                if not (stack.pop(-1) == '{'):\n",
    "                    flag = False\n",
    "                    print('flag: {}'.format(flag))\n",
    "                    break\n",
    "            elif braket == ']': \n",
    "                if not (stack.pop(-1) == '['):\n",
    "                    flag = False\n",
    "                    print('flag: {}'.format(flag))\n",
    "                    break\n",
    "        else: # 스택이 비어 있다면\n",
    "            # 스택에 자료가 없는 경우(underflow)는 플래그 변수를 통해 체크 해줍니다.\n",
    "            print('len: {}, pop: {}'.format(len(stack), stack[-1]))\n",
    "            flag = False \n",
    "            print('flag: {}'.format(flag))\n",
    "            break\n",
    "\n",
    "print(flag)\n"
   ]
  },
  {
   "cell_type": "markdown",
   "metadata": {},
   "source": [
    "# 큐 문제풀이"
   ]
  },
  {
   "cell_type": "code",
   "execution_count": null,
   "metadata": {},
   "outputs": [],
   "source": [
    "n = int(input()) # 입출력의 횟수를 입력 받습니다. \n",
    "\n",
    "# 자료를 입력받을 비어있는 큐를 하나 마련해줍니다. \n",
    "# 말은 큐 이지만, 실제로는 그냥 리스트 입니다. \n",
    "queue = []\n",
    "\n",
    "#입력받은 입출력의 횟수만큼 반복하면서 명령을 처리해 줍니다. \n",
    "for _ in range(n):\n",
    "\tcmd = input()\n",
    "\tif cmd == 'e':\n",
    "\t\tvalue = int(input()) # 저장할 자료를 한 번더 입력 받습니다. \n",
    "\t\tif len(queue) < 10: # 큐의 크기가 9를 넘어가지 않으면\n",
    "\t\t\t# queue.append(value) # 큐에 자료를 넣어줍니다. \n",
    "\t\t\tqueue.insert(0, value)\n",
    "\t\telse:\n",
    "\t\t\tprint('overflow') # 그렇지 않으면 큐에는 더 이상 자료가 들어가지 않습니다. \n",
    "\telif cmd == 'd':\n",
    "\t\tif not len(queue) == 0: # 큐에 자료가 있으면 \n",
    "\t\t\tqueue.pop(-1) # 큐에서 자료를 빼옵니다.\n",
    "\t\telse: # 큐에 자료가 없으면\n",
    "\t\t\tprint('underflow')\n",
    "\telse:\n",
    "\t\tbreak\n",
    "\t\t\n",
    "for _ in range(len(queue)):\n",
    "\tsize = len(queue)\n",
    "\tif size > 1:\n",
    "\t\tprint(queue.pop(-1), end=' ')\n",
    "\telse:\n",
    "\t\tprint(queue.pop(-1), end='')"
   ]
  },
  {
   "cell_type": "markdown",
   "metadata": {},
   "source": [
    "요세푸스 문제\n",
    "- 출처: 백준 알고리즘 사이트"
   ]
  },
  {
   "cell_type": "code",
   "execution_count": 16,
   "metadata": {},
   "outputs": [
    {
     "name": "stdout",
     "output_type": "stream",
     "text": [
      "7 3\n",
      "[4, 5, 6, 1, 2, 7]\n",
      "[3]\n"
     ]
    }
   ],
   "source": [
    "n, k = input().split()\n",
    "n, k = int(n), int(k)\n",
    "\n",
    "queue = [x for x in range(1, n+1)]\n",
    "seq = []\n",
    "\n",
    "for _ in range(n):\n",
    "    for _ in range(k-1):\n",
    "        item = queue.pop(0)\n",
    "        queue.insert(-1, item)\n",
    "        # queue.append(item)\n",
    "    seq += [queue.pop(0)]\n",
    "    break\n",
    "\n",
    "print(queue)\n",
    "print(seq)"
   ]
  },
  {
   "cell_type": "markdown",
   "metadata": {},
   "source": [
    "# 카드2 문제풀이\n",
    "- 파이썬의 리스트를 이용한 큐 구현"
   ]
  },
  {
   "cell_type": "code",
   "execution_count": 42,
   "metadata": {},
   "outputs": [
    {
     "ename": "KeyboardInterrupt",
     "evalue": "",
     "output_type": "error",
     "traceback": [
      "\u001b[0;31m---------------------------------------------------------------------------\u001b[0m",
      "\u001b[0;31mKeyboardInterrupt\u001b[0m                         Traceback (most recent call last)",
      "\u001b[0;32m<ipython-input-42-e514dd58ace3>\u001b[0m in \u001b[0;36m<module>\u001b[0;34m\u001b[0m\n\u001b[1;32m      6\u001b[0m \u001b[0;34m\u001b[0m\u001b[0m\n\u001b[1;32m      7\u001b[0m \u001b[0;32mfor\u001b[0m \u001b[0m_\u001b[0m \u001b[0;32min\u001b[0m \u001b[0mrange\u001b[0m\u001b[0;34m(\u001b[0m\u001b[0mlen\u001b[0m\u001b[0;34m(\u001b[0m\u001b[0mqueue\u001b[0m\u001b[0;34m)\u001b[0m\u001b[0;34m-\u001b[0m\u001b[0;36m1\u001b[0m\u001b[0;34m)\u001b[0m\u001b[0;34m:\u001b[0m\u001b[0;34m\u001b[0m\u001b[0;34m\u001b[0m\u001b[0m\n\u001b[0;32m----> 8\u001b[0;31m     \u001b[0mqueue\u001b[0m\u001b[0;34m.\u001b[0m\u001b[0mpop\u001b[0m\u001b[0;34m(\u001b[0m\u001b[0;36m0\u001b[0m\u001b[0;34m)\u001b[0m\u001b[0;34m\u001b[0m\u001b[0;34m\u001b[0m\u001b[0m\n\u001b[0m\u001b[1;32m      9\u001b[0m     \u001b[0mqueue\u001b[0m\u001b[0;34m.\u001b[0m\u001b[0mappend\u001b[0m\u001b[0;34m(\u001b[0m \u001b[0mqueue\u001b[0m\u001b[0;34m.\u001b[0m\u001b[0mpop\u001b[0m\u001b[0;34m(\u001b[0m\u001b[0;36m0\u001b[0m\u001b[0;34m)\u001b[0m\u001b[0;34m)\u001b[0m\u001b[0;34m\u001b[0m\u001b[0;34m\u001b[0m\u001b[0m\n\u001b[1;32m     10\u001b[0m \u001b[0;34m\u001b[0m\u001b[0m\n",
      "\u001b[0;31mKeyboardInterrupt\u001b[0m: "
     ]
    }
   ],
   "source": [
    "# n = int(input())\n",
    "\n",
    "n = 500000\n",
    "\n",
    "queue = [x for x in range(1, n+1)]\n",
    "\n",
    "for _ in range(len(queue)-1):\n",
    "    queue.pop(0)\n",
    "    queue.append( queue.pop(0))\n",
    "\n",
    "print(queue.pop(0))"
   ]
  },
  {
   "cell_type": "markdown",
   "metadata": {},
   "source": [
    "# 카드2 문제풀이\n",
    "- 큐 라이브러리 이용"
   ]
  },
  {
   "cell_type": "code",
   "execution_count": 45,
   "metadata": {},
   "outputs": [
    {
     "name": "stdout",
     "output_type": "stream",
     "text": [
      "475713\n"
     ]
    }
   ],
   "source": [
    "import queue\n",
    "\n",
    "# n = int(input())\n",
    "\n",
    "n = 500000\n",
    "\n",
    "# queue = [x for x in range(1, n+1)]\n",
    "\n",
    "queue = queue.Queue()\n",
    "\n",
    "for i in range(1, n + 1):\n",
    "    queue.put(i)\n",
    "\n",
    "for _ in range(queue.qsize()-1):\n",
    "    queue.get()\n",
    "    queue.put(queue.get())\n",
    "\n",
    "print(queue.get())"
   ]
  },
  {
   "cell_type": "markdown",
   "metadata": {},
   "source": [
    "# 카드2 문제풀이\n",
    "- 컬렉션 라이브러리 사용"
   ]
  },
  {
   "cell_type": "code",
   "execution_count": 48,
   "metadata": {},
   "outputs": [
    {
     "name": "stdout",
     "output_type": "stream",
     "text": [
      "475712\n"
     ]
    }
   ],
   "source": [
    "import collections\n",
    "\n",
    "# n = int(input())\n",
    "\n",
    "n = 500000\n",
    "\n",
    "# queue = [x for x in range(1, n+1)]\n",
    "\n",
    "queue = collections.deque()\n",
    "\n",
    "for i in range(1, n + 1):\n",
    "    queue.append(i)\n",
    "\n",
    "for _ in range(len(queue)-1):\n",
    "    queue.popleft()\n",
    "    queue.append( queue.popleft() )\n",
    "print(queue.popleft())"
   ]
  }
 ],
 "metadata": {
  "kernelspec": {
   "display_name": "Python 3",
   "language": "python",
   "name": "python3"
  },
  "language_info": {
   "codemirror_mode": {
    "name": "ipython",
    "version": 3
   },
   "file_extension": ".py",
   "mimetype": "text/x-python",
   "name": "python",
   "nbconvert_exporter": "python",
   "pygments_lexer": "ipython3",
   "version": "3.8.3"
  }
 },
 "nbformat": 4,
 "nbformat_minor": 4
}
