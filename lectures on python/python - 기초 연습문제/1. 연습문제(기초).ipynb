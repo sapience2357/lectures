{
 "cells": [
  {
   "cell_type": "markdown",
   "metadata": {},
   "source": [
    "# 유클리드 호제법\n",
    "\n",
    "## 두 수의 최대공약수(GCD)를 구하는 과정\n",
    "\n",
    "1. a, b가 주어졌을 때, b가 a보다 크면 b의 값을 a로, a의 값을 b로 지정한다. \n",
    "2. a를 b로 나눈 나머지를 n으로 지정한다.\n",
    "3. n이 0이면 b가 최대공약수이다. (종료)\n",
    "4. n이 0이 아니라면, a의 값을 b로, b의 값을 n로 지정하고, 2번으로 돌아간다. \n",
    "\n"
   ]
  },
  {
   "cell_type": "code",
   "execution_count": null,
   "metadata": {},
   "outputs": [],
   "source": [
    "# a = 1234\n",
    "# b = 123\n",
    "# n = 0\n",
    "a, b, n = 123, 1234, 0\n",
    "\n",
    "# 1). a, b가 주어졌을 때, b가 a보다 크면 b의 값을 a로, a의 값을 b로 지정한다.\n",
    "if b > a:\n",
    "    a, b = b, a\n",
    "\n",
    "while True:\n",
    "    # 2). a를 b로 나눈 나머지를 n으로 지정한다.\n",
    "    n = a % b\n",
    "    \n",
    "    # 3). n이 0이면 b가 최대공약수이다. (종료)\n",
    "    if n == 0:\n",
    "        break\n",
    "        \n",
    "    # 4). n이 0이 아니라면, a의 값을 b로, b의 값을 n로 지정하고, 2번으로 돌아간다.\n",
    "    a, b = b, n\n",
    "    \n",
    "print(b)"
   ]
  },
  {
   "cell_type": "markdown",
   "metadata": {},
   "source": [
    "# 연습문제 \n",
    "\n",
    "## 윤년 구하기!\n",
    "\n",
    "1. 연도가 4로 나누어 떨어지면 윤년이다. \n",
    "2. 연도가 4와 100으로 나누어 떨어지면 평년이다. \n",
    "3. 연도가 4, 100, 400으로 나누어 떨어지면 윤년이다. "
   ]
  },
  {
   "cell_type": "code",
   "execution_count": null,
   "metadata": {},
   "outputs": [],
   "source": [
    "year = 1996\n",
    "\n",
    "if not (year % 4) == 0:\n",
    "    print('평년 입니다')\n",
    "elif (year % 100) == 0:\n",
    "    print('평년 입니다')\n",
    "elif not (year % 400) == 0:\n",
    "    print('평년 입니다')\n",
    "else:\n",
    "    print('윤년 입니다')"
   ]
  },
  {
   "cell_type": "markdown",
   "metadata": {},
   "source": [
    "# 연습문제(총합 구하기)\n",
    "\n",
    "- n이 주어졌을 때, 1부터 n까지 합을 구하는 프로그램을 작성하시오.\n"
   ]
  },
  {
   "cell_type": "code",
   "execution_count": null,
   "metadata": {},
   "outputs": [],
   "source": [
    "n = 1000\n",
    "합 = 0\n",
    "for i in range(1, n+1):\n",
    "    합 = 합 + i\n",
    "\n",
    "print(합)"
   ]
  },
  {
   "cell_type": "markdown",
   "metadata": {},
   "source": [
    "# 연습문제(power)\n",
    "\n",
    "- n이 주어졌을 때, 2^n을 구하는 프로그램을 작성하시오.\n"
   ]
  },
  {
   "cell_type": "code",
   "execution_count": null,
   "metadata": {},
   "outputs": [],
   "source": [
    "n = 8\n",
    "power = 1\n",
    "\n",
    "for _ in range(n):\n",
    "    print(_)\n",
    "    # power *= 2\n",
    "    power = power * 2\n",
    "\n",
    "#print(power)\n",
    "    "
   ]
  },
  {
   "cell_type": "markdown",
   "metadata": {},
   "source": [
    "# 반복문과 조건문을 잘 다뤄보자\n",
    "- 제어문들은 거의 모든 언어에서 기본적인 문법으로 사용이 되고, \n",
    "- 문제를 풀어가는데 있어서 가장 중요한 도구중 하나이다. \n",
    "- 이러한 제어문을 익히는 가장 유일한 방법은 많이 사용해보는것 외에는 없다. \n",
    "- 이제부터 다양한 예제를 통해서 제어문을 다루는 여러가지 방법으로 살펴볼 것이다. "
   ]
  },
  {
   "cell_type": "markdown",
   "metadata": {},
   "source": [
    "# x 보다 작은 수 모두 출력하기\n",
    "\n",
    "- 주어진 리스트에서 x보다 작은 수를 모두 출력하시면 됩니다. \n",
    "\n",
    "```\n",
    "    x = 5\n",
    "    [ 1, 10, 4, 9, 2, 3, 8, 5, 7, 6 ]\n",
    "```\n",
    "\n",
    "- x는 임의의 수로 고정하여 사용하도록 한다. \n",
    "- 파이썬 에서는 for loop를 이용하면 리스트를 매우 쉽게 다룰 수 있다. "
   ]
  },
  {
   "cell_type": "code",
   "execution_count": null,
   "metadata": {},
   "outputs": [],
   "source": [
    "lists = [1, 10, 4, 9, 2, 3, 8, 5, 7, 6]\n",
    "x = 5\n",
    "\n",
    "for i in lists:\n",
    "    if i < x:\n",
    "        print(i)\n"
   ]
  },
  {
   "cell_type": "markdown",
   "metadata": {},
   "source": [
    "# 주어진 리스트의 원소를 새롭게 고치는 프로그램을 만들어 봅시다. \n",
    "\n",
    "\n",
    "```\n",
    "    [10, 20, 30]\n",
    "    max_ = 30\n",
    "    \n",
    "    ex). 첫번째 원소: 10\n",
    "    => 10/max_ * 100 => 10/30 * 100 = 33.33333333\n",
    "```\n",
    "\n",
    "- 첫 번째로 가장 큰 값을 구한 후, 예와에서 처럼 각각의 원소에 동일한 연산을 해준다. \n",
    "- 새로 계산된 값을 원래 원소가 있던 위치에 새로 넣어준다. "
   ]
  },
  {
   "cell_type": "code",
   "execution_count": null,
   "metadata": {},
   "outputs": [],
   "source": [
    "lists = [40, 80, 60]\n",
    "# 파이썬은 리스트 내의 원소들에서 가장 큰 값을 구할 수 있는 내장 함수를 제공하고 있다. \n",
    "# max_ = max(lists) !!! 추천\n",
    "\n",
    "# 파이썬에서 리스트내의 가장 큰 값을 구하는 로직을 직접 만들 필요는 없다. \n",
    "# 처음이니깐 어떤 방식으로 구하는지만 확인해보자. \n",
    "\n",
    "max_ = 0\n",
    "# 1). max_ < 40: max_ = 40\n",
    "# 2). max_ < 80: max_ = 80\n",
    "# 3). max_ < 60: skip\n",
    "\n",
    "for element in lists:\n",
    "    if max_ < element:\n",
    "        max_ = element\n",
    "# print(max_) = 80\n",
    "\n",
    "print(lists)\n",
    "for i in range( len(lists) ):\n",
    "    # print(i)\n",
    "    # print( lists[i] )\n",
    "    lists[i] = lists[i] / max_ * 100\n",
    "print(lists)"
   ]
  },
  {
   "cell_type": "markdown",
   "metadata": {},
   "source": [
    "# 주어진 문자열의 총합을 구해봅시다.\n",
    "\n",
    "```\n",
    "    '29384752834'\n",
    "```\n",
    "\n",
    "- 문자열은 한자리릐 정수로만 이루어져 있다고 가정한다. "
   ]
  },
  {
   "cell_type": "code",
   "execution_count": null,
   "metadata": {},
   "outputs": [],
   "source": [
    "string = '29384752834'\n",
    "\n",
    "total = 0\n",
    "for ch in string:\n",
    "    #print(ch)\n",
    "    total += int(ch)\n",
    "print(total)"
   ]
  },
  {
   "cell_type": "markdown",
   "metadata": {},
   "source": [
    "# 단어의 갯수를 세어봅시다. \n",
    "\n",
    "```\n",
    "'The Curious Case of Benjamin Button'\n",
    "```\n",
    "\n",
    "- 단어의 구분은 화이트 스페이스(공백, 탭, 뉴라인)으로 할 수 있다. \n",
    "- 마지막 문자열의 끝에 있는 뉴라인은 지금은 확인이 안되므로, 구해진 단어 갯수에 +1을 해주도록 하자"
   ]
  },
  {
   "cell_type": "code",
   "execution_count": null,
   "metadata": {},
   "outputs": [],
   "source": [
    "string = 'The Curious Case of Benjamin Button'\n",
    "cnt = 0\n",
    "\n",
    "# 단어의 갯수 == 화이트 스페이스의 갯수\n",
    "\n",
    "for ch in string:\n",
    "    if ch == ' ':\n",
    "        cnt += 1\n",
    "\n",
    "print(cnt + 1)"
   ]
  },
  {
   "cell_type": "markdown",
   "metadata": {},
   "source": [
    "# 갯수 세어보기 두 번째\n",
    "\n",
    "```\n",
    "    '1098237489215923874'\n",
    "```\n",
    "\n",
    "- 주어진 문자열에서 0 에서 9까지 각 숫자가 몇번 나왔는지 구해봅시다. \n",
    "- 10개의 원소를 갖는 리스트를 하나 생성하여 각 리스트의 인덱스와 갯수를 구하려는 정수를 매치하면 쉽게 접근이 가능하다. "
   ]
  },
  {
   "cell_type": "code",
   "execution_count": null,
   "metadata": {},
   "outputs": [],
   "source": [
    "string = '1098237489215923874'\n",
    "cnt = [0,0,0,0,0,0,0,0,0,0]\n",
    "\n",
    "for ch in string:\n",
    "    cnt[int(ch)] += 1\n",
    "print(cnt)"
   ]
  },
  {
   "cell_type": "markdown",
   "metadata": {},
   "source": [
    "# 충첩 루프(루프의 루프)\n",
    "\n",
    "```\n",
    "    단 = [ 2, 3, 4, 5, 6, 7, 8, 9 ]\n",
    "    리스트 = [ 1, 2, 3, 4, 5, 6, 7, 8, 9 ]\n",
    "```\n",
    "\n",
    "- 몇개의 루프를 중첩을 하든 제한은 없지만(파이썬은 있을수도...)\n",
    "- 하지만 일반적으로 3개를 초과하여 루프를 작성하는 일은 흔한일이 아니다. \n",
    "- 기본적으로 2개의 루프를 중첨하는 내용까지는 확실히 익혀두도록 하자. \n",
    "- 구구단은 거의 모든 언어에서 중첩된 루프를 설명할 때 사용하는 예제 이기도 하다. \n",
    "- 익숙해지면, 횡으로 출력하는 방법도 고민해 보자. "
   ]
  },
  {
   "cell_type": "code",
   "execution_count": null,
   "metadata": {},
   "outputs": [],
   "source": [
    "n = [2,3,4,5,6,7,8,9]\n",
    "m = [1,2,3,4,5,6,7,8,9]\n",
    "\n",
    "for 단 in n:\n",
    "    # print('단: ' + str(단))\n",
    "    for i in m:\n",
    "        # print('숫자: ' + str(i))\n",
    "        print('{} x {} = {}'.format(단, i, 단*i) )"
   ]
  },
  {
   "cell_type": "markdown",
   "metadata": {},
   "source": [
    "# 이차원 리스트\n",
    "\n",
    "```\n",
    "    [*, *, *]\n",
    "    [*, -, *]\n",
    "    [*, *, *]\n",
    "```"
   ]
  },
  {
   "cell_type": "markdown",
   "metadata": {},
   "source": [
    "# 별찍기"
   ]
  },
  {
   "cell_type": "code",
   "execution_count": 51,
   "metadata": {},
   "outputs": [
    {
     "name": "stdout",
     "output_type": "stream",
     "text": [
      "*\n",
      "**\n",
      "***\n",
      "****\n",
      "*****\n"
     ]
    }
   ],
   "source": [
    "n = 5\n",
    "\n",
    "for i in range(5):\n",
    "    for j in range(i+1):\n",
    "        print('*', end='')\n",
    "    print()"
   ]
  },
  {
   "cell_type": "markdown",
   "metadata": {},
   "source": [
    "# 파이썬에서 이차원 리스트를 만드는 방법 "
   ]
  },
  {
   "cell_type": "markdown",
   "metadata": {},
   "source": [
    "- 일반적인 2차원 리스트 구현 방법"
   ]
  },
  {
   "cell_type": "code",
   "execution_count": 56,
   "metadata": {},
   "outputs": [
    {
     "name": "stdout",
     "output_type": "stream",
     "text": [
      "[[1, 2, 3, 4, 5], [1, 2, 3, 4, 5]]\n",
      "[1, 2, 3, 4, 5]\n",
      "[1, 2, 3, 4, 5]\n"
     ]
    }
   ],
   "source": [
    "list_list_ = [ [1,2,3,4,5] ]\n",
    "list_list_.append([1,2,3,4,5])\n",
    "print(list_)\n",
    "\n",
    "for list_ in list_list_:\n",
    "    print(list_)"
   ]
  },
  {
   "cell_type": "markdown",
   "metadata": {},
   "source": [
    "- 리스트 컴프리헨션을 이용한 방법 "
   ]
  },
  {
   "cell_type": "code",
   "execution_count": 64,
   "metadata": {},
   "outputs": [
    {
     "name": "stdout",
     "output_type": "stream",
     "text": [
      "[0, 1, 2, 3, 4]\n",
      "[0, 1, 2, 3, 4]\n",
      "[0, 1, 2, 3, 4]\n",
      "[0, 1, 2, 3, 4]\n",
      "[0, 1, 2, 3, 4]\n",
      "[0, 1, 2, 3, 4]\n"
     ]
    }
   ],
   "source": [
    "list_ = [x for x in range(5)]\n",
    "print(list_)\n",
    "\n",
    "list_list_ = [ [x for x in range(5) ] for x in range(5)]\n",
    "for list_ in list_list_:\n",
    "    print(list_)"
   ]
  },
  {
   "cell_type": "markdown",
   "metadata": {},
   "source": [
    "# 리스트에 별 채우기"
   ]
  },
  {
   "cell_type": "code",
   "execution_count": 67,
   "metadata": {},
   "outputs": [
    {
     "name": "stdout",
     "output_type": "stream",
     "text": [
      "*\n",
      "**\n",
      "***\n",
      "****\n",
      "*****\n"
     ]
    }
   ],
   "source": [
    "n = 5\n",
    "\n",
    "star_list = [['' for _ in range(n)] for _ in range(n) ]\n",
    "\n",
    "for i in range(n):\n",
    "    for j in range(i+1):\n",
    "        star_list[i][j] = '*'\n",
    "\n",
    "for i in star_list:\n",
    "    print(''.join(i))"
   ]
  },
  {
   "cell_type": "markdown",
   "metadata": {},
   "source": [
    "# 별찍기 - 3"
   ]
  },
  {
   "cell_type": "code",
   "execution_count": 70,
   "metadata": {},
   "outputs": [
    {
     "name": "stdout",
     "output_type": "stream",
     "text": [
      "**********\n",
      "*********\n",
      "********\n",
      "*******\n",
      "******\n",
      "*****\n",
      "****\n",
      "***\n",
      "**\n",
      "*\n"
     ]
    }
   ],
   "source": [
    "n = 10\n",
    "\n",
    "star = [['' for _ in range(n)] for _ in range(n)]\n",
    "\n",
    "for i in range(n):\n",
    "    for j in range(n-i):\n",
    "        star[i][j] = '*'\n",
    "\n",
    "for line in star:\n",
    "    print(''.join(line))"
   ]
  },
  {
   "cell_type": "markdown",
   "metadata": {},
   "source": [
    "# 별찍기 - 2"
   ]
  },
  {
   "cell_type": "code",
   "execution_count": 12,
   "metadata": {},
   "outputs": [
    {
     "name": "stdout",
     "output_type": "stream",
     "text": [
      "         *\n",
      "        **\n",
      "       ***\n",
      "      ****\n",
      "     *****\n",
      "    ******\n",
      "   *******\n",
      "  ********\n",
      " *********\n",
      "**********\n"
     ]
    }
   ],
   "source": [
    "n = 10\n",
    "\n",
    "star = [[' ' for _ in range(n)] for _ in range(n)]\n",
    "\n",
    "for i in range(n):\n",
    "    # for j in range(n-1, n-(i+2), -1):\n",
    "    for j in range(-1, -(i+2), -1):\n",
    "        star[i][j] = '*'\n",
    "\n",
    "for line in star:\n",
    "    print(''.join(line))"
   ]
  },
  {
   "cell_type": "markdown",
   "metadata": {},
   "source": [
    "# 별찍기 - 4"
   ]
  },
  {
   "cell_type": "code",
   "execution_count": 21,
   "metadata": {},
   "outputs": [
    {
     "name": "stdout",
     "output_type": "stream",
     "text": [
      "**********\n",
      " *********\n",
      "  ********\n",
      "   *******\n",
      "    ******\n",
      "     *****\n",
      "      ****\n",
      "       ***\n",
      "        **\n",
      "         *\n"
     ]
    }
   ],
   "source": [
    "n = 10\n",
    "\n",
    "star = [[' ' for _ in range(n)] for _ in range(n)]\n",
    "\n",
    "for i in range(n):\n",
    "    # for j in range(n-1, i-1, -1):\n",
    "    for j in range(-1, -(n+1)+i, -1):\n",
    "        star[i][j] = '*'\n",
    "\n",
    "for line in star:\n",
    "    print(''.join(line))"
   ]
  },
  {
   "cell_type": "markdown",
   "metadata": {},
   "source": [
    "# 별찍기 - 5"
   ]
  },
  {
   "cell_type": "code",
   "execution_count": 47,
   "metadata": {},
   "outputs": [
    {
     "name": "stdout",
     "output_type": "stream",
     "text": [
      "         *\n",
      "        ***\n",
      "       *****\n",
      "      *******\n",
      "     *********\n",
      "    ***********\n",
      "   *************\n",
      "  ***************\n",
      " *****************\n",
      "*******************\n"
     ]
    }
   ],
   "source": [
    "row = 10\n",
    "col = 2 * row - 1\n",
    "star = [['' for _ in range(col)] for _ in range(row)] # 빈문자('')로 초기화\n",
    "\n",
    "# mid = col // 2 + 1 \n",
    "mid = col // 2 # 리스트의 인덱스가 0부터 시작하기 때문에...\n",
    "\n",
    "for i in range(row):\n",
    "    for j in range(mid):\n",
    "        star[i][j] = ' ' # 별을 채우는것 처럼 공백도 같이 채워줘야 함\n",
    "    for j in range(mid-i, (mid-i) + 2 * (i+1) -1):\n",
    "        star[i][j] = '*'\n",
    "\n",
    "for line in star:\n",
    "    print(''.join(line))"
   ]
  },
  {
   "cell_type": "markdown",
   "metadata": {},
   "source": [
    "# 별찍기 - 6\n",
    "\n",
    "- 프린트로 화면에 출력 하는것과 인덱싱은 다릅니다. \n",
    "- 그 차이를 생각하지 못하고, 혼란스러웠던 점 다시 한 번 사과 드리겠습니다. \n",
    "- 이 예제는 리스트에 넣어서 하면 학생들이 너무 어려워 하기에 \n",
    "- 그냥 출력만 하고 반복문 익히는 정도로만 사용하는 예제였는데, \n",
    "- 리스트에 넣는 수업은 너무 오랜만이었어서 저도 잊고 있었습니다, 죄송합니다\n",
    "- 사실 별찍기 - 10번도 5년동안 딱 한번만 했던 수업입니다. \n",
    "- 왠만하면 하지 않는데, 다들 너무 잘 따라와주셔서 오버했네요...\n",
    "- 10번은 더 잘 설명해 보겠습니다. \n",
    "- 자 이제 자세한 설명 나갑니다. 잘 이해가 되었으면 합니다. "
   ]
  },
  {
   "cell_type": "markdown",
   "metadata": {},
   "source": [
    "- n이 5라고 가정했을 때, \n",
    "- 열의 갯수는 9개 이고, 행의 갯수는 5개입니다. \n",
    "- 또한, 각 라인의 별을 찍는 패턴은 다음과 같습니다. \n",
    "\n",
    "```\n",
    "*********    2*5-1=9    2*5-1=9\n",
    " *******     2*5-3=7    2*4-1=7\n",
    "  *****      2*5-5=5    2*3-1=5\n",
    "   ***       2*5-7=3    2*2-1=3\n",
    "    *        2*5-9=1    2*1-1=1\n",
    "```\n",
    "\n",
    "- 이렇게 하면 각 라인마다 출력해야 하는 별의 갯수를 구할 수 있습니다. \n",
    "- 여기서 구해진 갯수만큼 그냥 출력만 한다면 큰 문제는 발생하지 않습니다. \n",
    "- 하지만 구해진 값을 통해 인덱싱을 한다면 문제가 발생합니다. \n",
    "- 각 라인별 별의 갯수를 구해서 인덱싱을 한다고 가정하면 다음과 같습니다. \n",
    "\n",
    "```\n",
    "*********    2*n-1=9 = [0, 1, 2, 3, 4, 5, 6, 7, 8] # 첫 번째 라인은 잘 됩니다. \n",
    " ******      2*n-3=7 = [1, 2, 3, 4, 5, 6] # 여기서부터 문제가 발생합니다. \n",
    "  ***        2*n-5=5 = [2, 3, 4] # 계속 문제가 발생합니다. \n",
    "             2*n-7=3 = [] # 여기서부턴 인덱스를 구할수도 없게 됩니다. \n",
    "             2*n-9=1 = []\n",
    "```\n",
    "\n",
    "- 첫번째를 제외한 나머지 라인을 고려해서 1씩 증가시켜줘도 문제는 계속 발생합니다. \n",
    "\n",
    "```\n",
    "             # 첫번째 라인부터 인덱스 범위를 벗어납니다.\n",
    "**********   2*n-1=9+1 = [0, 1, 2, 3, 4, 5, 6, 7, 8, 9]  # out of bound\n",
    " *******     2*n-3=7+1 = [1, 2, 3, 4, 5, 6, 7] # 첫번째 라인만 아니었다면 잘 동작합니다.  \n",
    "  *****      2*n-5=5+1 = [2, 3, 4, 5] # 마찬가지 입니다. 여기선 2를 증가시켜줬어야 합니다. \n",
    "   ***       2*n-7=3+1 = [3] # 역시 그렇죠?\n",
    "    *        2*n-9=1+1 = [] # 더 얘기할 필요가 없겠네요 \n",
    "```\n",
    "\n",
    "- 그러므로, 다음과 같이 구해줘야 정확히 인덱싱을 할 수 있습니다. \n",
    "\n",
    "```\n",
    "*********    2*n-1=9+0 = [0, 1, 2, 3, 4, 5, 6, 7, 8]\n",
    " *******     2*n-3=7+1 = [1, 2, 3, 4, 5, 6, 7]\n",
    "  *****      2*n-5=5+2 = [2, 3, 4, 5, 6]\n",
    "   ***       2*n-7=3+3 = [3, 4, 5]\n",
    "    *        2*n-9=1+4 = [4]\n",
    "```\n",
    "\n",
    "- 최종 결과는 다음과 같습니다.  \n",
    "\n",
    "```\n",
    "*********    2*n-1=9 = [0, 1, 2, 3, 4, 5, 6, 7, 8]\n",
    " *******     2*n-2=8 = [1, 2, 3, 4, 5, 6, 7]\n",
    "  *****      2*n-3=7 = [2, 3, 4, 5, 6]\n",
    "   ***       2*n-4=6 = [3, 4, 5]\n",
    "    *        2*n-5=5 = [4]\n",
    "```\n",
    "\n",
    "- 혹시나 해서 얘기를 하는데 n은 고정된 라인수로 놓는게 더 편합니다. \n",
    "- 각 라인별 수로 고려하시면 역시 동작하지 않습니다. \n",
    "- 그렇게 되면 다음의 내용처럼 다시 원점으로 돌아가 동일한 문제가 발생합니다. \n",
    "\n",
    "```\n",
    "*********    2*5-1=9 = [0, 1, 2, 3, 4, 5, 6, 7, 8]\n",
    " *******     2*4-1=7 = [1, 2, 3, 4, 5, 6]\n",
    "  *****      2*3-1=5 = [2, 3, 4]\n",
    "   ***       2*2-1=3 = []\n",
    "    *        2*1-1=1 = []\n",
    "```\n",
    "\n",
    "\n"
   ]
  },
  {
   "cell_type": "code",
   "execution_count": 46,
   "metadata": {},
   "outputs": [
    {
     "name": "stdout",
     "output_type": "stream",
     "text": [
      "*********\n",
      " *******\n",
      "  *****\n",
      "   ***\n",
      "    *\n"
     ]
    }
   ],
   "source": [
    "row = 5\n",
    "col = (2 * row - 1)\n",
    "star = [['' for _ in range(col)] for _ in range(row)]\n",
    "\n",
    "for i in range(row):\n",
    "    for j in range(i):\n",
    "        star[i][j] = ' '\n",
    "    for j in range(i, 2*(row)-(i+1)):\n",
    "        star[i][j] = '*' \n",
    "    \n",
    "for line in star:\n",
    "    print(''.join(line))"
   ]
  }
 ],
 "metadata": {
  "kernelspec": {
   "display_name": "Python 3",
   "language": "python",
   "name": "python3"
  },
  "language_info": {
   "codemirror_mode": {
    "name": "ipython",
    "version": 3
   },
   "file_extension": ".py",
   "mimetype": "text/x-python",
   "name": "python",
   "nbconvert_exporter": "python",
   "pygments_lexer": "ipython3",
   "version": "3.8.3"
  }
 },
 "nbformat": 4,
 "nbformat_minor": 4
}
