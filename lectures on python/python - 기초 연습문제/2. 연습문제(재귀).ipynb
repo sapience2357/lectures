{
 "cells": [
  {
   "cell_type": "markdown",
   "metadata": {},
   "source": [
    "# 재귀(Recursive)란?\n",
    "\n",
    "- GNU의 뜻?\n",
    "> GNU(GNU(GNU(GNU(GNU(...) Not Unix) Not Unix) Not Unix) Not Unix)\\\n",
    "\n",
    "- 어느 교수님의 대답\n",
    "```\n",
    "어느 한 컴퓨터공학과 학생이 유명한 교수님을 찾아가 물었다.\n",
    "\"재귀함수가 뭔가요?\"\n",
    "\"잘 들어보게. 옛날옛날 한 산 꼭대기에 이세상 모든 지식을 통달한 선인이 있었어.\n",
    "마을 사람들은 모두 그 선인에게 수많은 질문을 했고, 모두 지혜롭게 대답해 주었지.\n",
    "그의 답은 대부분 옳았다고 하네. 그런데 어느 날, 그 선인에게 한 선비가 찾아와서 물었어.\"\n",
    "____\"재귀함수가 뭔가요?\"\n",
    "____\"잘 들어보게. 옛날옛날 한 산 꼭대기에 이세상 모든 지식을 통달한 선인이 있었어.\n",
    "____마을 사람들은 모두 그 선인에게 수많은 질문을 했고, 모두 지혜롭게 대답해 주었지.\n",
    "____그의 답은 대부분 옳았다고 하네. 그런데 어느 날, 그 선인에게 한 선비가 찾아와서 물었어.\"\n",
    "________\"재귀함수가 뭔가요?\"\n",
    "________\"재귀함수는 자기 자신을 호출하는 함수라네\"\n",
    "________라고 답변하였지.\n",
    "____라고 답변하였지.\n",
    "라고 답변하였지.\n",
    "```"
   ]
  },
  {
   "cell_type": "markdown",
   "metadata": {},
   "source": [
    "## 루프를 이용한 반복"
   ]
  },
  {
   "cell_type": "code",
   "execution_count": null,
   "metadata": {},
   "outputs": [],
   "source": [
    "# while... \n",
    "\n",
    "n = 10\n",
    "while n > 1: # 종료 조건\n",
    "    print(\"Run while...\")\n",
    "    n = n - 1\n",
    "print(\"루프가 종료되었습니다.\")"
   ]
  },
  {
   "cell_type": "markdown",
   "metadata": {},
   "source": [
    "## 일반적인 재귀의 형태"
   ]
  },
  {
   "cell_type": "code",
   "execution_count": null,
   "metadata": {},
   "outputs": [],
   "source": [
    "def func():\n",
    "    print(\"Call Function\")\n",
    "    func()\n",
    "    \n",
    "func()"
   ]
  },
  {
   "cell_type": "code",
   "execution_count": null,
   "metadata": {},
   "outputs": [],
   "source": [
    "def func(n):\n",
    "    print(\"{}번 함수가 실행 되었습니다.\".format(n) )\n",
    "    if n <= 1: # Base Condition(기저 조건)\n",
    "        print(\"기저 조건을 만족하였습니다.\")\n",
    "        return print(\"{}번 함수에서 재귀가 종료 되었습니다.\".format(n) )\n",
    "    \n",
    "    func(n-1)\n",
    "    # return 은 함수의 종료를 의미적으로 나타내기 위해서 사용되었습니다. \n",
    "    # 여기선 return 이 없어도 더 이상 실행할 코드가 없기 때문에 \n",
    "    # 함수는 종료 됩니다.\n",
    "    return print(\"{}번 함수가 종료 됩니다...\".format(n) )\n",
    "    \n",
    "func(5)"
   ]
  },
  {
   "cell_type": "markdown",
   "metadata": {},
   "source": [
    "## 1부터 n까지의 합을 구하는 다양한 방식\n",
    "- 효율성 보다는 다양한 접근 방법에 집중\n",
    "- 상향식 접근방법(동적 계획법), 하향식 접근방법\n",
    "- 상향식 접근방법: loop, 꼬리재귀(Tail Recursive)\n",
    "- 하향식 접근방법: 재귀"
   ]
  },
  {
   "cell_type": "markdown",
   "metadata": {},
   "source": [
    "# 상향식 접근 방법(loop)"
   ]
  },
  {
   "cell_type": "markdown",
   "metadata": {},
   "source": [
    "같다(==), 같지않다(!=), 크다(>), 크거다 같다(>=), 작다(<), 작거나 같다(<=)"
   ]
  },
  {
   "cell_type": "code",
   "execution_count": null,
   "metadata": {},
   "outputs": [],
   "source": [
    "n = 10\n",
    "total = 0\n",
    "while n != 0: \n",
    "    total += n\n",
    "    n -= 1\n",
    "print(total)"
   ]
  },
  {
   "cell_type": "markdown",
   "metadata": {},
   "source": [
    "# 상향식 접근 방법(꼬리재귀)"
   ]
  },
  {
   "cell_type": "code",
   "execution_count": null,
   "metadata": {},
   "outputs": [],
   "source": [
    "def tail_recursive(total, n):\n",
    "    print('{}번째 함수 호출의 total: {}'.format(n, total) )\n",
    "    # 기저조건\n",
    "    if n == 0:\n",
    "        print(\"기저조건을 만족합니다. total: {}\".format(total) )\n",
    "        return total\n",
    "\n",
    "    ret = tail_recursive(total + n, n-1)\n",
    "    print('{}번째 함수의 리턴: {}'.format(n, ret))\n",
    "    return ret\n",
    "    # return tail_recursive(total + n, n-1)\n",
    "    \n",
    "print( tail_recursive(0, 10) )"
   ]
  },
  {
   "cell_type": "markdown",
   "metadata": {},
   "source": [
    "## 하향식 접근 방법(재귀)"
   ]
  },
  {
   "cell_type": "code",
   "execution_count": null,
   "metadata": {},
   "outputs": [],
   "source": [
    "def recursive(n):\n",
    "    print(\"Call recursive({})\".format(n) )\n",
    "    if n != 0:\n",
    "        # return n + recursive(n-1)\n",
    "        ret = recursive(n-1)\n",
    "        print(\"return {} + {}\".format(n, ret) )\n",
    "        return n + ret\n",
    "    else:\n",
    "        print(\"return {}\".format(n) )\n",
    "        return n\n",
    "\n",
    "print( recursive(5) )"
   ]
  },
  {
   "cell_type": "markdown",
   "metadata": {},
   "source": [
    "# 재귀 연습문제(n ^ m)\n",
    "- 임의의 정수 n, m이 주어졌을 때 \n",
    "- n ^ m 을 구하는 프로그램을 작성하겠습니다. \n",
    "- 물론 파이썬 에서는 `**` 연산자를 통해 쉽게 연산이 가능하지만,\n",
    "- 연습을 위해서 직접 만들어 보겠습니다. \n",
    "- 임의의 정수는 5 이하의 정수라고 가정합니다. \n",
    "\n",
    "```\n",
    "    n ^ m = n(1) * n(2) * n(3) * ... * n(m)\n",
    "    2 ^ 3 = 2 * 2 * 2\n",
    "    5 ^ 4 = 5 * 5 * 5 * 5\n",
    "```"
   ]
  },
  {
   "cell_type": "markdown",
   "metadata": {},
   "source": [
    "## n^m을 구하는 프로그램 작성(loop)"
   ]
  },
  {
   "cell_type": "code",
   "execution_count": null,
   "metadata": {},
   "outputs": [],
   "source": [
    "n = 2\n",
    "m = 5\n",
    "\n",
    "mul = 1\n",
    "while m >= 1:\n",
    "    mul = mul * n\n",
    "    m = m - 1\n",
    "print(mul)"
   ]
  },
  {
   "cell_type": "markdown",
   "metadata": {},
   "source": [
    "## n^m을 구하는 프로그램 작성(꼬리재귀)"
   ]
  },
  {
   "cell_type": "code",
   "execution_count": null,
   "metadata": {},
   "outputs": [],
   "source": [
    "def multiple(n, m, mul):\n",
    "    print('call multiple({}, {}, {})'.format(n, m-1, mul * n))\n",
    "    if m >= 1:\n",
    "        # return multiple(n, m-1, mul * n)\n",
    "        ret = multiple(n, m-1, mul * n)\n",
    "        print('return {}'.format(ret) )\n",
    "        return ret\n",
    "    else:\n",
    "        print('return {}'.format(mul) )\n",
    "        return mul\n",
    "\n",
    "print( multiple(2, 5, 1) )"
   ]
  },
  {
   "cell_type": "markdown",
   "metadata": {},
   "source": [
    "## n^m을 구하는 프로그램 작성(재귀)"
   ]
  },
  {
   "cell_type": "code",
   "execution_count": null,
   "metadata": {},
   "outputs": [],
   "source": [
    "def multiple(n, m):\n",
    "    if m >= 1:\n",
    "        return n * multiple(n, m-1)\n",
    "    else:\n",
    "        return 1\n",
    "\n",
    "multiple(2, 5)"
   ]
  },
  {
   "cell_type": "code",
   "execution_count": null,
   "metadata": {},
   "outputs": [],
   "source": [
    "# 출력 버전\n",
    "def multiple(n, m):\n",
    "    print('call multiple({}, {})'.format(n, m) )\n",
    "    if m >= 1:\n",
    "        # return n * multiple(n, m-1)\n",
    "        ret = multiple(n, m-1)\n",
    "        print('return {} * {}'.format(n, ret) )\n",
    "        return n * ret\n",
    "    else:\n",
    "        print('return {}'.format(1))\n",
    "        return 1\n",
    "\n",
    "multiple(2, 5)"
   ]
  },
  {
   "cell_type": "markdown",
   "metadata": {},
   "source": [
    "## 러시아 농부의 곱셈(고대 이집트 곱셈)\n",
    "\n",
    "1. 왼쪽에 있는 수는 2로 나눠주고, 나머지는 버린다. (1일 될때까지 해준다.)\n",
    "2. 오른쪽에 있는 수는 두배를 해준다. \n",
    "3. 왼쪽에 있는 수가 홀수인 오른쪽의 수들을 모두 더해준다. \n",
    "\n",
    "```\n",
    "    123 x 12\n",
    "    61  x 24\n",
    "    30  x 48\n",
    "    15  x 96\n",
    "    7   x 192\n",
    "    3   x 384\n",
    "    1   x 768\n",
    "```"
   ]
  },
  {
   "cell_type": "code",
   "execution_count": null,
   "metadata": {},
   "outputs": [],
   "source": [
    "n = 123\n",
    "m = 12\n",
    "\n",
    "total = 0\n",
    "\n",
    "while n >= 1:\n",
    "    if n % 2: # n이 홀수인 경우\n",
    "        total += m\n",
    "    # n = n // 2\n",
    "    n //= 2\n",
    "    m *= 2\n",
    "print(total)"
   ]
  },
  {
   "cell_type": "code",
   "execution_count": null,
   "metadata": {},
   "outputs": [],
   "source": [
    "# 꼬리재귀를 작성할 때에는 \n",
    "# 다음에 호출될 나 자신(Callee)에게 어떤 값을 전달할 것인지를 고민해봅시다.\n",
    "# 이 문제에서는 각 단계별로 왼쪽 수가 홀수인 경우 오른쪽수를 더한 \n",
    "# total을 다음의 나 자신에게 넘겨주는 것이 핵심이다.\n",
    "\n",
    "def russianFarmer(n, m, total):\n",
    "    if n >= 1:\n",
    "        if n % 2: # 홀수인 경우\n",
    "            return russianFarmer(n//2, m*2, total + m)\n",
    "        else:\n",
    "            return russianFarmer(n//2, m*2, total)\n",
    "    else:\n",
    "        return total\n",
    "print(russianFarmer(123, 12, 0) )"
   ]
  },
  {
   "cell_type": "code",
   "execution_count": null,
   "metadata": {},
   "outputs": [],
   "source": [
    "# 재귀를 작성 할 때에는 마지막 함수가 호출된 이후로\n",
    "# 어떤값을 이전에 호출했던 함수(Caller)에게 돌려줄지(return)를 \n",
    "# 고민해보면 됩니다. \n",
    "\n",
    "def russianFarmer(n, m):\n",
    "    if n >= 1:\n",
    "        if n % 2: # 홀수인 경우\n",
    "            return m + russianFarmer(n//2, m*2)\n",
    "        else:\n",
    "            return russianFarmer(n//2, m*2)\n",
    "    else:\n",
    "        return 0\n",
    "\n",
    "print(russianFarmer(123, 12) )"
   ]
  },
  {
   "cell_type": "markdown",
   "metadata": {},
   "source": [
    "# 팩토리얼 구하기\n",
    "\n",
    "```\n",
    "    n! = 1 * 2 * 3 * ... * n\n",
    "    5! = 1 * 2 * 3 * 4 * 5\n",
    "```\n",
    "\n",
    "- 1부터 n까지의 합을 구하는 내용과 동일"
   ]
  },
  {
   "cell_type": "markdown",
   "metadata": {},
   "source": [
    "# 루프(While)를 이용한 팩토리얼 구하기!"
   ]
  },
  {
   "cell_type": "code",
   "execution_count": null,
   "metadata": {},
   "outputs": [],
   "source": [
    "n = 10\n",
    "total = 1 # 덧셈과 달리 항등원이 1이다. \n",
    "while n != 0: \n",
    "    total *= n\n",
    "    n -= 1\n",
    "print(total)"
   ]
  },
  {
   "cell_type": "markdown",
   "metadata": {},
   "source": [
    "# 꼬리재귀를 이용한 팩토리얼 구하기"
   ]
  },
  {
   "cell_type": "code",
   "execution_count": null,
   "metadata": {},
   "outputs": [],
   "source": [
    "def factorial(n, total):\n",
    "    if n != 0:\n",
    "        return factorial(n-1, total * n)\n",
    "    else:\n",
    "        return total\n",
    "\n",
    "print(factorial(0, 1))"
   ]
  },
  {
   "cell_type": "markdown",
   "metadata": {},
   "source": [
    "# 재귀를 이용한 팩토리얼 구하기"
   ]
  },
  {
   "cell_type": "code",
   "execution_count": null,
   "metadata": {},
   "outputs": [],
   "source": [
    "def factorial(n):\n",
    "    if n != 0:\n",
    "        return n * factorial(n-1)\n",
    "    else:\n",
    "        return 1\n",
    "\n",
    "print(factorial(10))"
   ]
  },
  {
   "cell_type": "markdown",
   "metadata": {},
   "source": [
    "# 피보나치 수 구하기(while)"
   ]
  },
  {
   "cell_type": "markdown",
   "metadata": {},
   "source": [
    "### 리스트를 이용한 피보나치 수 구하기\n",
    "```\n",
    "    list_ = [0, 1] # 0번째 피보나치수와 1번째 피보나치수는 정해져 있음(점화식)\n",
    "    list_[2] = list_[0] + list_[1]\n",
    "    list_[3] = list_[1] + list_[2]\n",
    "    ...\n",
    "    list_[n] = list_[n-1] + list_[n-2]\n",
    "\n",
    "```\n",
    "\n",
    "### 리스트를 사용하지 않는 경우의 피보나치 수 구하기\n",
    "\n",
    "||0|1|2|3|4|5|6|7|\n",
    "|:---:|:---:|---:|---:|---:|---:|---:|---:|---:|\n",
    "|prev|1|0|1|1|2|3|5|8|\n",
    "|current|0|1|1|2|3|5|8|13|\n",
    "\n",
    "1. 0번째 피보나치 수는 계산하지 않는다.\n",
    "2. n번째의 current + prev 값이 다음 단계의 피보나치 수(current)가 된다.\n",
    "3. n번째의 피보나치 수(current) 값은 다음 단계의 prev 값이 된다. "
   ]
  },
  {
   "cell_type": "code",
   "execution_count": null,
   "metadata": {},
   "outputs": [],
   "source": [
    "n = 6\n",
    "\n",
    "# 점화식\n",
    "prev = 1\n",
    "current = 0\n",
    "\n",
    "while n > 0: \n",
    "    current, prev = current + prev, current\n",
    "    n -= 1\n",
    "print(current)"
   ]
  },
  {
   "cell_type": "markdown",
   "metadata": {},
   "source": [
    "# 피보나치 수 구하기(꼬리재귀)"
   ]
  },
  {
   "cell_type": "code",
   "execution_count": null,
   "metadata": {},
   "outputs": [],
   "source": [
    "def fibo(n, current=0, prev=1):\n",
    "    print('call current:{}'.format(current))\n",
    "    if n > 0:\n",
    "        # return fibo(n-1, current + prev, current)\n",
    "        ret = fibo(n-1, current + prev, current)\n",
    "        print('피보나치 수: {}'.format(ret))\n",
    "        return ret\n",
    "    \n",
    "    print('피보나치 수: {}'.format(current))\n",
    "    return current\n",
    "print(fibo(10))"
   ]
  },
  {
   "cell_type": "markdown",
   "metadata": {},
   "source": [
    "# 피보나치 수 구하기(재귀)"
   ]
  },
  {
   "cell_type": "code",
   "execution_count": null,
   "metadata": {},
   "outputs": [],
   "source": [
    "# 트리 재귀\n",
    "\n",
    "def fibo(n):\n",
    "    if n <= 1:\n",
    "        return n\n",
    "    return fibo(n-1) + fibo(n-2)\n",
    "\n",
    "print(fibo(10))"
   ]
  },
  {
   "cell_type": "markdown",
   "metadata": {},
   "source": [
    "# 별찍기 - 10"
   ]
  },
  {
   "cell_type": "code",
   "execution_count": null,
   "metadata": {},
   "outputs": [],
   "source": [
    "# 문제에 주어진 입력의 단위가 3의 배수인데는 이유가 있다.\n",
    "# n = 3^k, 1 <= k <8 => 3, 9, 27, 81, ...\n",
    "\n",
    "n = 3 # 일단 n이 3이라고 가정 ... \n",
    "n = 9\n",
    "\n",
    "star = [[' ' for _ in range(n)] for _ in range(n)]\n",
    "\n",
    "star[0][0] = '*'; star[0][3] = '*'; star[0][6] = '*'\n",
    "star[0][1] = '*'; star[0][4] = '*'; star[0][7] = '*'\n",
    "star[0][2] = '*'; star[0][5] = '*'; star[0][8] = '*'\n",
    "\n",
    "star[1][0] = '*'; star[1][3] = '*'; star[1][6] = '*'\n",
    "# star[1][1] = ' '; star[1][4] = '*' \n",
    "star[1][2] = '*'; star[1][5] = '*'; star[1][8] = '*'\n",
    "\n",
    "star[2][0] = '*'; star[2][3] = '*'; star[2][6] = '*'\n",
    "star[2][1] = '*'; star[2][4] = '*'; star[2][7] = '*'\n",
    "star[2][2] = '*'; star[2][5] = '*'; star[2][8] = '*'\n",
    "\n",
    "star[3][0] = '*'; \n",
    "star[3][1] = '*'; \n",
    "star[3][2] = '*'; \n",
    "\n",
    "star[4][0] = '*';\n",
    "# star[4][0] = '*';\n",
    "star[4][2] = '*';\n",
    "\n",
    "star[5][0] = '*';\n",
    "star[5][1] = '*';\n",
    "star[5][2] = '*';\n",
    "\n",
    "\n",
    "for line in star:\n",
    "    print(''.join(line))\n"
   ]
  },
  {
   "cell_type": "markdown",
   "metadata": {},
   "source": [
    "```\n",
    "star[0][0] = '*', star[0][0+3] = '*', star[0][0+3+3] = '*'\n",
    "star[0][1] = '*', star[0][1+3] = '*', star[0][1+3+3] = '*'\n",
    "star[0][2] = '*', star[0][2+3] = '*', star[0][2+3+3] = '*'\n",
    "\n",
    "star[1][0] = '*', star[1][0+3] = '*', star[1][0+3+3] = '*'\n",
    "star[1][1] = ' ', star[1][1+3] = ' ', star[1][1+3+3] = ' '\n",
    "star[1][2] = '*', star[1][2+3] = '*', star[1][2+3+3] = '*'\n",
    "\n",
    "star[2][0] = '*', star[2][0+3] = '*', star[2][0+3+3] = '*'\n",
    "star[2][1] = '*', star[2][1+3] = '*', star[2][1+3+3] = '*'\n",
    "star[2][2] = '*', star[2][2+3] = '*', star[2][2+3+3] = '*'\n",
    "\n",
    "star[0+3][0] = '*', star[0+3][0+3] = ' ', star[0+3][0+3+3] = '*'\n",
    "star[0+3][1] = '*', star[0+3][1+3] = ' ', star[0+3][1+3+3] = '*'\n",
    "star[0+3][2] = '*', star[0+3][2+3] = ' ', star[0+3][2+3+3] = '*'\n",
    "\n",
    "star[1+3][0] = '*', star[1+3][0+3] = ' ', star[1+3][0+3+3] = '*'\n",
    "star[1+3][1] = ' ', star[1+3][1+3] = ' ', star[1+3][1+3+3] = ' '\n",
    "star[1+3][2] = '*', star[1+3][2+3] = ' ', star[1+3][2+3+3] = '*'\n",
    "\n",
    "star[2+3][0] = '*', star[2+3][0+3] = ' ', star[2+3][0+3+3] = '*'\n",
    "star[2+3][1] = '*', star[2+3][1+3] = ' ', star[2+3][1+3+3] = '*'\n",
    "star[2+3][2] = '*', star[2+3][2+3] = ' ', star[2+3][2+3+3] = '*'\n",
    "\n",
    "star[0+3+3][0] = '*', star[0+3+3][0+3] = '*', star[0+3+3][0+3+3] = '*'\n",
    "star[0+3+3][1] = '*', star[0+3+3][1+3] = '*', star[0+3+3][1+3+3] = '*'\n",
    "star[0+3+3][2] = '*', star[0+3+3][2+3] = '*', star[0+3+3][2+3+3] = '*'\n",
    "\n",
    "star[1+3+3][0] = '*', star[1+3+3][0+3] = '*', star([1+3+3][0+3+3]) = '*'\n",
    "star[1+3+3][1] = ' ', star[1+3+3][1+3] = ' ', star[1+3+3][1+3+3] = ' '\n",
    "star[1+3+3][2] = '*', star[1+3+3][2+3] = '*', star[1+3+3][2+3+3] = '*'\n",
    "\n",
    "star[2+3+3][0] = '*', star[2+3+3][0+3] = '*', star[2+3+3][0+3+3] = '*'\n",
    "star[2+3+3][1] = '*', star[2+3+3][1+3] = '*', star[2+3+3][1+3+3] = '*'\n",
    "star[2+3+3][2] = '*', star[2+3+3][2+3] = '*', star[2+3+3][2+3+3] = '*'\n",
    "```\n"
   ]
  },
  {
   "cell_type": "markdown",
   "metadata": {},
   "source": [
    "# 자 이제, 쪼개 보겠습니다..."
   ]
  },
  {
   "cell_type": "code",
   "execution_count": null,
   "metadata": {},
   "outputs": [],
   "source": [
    "def star(i, j, n):\n",
    "    # 기저조건\n",
    "    if n == 1: # \n",
    "        # 준비된 판에 색을 칠합니다.\n",
    "        board[i][j] = '*'\n",
    "        return # 어떤 무언가를 돌려주려는게 아니라, 그냥 함수를 종료\n",
    "    \n",
    "    # n = 3이면 1, n = 9이면, 3, n = 27이면, 9\n",
    "    add = n // 3\n",
    "    \n",
    "    # 일단 처음에는 반복문 쓰지 않고 무식하게 작성 해보기... \n",
    "    \n",
    "    # star(i, j, add)\n",
    "    # star(i, j + add, add)\n",
    "    # star(i, j + add + add, add)\n",
    "    \n",
    "    # star(i + add, j, add)\n",
    "    # # star(i+add, j+add, add)\n",
    "    # star(i + add, j + add + add, add)\n",
    "    \n",
    "    # star(i + add + add, j, add)\n",
    "    # star(i + add + add, j + add, add)\n",
    "    # star(i + add + add, j + add + add, add)\n",
    "    \n",
    "    for p in range(3):\n",
    "        for q in range(3):\n",
    "            if p == 1 and q == 1: continue\n",
    "            star(i+add*p, j+add*q, add)\n",
    "\n",
    "n = 243\n",
    "board = [[' ' for _ in range(n)] for _ in range(n)]\n",
    "star(0, 0, n)\n",
    "\n",
    "for line in board:\n",
    "    print(''.join(line))"
   ]
  },
  {
   "cell_type": "markdown",
   "metadata": {},
   "source": [
    "# 합병 정렬(Merge Sort)\n",
    "- 분할-정복 기법을 사용하는 대표적인 알고리즘\n",
    "- 안정적으로 빠른 시간내에 동작하는 정렬 알고리즘\n",
    "- 재귀 호출도 연습해볼 수 있다. "
   ]
  },
  {
   "cell_type": "code",
   "execution_count": null,
   "metadata": {},
   "outputs": [],
   "source": [
    "import random\n",
    "\n",
    "unsort = [ x for x in range(10000)]\n",
    "random.shuffle(unsort)"
   ]
  },
  {
   "cell_type": "code",
   "execution_count": null,
   "metadata": {},
   "outputs": [],
   "source": [
    "# array == list\n",
    "def merge(left, right):\n",
    "    print('left: {}, right: {}'.format(left, right) )\n",
    "    sort = []\n",
    "    while left != [] and right != []: # 두 리스트 중에 어느 하나가 다 비어질때까지...\n",
    "        if left[0] < right[0]:\n",
    "            sort.append(left.pop(0))\n",
    "        else:\n",
    "            sort.append(right.pop(0))\n",
    "    \n",
    "    if len(left): sort += left\n",
    "    else: sort += right\n",
    "    \n",
    "    print('sort: {}'.format(sort))\n",
    "    return sort\n",
    "\n",
    "def divide(arr):\n",
    "    if len(arr) == 1: return arr # 리스트내의 원소가 하나만 남을 때까지...\n",
    "    \n",
    "    mid = len(arr) // 2\n",
    "    return merge( divide(arr[:mid]), divide(arr[mid:]) )\n",
    "    \n",
    "divide(unsort)"
   ]
  },
  {
   "cell_type": "code",
   "execution_count": null,
   "metadata": {},
   "outputs": [],
   "source": [
    "def merge(left, right):\n",
    "    # 분할되고 합쳐질 때, 거품, 삽입, 선택 정렬을 적용해보기\n",
    "    temp = left + right\n",
    "    size = len(temp)\n",
    "    for i in range( size ):\n",
    "        x = min(temp[i:])\n",
    "        idx = temp.index(x, i)\n",
    "        temp[i], temp[idx] = temp[idx], temp[i]\n",
    "    return temp\n",
    "\n",
    "def divide(arr):\n",
    "    if len(arr) == 1: return arr\n",
    "    \n",
    "    mid = len(arr) // 2\n",
    "    return merge( divide(arr[:mid]), divide(arr[mid:]) )\n",
    "    \n",
    "divide(unsort)"
   ]
  }
 ],
 "metadata": {
  "kernelspec": {
   "display_name": "Python 3",
   "language": "python",
   "name": "python3"
  },
  "language_info": {
   "codemirror_mode": {
    "name": "ipython",
    "version": 3
   },
   "file_extension": ".py",
   "mimetype": "text/x-python",
   "name": "python",
   "nbconvert_exporter": "python",
   "pygments_lexer": "ipython3",
   "version": "3.8.3"
  }
 },
 "nbformat": 4,
 "nbformat_minor": 4
}
