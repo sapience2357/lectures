{
 "cells": [
  {
   "cell_type": "markdown",
   "metadata": {},
   "source": [
    "# 완전탐색을 알아봅시다. (brute-force)\n",
    "- Brute-Force(무작위)"
   ]
  },
  {
   "cell_type": "markdown",
   "metadata": {},
   "source": [
    "## 주어진 문자열을 이용해 만들 수 있는 모든 문자열의 조합\n",
    "\n",
    "- 어떻게 만들어 낼 수 있을것인가?"
   ]
  },
  {
   "cell_type": "markdown",
   "metadata": {},
   "source": [
    "### 순서와 중복에 상관없이 모든 조합"
   ]
  },
  {
   "cell_type": "code",
   "execution_count": null,
   "metadata": {},
   "outputs": [],
   "source": [
    "alphabet = ['a', 'b', 'c']\n",
    "\n",
    "for first in alphabet:\n",
    "    for second in alphabet:\n",
    "        for third in alphabet:\n",
    "            print('{}{}{}'.format(first, second, third))"
   ]
  },
  {
   "cell_type": "markdown",
   "metadata": {},
   "source": [
    "### 중복되지 않은 조합(중복만 고려)\n",
    "- 순서와 상관 없이 "
   ]
  },
  {
   "cell_type": "markdown",
   "metadata": {},
   "source": [
    "### 동작과정\n",
    "\n",
    "1. 첫번째 반복문\n",
    "\n",
    "```\n",
    "loop 0:\n",
    "    # 첫번째로 올 문자를 조합하기 위해 원소를 차례대로 골라주고, 기록을 해둔다. \n",
    "    alpha: ['a', 'b', 'c'], memoization: ['a']\n",
    "    # 기록된 원소는 원본 리스트에서 제거해준다.\n",
    "    alpha: ['b', 'c'], memoization: ['a']\n",
    "```\n",
    "\n",
    "2. 두번째 반복문\n",
    "\n",
    "```\n",
    "loop 0:\n",
    "    # 두번째로 올 문자를 조합하기 위해 원소를 차례대로 골라주고, 기록을 해둔다. \n",
    "    alpha: ['b', 'c'], memoization: ['a', 'b']\n",
    "    # 기록된 원소는 원본 리스트에서 제거해준다. \n",
    "    alpha: ['c'], memoization: ['a', 'b']\n",
    "        \n",
    "```\n",
    "3. 세번째 반복(사실 세번째는 하나만 남기 때문에 의미는 없지만, ... )\n",
    "\n",
    "```\n",
    "#사실 원소가 3개 뿐이라서 반복을 하는게 의미는 없다, 나중에 변경해주자. \n",
    "loop 0:\n",
    "    # 세번째가 마지막 이기 때문에 원소는 하나이다. 그냥 출력해주자\n",
    "    alpha: ['c'], memoization: ['a', 'b']\n",
    "```\n",
    "\n",
    "4. 두번째 반복(다시 나머지 원소를 마저 처리하기 위해...)\n",
    "\n",
    "```\n",
    "loop 1:\n",
    "    # 이전에 기록된 내용을 다시 복구해준다.\n",
    "    alpha: ['b', 'c'], memoization: ['a', 'b']\n",
    "    # 복구되었으면 기록에서도 삭제해준다. \n",
    "    alpha: ['b', 'c'], memoization: ['a']\n",
    "\n",
    "    # 두번째로 올 문자를 조합하기 위해 원소를 차례대로 골라주고, 기록을 해둔다. \n",
    "    alpha: ['b', 'c'], memoization: ['a', 'c']\n",
    "    # 기록된 원소는 원본 리스트에서 제거해준다. \n",
    "    alpha: ['b'], memoization: ['a', 'c']\n",
    "```\n",
    "\n",
    "5. 세번째 반복\n",
    "\n",
    "```\n",
    "#사실 원소가 3개 뿐이라서 반복을 하는게 의미는 없다, 나중에 변경해주자. \n",
    "loop 0:\n",
    "    # 세번째가 마지막 이기 때문에 원소는 하나이다. 그냥 출력해주자\n",
    "    alpha: ['b'], memoization: ['a', 'c']\n",
    "```"
   ]
  },
  {
   "cell_type": "code",
   "execution_count": null,
   "metadata": {
    "scrolled": true
   },
   "outputs": [],
   "source": [
    "# alpha = 'abc' # 튜플(비가변형) 이기 때문에 제거가 되지 않음\n",
    "alpha = ['a', 'b', 'c']\n",
    "memoization = []\n",
    "\n",
    "for i in range(0, len(alpha) ):\n",
    "    # 선택된 원소를 제외하고 다음 루프에 전달\n",
    "    if len(memoization) != 0:\n",
    "        alpha.insert(i-1, memoization.pop() )\n",
    "    \n",
    "    print(alpha[i], end='')\n",
    "    memoization.append(alpha.pop(i))\n",
    "    \n",
    "    for j in range( len(alpha) ):\n",
    "        # 선택된 원소를 제외하고 다음 루프에 전달\n",
    "        if len(memoization) != 1:\n",
    "            alpha.insert(j-1, memoization.pop(-1) )\n",
    "    \n",
    "        print(alpha[j], end='')\n",
    "        memoization.append(alpha.pop(j))\n",
    "        \n",
    "        for k in range( len(alpha) ):\n",
    "            print(alpha[k])\n",
    "            "
   ]
  },
  {
   "cell_type": "code",
   "execution_count": null,
   "metadata": {
    "scrolled": true
   },
   "outputs": [],
   "source": [
    "alpha = ['a', 'b', 'c']\n",
    "memoization = []\n",
    "\n",
    "for i in range(0, len(alpha) ):\n",
    "    if len(memoization) != 0:\n",
    "        alpha.insert(i-1, memoization.pop() )\n",
    "    \n",
    "    print(alpha[i], end='')\n",
    "    memoization.append(alpha.pop(i))\n",
    "    \n",
    "    for j in range( len(alpha) ):\n",
    "        if len(memoization) != 1:\n",
    "            alpha.insert(j-1, memoization.pop(-1) )\n",
    "    \n",
    "        print(alpha[j], end='')\n",
    "        memoization.append(alpha.pop(j))\n",
    "        \n",
    "        for k in range( len(alpha) ):\n",
    "            print(alpha[k])\n",
    "        \n",
    "    alpha.append(memoization.pop(-1))"
   ]
  },
  {
   "cell_type": "code",
   "execution_count": null,
   "metadata": {},
   "outputs": [],
   "source": [
    "alpha = ['a', 'b', 'c']\n",
    "memoization = []\n",
    "\n",
    "for i in range(len(alpha)):\n",
    "    memoization.append( alpha.pop(i))\n",
    "    \n",
    "    print('{}{}{}'.format(memoization[0], alpha[0], alpha[1]))\n",
    "    print('{}{}{}'.format(memoization[0], alpha[1], alpha[0]))\n",
    "    \n",
    "    alpha.insert(i, memoization.pop(-1))"
   ]
  },
  {
   "cell_type": "markdown",
   "metadata": {},
   "source": [
    "### 알파벳 소문자에서 만들 수 있는 3글자 조합"
   ]
  },
  {
   "cell_type": "code",
   "execution_count": null,
   "metadata": {
    "scrolled": true
   },
   "outputs": [],
   "source": [
    "alpha = list('abcdefghijklmnopqrstuvwxyz')\n",
    "memoization = []\n",
    "\n",
    "for i in range(0, len(alpha) ):\n",
    "    if len(memoization) != 0: alpha.insert(i-1, memoization.pop(-1) )\n",
    "    memoization.append(alpha.pop(i))\n",
    "    \n",
    "    for j in range( len(alpha) ):\n",
    "        if len(memoization) != 1: alpha.insert(j-1, memoization.pop(-1) )\n",
    "        memoization.append(alpha.pop(j))\n",
    "        \n",
    "        for k in range( len(alpha) ):\n",
    "            print('{}{}'.format(''.join(memoization), alpha[k]))\n",
    "    alpha.append(memoization.pop(-1))"
   ]
  },
  {
   "cell_type": "markdown",
   "metadata": {},
   "source": [
    "### 중복과 순서룰 모두 고려한 조합 \n",
    "- 알파벳 소문자를 이용해 모든 3글자 조합을 찾아보자. \n",
    "- 중복과 순서를 모두 고려해서 찾아보자. "
   ]
  },
  {
   "cell_type": "code",
   "execution_count": null,
   "metadata": {},
   "outputs": [],
   "source": [
    "alpha = list('abcd') # 알파벳 4개로 시작해보자. \n",
    "\n",
    "size = len(alpha)\n",
    "\n",
    "for i in range(size-2):\n",
    "    for j in range(i+1, size-1):\n",
    "        for k in range(j+1, size):\n",
    "            print('{}{}{}'.format(alpha[i], alpha[j], alpha[k]), end=' ' )\n"
   ]
  },
  {
   "cell_type": "code",
   "execution_count": null,
   "metadata": {},
   "outputs": [],
   "source": [
    "n, m = input().split()\n",
    "n, m = int(n), int(m)\n",
    "\n",
    "card = input().split()\n",
    "# for i in range(n):\n",
    "    # card[i] = int(card[i])\n",
    "card = list(map(int, card))\n",
    "    \n",
    "num = 0\n",
    "for i in range(n-2):\n",
    "    for j in range(i+1, n-1):\n",
    "        for k in range(j+1, n):\n",
    "            tmp = card[i] + card[j] + card[k]\n",
    "            if num < tmp <= m: num = tmp             \n",
    "print(num)"
   ]
  }
 ],
 "metadata": {
  "kernelspec": {
   "display_name": "Python 3",
   "language": "python",
   "name": "python3"
  },
  "language_info": {
   "codemirror_mode": {
    "name": "ipython",
    "version": 3
   },
   "file_extension": ".py",
   "mimetype": "text/x-python",
   "name": "python",
   "nbconvert_exporter": "python",
   "pygments_lexer": "ipython3",
   "version": "3.8.3"
  }
 },
 "nbformat": 4,
 "nbformat_minor": 4
}
