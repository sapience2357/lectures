{
 "cells": [
  {
   "cell_type": "markdown",
   "metadata": {},
   "source": [
    "# 완전탐색(Brute-Force)\n",
    "- 모든 경우의 수를 전부 검사\n",
    "- 어떤 문제의 답을 찾는 가장 정확한 방법\n",
    "- 컴퓨터의 성능에 크게 의존\n",
    "- 조합(combination)과 순열(permutaion)에 적용해볼 수 있다. "
   ]
  },
  {
   "cell_type": "markdown",
   "metadata": {},
   "source": [
    "## 조합, 중복조합(순서에 상관없이)\n",
    "- 서로다른 n개의 원소에서 r개의 원소를 뽑는 방법\n",
    "- r개의 원소가 중복되는 경우를 허락"
   ]
  },
  {
   "cell_type": "markdown",
   "metadata": {},
   "source": [
    "## 순열\n",
    "- 서로다른 n개의 원소에서 순서에 상관이 있고, 중복을 허락하지 않는, \n",
    "- r개의 원소를 뽑는 방법"
   ]
  },
  {
   "cell_type": "markdown",
   "metadata": {},
   "source": [
    "### 중복조합\n",
    "- 알파벳 소문자를 이용해서 r개의 원소를 뽑는 방법\n",
    "- 알파벳에서 중복된 선택이 가능한 순서를 고려하지 않은 경우의 수"
   ]
  },
  {
   "cell_type": "code",
   "execution_count": null,
   "metadata": {},
   "outputs": [],
   "source": [
    "# r이 1인 경우\n",
    "alpha = list('abcdefghijklnopqrstuvwxyz')\n",
    "\n",
    "for i in alpha:\n",
    "            print('{}'.format(i))"
   ]
  },
  {
   "cell_type": "code",
   "execution_count": null,
   "metadata": {},
   "outputs": [],
   "source": [
    "# r이 2인 경우\n",
    "alpha = list('abcdefghijklnopqrstuvwxyz')\n",
    "\n",
    "for i in alpha:\n",
    "    for j in alpha:\n",
    "            print('{}{}'.format(i, j))"
   ]
  },
  {
   "cell_type": "code",
   "execution_count": null,
   "metadata": {},
   "outputs": [],
   "source": [
    "# r이 3인 경우\n",
    "alpha = list('abcdefghijklnopqrstuvwxyz')\n",
    "\n",
    "for i in alpha:\n",
    "    for j in alpha:\n",
    "        for k in alpha:\n",
    "            print('{}{}{}'.format(i, j, k))"
   ]
  },
  {
   "cell_type": "code",
   "execution_count": null,
   "metadata": {},
   "outputs": [],
   "source": [
    "alpha = list('abcdefghijklnopqrstuvwxyz')\n",
    "\n",
    "for i in alpha:\n",
    "    for j in alpha:\n",
    "        for k in alpha:\n",
    "            # for _ in alpha # 찾고자 하는 r이 늘어날 수록 루프의 중첩도 늘어난다.\n",
    "            # 찾으려는 r의 갯수만큼 루프가 추가 \n",
    "            print('{}{}{}'.format(i, j, k))"
   ]
  },
  {
   "cell_type": "markdown",
   "metadata": {},
   "source": [
    "### 중복조합 - 재귀"
   ]
  },
  {
   "cell_type": "code",
   "execution_count": 16,
   "metadata": {},
   "outputs": [
    {
     "name": "stdout",
     "output_type": "stream",
     "text": [
      "abcdefghijklnopqrstuvwxyz\n",
      "abcdefghijklnopqrstuvwxyz\n",
      "abcdefghijklnopqrstuvwxyz\n"
     ]
    }
   ],
   "source": [
    "alpha = list('abcdefghijklnopqrstuvwxyz')\n",
    "\n",
    "def combination_repetition(r):\n",
    "    if r == 0: return \n",
    "    \n",
    "    for i in alpha:\n",
    "        print(i, end='')\n",
    "    print()\n",
    "    combination_repetition(r-1)\n",
    "\n",
    "combination_repetition(3)"
   ]
  },
  {
   "cell_type": "code",
   "execution_count": null,
   "metadata": {},
   "outputs": [],
   "source": [
    "alpha = list('abcdefghijklnopqrstuvwxyz')\n",
    "\n",
    "def combination_repetition(r):\n",
    "    if r == 0: return \n",
    "    \n",
    "    for i in alpha:\n",
    "        combination_repetition(r-1)\n",
    "\n",
    "combination_repetition(3)"
   ]
  },
  {
   "cell_type": "code",
   "execution_count": null,
   "metadata": {},
   "outputs": [],
   "source": [
    "alpha = list('abcdefghijklnopqrstuvwxyz')\n",
    "\n",
    "def combination_repetition(r, selected=[]):\n",
    "    if r == 0: \n",
    "        for i in alpha:\n",
    "            # print(selected)\n",
    "            print(''.join(selected))\n",
    "            return \n",
    "    \n",
    "    for i in alpha:\n",
    "        selected.append(i)\n",
    "        combination_repetition(r-1, selected)\n",
    "        selected.pop(-1)\n",
    "\n",
    "combination_repetition(2)"
   ]
  },
  {
   "cell_type": "markdown",
   "metadata": {},
   "source": [
    "### 조합 - 재귀 \n",
    "- 순서에 상관없이 n개의 원소에서 r개의 원소를 뽑는 방법\n",
    "- 중복은 허용하지 않음"
   ]
  },
  {
   "cell_type": "code",
   "execution_count": null,
   "metadata": {},
   "outputs": [],
   "source": [
    "alpha = list('abcdefghijklnopqrstuvwxyz')\n",
    "\n",
    "def combination(r, selected=[], arr=alpha):\n",
    "    if r == 0: \n",
    "        for i in alpha:\n",
    "            # print(selected)\n",
    "            print(''.join(selected))\n",
    "            return \n",
    "    \n",
    "    size = len(arr)\n",
    "    for i in range(size):\n",
    "        pick = arr.pop(i)    # 중복조합과의 차이점은 selected 외에 arr가 추가 된 것뿐이다. \n",
    "        selected.append(pick)\n",
    "        combination(r-1, selected, arr)\n",
    "        selected.pop(-1)\n",
    "        arr.insert(i, pick)\n",
    "\n",
    "combination(3)"
   ]
  },
  {
   "cell_type": "markdown",
   "metadata": {},
   "source": [
    "### 순열(Permutaion)\n",
    "- 중복과 순서를 모두 고려해서 r개의 원소를 뽑는 경우"
   ]
  },
  {
   "cell_type": "code",
   "execution_count": 1,
   "metadata": {},
   "outputs": [
    {
     "name": "stdout",
     "output_type": "stream",
     "text": [
      "abc abd abe abf abg abh abi abj abk abl abm abn abo abp abq abr abs abt abu abv abw abx aby abz acd ace acf acg ach aci acj ack acl acm acn aco acp acq acr acs act acu acv acw acx acy acz ade adf adg adh adi adj adk adl adm adn ado adp adq adr ads adt adu adv adw adx ady adz aef aeg aeh aei aej aek ael aem aen aeo aep aeq aer aes aet aeu aev aew aex aey aez afg afh afi afj afk afl afm afn afo afp afq afr afs aft afu afv afw afx afy afz agh agi agj agk agl agm agn ago agp agq agr ags agt agu agv agw agx agy agz ahi ahj ahk ahl ahm ahn aho ahp ahq ahr ahs aht ahu ahv ahw ahx ahy ahz aij aik ail aim ain aio aip aiq air ais ait aiu aiv aiw aix aiy aiz ajk ajl ajm ajn ajo ajp ajq ajr ajs ajt aju ajv ajw ajx ajy ajz akl akm akn ako akp akq akr aks akt aku akv akw akx aky akz alm aln alo alp alq alr als alt alu alv alw alx aly alz amn amo amp amq amr ams amt amu amv amw amx amy amz ano anp anq anr ans ant anu anv anw anx any anz aop aoq aor aos aot aou aov aow aox aoy aoz apq apr aps apt apu apv apw apx apy apz aqr aqs aqt aqu aqv aqw aqx aqy aqz ars art aru arv arw arx ary arz ast asu asv asw asx asy asz atu atv atw atx aty atz auv auw aux auy auz avw avx avy avz awx awy awz axy axz ayz bcd bce bcf bcg bch bci bcj bck bcl bcm bcn bco bcp bcq bcr bcs bct bcu bcv bcw bcx bcy bcz bde bdf bdg bdh bdi bdj bdk bdl bdm bdn bdo bdp bdq bdr bds bdt bdu bdv bdw bdx bdy bdz bef beg beh bei bej bek bel bem ben beo bep beq ber bes bet beu bev bew bex bey bez bfg bfh bfi bfj bfk bfl bfm bfn bfo bfp bfq bfr bfs bft bfu bfv bfw bfx bfy bfz bgh bgi bgj bgk bgl bgm bgn bgo bgp bgq bgr bgs bgt bgu bgv bgw bgx bgy bgz bhi bhj bhk bhl bhm bhn bho bhp bhq bhr bhs bht bhu bhv bhw bhx bhy bhz bij bik bil bim bin bio bip biq bir bis bit biu biv biw bix biy biz bjk bjl bjm bjn bjo bjp bjq bjr bjs bjt bju bjv bjw bjx bjy bjz bkl bkm bkn bko bkp bkq bkr bks bkt bku bkv bkw bkx bky bkz blm bln blo blp blq blr bls blt blu blv blw blx bly blz bmn bmo bmp bmq bmr bms bmt bmu bmv bmw bmx bmy bmz bno bnp bnq bnr bns bnt bnu bnv bnw bnx bny bnz bop boq bor bos bot bou bov bow box boy boz bpq bpr bps bpt bpu bpv bpw bpx bpy bpz bqr bqs bqt bqu bqv bqw bqx bqy bqz brs brt bru brv brw brx bry brz bst bsu bsv bsw bsx bsy bsz btu btv btw btx bty btz buv buw bux buy buz bvw bvx bvy bvz bwx bwy bwz bxy bxz byz cde cdf cdg cdh cdi cdj cdk cdl cdm cdn cdo cdp cdq cdr cds cdt cdu cdv cdw cdx cdy cdz cef ceg ceh cei cej cek cel cem cen ceo cep ceq cer ces cet ceu cev cew cex cey cez cfg cfh cfi cfj cfk cfl cfm cfn cfo cfp cfq cfr cfs cft cfu cfv cfw cfx cfy cfz cgh cgi cgj cgk cgl cgm cgn cgo cgp cgq cgr cgs cgt cgu cgv cgw cgx cgy cgz chi chj chk chl chm chn cho chp chq chr chs cht chu chv chw chx chy chz cij cik cil cim cin cio cip ciq cir cis cit ciu civ ciw cix ciy ciz cjk cjl cjm cjn cjo cjp cjq cjr cjs cjt cju cjv cjw cjx cjy cjz ckl ckm ckn cko ckp ckq ckr cks ckt cku ckv ckw ckx cky ckz clm cln clo clp clq clr cls clt clu clv clw clx cly clz cmn cmo cmp cmq cmr cms cmt cmu cmv cmw cmx cmy cmz cno cnp cnq cnr cns cnt cnu cnv cnw cnx cny cnz cop coq cor cos cot cou cov cow cox coy coz cpq cpr cps cpt cpu cpv cpw cpx cpy cpz cqr cqs cqt cqu cqv cqw cqx cqy cqz crs crt cru crv crw crx cry crz cst csu csv csw csx csy csz ctu ctv ctw ctx cty ctz cuv cuw cux cuy cuz cvw cvx cvy cvz cwx cwy cwz cxy cxz cyz def deg deh dei dej dek del dem den deo dep deq der des det deu dev dew dex dey dez dfg dfh dfi dfj dfk dfl dfm dfn dfo dfp dfq dfr dfs dft dfu dfv dfw dfx dfy dfz dgh dgi dgj dgk dgl dgm dgn dgo dgp dgq dgr dgs dgt dgu dgv dgw dgx dgy dgz dhi dhj dhk dhl dhm dhn dho dhp dhq dhr dhs dht dhu dhv dhw dhx dhy dhz dij dik dil dim din dio dip diq dir dis dit diu div diw dix diy diz djk djl djm djn djo djp djq djr djs djt dju djv djw djx djy djz dkl dkm dkn dko dkp dkq dkr dks dkt dku dkv dkw dkx dky dkz dlm dln dlo dlp dlq dlr dls dlt dlu dlv dlw dlx dly dlz dmn dmo dmp dmq dmr dms dmt dmu dmv dmw dmx dmy dmz dno dnp dnq dnr dns dnt dnu dnv dnw dnx dny dnz dop doq dor dos dot dou dov dow dox doy doz dpq dpr dps dpt dpu dpv dpw dpx dpy dpz dqr dqs dqt dqu dqv dqw dqx dqy dqz drs drt dru drv drw drx dry drz dst dsu dsv dsw dsx dsy dsz dtu dtv dtw dtx dty dtz duv duw dux duy duz dvw dvx dvy dvz dwx dwy dwz dxy dxz dyz efg efh efi efj efk efl efm efn efo efp efq efr efs eft efu efv efw efx efy efz egh egi egj egk egl egm egn ego egp egq egr egs egt egu egv egw egx egy egz ehi ehj ehk ehl ehm ehn eho ehp ehq ehr ehs eht ehu ehv ehw ehx ehy ehz eij eik eil eim ein eio eip eiq eir eis eit eiu eiv eiw eix eiy eiz ejk ejl ejm ejn ejo ejp ejq ejr ejs ejt eju ejv ejw ejx ejy ejz ekl ekm ekn eko ekp ekq ekr eks ekt eku ekv ekw ekx eky ekz elm eln elo elp elq elr els elt elu elv elw elx ely elz emn emo emp emq emr ems emt emu emv emw emx emy emz eno enp enq enr ens ent enu env enw enx eny enz eop eoq eor eos eot eou eov eow eox eoy eoz epq epr eps ept epu epv epw epx epy epz eqr eqs eqt equ eqv eqw eqx eqy eqz ers ert eru erv erw erx ery erz est esu esv esw esx esy esz etu etv etw etx ety etz euv euw eux euy euz evw evx evy evz ewx ewy ewz exy exz eyz fgh fgi fgj fgk fgl fgm fgn fgo fgp fgq fgr fgs fgt fgu fgv fgw fgx fgy fgz fhi fhj fhk fhl fhm fhn fho fhp fhq fhr fhs fht fhu fhv fhw fhx fhy fhz fij fik fil fim fin fio fip fiq fir fis fit fiu fiv fiw fix fiy fiz fjk fjl fjm fjn fjo fjp fjq fjr fjs fjt fju fjv fjw fjx fjy fjz fkl fkm fkn fko fkp fkq fkr fks fkt fku fkv fkw fkx fky fkz flm fln flo flp flq flr fls flt flu flv flw flx fly flz fmn fmo fmp fmq fmr fms fmt fmu fmv fmw fmx fmy fmz fno fnp fnq fnr fns fnt fnu fnv fnw fnx fny fnz fop foq for fos fot fou fov fow fox foy foz fpq fpr fps fpt fpu fpv fpw fpx fpy fpz fqr fqs fqt fqu fqv fqw fqx fqy fqz frs frt fru frv frw frx fry frz fst fsu fsv fsw fsx fsy fsz ftu ftv ftw ftx fty ftz fuv fuw fux fuy fuz fvw fvx fvy fvz fwx fwy fwz fxy fxz fyz ghi ghj ghk ghl ghm ghn gho ghp ghq ghr ghs ght ghu ghv ghw ghx ghy ghz gij gik gil gim gin gio gip giq gir gis git giu giv giw gix giy giz gjk gjl gjm gjn gjo gjp gjq gjr gjs gjt gju gjv gjw gjx gjy gjz gkl gkm gkn gko gkp gkq gkr gks gkt gku gkv gkw gkx gky gkz glm gln glo glp glq glr gls glt glu glv glw glx gly glz gmn gmo gmp gmq gmr gms gmt gmu gmv gmw gmx gmy gmz gno gnp gnq gnr gns gnt gnu gnv gnw gnx gny gnz gop goq gor gos got gou gov gow gox goy goz gpq gpr gps gpt gpu gpv gpw gpx gpy gpz gqr gqs gqt gqu gqv gqw gqx gqy gqz grs grt gru grv grw grx gry grz gst gsu gsv gsw gsx gsy gsz gtu gtv gtw gtx gty gtz guv guw gux guy guz gvw gvx gvy gvz gwx gwy gwz gxy gxz gyz hij hik hil him hin hio hip hiq hir his hit hiu hiv hiw hix hiy hiz hjk hjl hjm hjn hjo hjp hjq hjr hjs hjt hju hjv hjw hjx hjy hjz hkl hkm hkn hko hkp hkq hkr hks hkt hku hkv hkw hkx hky hkz hlm hln hlo hlp hlq hlr hls hlt hlu hlv hlw hlx hly hlz hmn hmo hmp hmq hmr hms hmt hmu hmv hmw hmx hmy hmz hno hnp hnq hnr hns hnt hnu hnv hnw hnx hny hnz hop hoq hor hos hot hou hov how hox hoy hoz hpq hpr hps hpt hpu hpv hpw hpx hpy hpz hqr hqs hqt hqu hqv hqw hqx hqy hqz hrs hrt hru hrv hrw hrx hry hrz hst hsu hsv hsw hsx hsy hsz htu htv htw htx hty htz huv huw hux huy huz hvw hvx hvy hvz hwx hwy hwz hxy hxz hyz ijk ijl ijm ijn ijo ijp ijq ijr ijs ijt iju ijv ijw ijx ijy ijz ikl ikm ikn iko ikp ikq ikr iks ikt iku ikv ikw ikx iky ikz ilm iln ilo ilp ilq ilr ils ilt ilu ilv ilw ilx ily ilz imn imo imp imq imr ims imt imu imv imw imx imy imz ino inp inq inr ins int inu inv inw inx iny inz iop ioq ior ios iot iou iov iow iox ioy ioz ipq ipr ips ipt ipu ipv ipw ipx ipy ipz iqr iqs iqt iqu iqv iqw iqx iqy iqz irs irt iru irv irw irx iry irz ist isu isv isw isx isy isz itu itv itw itx ity itz iuv iuw iux iuy iuz ivw ivx ivy ivz iwx iwy iwz ixy ixz iyz jkl jkm jkn jko jkp jkq jkr jks jkt jku jkv jkw jkx jky jkz jlm jln jlo jlp jlq jlr jls jlt jlu jlv jlw jlx jly jlz jmn jmo jmp jmq jmr jms jmt jmu jmv jmw jmx jmy jmz jno jnp jnq jnr jns jnt jnu jnv jnw jnx jny jnz jop joq jor jos jot jou jov jow jox joy joz jpq jpr jps jpt jpu jpv jpw jpx jpy jpz jqr jqs jqt jqu jqv jqw jqx jqy jqz jrs jrt jru jrv jrw jrx jry jrz jst jsu jsv jsw jsx jsy jsz jtu jtv jtw jtx jty jtz juv juw jux juy juz jvw jvx jvy jvz jwx jwy jwz jxy jxz jyz klm kln klo klp klq klr kls klt klu klv klw klx kly klz kmn kmo kmp kmq kmr kms kmt kmu kmv kmw kmx kmy kmz kno knp knq knr kns knt knu knv knw knx kny knz kop koq kor kos kot kou kov kow kox koy koz kpq kpr kps kpt kpu kpv kpw kpx kpy kpz kqr kqs kqt kqu kqv kqw kqx kqy kqz krs krt kru krv krw krx kry krz kst ksu ksv ksw ksx ksy ksz ktu ktv ktw ktx kty ktz kuv kuw kux kuy kuz kvw kvx kvy kvz kwx kwy kwz kxy kxz kyz lmn lmo lmp lmq lmr lms lmt lmu lmv lmw lmx lmy lmz lno lnp lnq lnr lns lnt lnu lnv lnw lnx lny lnz lop loq lor los lot lou lov low lox loy loz lpq lpr lps lpt lpu lpv lpw lpx lpy lpz lqr lqs lqt lqu lqv lqw lqx lqy lqz lrs lrt lru lrv lrw lrx lry lrz lst lsu lsv lsw lsx lsy lsz ltu ltv ltw ltx lty ltz luv luw lux luy luz lvw lvx lvy lvz lwx lwy lwz lxy lxz lyz mno mnp mnq mnr mns mnt mnu mnv mnw mnx mny mnz mop moq mor mos mot mou mov mow mox moy moz mpq mpr mps mpt mpu mpv mpw mpx mpy mpz mqr mqs mqt mqu mqv mqw mqx mqy mqz mrs mrt mru mrv mrw mrx mry mrz mst msu msv msw msx msy msz mtu mtv mtw mtx mty mtz muv muw mux muy muz mvw mvx mvy mvz mwx mwy mwz mxy mxz myz nop noq nor nos not nou nov now nox noy noz npq npr nps npt npu npv npw npx npy npz nqr nqs nqt nqu nqv nqw nqx nqy nqz nrs nrt nru nrv nrw nrx nry nrz nst nsu nsv nsw nsx nsy nsz ntu ntv ntw ntx nty ntz nuv nuw nux nuy nuz nvw nvx nvy nvz nwx nwy nwz nxy nxz nyz opq opr ops opt opu opv opw opx opy opz oqr oqs oqt oqu oqv oqw oqx oqy oqz ors ort oru orv orw orx ory orz ost osu osv osw osx osy osz otu otv otw otx oty otz ouv ouw oux ouy ouz ovw ovx ovy ovz owx owy owz oxy oxz oyz pqr pqs pqt pqu pqv pqw pqx pqy pqz prs prt pru prv prw prx pry prz pst psu psv psw psx psy psz ptu ptv ptw ptx pty ptz puv puw pux puy puz pvw pvx pvy pvz pwx pwy pwz pxy pxz pyz qrs qrt qru qrv qrw qrx qry qrz qst qsu qsv qsw qsx qsy qsz qtu qtv qtw qtx qty qtz quv quw qux quy quz qvw qvx qvy qvz qwx qwy qwz qxy qxz qyz rst rsu rsv rsw rsx rsy rsz rtu rtv rtw rtx rty rtz ruv ruw rux ruy ruz rvw rvx rvy rvz rwx rwy rwz rxy rxz ryz stu stv stw stx sty stz suv suw sux suy suz svw svx svy svz swx swy swz sxy sxz syz tuv tuw tux tuy tuz tvw tvx tvy tvz twx twy twz txy txz tyz uvw uvx uvy uvz uwx uwy uwz uxy uxz uyz vwx vwy vwz vxy vxz vyz wxy wxz wyz xyz "
     ]
    }
   ],
   "source": [
    "alpha = list('abcdefghijklmnopqrstuvwxyz') # 알파벳 4개로 시작해보자. \n",
    "\n",
    "size = len(alpha)\n",
    "\n",
    "for i in range(size-2):\n",
    "    for j in range(i+1, size-1): # 일반항 이기 때문에 나머지 처음과 마지막만 따로 처리\n",
    "        for k in range(j+1, size):\n",
    "            print('{}{}{}'.format(alpha[i], alpha[j], alpha[k]), end=' ' )"
   ]
  },
  {
   "cell_type": "code",
   "execution_count": null,
   "metadata": {},
   "outputs": [],
   "source": [
    "alpha = list('abcdefghijklmnopqrstuvwxyz')\n",
    "\n",
    "def permutation(r, flag=True, start=0, selected=[]):\n",
    "    size = len(alpha)\n",
    "    if flag: # 순열에서 첫번째로 선택되는 원소들의 집합\n",
    "        flag = False\n",
    "        for i in range(start, size-2):\n",
    "            selected.append(alpha[i])\n",
    "            permutation(r-1, flag, i+1, selected)\n",
    "            selected.pop(-1)\n",
    "        return\n",
    "    \n",
    "    if r == 1: # 순열에서 마지막으로 선택되는 원소들의 집합\n",
    "        for i in range(start, size):\n",
    "            print('{}{}'.format(''.join(selected), alpha[i]))\n",
    "        return \n",
    "        \n",
    "    # 그 외에 나머지는 일반항\n",
    "    for i in range(start, size-1):\n",
    "        selected.append(alpha[i])\n",
    "        permutation(r-1, flag, i+1, selected)\n",
    "        selected.pop(-1)\n",
    "\n",
    "permutation(3)"
   ]
  },
  {
   "cell_type": "markdown",
   "metadata": {},
   "source": [
    "### 파이썬 라이브러리를 이용한 조합과 순열"
   ]
  },
  {
   "cell_type": "code",
   "execution_count": null,
   "metadata": {},
   "outputs": [],
   "source": [
    "import itertools\n",
    "\n",
    "alpha = list('abcdefghijklmnopqrstuvwxyz')\n",
    "\n",
    "# 조합 \n",
    "# 순서를 고려하지 않은 경우, -> 순서를 바꾸면 다른 경우\n",
    "list(itertools.combinations(alpha, 2))\n",
    "\n",
    "# 순열\n",
    "# 순서를 고려한 경우 -> 순서가 바뀌어도 상관이 없는 경우 즉, \n",
    "# 순서가 바뀌어도 같은 경우\n",
    "list(itertools.permutations(alpha,2))"
   ]
  }
 ],
 "metadata": {
  "kernelspec": {
   "display_name": "Python 3",
   "language": "python",
   "name": "python3"
  },
  "language_info": {
   "codemirror_mode": {
    "name": "ipython",
    "version": 3
   },
   "file_extension": ".py",
   "mimetype": "text/x-python",
   "name": "python",
   "nbconvert_exporter": "python",
   "pygments_lexer": "ipython3",
   "version": "3.8.3"
  }
 },
 "nbformat": 4,
 "nbformat_minor": 4
}
