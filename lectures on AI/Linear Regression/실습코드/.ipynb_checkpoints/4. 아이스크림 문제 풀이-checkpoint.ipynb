{
 "cells": [
  {
   "cell_type": "code",
   "execution_count": null,
   "metadata": {},
   "outputs": [],
   "source": [
    "import numpy as np\n",
    "import sympy as sp\n",
    "import matplotlib.pyplot as plt"
   ]
  },
  {
   "cell_type": "code",
   "execution_count": null,
   "metadata": {},
   "outputs": [],
   "source": [
    "x = np.array([20,21,22,23,24])\n",
    "y = np.array([15,16,21,33,42])"
   ]
  },
  {
   "cell_type": "code",
   "execution_count": null,
   "metadata": {},
   "outputs": [],
   "source": [
    "plt.plot(x,y, 'o')\n",
    "plt.grid()\n",
    "plt.xlabel('x')\n",
    "plt.ylabel('y')\n",
    "plt.show()"
   ]
  },
  {
   "cell_type": "markdown",
   "metadata": {},
   "source": [
    "## 선형적인 관계로 가정(모수적 추정)\n",
    "- y = ax + b\n",
    "- 주어진 데이터를 가장 잘 설명할 수 있는 선 하나를 찾는 것"
   ]
  },
  {
   "cell_type": "markdown",
   "metadata": {},
   "source": [
    "## error function(오차함수) or cost function\n",
    "\n",
    "- Squared Error\n",
    "- Mean Squared Error(MSE)\n",
    "\n",
    "$$\n",
    "    \\sum_{i = 1}^n | Y_i - (ax_i + b) | ^2\n",
    "$$\n",
    "\n",
    "$$\n",
    "    min_{a,b} \\sum_{i = 1}^n | Y_i - (ax_i + b) | ^2\n",
    "$$"
   ]
  },
  {
   "cell_type": "markdown",
   "metadata": {},
   "source": [
    "1. 주어진 선에서: ax + b\n",
    "2. 어떤 기준으로: squared error\n",
    "3. 가장 좋은: 최소로 하는\n",
    "4. 선을 찾는 것입니다: a, b\n",
    "\n",
    "$$\n",
    "    (a, b) = argmin_{a, b} \\sum_{i = 1}^n | Y_i - (ax_i + b) | ^2\n",
    "$$"
   ]
  },
  {
   "cell_type": "markdown",
   "metadata": {},
   "source": [
    "# 자 이제 아이스크림 문제를 풀어 볼게요(선형 회귀)"
   ]
  },
  {
   "cell_type": "code",
   "execution_count": null,
   "metadata": {},
   "outputs": [],
   "source": [
    "x = np.array([20,21,22,23,24])\n",
    "y = np.array([15,16,21,33,42])"
   ]
  },
  {
   "cell_type": "code",
   "execution_count": null,
   "metadata": {},
   "outputs": [],
   "source": [
    "plt.plot(x,y, 'o')\n",
    "plt.grid()\n",
    "plt.xlabel('x')\n",
    "plt.ylabel('y')\n",
    "plt.show()"
   ]
  },
  {
   "cell_type": "markdown",
   "metadata": {},
   "source": [
    "## 선형적인 관계로 가정(모수적 추정)\n",
    "- y = ax + b\n",
    "- 주어진 데이터를 가장 잘 설명할 수 있는 선 하나를 찾는 것"
   ]
  },
  {
   "cell_type": "markdown",
   "metadata": {},
   "source": [
    "## error function(오차함수) or cost function\n",
    "\n",
    "- Squared Error\n",
    "- Mean Squared Error(MSE)\n",
    "\n",
    "$$\n",
    "    \\sum_{i = 1}^n | Y_i - (ax_i + b) | ^2\n",
    "$$\n",
    "\n",
    "$$\n",
    "    min_{a,b} \\sum_{i = 1}^n | Y_i - (ax_i + b) | ^2\n",
    "$$"
   ]
  },
  {
   "cell_type": "markdown",
   "metadata": {},
   "source": [
    "1. 주어진 선에서: ax + b\n",
    "2. 어떤 기준으로: squared error\n",
    "3. 가장 좋은: 최소로 하는\n",
    "4. 선을 찾는 것입니다: a, b\n",
    "\n",
    "$$\n",
    "    (a, b) = argmin_{a, b} \\sum_{i = 1}^n | Y_i - (ax_i + b) | ^2\n",
    "$$"
   ]
  },
  {
   "cell_type": "code",
   "execution_count": null,
   "metadata": {},
   "outputs": [],
   "source": [
    "a = sp.symbols('a')\n",
    "b = sp.symbols('b')\n",
    "f = (a * x + b - y) ** 2\n",
    "f"
   ]
  },
  {
   "cell_type": "code",
   "execution_count": null,
   "metadata": {},
   "outputs": [],
   "source": [
    "sp.diff(f, a)"
   ]
  },
  {
   "cell_type": "code",
   "execution_count": null,
   "metadata": {},
   "outputs": [],
   "source": [
    "sp.diff(f, b)"
   ]
  },
  {
   "cell_type": "code",
   "execution_count": null,
   "metadata": {},
   "outputs": [],
   "source": [
    "def error(a, b):\n",
    "    return np.sum(((a * x + b) - y) ** 2)\n",
    "\n",
    "def grad_a(a, b):\n",
    "    return np.sum( 2 * x * (a * x + b - y))\n",
    "\n",
    "def grad_b(a, b):\n",
    "    return np.sum( 2 * (a * x + b - y))"
   ]
  },
  {
   "cell_type": "code",
   "execution_count": null,
   "metadata": {},
   "outputs": [],
   "source": [
    "w0 = np.array([0,0])\n",
    "maxIter = 1000000\n",
    "learning_rate = 0.0001\n",
    "\n",
    "for it in range(maxIter):\n",
    "    grad = np.array([grad_a(*w0), grad_b(*w0)])\n",
    "    w1 = w0 - learning_rate * grad\n",
    "    # print('weight: {}, f value: {}'.format(w0, error(*w0)))\n",
    "    w0 = w1"
   ]
  },
  {
   "cell_type": "code",
   "execution_count": null,
   "metadata": {},
   "outputs": [],
   "source": [
    "w1"
   ]
  },
  {
   "cell_type": "code",
   "execution_count": null,
   "metadata": {},
   "outputs": [],
   "source": [
    "plt.plot(x,y, 'o')\n",
    "plt.grid()\n",
    "plt.xlabel('x')\n",
    "plt.ylabel('y')\n",
    "\n",
    "plt.plot(x, w1[0] * x + w1[1], 'r-')\n",
    "plt.show()"
   ]
  }
 ],
 "metadata": {
  "kernelspec": {
   "display_name": "Python 3",
   "language": "python",
   "name": "python3"
  },
  "language_info": {
   "codemirror_mode": {
    "name": "ipython",
    "version": 3
   },
   "file_extension": ".py",
   "mimetype": "text/x-python",
   "name": "python",
   "nbconvert_exporter": "python",
   "pygments_lexer": "ipython3",
   "version": "3.8.3"
  }
 },
 "nbformat": 4,
 "nbformat_minor": 4
}
