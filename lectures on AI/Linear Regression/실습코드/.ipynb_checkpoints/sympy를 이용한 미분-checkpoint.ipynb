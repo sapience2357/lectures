{
 "cells": [
  {
   "cell_type": "markdown",
   "metadata": {},
   "source": [
    "## 미분이란(Differentials)?\n",
    "- 머신러닝/딥러닝 알고리즘들에서 사용하는 최적화 기법(알고리즘)의 핵심\n",
    "- 함수의 기울기: 함수의 변화량"
   ]
  },
  {
   "cell_type": "code",
   "execution_count": null,
   "metadata": {},
   "outputs": [],
   "source": [
    "import numpy as np\n",
    "import sympy as sp\n",
    "import matplotlib.pyplot as plt"
   ]
  },
  {
   "cell_type": "code",
   "execution_count": null,
   "metadata": {},
   "outputs": [],
   "source": [
    "def f(x):\n",
    "    return 2 * x\n",
    "\n",
    "# f = lambda x: 2 * x"
   ]
  },
  {
   "cell_type": "code",
   "execution_count": null,
   "metadata": {},
   "outputs": [],
   "source": [
    "x = np.linspace(0, 5, 100)\n",
    "print(x)"
   ]
  },
  {
   "cell_type": "code",
   "execution_count": null,
   "metadata": {},
   "outputs": [],
   "source": [
    "y = f(x)\n",
    "print(y)"
   ]
  },
  {
   "cell_type": "code",
   "execution_count": null,
   "metadata": {},
   "outputs": [],
   "source": [
    "plt.plot(x,y)\n",
    "plt.grid()\n",
    "plt.xlim(0, 4)\n",
    "plt.ylim(0, 8)\n",
    "plt.xticks(np.arange(0, 5))\n",
    "plt.yticks(np.arange(0, 9))\n",
    "\n",
    "plt.annotate('', xy=(2,2), xytext=(1,2), arrowprops=dict(facecolor='red'))\n",
    "plt.annotate('', xy=(2,4), xytext=(2,2), arrowprops=dict(facecolor='red'))\n",
    "plt.show()"
   ]
  },
  {
   "cell_type": "markdown",
   "metadata": {},
   "source": [
    "x의 변화에 대한 y의 변화를 나타내는 것이 기울기의 의미"
   ]
  },
  {
   "cell_type": "code",
   "execution_count": null,
   "metadata": {},
   "outputs": [],
   "source": [
    "plt.plot(x,y)\n",
    "plt.grid()\n",
    "plt.xlim(0, 4)\n",
    "plt.ylim(0, 8)\n",
    "plt.xticks(np.arange(0, 5))\n",
    "plt.yticks(np.arange(0, 9))\n",
    "\n",
    "plt.annotate('', xy=(2,2), xytext=(1,2), arrowprops=dict(facecolor='red'))\n",
    "plt.annotate('', xy=(2,4), xytext=(2,2), arrowprops=dict(facecolor='red'))\n",
    "\n",
    "plt.annotate('', xy=(3,4), xytext=(2,4), arrowprops=dict(facecolor='red'))\n",
    "plt.annotate('', xy=(3,6), xytext=(3,4), arrowprops=dict(facecolor='red'))\n",
    "plt.show()"
   ]
  },
  {
   "cell_type": "markdown",
   "metadata": {},
   "source": [
    "- 어느 위치에서든 동일한 기울기를 구할 수 있다. \n",
    "- 직선인 경우 기울기의 변화가 없다. "
   ]
  },
  {
   "cell_type": "code",
   "execution_count": null,
   "metadata": {},
   "outputs": [],
   "source": [
    "f = lambda x: x**2 - 4 * x + 6"
   ]
  },
  {
   "cell_type": "code",
   "execution_count": null,
   "metadata": {},
   "outputs": [],
   "source": [
    "x = np.linspace(2, 5, 100)\n",
    "y = f(x)"
   ]
  },
  {
   "cell_type": "code",
   "execution_count": null,
   "metadata": {},
   "outputs": [],
   "source": [
    "plt.plot(x,y)\n",
    "plt.grid()\n",
    "plt.xlabel('x: speed')\n",
    "plt.ylabel('y: distance')\n",
    "plt.show()"
   ]
  },
  {
   "cell_type": "code",
   "execution_count": null,
   "metadata": {},
   "outputs": [],
   "source": [
    "plt.plot(x,y)\n",
    "plt.grid()\n",
    "\n",
    "plt.annotate('', xy=(3.0,2), xytext=(2.5,2), arrowprops=dict(facecolor='red'))\n",
    "plt.annotate('', xy=(3.0,3), xytext=(3.0,2), arrowprops=dict(facecolor='red'))\n",
    "\n",
    "plt.annotate('', xy=(4.5,6), xytext=(4.0,6), arrowprops=dict(facecolor='red'))\n",
    "plt.annotate('', xy=(4.5,8), xytext=(4.5,6), arrowprops=dict(facecolor='red'))\n",
    "\n",
    "plt.xlabel('x: speed')\n",
    "plt.ylabel('y: distance')\n",
    "plt.show()"
   ]
  },
  {
   "cell_type": "markdown",
   "metadata": {},
   "source": [
    "- 변화량(기울기)이 일정치가 않기 때문에\n",
    "- 변화량을 측정하는 위치마다 값이 다르게 나온다. \n",
    "- 직선과는 다르게 함수의 뚜렷한 변화량을 확인하기 어렵다. "
   ]
  },
  {
   "cell_type": "code",
   "execution_count": null,
   "metadata": {},
   "outputs": [],
   "source": [
    "plt.plot(x,y)\n",
    "plt.grid()\n",
    "\n",
    "plt.plot(4.0, 6, 'ro')\n",
    "plt.plot(4.5, 6, 'bo')\n",
    "\n",
    "plt.xlabel('x: speed')\n",
    "plt.ylabel('y: distance')\n",
    "plt.show()"
   ]
  },
  {
   "cell_type": "markdown",
   "metadata": {},
   "source": [
    "- 빨간점을 a, 파란점을 b라고 가정하면, ... \n",
    "- 평균변화율은 다음과 같이 정의 된다. \n",
    "\n",
    "$$\n",
    "    \\frac{\\Delta y}{\\Delta x} = \\frac{f(b) - f(a)}{b - a} = \\frac{f(a + \\Delta x) - f(a)}{\\Delta x}\n",
    "$$"
   ]
  },
  {
   "cell_type": "markdown",
   "metadata": {},
   "source": [
    "### 순간 변화율?\n",
    "\n",
    "- 충분히 작은 구간에서의 평균변화율\n",
    "- x의 변화량을 0.01 정도로 놓고 계산한다면?\n",
    "\n",
    "$$\n",
    "    df(x) = \\frac{f(x+0.01) - f(x)}{0.01}\n",
    "$$\n",
    "\n",
    "- 다음과 같은 함수를 가정해보자: $ f(x) = x^2 $\n",
    "- 이 함수의 순간변화율은 $2x$ 이다. \n",
    "- $x = 3$일때, 순간변화율은?\n",
    "$$\n",
    "    \\frac{d}{dx}f(3) = 2(3) = 6\n",
    "$$\n",
    "\n",
    "$$\n",
    "    df(3) = \\frac{f(3 + 0.01) - f(3)}{0.01} = \\frac{3.01^2 - 3^2}{0.01} = 6.01\n",
    "$$\n",
    "\n",
    "- 실제 순간 변화율과 비교해보면 오차가 있음을 알 수 있다. \n",
    "- 즉, 0.01 정도로 변화량을 작게 놓아도 순간변화라고 얘기할 수는 없다. \n",
    "- 0.001, 0.00001, 0.00000001, ... 0.00000000000000000001 아무리 작게 변화량을 정해도 오차는 계속 발생\n",
    "- 그럼 어느정도로 작아야 순간변화율이지?"
   ]
  },
  {
   "cell_type": "markdown",
   "metadata": {},
   "source": [
    "## 미분의 정의\n",
    "\n",
    "- 변화율을 아무리 작게 가져가도 순간변화율을 구할 수 없음을 확인했다\n",
    "- 극한(limit)의 개념을 사용(수렴, 극한, 급수, 유리수의 조밀성, 완비성 공리, ... ) - 수업에서는 자세하게 다루지는 않는다. \n",
    "\n",
    "$$\n",
    "  f'(a) = \\lim_{b\\to a} \\frac{f(b) - f(a)}{b-a} = \\lim_{ \\Delta x \\to 0} \\frac{f(x + \\Delta x) - f(x)}{\\Delta x}\n",
    "$$\n",
    "\n",
    "- 분모를 순간에 이를 정도로(극한) 작게 만들면 순간변화율 이라고 얘기하고, \n",
    "- 극한이 존재한다면, 이 극한값에 대한 평균변화율을 `순간변화율` 혹은 `미분계수`라고 하고,\n",
    "- 순간변화율은 그 위치에서의 접선의 기울기로 해석될 수 있다. \n",
    "- 미분계수를 값으로 하는 함수를 `도함수`라고 하고 $f'()$ `f 프라임` 이라고 표기한다. "
   ]
  },
  {
   "cell_type": "markdown",
   "metadata": {},
   "source": [
    "## 다항함수의 미분\n",
    "\n",
    "$$\n",
    "    f(x) = x^2\n",
    "$$\n",
    "\n",
    "1. 미분의 정의에 의하여 ... \n",
    "\n",
    "$$\n",
    "    \\lim_{\\Delta x \\to 0} \\frac{f(x + \\Delta x) - f(x)}{\\Delta x} = \\lim_{\\Delta x \\to 0} \\frac{(x + \\Delta x)^2 - x^2}{\\Delta x} = \\lim_{\\Delta x \\to 0} \\frac{x^2 + 2\\Delta x(x) + \\Delta x^2 - x^2}{\\Delta x} = \\lim_{\\Delta x \\to 0} \\frac{\\Delta x(2x + \\Delta x)}{\\Delta x} = 2x\n",
    "$$\n",
    "\n",
    "2. 거듭제곱에 대한 미분의 정의\n",
    "\n",
    "$$\n",
    "    \\frac{d}{dx}(x^n) = nx^{n-1} \\\\ \n",
    "    \\frac{d}{dx}(x^2) = 2x^{2-1} = 2x\n",
    "$$"
   ]
  },
  {
   "cell_type": "markdown",
   "metadata": {},
   "source": [
    "## 하지만 sympy를 사용한다면 ... "
   ]
  },
  {
   "cell_type": "code",
   "execution_count": null,
   "metadata": {},
   "outputs": [],
   "source": [
    "# sympy에서는 수식에 사용되는 변수를 기호로 취급\n",
    "# 때문에 sp.Symbol() 함수를 통해서 수식에 사용되는 변수를 기호로 바꿔줘야 한다. \n",
    "x = sp.Symbol('x')\n",
    "sp.diff(x**2, x)"
   ]
  },
  {
   "cell_type": "markdown",
   "metadata": {},
   "source": [
    "## 단일변수/일변수 함수의 미분"
   ]
  },
  {
   "cell_type": "markdown",
   "metadata": {},
   "source": [
    "$$\n",
    "    f(x) = x^2 + 4x + 6\n",
    "$$"
   ]
  },
  {
   "cell_type": "code",
   "execution_count": null,
   "metadata": {},
   "outputs": [],
   "source": [
    "def h(x):\n",
    "    return x ** 2 + 4 * x + 6\n",
    "\n",
    "def dh(x):\n",
    "    return 2 * x + 4"
   ]
  },
  {
   "cell_type": "code",
   "execution_count": null,
   "metadata": {},
   "outputs": [],
   "source": [
    "x = sp.Symbol('x')\n",
    "f = x ** 2 + 4 * x + 6\n",
    "sp.diff(f, x)"
   ]
  },
  {
   "cell_type": "markdown",
   "metadata": {},
   "source": [
    "### 다항함수와 도함수의 그래프"
   ]
  },
  {
   "cell_type": "code",
   "execution_count": null,
   "metadata": {},
   "outputs": [],
   "source": [
    "a = np.linspace(-5, 5, 100)\n",
    "fa = h(a)\n",
    "dfa = dh(a)"
   ]
  },
  {
   "cell_type": "code",
   "execution_count": null,
   "metadata": {},
   "outputs": [],
   "source": [
    "plt.subplot(2,1,1)\n",
    "plt.grid()\n",
    "plt.plot(a, fa, 'b-')\n",
    "\n",
    "plt.subplot(2,1,2)\n",
    "plt.grid()\n",
    "plt.plot(a, dfa, 'r:')\n",
    "plt.show()"
   ]
  },
  {
   "cell_type": "markdown",
   "metadata": {},
   "source": [
    "### 아래에 주어진 다항함수에 대한 미분계수를 구하고 그림도 그려 봅시다. \n",
    "$$\n",
    "    f(x) = x^3 - 5x\n",
    "$$"
   ]
  },
  {
   "cell_type": "code",
   "execution_count": null,
   "metadata": {},
   "outputs": [],
   "source": [
    "def h(x):\n",
    "    return x ** 3 - 5 * x\n",
    "\n",
    "def dh(x):\n",
    "    return 3 * x ** 2 - 5"
   ]
  },
  {
   "cell_type": "code",
   "execution_count": null,
   "metadata": {},
   "outputs": [],
   "source": [
    "x = sp.Symbol('x')\n",
    "f = x ** 3 - 5 * x\n",
    "sp.diff(f, x)"
   ]
  },
  {
   "cell_type": "markdown",
   "metadata": {},
   "source": [
    "### 다항함수와 도함수의 그래프"
   ]
  },
  {
   "cell_type": "code",
   "execution_count": null,
   "metadata": {},
   "outputs": [],
   "source": [
    "a = np.linspace(-5, 5, 100)\n",
    "fa = h(a)\n",
    "dfa = dh(a)"
   ]
  },
  {
   "cell_type": "code",
   "execution_count": null,
   "metadata": {},
   "outputs": [],
   "source": [
    "plt.subplot(2,1,1)\n",
    "plt.grid()\n",
    "plt.plot(a, fa, 'b-')\n",
    "\n",
    "plt.subplot(2,1,2)\n",
    "plt.grid()\n",
    "plt.plot(a, dfa, 'r:')\n",
    "plt.show()"
   ]
  }
 ],
 "metadata": {
  "kernelspec": {
   "display_name": "Python 3",
   "language": "python",
   "name": "python3"
  },
  "language_info": {
   "codemirror_mode": {
    "name": "ipython",
    "version": 3
   },
   "file_extension": ".py",
   "mimetype": "text/x-python",
   "name": "python",
   "nbconvert_exporter": "python",
   "pygments_lexer": "ipython3",
   "version": "3.8.3"
  }
 },
 "nbformat": 4,
 "nbformat_minor": 4
}
