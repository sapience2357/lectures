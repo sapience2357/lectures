{
 "cells": [
  {
   "cell_type": "code",
   "execution_count": 48,
   "metadata": {},
   "outputs": [
    {
     "name": "stdout",
     "output_type": "stream",
     "text": [
      "Collecting statsmodels\n",
      "  Downloading statsmodels-0.12.1-cp39-none-win_amd64.whl (9.4 MB)\n",
      "Requirement already satisfied: numpy>=1.15 in c:\\users\\user\\appdata\\local\\programs\\python\\python39\\lib\\site-packages (from statsmodels) (1.19.4)\n",
      "Collecting pandas>=0.21\n",
      "  Downloading pandas-1.2.0-cp39-cp39-win_amd64.whl (9.3 MB)\n",
      "Requirement already satisfied: python-dateutil>=2.7.3 in c:\\users\\user\\appdata\\local\\programs\\python\\python39\\lib\\site-packages (from pandas>=0.21->statsmodels) (2.8.1)\n",
      "Collecting patsy>=0.5\n",
      "  Downloading patsy-0.5.1-py2.py3-none-any.whl (231 kB)\n",
      "Requirement already satisfied: six in c:\\users\\user\\appdata\\local\\programs\\python\\python39\\lib\\site-packages (from patsy>=0.5->statsmodels) (1.15.0)\n",
      "Collecting pytz>=2017.3\n",
      "  Downloading pytz-2020.5-py2.py3-none-any.whl (510 kB)\n",
      "Collecting scipy>=1.1\n",
      "  Downloading scipy-1.6.0-cp39-cp39-win_amd64.whl (32.7 MB)\n",
      "Installing collected packages: pytz, scipy, patsy, pandas, statsmodels\n",
      "Successfully installed pandas-1.2.0 patsy-0.5.1 pytz-2020.5 scipy-1.6.0 statsmodels-0.12.1\n"
     ]
    }
   ],
   "source": [
    "!pip install statsmodels"
   ]
  },
  {
   "cell_type": "code",
   "execution_count": 49,
   "metadata": {},
   "outputs": [],
   "source": [
    "import numpy as np\n",
    "import sympy as sp\n",
    "import matplotlib.pyplot as plt\n",
    "import statsmodels.api as sm"
   ]
  },
  {
   "cell_type": "code",
   "execution_count": 42,
   "metadata": {},
   "outputs": [],
   "source": [
    "x = np.array([20,21,22,23,24])\n",
    "y = np.array([15,16,21,33,42])"
   ]
  },
  {
   "cell_type": "code",
   "execution_count": 43,
   "metadata": {},
   "outputs": [
    {
     "data": {
      "image/png": "[encoded data removed]",
      "text/plain": [
       "<Figure size 432x288 with 1 Axes>"
      ]
     },
     "metadata": {
      "needs_background": "light"
     },
     "output_type": "display_data"
    }
   ],
   "source": [
    "plt.plot(x,y, 'o')\n",
    "plt.grid()\n",
    "plt.xlabel('x')\n",
    "plt.ylabel('y')\n",
    "plt.show()"
   ]
  },
  {
   "cell_type": "markdown",
   "metadata": {},
   "source": [
    "## 선형적인 관계로 가정(모수적 추정)\n",
    "\n",
    "$$\n",
    "    f(x) = \\beta_0 + \\beta_1 x\n",
    "$$\n",
    "\n",
    "- 선형적인 관계로 가정하면 모수 $\\beta_0$와 $\\beta_1$을 찾는 문제로 바꿀 수 있다. \n",
    "- 함수를 찾아야 아주 어려운 문제에서 모수를 찾는 쉬운 문제가 된다. "
   ]
  },
  {
   "cell_type": "markdown",
   "metadata": {},
   "source": [
    "## 손실(loss), 오차(error), 비용(cost) 함수\n",
    "\n",
    "- Least Absolute Deaviation(최소절대오차, 최소절대잔차)\n",
    "$$\n",
    "\\arg\\min_{\\beta_0, \\beta_1} L(\\beta_0, \\beta_1) = \\sum_{i=1}^n |Y_i - \\hat Y| \\\\\n",
    "$$\n",
    "\n",
    "- Least Squares Estimation(최소제곱추정)\n",
    "$$\n",
    "\\arg\\min_{\\beta_0, \\beta_1} L(\\beta_0, \\beta_1) = \\sum_{i=1}^n(Y_i - \\hat Y)^2\n",
    "$$\n",
    "\n",
    "\n",
    "- LAD는 미분을 적용할 수 없습니다. "
   ]
  },
  {
   "cell_type": "markdown",
   "metadata": {},
   "source": [
    "## 손실함수의 정의 \n",
    "\n",
    "$$\n",
    "    L(\\beta_0, \\beta_1) = \\arg\\min_{\\beta_0, \\beta_1} \\sum_{i=1}^n (Y_i - \\beta_0 + \\beta_1 X_i)^2\n",
    "$$"
   ]
  },
  {
   "cell_type": "markdown",
   "metadata": {},
   "source": [
    "# 자 이제 아이스크림 문제를 풀어 볼게요(선형 회귀)"
   ]
  },
  {
   "cell_type": "markdown",
   "metadata": {},
   "source": [
    "1. 미분 계수를 구해봅시다. \n",
    "    - 기울기 함수(도함수)를 정의 \n",
    "    - 반복 풀이법을 통해서 기울기가 작아지는 방향으로 모수를 추정할 수 있게 된다. "
   ]
  },
  {
   "cell_type": "code",
   "execution_count": null,
   "metadata": {},
   "outputs": [],
   "source": [
    "beta0 = sp.symbols('beta0')\n",
    "beta1 = sp.symbols('beta1')\n",
    "x = sp.symbols('x')\n",
    "y = sp.symbols('y')\n",
    "f = (y - (beta0 + beta1 * x)) ** 2\n",
    "f"
   ]
  },
  {
   "cell_type": "code",
   "execution_count": null,
   "metadata": {},
   "outputs": [],
   "source": [
    "sp.diff(f, beta0)"
   ]
  },
  {
   "cell_type": "code",
   "execution_count": null,
   "metadata": {},
   "outputs": [],
   "source": [
    "sp.diff(f, beta1)"
   ]
  },
  {
   "cell_type": "markdown",
   "metadata": {},
   "source": [
    "2. 함수를 정의 해봅시다. "
   ]
  },
  {
   "cell_type": "code",
   "execution_count": null,
   "metadata": {},
   "outputs": [],
   "source": [
    "def loss(beta0, beta1):\n",
    "    yhat = beta0 + beta1 * x\n",
    "    return np.sum( (y - yhat) ** 2 )\n",
    "\n",
    "def grad_beta0(beta0, beta1):\n",
    "    return np.sum( 2 * beta0 + 2 * beta1 * x - 2 * y )\n",
    "\n",
    "def grad_beta1(beta0, beta1):\n",
    "    return np.sum( -2 * x *( -beta0 - beta1 * x + y))"
   ]
  },
  {
   "cell_type": "code",
   "execution_count": 70,
   "metadata": {},
   "outputs": [],
   "source": [
    "x = np.array([20,21,22,23,24])\n",
    "y = np.array([15,16,21,33,42])"
   ]
  },
  {
   "cell_type": "markdown",
   "metadata": {},
   "source": [
    "3. 반복 풀이법을 통한 모수 추정"
   ]
  },
  {
   "cell_type": "code",
   "execution_count": 51,
   "metadata": {},
   "outputs": [],
   "source": [
    "w0 = np.array([0,0])\n",
    "maxIter = 1000000\n",
    "learning_rate = 0.0001\n",
    "\n",
    "for it in range(maxIter):\n",
    "    grad = np.array([grad_beta0(*w0), grad_beta1(*w0)])\n",
    "    w1 = w0 - learning_rate * grad\n",
    "    # print('weight: {}, f value: {}'.format(w0, loss(*w0)))\n",
    "    w0 = w1"
   ]
  },
  {
   "cell_type": "code",
   "execution_count": 52,
   "metadata": {},
   "outputs": [
    {
     "data": {
      "text/plain": [
       "45.19545418160304"
      ]
     },
     "execution_count": 52,
     "metadata": {},
     "output_type": "execute_result"
    }
   ],
   "source": [
    "loss(*w0)"
   ]
  },
  {
   "cell_type": "code",
   "execution_count": 53,
   "metadata": {},
   "outputs": [],
   "source": [
    "beta = w0"
   ]
  },
  {
   "cell_type": "code",
   "execution_count": 54,
   "metadata": {},
   "outputs": [
    {
     "data": {
      "text/plain": [
       "array([-128.64614923,    7.00249976])"
      ]
     },
     "execution_count": 54,
     "metadata": {},
     "output_type": "execute_result"
    }
   ],
   "source": [
    "beta"
   ]
  },
  {
   "cell_type": "code",
   "execution_count": 55,
   "metadata": {},
   "outputs": [
    {
     "data": {
      "image/png": "[encoded data removed]",
      "text/plain": [
       "<Figure size 432x288 with 1 Axes>"
      ]
     },
     "metadata": {
      "needs_background": "light"
     },
     "output_type": "display_data"
    }
   ],
   "source": [
    "plt.plot(x,y, 'o')\n",
    "plt.grid()\n",
    "plt.xlabel('x')\n",
    "plt.ylabel('y')\n",
    "\n",
    "plt.plot(x, beta[0] + beta[1] * x, 'r-')\n",
    "plt.show()"
   ]
  },
  {
   "cell_type": "markdown",
   "metadata": {},
   "source": [
    "# statemodels 패키지"
   ]
  },
  {
   "cell_type": "code",
   "execution_count": 71,
   "metadata": {},
   "outputs": [
    {
     "name": "stdout",
     "output_type": "stream",
     "text": [
      "[20 21 22 23 24]\n",
      "[15 16 21 33 42]\n"
     ]
    }
   ],
   "source": [
    "print(x)\n",
    "print(y)"
   ]
  },
  {
   "cell_type": "code",
   "execution_count": 72,
   "metadata": {},
   "outputs": [],
   "source": [
    "x = sm.add_constant(x, has_constant='add')"
   ]
  },
  {
   "cell_type": "code",
   "execution_count": 73,
   "metadata": {},
   "outputs": [],
   "source": [
    "model = sm.OLS(y, x).fit()"
   ]
  },
  {
   "cell_type": "code",
   "execution_count": 74,
   "metadata": {},
   "outputs": [
    {
     "data": {
      "text/plain": [
       "array([-130.8,    7.1])"
      ]
     },
     "execution_count": 74,
     "metadata": {},
     "output_type": "execute_result"
    }
   ],
   "source": [
    "model.params"
   ]
  },
  {
   "cell_type": "markdown",
   "metadata": {},
   "source": [
    "- statsmodels 패키지에는 우리가 지금까지 numpy를 이용해서 확인했던 선형회귀를 구현해주는 라이브러리가 포함되어 있다. \n",
    "- 해당 라이브러리를 이용하면 매우 쉽게 회귀계수를 추정할 수 있습니다. "
   ]
  }
 ],
 "metadata": {
  "kernelspec": {
   "display_name": "Python 3",
   "language": "python",
   "name": "python3"
  },
  "language_info": {
   "codemirror_mode": {
    "name": "ipython",
    "version": 3
   },
   "file_extension": ".py",
   "mimetype": "text/x-python",
   "name": "python",
   "nbconvert_exporter": "python",
   "pygments_lexer": "ipython3",
   "version": "3.9.1"
  }
 },
 "nbformat": 4,
 "nbformat_minor": 4
}
