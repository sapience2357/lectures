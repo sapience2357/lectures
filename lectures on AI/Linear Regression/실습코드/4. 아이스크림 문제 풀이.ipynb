{
 "cells": [
  {
   "cell_type": "code",
   "execution_count": 1,
   "metadata": {},
   "outputs": [],
   "source": [
    "import numpy as np\n",
    "import sympy as sp\n",
    "import matplotlib.pyplot as plt"
   ]
  },
  {
   "cell_type": "code",
   "execution_count": 11,
   "metadata": {},
   "outputs": [],
   "source": [
    "x = np.array([20,21,22,23,24])\n",
    "y = np.array([15,16,21,33,42])"
   ]
  },
  {
   "cell_type": "code",
   "execution_count": 4,
   "metadata": {},
   "outputs": [
    {
     "data": {
      "image/png": "[encoded data removed]",
      "text/plain": [
       "<Figure size 432x288 with 1 Axes>"
      ]
     },
     "metadata": {
      "needs_background": "light"
     },
     "output_type": "display_data"
    }
   ],
   "source": [
    "plt.plot(x,y, 'o')\n",
    "plt.grid()\n",
    "plt.xlabel('x')\n",
    "plt.ylabel('y')\n",
    "plt.show()"
   ]
  },
  {
   "cell_type": "markdown",
   "metadata": {},
   "source": [
    "## 선형적인 관계로 가정(모수적 추정)\n",
    "- y = ax + b\n",
    "- 주어진 데이터를 가장 잘 설명할 수 있는 선 하나를 찾는 것"
   ]
  },
  {
   "cell_type": "markdown",
   "metadata": {},
   "source": [
    "## error function(오차함수) or cost function\n",
    "\n",
    "- Squared Error\n",
    "- Mean Squared Error(MSE)\n",
    "\n",
    "$$\n",
    "    \\sum_{i = 1}^n | Y_i - (ax_i + b) | ^2\n",
    "$$\n",
    "\n",
    "$$\n",
    "    min_{a,b} \\sum_{i = 1}^n | Y_i - (ax_i + b) | ^2\n",
    "$$"
   ]
  },
  {
   "cell_type": "markdown",
   "metadata": {},
   "source": [
    "1. 주어진 선에서: ax + b\n",
    "2. 어떤 기준으로: squared error\n",
    "3. 가장 좋은: 최소로 하는\n",
    "4. 선을 찾는 것입니다: a, b\n",
    "\n",
    "$$\n",
    "    (a, b) = argmin_{a, b} \\sum_{i = 1}^n | Y_i - (ax_i + b) | ^2\n",
    "$$"
   ]
  },
  {
   "cell_type": "markdown",
   "metadata": {},
   "source": [
    "# 자 이제 아이스크림 문제를 풀어 볼게요(선형 회귀)"
   ]
  },
  {
   "cell_type": "code",
   "execution_count": null,
   "metadata": {},
   "outputs": [],
   "source": [
    "x = np.array([20,21,22,23,24])\n",
    "y = np.array([15,16,21,33,42])"
   ]
  },
  {
   "cell_type": "code",
   "execution_count": null,
   "metadata": {},
   "outputs": [],
   "source": [
    "plt.plot(x,y, 'o')\n",
    "plt.grid()\n",
    "plt.xlabel('x')\n",
    "plt.ylabel('y')\n",
    "plt.show()"
   ]
  },
  {
   "cell_type": "markdown",
   "metadata": {},
   "source": [
    "## 선형적인 관계로 가정(모수적 추정)\n",
    "- y = ax + b\n",
    "- 주어진 데이터를 가장 잘 설명할 수 있는 선 하나를 찾는 것"
   ]
  },
  {
   "cell_type": "markdown",
   "metadata": {},
   "source": [
    "## error function(오차함수) or cost function\n",
    "\n",
    "- Squared Error\n",
    "- Mean Squared Error(MSE)\n",
    "\n",
    "$$\n",
    "    \\sum_{i = 1}^n | Y_i - (ax_i + b) | ^2\n",
    "$$\n",
    "\n",
    "$$\n",
    "    min_{a,b} \\sum_{i = 1}^n | Y_i - (ax_i + b) | ^2\n",
    "$$"
   ]
  },
  {
   "cell_type": "markdown",
   "metadata": {},
   "source": [
    "1. 주어진 선에서: ax + b\n",
    "2. 어떤 기준으로: squared error\n",
    "3. 가장 좋은: 최소로 하는\n",
    "4. 선을 찾는 것입니다: a, b\n",
    "\n",
    "$$\n",
    "    (a, b) = argmin_{a, b} \\sum_{i = 1}^n | Y_i - (ax_i + b) | ^2\n",
    "$$"
   ]
  },
  {
   "cell_type": "code",
   "execution_count": 7,
   "metadata": {},
   "outputs": [
    {
     "data": {
      "text/latex": [
       "$\\displaystyle \\left(a x + b - y\\right)^{2}$"
      ],
      "text/plain": [
       "(a*x + b - y)**2"
      ]
     },
     "execution_count": 7,
     "metadata": {},
     "output_type": "execute_result"
    }
   ],
   "source": [
    "a = sp.symbols('a')\n",
    "b = sp.symbols('b')\n",
    "x = sp.symbols('x')\n",
    "y = sp.symbols('y')\n",
    "f = (a * x + b - y) ** 2\n",
    "f"
   ]
  },
  {
   "cell_type": "code",
   "execution_count": 8,
   "metadata": {},
   "outputs": [
    {
     "data": {
      "text/latex": [
       "$\\displaystyle 2 x \\left(a x + b - y\\right)$"
      ],
      "text/plain": [
       "2*x*(a*x + b - y)"
      ]
     },
     "execution_count": 8,
     "metadata": {},
     "output_type": "execute_result"
    }
   ],
   "source": [
    "sp.diff(f, a)"
   ]
  },
  {
   "cell_type": "code",
   "execution_count": 9,
   "metadata": {},
   "outputs": [
    {
     "data": {
      "text/latex": [
       "$\\displaystyle 2 a x + 2 b - 2 y$"
      ],
      "text/plain": [
       "2*a*x + 2*b - 2*y"
      ]
     },
     "execution_count": 9,
     "metadata": {},
     "output_type": "execute_result"
    }
   ],
   "source": [
    "sp.diff(f, b)"
   ]
  },
  {
   "cell_type": "code",
   "execution_count": 10,
   "metadata": {},
   "outputs": [],
   "source": [
    "def error(a, b):\n",
    "    return np.sum(((a * x + b) - y) ** 2)\n",
    "\n",
    "def grad_a(a, b):\n",
    "    return np.sum( 2 * x * (a * x + b - y))\n",
    "\n",
    "def grad_b(a, b):\n",
    "    return np.sum( 2 * (a * x + b - y))"
   ]
  },
  {
   "cell_type": "code",
   "execution_count": 12,
   "metadata": {},
   "outputs": [],
   "source": [
    "w0 = np.array([0,0])\n",
    "maxIter = 1000000\n",
    "learning_rate = 0.0001\n",
    "\n",
    "for it in range(maxIter):\n",
    "    grad = np.array([grad_a(*w0), grad_b(*w0)])\n",
    "    w1 = w0 - learning_rate * grad\n",
    "    # print('weight: {}, f value: {}'.format(w0, error(*w0)))\n",
    "    w0 = w1"
   ]
  },
  {
   "cell_type": "code",
   "execution_count": 13,
   "metadata": {},
   "outputs": [
    {
     "data": {
      "text/plain": [
       "array([   7.00249976, -128.64614923])"
      ]
     },
     "execution_count": 13,
     "metadata": {},
     "output_type": "execute_result"
    }
   ],
   "source": [
    "w0"
   ]
  },
  {
   "cell_type": "code",
   "execution_count": 14,
   "metadata": {},
   "outputs": [
    {
     "data": {
      "image/png": "[encoded data removed]",
      "text/plain": [
       "<Figure size 432x288 with 1 Axes>"
      ]
     },
     "metadata": {
      "needs_background": "light"
     },
     "output_type": "display_data"
    }
   ],
   "source": [
    "plt.plot(x,y, 'o')\n",
    "plt.grid()\n",
    "plt.xlabel('x')\n",
    "plt.ylabel('y')\n",
    "\n",
    "plt.plot(x, w1[0] * x + w1[1], 'r-')\n",
    "plt.show()"
   ]
  },
  {
   "cell_type": "code",
   "execution_count": null,
   "metadata": {},
   "outputs": [],
   "source": []
  }
 ],
 "metadata": {
  "kernelspec": {
   "display_name": "Python 3",
   "language": "python",
   "name": "python3"
  },
  "language_info": {
   "codemirror_mode": {
    "name": "ipython",
    "version": 3
   },
   "file_extension": ".py",
   "mimetype": "text/x-python",
   "name": "python",
   "nbconvert_exporter": "python",
   "pygments_lexer": "ipython3",
   "version": "3.8.3"
  }
 },
 "nbformat": 4,
 "nbformat_minor": 4
}
