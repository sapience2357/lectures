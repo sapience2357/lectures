{
 "cells": [
  {
   "cell_type": "code",
   "execution_count": 2,
   "metadata": {},
   "outputs": [],
   "source": [
    "import numpy as np"
   ]
  },
  {
   "cell_type": "markdown",
   "metadata": {},
   "source": [
    "## 선형대수를 통한 해를 구하기\n",
    "\n",
    "\\begin{equation}\n",
    "\\begin{bmatrix}\n",
    "1 & 4 & 2 & 0 \\\\\n",
    "9 & 5 & 0 & 0 \\\\\n",
    "4 & 0 & 2 & 4 \\\\\n",
    "6 & 1 & 8 & 3\n",
    "\\end{bmatrix}\n",
    "\\begin{bmatrix}\n",
    "x_1\\\\x_2\\\\x_3\\\\x_4\n",
    "\\end{bmatrix}=\n",
    "\\begin{bmatrix}\n",
    "15\\\\19\\\\26\\\\44\n",
    "\\end{bmatrix}\n",
    "\\end{equation}"
   ]
  },
  {
   "cell_type": "markdown",
   "metadata": {},
   "source": [
    "### 역행렬\n",
    "- 정수: + 연산에 대해서 역원의 존재성을 보장, 하지만 * 에 대해서는 보장하지 않음\n",
    "- 실수: +, * 연산에 대해서 역원의 존재성을 보장\n",
    "\n",
    "- 행렬: 역행렬이 존재, 무조건 존재하지는 않는다. \n",
    "- 역행렬은 존재할 수도 있고, 없을수도 있다. \n"
   ]
  },
  {
   "cell_type": "markdown",
   "metadata": {},
   "source": [
    "### 역행열의 존재성(?)\n",
    "- 반드시 정방행렬 이어야만 한다. \n",
    "- determinant(판별식) != 0 경우는 역행렬이 존재 한다!"
   ]
  },
  {
   "cell_type": "code",
   "execution_count": 18,
   "metadata": {},
   "outputs": [
    {
     "name": "stdout",
     "output_type": "stream",
     "text": [
      "[[1 4 2 0]\n",
      " [9 5 0 0]\n",
      " [4 0 2 4]\n",
      " [6 1 8 3]]\n",
      "[[15]\n",
      " [19]\n",
      " [26]\n",
      " [44]]\n"
     ]
    }
   ],
   "source": [
    "A = np.matrix('1,4,2,0; 9,5,0,0; 4,0,2,4;6,1,8,3')\n",
    "y = np.matrix('15;19;26;44')\n",
    "print(A)\n",
    "print(y)"
   ]
  },
  {
   "cell_type": "code",
   "execution_count": 19,
   "metadata": {},
   "outputs": [
    {
     "data": {
      "text/plain": [
       "853.9999999999995"
      ]
     },
     "execution_count": 19,
     "metadata": {},
     "output_type": "execute_result"
    }
   ],
   "source": [
    "np.linalg.det(A)"
   ]
  },
  {
   "cell_type": "code",
   "execution_count": 20,
   "metadata": {},
   "outputs": [
    {
     "name": "stdout",
     "output_type": "stream",
     "text": [
      "[[-0.15222482  0.11241218 -0.03512881  0.04683841]\n",
      " [ 0.27400468 -0.00234192  0.06323185 -0.08430913]\n",
      " [ 0.02810304 -0.05152225 -0.1088993   0.14519906]\n",
      " [ 0.1381733  -0.08665105  0.33957845 -0.11943794]]\n"
     ]
    }
   ],
   "source": [
    "A_inv = np.linalg.inv(A)\n",
    "print(A_inv)"
   ]
  },
  {
   "cell_type": "code",
   "execution_count": 27,
   "metadata": {},
   "outputs": [
    {
     "name": "stdout",
     "output_type": "stream",
     "text": [
      "[[ 1.00000000e+00  0.00000000e+00 -2.77555756e-17  5.55111512e-17]\n",
      " [ 1.11022302e-16  1.00000000e+00  2.77555756e-17  0.00000000e+00]\n",
      " [ 1.11022302e-16  0.00000000e+00  1.00000000e+00  1.11022302e-16]\n",
      " [-8.32667268e-17  8.32667268e-17 -5.55111512e-17  1.00000000e+00]]\n"
     ]
    }
   ],
   "source": [
    "# 원래 행렬에 역행렬을 곱해주면 항등행렬이 나옵니다. \n",
    "print(A * A_inv)"
   ]
  },
  {
   "cell_type": "code",
   "execution_count": 30,
   "metadata": {},
   "outputs": [
    {
     "data": {
      "text/plain": [
       "matrix([[1.],\n",
       "        [2.],\n",
       "        [3.],\n",
       "        [4.]])"
      ]
     },
     "execution_count": 30,
     "metadata": {},
     "output_type": "execute_result"
    }
   ],
   "source": [
    "A_inv * y"
   ]
  },
  {
   "cell_type": "code",
   "execution_count": 11,
   "metadata": {},
   "outputs": [
    {
     "name": "stdout",
     "output_type": "stream",
     "text": [
      "[[1 4 2 0]\n",
      " [9 5 0 0]\n",
      " [4 0 2 4]\n",
      " [6 1 8 3]]\n",
      "[15 19 26 44]\n"
     ]
    }
   ],
   "source": [
    "A = np.array([\n",
    "    [1,4,2,0],\n",
    "    [9,5,0,0],\n",
    "    [4,0,2,4],\n",
    "    [6,1,8,3]\n",
    "])\n",
    "\n",
    "y = np.array([15, 19, 26, 44])\n",
    "\n",
    "print(A)\n",
    "print(y)"
   ]
  },
  {
   "cell_type": "code",
   "execution_count": 31,
   "metadata": {},
   "outputs": [
    {
     "data": {
      "text/plain": [
       "853.9999999999995"
      ]
     },
     "execution_count": 31,
     "metadata": {},
     "output_type": "execute_result"
    }
   ],
   "source": [
    "np.linalg.det(A)"
   ]
  },
  {
   "cell_type": "code",
   "execution_count": 32,
   "metadata": {},
   "outputs": [
    {
     "data": {
      "text/plain": [
       "matrix([[1.],\n",
       "        [2.],\n",
       "        [3.],\n",
       "        [4.]])"
      ]
     },
     "execution_count": 32,
     "metadata": {},
     "output_type": "execute_result"
    }
   ],
   "source": [
    "np.linalg.solve(A, y)"
   ]
  },
  {
   "cell_type": "markdown",
   "metadata": {},
   "source": [
    "### 해를 구해봅시다. \n",
    "\\begin{align}\n",
    "x_1 + x_2 &= 2\\\\\n",
    "2x_1 + 2x_2 &= 3\n",
    "\\end{align}\n",
    ", that is, \n",
    "\\begin{equation}\n",
    "\\begin{bmatrix}\n",
    "1 & 1 \\\\\n",
    "2 & 2 \n",
    "\\end{bmatrix}\n",
    "\\begin{bmatrix}\n",
    "x_1\\\\x_2\n",
    "\\end{bmatrix}=\n",
    "\\begin{bmatrix}\n",
    "2\\\\3\n",
    "\\end{bmatrix}\n",
    "\\end{equation}"
   ]
  },
  {
   "cell_type": "code",
   "execution_count": 33,
   "metadata": {},
   "outputs": [
    {
     "data": {
      "text/plain": [
       "0.0"
      ]
     },
     "execution_count": 33,
     "metadata": {},
     "output_type": "execute_result"
    }
   ],
   "source": [
    "A = np.matrix('1, 1; 2, 2')\n",
    "b = np.matrix('2;3')\n",
    "np.linalg.det(A)"
   ]
  },
  {
   "cell_type": "code",
   "execution_count": 34,
   "metadata": {},
   "outputs": [
    {
     "ename": "LinAlgError",
     "evalue": "Singular matrix",
     "output_type": "error",
     "traceback": [
      "\u001b[0;31m---------------------------------------------------------------------------\u001b[0m",
      "\u001b[0;31mLinAlgError\u001b[0m                               Traceback (most recent call last)",
      "\u001b[0;32m<ipython-input-34-1c1a7cd0e784>\u001b[0m in \u001b[0;36m<module>\u001b[0;34m\u001b[0m\n\u001b[0;32m----> 1\u001b[0;31m \u001b[0mx\u001b[0m \u001b[0;34m=\u001b[0m \u001b[0mnp\u001b[0m\u001b[0;34m.\u001b[0m\u001b[0mlinalg\u001b[0m\u001b[0;34m.\u001b[0m\u001b[0msolve\u001b[0m\u001b[0;34m(\u001b[0m\u001b[0mA\u001b[0m\u001b[0;34m,\u001b[0m \u001b[0mb\u001b[0m\u001b[0;34m)\u001b[0m\u001b[0;34m\u001b[0m\u001b[0;34m\u001b[0m\u001b[0m\n\u001b[0m",
      "\u001b[0;32m<__array_function__ internals>\u001b[0m in \u001b[0;36msolve\u001b[0;34m(*args, **kwargs)\u001b[0m\n",
      "\u001b[0;32m/usr/local/lib/python3.7/site-packages/numpy/linalg/linalg.py\u001b[0m in \u001b[0;36msolve\u001b[0;34m(a, b)\u001b[0m\n\u001b[1;32m    392\u001b[0m     \u001b[0msignature\u001b[0m \u001b[0;34m=\u001b[0m \u001b[0;34m'DD->D'\u001b[0m \u001b[0;32mif\u001b[0m \u001b[0misComplexType\u001b[0m\u001b[0;34m(\u001b[0m\u001b[0mt\u001b[0m\u001b[0;34m)\u001b[0m \u001b[0;32melse\u001b[0m \u001b[0;34m'dd->d'\u001b[0m\u001b[0;34m\u001b[0m\u001b[0;34m\u001b[0m\u001b[0m\n\u001b[1;32m    393\u001b[0m     \u001b[0mextobj\u001b[0m \u001b[0;34m=\u001b[0m \u001b[0mget_linalg_error_extobj\u001b[0m\u001b[0;34m(\u001b[0m\u001b[0m_raise_linalgerror_singular\u001b[0m\u001b[0;34m)\u001b[0m\u001b[0;34m\u001b[0m\u001b[0;34m\u001b[0m\u001b[0m\n\u001b[0;32m--> 394\u001b[0;31m     \u001b[0mr\u001b[0m \u001b[0;34m=\u001b[0m \u001b[0mgufunc\u001b[0m\u001b[0;34m(\u001b[0m\u001b[0ma\u001b[0m\u001b[0;34m,\u001b[0m \u001b[0mb\u001b[0m\u001b[0;34m,\u001b[0m \u001b[0msignature\u001b[0m\u001b[0;34m=\u001b[0m\u001b[0msignature\u001b[0m\u001b[0;34m,\u001b[0m \u001b[0mextobj\u001b[0m\u001b[0;34m=\u001b[0m\u001b[0mextobj\u001b[0m\u001b[0;34m)\u001b[0m\u001b[0;34m\u001b[0m\u001b[0;34m\u001b[0m\u001b[0m\n\u001b[0m\u001b[1;32m    395\u001b[0m \u001b[0;34m\u001b[0m\u001b[0m\n\u001b[1;32m    396\u001b[0m     \u001b[0;32mreturn\u001b[0m \u001b[0mwrap\u001b[0m\u001b[0;34m(\u001b[0m\u001b[0mr\u001b[0m\u001b[0;34m.\u001b[0m\u001b[0mastype\u001b[0m\u001b[0;34m(\u001b[0m\u001b[0mresult_t\u001b[0m\u001b[0;34m,\u001b[0m \u001b[0mcopy\u001b[0m\u001b[0;34m=\u001b[0m\u001b[0;32mFalse\u001b[0m\u001b[0;34m)\u001b[0m\u001b[0;34m)\u001b[0m\u001b[0;34m\u001b[0m\u001b[0;34m\u001b[0m\u001b[0m\n",
      "\u001b[0;32m/usr/local/lib/python3.7/site-packages/numpy/linalg/linalg.py\u001b[0m in \u001b[0;36m_raise_linalgerror_singular\u001b[0;34m(err, flag)\u001b[0m\n\u001b[1;32m     86\u001b[0m \u001b[0;34m\u001b[0m\u001b[0m\n\u001b[1;32m     87\u001b[0m \u001b[0;32mdef\u001b[0m \u001b[0m_raise_linalgerror_singular\u001b[0m\u001b[0;34m(\u001b[0m\u001b[0merr\u001b[0m\u001b[0;34m,\u001b[0m \u001b[0mflag\u001b[0m\u001b[0;34m)\u001b[0m\u001b[0;34m:\u001b[0m\u001b[0;34m\u001b[0m\u001b[0;34m\u001b[0m\u001b[0m\n\u001b[0;32m---> 88\u001b[0;31m     \u001b[0;32mraise\u001b[0m \u001b[0mLinAlgError\u001b[0m\u001b[0;34m(\u001b[0m\u001b[0;34m\"Singular matrix\"\u001b[0m\u001b[0;34m)\u001b[0m\u001b[0;34m\u001b[0m\u001b[0;34m\u001b[0m\u001b[0m\n\u001b[0m\u001b[1;32m     89\u001b[0m \u001b[0;34m\u001b[0m\u001b[0m\n\u001b[1;32m     90\u001b[0m \u001b[0;32mdef\u001b[0m \u001b[0m_raise_linalgerror_nonposdef\u001b[0m\u001b[0;34m(\u001b[0m\u001b[0merr\u001b[0m\u001b[0;34m,\u001b[0m \u001b[0mflag\u001b[0m\u001b[0;34m)\u001b[0m\u001b[0;34m:\u001b[0m\u001b[0;34m\u001b[0m\u001b[0;34m\u001b[0m\u001b[0m\n",
      "\u001b[0;31mLinAlgError\u001b[0m: Singular matrix"
     ]
    }
   ],
   "source": [
    "x = np.linalg.solve(A, b)"
   ]
  },
  {
   "cell_type": "markdown",
   "metadata": {},
   "source": [
    "### 선형방정식 풀이법\n",
    "\n",
    "1. 직접 풀이법(direct)\n",
    "- 가우스 소거법\n",
    "- ... \n",
    "\n",
    "2. 반복 풀이법(iteration )\n",
    "- Jacobi method\n",
    "- Conjucate Gradient Method -> steepest Gradient Decent(최적화)\n"
   ]
  },
  {
   "cell_type": "markdown",
   "metadata": {},
   "source": [
    "## Jacobi Method"
   ]
  },
  {
   "cell_type": "markdown",
   "metadata": {},
   "source": [
    "\\begin{equation}\n",
    "\\begin{bmatrix}\n",
    "10 & 4 & 2 & 0 \\\\\n",
    "9 & 15 & 0 & 0 \\\\\n",
    "4 & 0 & 12 & 4 \\\\\n",
    "6 & 1 & 8 & 13\n",
    "\\end{bmatrix}\n",
    "\\begin{bmatrix}\n",
    "x_1\\\\x_2\\\\x_3\\\\x_4\n",
    "\\end{bmatrix}=\n",
    "\\begin{bmatrix}\n",
    "15\\\\19\\\\26\\\\44\n",
    "\\end{bmatrix}\n",
    "\\end{equation}"
   ]
  },
  {
   "cell_type": "code",
   "execution_count": 13,
   "metadata": {},
   "outputs": [
    {
     "name": "stdout",
     "output_type": "stream",
     "text": [
      "[[10  4  2  0]\n",
      " [ 9 15  0  0]\n",
      " [ 4  0 12  4]\n",
      " [ 6  1  8 13]]\n"
     ]
    }
   ],
   "source": [
    "A = np.matrix('10,4,2,0; 9,15,0,0; 4,0,12,4;6,1,8,13')\n",
    "b = np.matrix('15;19;26;44')\n",
    "print(A)"
   ]
  },
  {
   "cell_type": "code",
   "execution_count": 14,
   "metadata": {},
   "outputs": [
    {
     "name": "stdout",
     "output_type": "stream",
     "text": [
      "[[10  0  0  0]\n",
      " [ 0 15  0  0]\n",
      " [ 0  0 12  0]\n",
      " [ 0  0  0 13]]\n"
     ]
    }
   ],
   "source": [
    "# 대각행렬을 먼저 구해 옵시다\n",
    "D = np.diag(np.diag(A))\n",
    "print(D)"
   ]
  },
  {
   "cell_type": "code",
   "execution_count": 15,
   "metadata": {},
   "outputs": [
    {
     "name": "stdout",
     "output_type": "stream",
     "text": [
      "[[0 4 2 0]\n",
      " [9 0 0 0]\n",
      " [4 0 0 4]\n",
      " [6 1 8 0]]\n"
     ]
    }
   ],
   "source": [
    "R = A - D\n",
    "print(R)"
   ]
  },
  {
   "cell_type": "code",
   "execution_count": 19,
   "metadata": {},
   "outputs": [
    {
     "name": "stdout",
     "output_type": "stream",
     "text": [
      "[[0.1        0.         0.         0.        ]\n",
      " [0.         0.06666667 0.         0.        ]\n",
      " [0.         0.         0.08333333 0.        ]\n",
      " [0.         0.         0.         0.07692308]]\n"
     ]
    }
   ],
   "source": [
    "D_inv = np.linalg.inv(D)\n",
    "print(D_inv)"
   ]
  },
  {
   "cell_type": "markdown",
   "metadata": {},
   "source": [
    "$$\n",
    "    x^{(k+1)} = D^{-1} (b - Rx^{(k)})\n",
    "$$"
   ]
  },
  {
   "cell_type": "code",
   "execution_count": 27,
   "metadata": {},
   "outputs": [
    {
     "name": "stdout",
     "output_type": "stream",
     "text": [
      "[[1.01814882]\n",
      " [0.65577737]\n",
      " [1.09770115]\n",
      " [2.18874773]]\n"
     ]
    }
   ],
   "source": [
    "MaxIter = 50\n",
    "# x0 = np.matrix('1;1;1;1')\n",
    "x0 = np.ones((4,1)) # 일벡터 \n",
    "\n",
    "for it in range(MaxIter):\n",
    "    x1 = D_inv * (b - R * x0)\n",
    "    x0 = x1\n",
    "print(x0)"
   ]
  },
  {
   "cell_type": "code",
   "execution_count": 5,
   "metadata": {},
   "outputs": [
    {
     "data": {
      "text/plain": [
       "matrix([[1.01814882],\n",
       "        [0.65577737],\n",
       "        [1.09770115],\n",
       "        [2.18874773]])"
      ]
     },
     "execution_count": 5,
     "metadata": {},
     "output_type": "execute_result"
    }
   ],
   "source": [
    "np.linalg.solve(A, y)"
   ]
  },
  {
   "cell_type": "code",
   "execution_count": 30,
   "metadata": {},
   "outputs": [
    {
     "name": "stdout",
     "output_type": "stream",
     "text": [
      "[[1 4 2 0]\n",
      " [9 5 0 0]\n",
      " [4 0 2 4]\n",
      " [6 1 8 3]]\n"
     ]
    }
   ],
   "source": [
    "# A = np.matrix('1,4,2,0; 9,5,0,0; 4,0,2,4;6,1,8,3')\n",
    "# b = np.matrix('15;19;26;44')\n",
    "A = np.array([\n",
    "    [1,4,2,0],\n",
    "    [9,5,0,0],\n",
    "    [4,0,2,4],\n",
    "    [6,1,8,3]\n",
    "])\n",
    "b = np.array([15, 19, 26, 44])\n",
    "print(A)"
   ]
  },
  {
   "cell_type": "code",
   "execution_count": 33,
   "metadata": {},
   "outputs": [
    {
     "data": {
      "text/plain": [
       "array([[1, 0, 0, 0],\n",
       "       [0, 5, 0, 0],\n",
       "       [0, 0, 2, 0],\n",
       "       [0, 0, 0, 3]])"
      ]
     },
     "execution_count": 33,
     "metadata": {},
     "output_type": "execute_result"
    }
   ],
   "source": [
    "D = np.diag(np.diag(A))\n",
    "D"
   ]
  },
  {
   "cell_type": "code",
   "execution_count": 34,
   "metadata": {},
   "outputs": [
    {
     "data": {
      "text/plain": [
       "array([[0, 4, 2, 0],\n",
       "       [9, 0, 0, 0],\n",
       "       [4, 0, 0, 4],\n",
       "       [6, 1, 8, 0]])"
      ]
     },
     "execution_count": 34,
     "metadata": {},
     "output_type": "execute_result"
    }
   ],
   "source": [
    "R = A - D\n",
    "R"
   ]
  },
  {
   "cell_type": "code",
   "execution_count": 38,
   "metadata": {},
   "outputs": [
    {
     "data": {
      "text/plain": [
       "array([[1.        , 0.        , 0.        , 0.        ],\n",
       "       [0.        , 0.2       , 0.        , 0.        ],\n",
       "       [0.        , 0.        , 0.5       , 0.        ],\n",
       "       [0.        , 0.        , 0.        , 0.33333333]])"
      ]
     },
     "execution_count": 38,
     "metadata": {},
     "output_type": "execute_result"
    }
   ],
   "source": [
    "np.linalg.det(D)\n",
    "D_inv = np.linalg.inv(D)\n",
    "D_inv"
   ]
  },
  {
   "cell_type": "code",
   "execution_count": 43,
   "metadata": {},
   "outputs": [
    {
     "name": "stdout",
     "output_type": "stream",
     "text": [
      "[nan nan nan nan]\n"
     ]
    }
   ],
   "source": [
    "maxIter = 1000 \n",
    "x0 = np.array([1,1,1,1])\n",
    "\n",
    "for it in range(maxIter):\n",
    "    x1 = np.dot( D_inv , (b - np.dot(R, x0)) )\n",
    "    x0 = x1\n",
    "print(x0)"
   ]
  },
  {
   "cell_type": "markdown",
   "metadata": {},
   "source": [
    "## Conjugate Gradient Method"
   ]
  },
  {
   "cell_type": "markdown",
   "metadata": {},
   "source": [
    "\\begin{equation}\n",
    "\\begin{bmatrix}\n",
    "10 & 4 & 2 & 0 \\\\\n",
    "9 & 15 & 0 & 0 \\\\\n",
    "4 & 0 & 12 & 4 \\\\\n",
    "6 & 1 & 8 & 13\n",
    "\\end{bmatrix}\n",
    "\\begin{bmatrix}\n",
    "x_1\\\\x_2\\\\x_3\\\\x_4\n",
    "\\end{bmatrix}=\n",
    "\\begin{bmatrix}\n",
    "15\\\\19\\\\26\\\\44\n",
    "\\end{bmatrix}\n",
    "\\end{equation}"
   ]
  },
  {
   "cell_type": "code",
   "execution_count": 15,
   "metadata": {},
   "outputs": [
    {
     "name": "stdout",
     "output_type": "stream",
     "text": [
      "[[10  4  2  0]\n",
      " [ 9 15  0  0]\n",
      " [ 4  0 12  4]\n",
      " [ 6  1  8 13]]\n"
     ]
    }
   ],
   "source": [
    "A = np.matrix('10,4,2,0; 9,15,0,0; 4,0,12,4;6,1,8,13')\n",
    "b = np.matrix('15;19;26;44')\n",
    "print(A)"
   ]
  },
  {
   "cell_type": "markdown",
   "metadata": {},
   "source": [
    "$\\alpha_k = \\frac{r_k^T r_k}{p_k^T A p_k}$\n",
    "$\\beta_k = \\frac{r_{k+1}^T r_{k+1}}{r_k^T r_k}$"
   ]
  },
  {
   "cell_type": "code",
   "execution_count": 16,
   "metadata": {},
   "outputs": [
    {
     "name": "stdout",
     "output_type": "stream",
     "text": [
      "[[1.03200636]\n",
      " [0.63915819]\n",
      " [1.10532813]\n",
      " [2.20013736]]\n"
     ]
    }
   ],
   "source": [
    "x0 = np.matrix('1;1;1;1')\n",
    "r0 = b - A * x0\n",
    "p0 = r0\n",
    "\n",
    "maxIter = 5\n",
    "for it in range(maxIter):\n",
    "    \n",
    "    a0 = (r0.T * r0) / (p0.T * A * p0)\n",
    "    \n",
    "    x1 = x0 + a0[0,0] * p0\n",
    "    r1 = r0 - a0[0,0] * A * p0\n",
    "    \n",
    "    if np.linalg.norm(r1) < 1E-8:\n",
    "        break\n",
    "        \n",
    "    b0 = (r1.T * r1) / (r0.T * r0)\n",
    "    p1 = r1 + b0[0,0] * p0\n",
    "    \n",
    "    r0 = r1\n",
    "    p0 = p1\n",
    "    x0 = x1\n",
    "\n",
    "print(x0)"
   ]
  },
  {
   "cell_type": "markdown",
   "metadata": {},
   "source": [
    "## 해를 구해 봅시다 \n",
    "\n",
    "\\begin{equation}\n",
    "\\begin{bmatrix}\n",
    "1 & 4 & 2 & 0 \\\\\n",
    "9 & 5 & 0 & 0 \\\\\n",
    "4 & 0 & 2 & 4 \\\\\n",
    "6 & 1 & 8 & 3\n",
    "\\end{bmatrix}\n",
    "\\begin{bmatrix}\n",
    "x_1\\\\x_2\\\\x_3\\\\x_4\n",
    "\\end{bmatrix}=\n",
    "\\begin{bmatrix}\n",
    "15\\\\19\\\\26\\\\44\n",
    "\\end{bmatrix}\n",
    "\\end{equation}"
   ]
  },
  {
   "cell_type": "code",
   "execution_count": 21,
   "metadata": {},
   "outputs": [
    {
     "name": "stdout",
     "output_type": "stream",
     "text": [
      "[[1 4 2 0]\n",
      " [9 5 0 0]\n",
      " [4 0 2 4]\n",
      " [6 1 8 3]]\n"
     ]
    }
   ],
   "source": [
    "A = np.array([\n",
    "    [1,4,2,0],\n",
    "    [9,5,0,0],\n",
    "    [4,0,2,4],\n",
    "    [6,1,8,3]\n",
    "])\n",
    "b = np.array([15, 19, 26, 44])\n",
    "print(A)"
   ]
  },
  {
   "cell_type": "code",
   "execution_count": 29,
   "metadata": {},
   "outputs": [
    {
     "name": "stdout",
     "output_type": "stream",
     "text": [
      "[0.98215476 2.01296542 3.0121475  4.01055586]\n"
     ]
    }
   ],
   "source": [
    "# matrix 타입을 이용하여 내적(dot product/inner product)을 편하게 구해도 되시고요..\n",
    "# array 타입으로도 구현을 해보시면 좋겠죠?\n",
    "\n",
    "x0 = np.array([1,1,1,1]) # 일벡터의 1차원 행렬\n",
    "r0 = b - np.dot(A, x0)\n",
    "p0 = r0\n",
    "\n",
    "maxIter = 10000\n",
    "\n",
    "for it in range(maxIter):\n",
    "    a0 = np.dot(r0, r0) / np.dot( p0, np.dot(A, p0))\n",
    "    x1 = x0 + a0 * p0\n",
    "    r1 = r0 - a0 * np.dot(A, p0)\n",
    "    \n",
    "    if np.linalg.norm(r1) < 1e-8:\n",
    "        break\n",
    "        \n",
    "    b0 = np.dot(r1, r1) / np.dot(r0, r0)\n",
    "    p1 = r1 + b0 * p0\n",
    "    \n",
    "    r0 = r1\n",
    "    p0 = p1\n",
    "    x0 = x1\n",
    "\n",
    "print(x0)"
   ]
  },
  {
   "cell_type": "code",
   "execution_count": 30,
   "metadata": {},
   "outputs": [
    {
     "data": {
      "text/plain": [
       "array([1., 2., 3., 4.])"
      ]
     },
     "execution_count": 30,
     "metadata": {},
     "output_type": "execute_result"
    }
   ],
   "source": [
    "np.linalg.solve(A,b)"
   ]
  },
  {
   "cell_type": "markdown",
   "metadata": {},
   "source": [
    "# 고차원 선형방정식 풀이\n",
    "- 직접 풀이 방식\n",
    "- 반복적 풀이 방식\n",
    "    - 야코비 방법\n",
    "    - conjugated Gradient Method\n",
    "    \n",
    "## 수학적으로 깊이있게 다루진 않았지만 ...\n",
    "- 고차원의 풀리지 않는 문제들에 대해서 선형방정식을 반복적으로 접근함으로 인해서 문제를 해결\n",
    "- 선형방정식의 반복적인 계산으로 단순화 해서 문제를 해결\n",
    "- 어쨋든 선형방정식을 풀어야 하는 문제는 남아있게 된다. \n",
    "\n",
    "\n",
    "## 복잡해 보이는 수식들에 대해서 너무 어려워 하지 않았으면 ... "
   ]
  }
 ],
 "metadata": {
  "kernelspec": {
   "display_name": "Python 3",
   "language": "python",
   "name": "python3"
  },
  "language_info": {
   "codemirror_mode": {
    "name": "ipython",
    "version": 3
   },
   "file_extension": ".py",
   "mimetype": "text/x-python",
   "name": "python",
   "nbconvert_exporter": "python",
   "pygments_lexer": "ipython3",
   "version": "3.8.3"
  }
 },
 "nbformat": 4,
 "nbformat_minor": 4
}
