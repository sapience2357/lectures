{
 "cells": [
  {
   "cell_type": "code",
   "execution_count": 1,
   "metadata": {},
   "outputs": [],
   "source": [
    "import numpy as np\n",
    "import matplotlib.pyplot as plt"
   ]
  },
  {
   "cell_type": "markdown",
   "metadata": {},
   "source": [
    "#  numpy의 연산 \n",
    "- 엄밀한 수학적 정의를 따르지 않습니다. \n",
    "- 파이썬에서 연산이 어떻게 구현되는지, 결과가 어떻게 나오는지 \n",
    "- 스케일러, 벡터, 행렬간의 연산( +, -, *, / )"
   ]
  },
  {
   "cell_type": "code",
   "execution_count": 2,
   "metadata": {},
   "outputs": [],
   "source": [
    "vec = np.random.randint(10, size=(4,1))"
   ]
  },
  {
   "cell_type": "code",
   "execution_count": 3,
   "metadata": {},
   "outputs": [
    {
     "data": {
      "text/plain": [
       "array([[4],\n",
       "       [3],\n",
       "       [0],\n",
       "       [0]])"
      ]
     },
     "execution_count": 3,
     "metadata": {},
     "output_type": "execute_result"
    }
   ],
   "source": [
    "vec"
   ]
  },
  {
   "cell_type": "code",
   "execution_count": 4,
   "metadata": {},
   "outputs": [
    {
     "data": {
      "text/plain": [
       "array([[40],\n",
       "       [30],\n",
       "       [ 0],\n",
       "       [ 0]])"
      ]
     },
     "execution_count": 4,
     "metadata": {},
     "output_type": "execute_result"
    }
   ],
   "source": [
    "10 * vec"
   ]
  },
  {
   "cell_type": "code",
   "execution_count": 5,
   "metadata": {},
   "outputs": [
    {
     "data": {
      "text/plain": [
       "array([[5, 9, 5],\n",
       "       [8, 8, 6],\n",
       "       [0, 9, 4],\n",
       "       [4, 5, 8]])"
      ]
     },
     "execution_count": 5,
     "metadata": {},
     "output_type": "execute_result"
    }
   ],
   "source": [
    "mat = np.random.randint(10, size=(4,3))\n",
    "mat"
   ]
  },
  {
   "cell_type": "code",
   "execution_count": 6,
   "metadata": {},
   "outputs": [
    {
     "data": {
      "text/plain": [
       "array([[20, 36, 20],\n",
       "       [24, 24, 18],\n",
       "       [ 0,  0,  0],\n",
       "       [ 0,  0,  0]])"
      ]
     },
     "execution_count": 6,
     "metadata": {},
     "output_type": "execute_result"
    }
   ],
   "source": [
    "vec * mat"
   ]
  },
  {
   "cell_type": "markdown",
   "metadata": {},
   "source": [
    "## inner product(dot product)\n",
    "- 내적\n",
    "$$\n",
    "    \\mathbb{A}^T \\cdot \\mathbb{B}\n",
    "$$"
   ]
  },
  {
   "cell_type": "markdown",
   "metadata": {},
   "source": [
    "### 벡터의 내적\n",
    "$$\n",
    "    \\begin{bmatrix}\n",
    "            1 &\n",
    "            9 & \n",
    "            4 & \n",
    "            6  \n",
    "    \\end{bmatrix} \\cdot\n",
    "    \\begin{bmatrix}\n",
    "            1 \\\\\n",
    "            2 \\\\\n",
    "            3 \\\\\n",
    "            4 \\\\\n",
    "    \\end{bmatrix}\n",
    "$$"
   ]
  },
  {
   "cell_type": "code",
   "execution_count": 7,
   "metadata": {},
   "outputs": [
    {
     "data": {
      "text/plain": [
       "array([1, 9, 4, 6])"
      ]
     },
     "execution_count": 7,
     "metadata": {},
     "output_type": "execute_result"
    }
   ],
   "source": [
    "A = np.array([1,9,4,6])\n",
    "A"
   ]
  },
  {
   "cell_type": "code",
   "execution_count": 8,
   "metadata": {},
   "outputs": [
    {
     "data": {
      "text/plain": [
       "array([[1],\n",
       "       [2],\n",
       "       [3],\n",
       "       [4]])"
      ]
     },
     "execution_count": 8,
     "metadata": {},
     "output_type": "execute_result"
    }
   ],
   "source": [
    "B = np.array([1,2,3,4])\n",
    "B = B.reshape(4,1)\n",
    "B"
   ]
  },
  {
   "cell_type": "code",
   "execution_count": 9,
   "metadata": {},
   "outputs": [
    {
     "data": {
      "text/plain": [
       "array([55])"
      ]
     },
     "execution_count": 9,
     "metadata": {},
     "output_type": "execute_result"
    }
   ],
   "source": [
    "np.dot(A, B)"
   ]
  },
  {
   "cell_type": "code",
   "execution_count": 10,
   "metadata": {},
   "outputs": [
    {
     "data": {
      "text/plain": [
       "array([55])"
      ]
     },
     "execution_count": 10,
     "metadata": {},
     "output_type": "execute_result"
    }
   ],
   "source": [
    "np.matmul(A, B)"
   ]
  },
  {
   "cell_type": "markdown",
   "metadata": {},
   "source": [
    "### 벡터의 내적(2)\n",
    "$$\n",
    "    \\begin{bmatrix}\n",
    "            1 &\n",
    "            2 & \n",
    "            3 & \n",
    "            4  \n",
    "    \\end{bmatrix} \\cdot\n",
    "    \\begin{bmatrix}\n",
    "            1 & 4\\\\\n",
    "            9 & 5\\\\\n",
    "            4 & 0 \\\\\n",
    "            6 & 1\n",
    "            \\\\\n",
    "    \\end{bmatrix}\n",
    "$$"
   ]
  },
  {
   "cell_type": "code",
   "execution_count": 11,
   "metadata": {},
   "outputs": [],
   "source": [
    "beta = np.array([1,2,3,4])"
   ]
  },
  {
   "cell_type": "code",
   "execution_count": 12,
   "metadata": {},
   "outputs": [],
   "source": [
    "X = np.array([\n",
    "    [1, 4],\n",
    "    [9, 5],\n",
    "    [4, 0],\n",
    "    [6, 1]\n",
    "])"
   ]
  },
  {
   "cell_type": "code",
   "execution_count": 13,
   "metadata": {},
   "outputs": [
    {
     "data": {
      "text/plain": [
       "array([55, 18])"
      ]
     },
     "execution_count": 13,
     "metadata": {},
     "output_type": "execute_result"
    }
   ],
   "source": [
    "np.dot(beta, X)"
   ]
  },
  {
   "cell_type": "markdown",
   "metadata": {},
   "source": [
    "# LinearModel"
   ]
  },
  {
   "cell_type": "markdown",
   "metadata": {},
   "source": [
    "## Linear Regression(선형회귀)\n",
    "- 1차 함수\n",
    "- 선형성\n",
    "\n",
    "$$\n",
    "\\begin{align*}\n",
    "    f(x) &= b + ax \\\\\n",
    "    f(x) &= \\beta_0 + \\beta_1 x \\\\\n",
    "    f(x) &= w_0 + w_1 x\n",
    "\\end{align*}\n",
    "$$"
   ]
  },
  {
   "cell_type": "code",
   "execution_count": 4,
   "metadata": {},
   "outputs": [],
   "source": [
    "x = np.linspace(-1, 1, 100)\n",
    "y = 1 + 10 * x"
   ]
  },
  {
   "cell_type": "code",
   "execution_count": 5,
   "metadata": {},
   "outputs": [
    {
     "data": {
      "image/png": "[encoded data removed]",
      "text/plain": [
       "<Figure size 432x288 with 1 Axes>"
      ]
     },
     "metadata": {
      "needs_background": "light"
     },
     "output_type": "display_data"
    }
   ],
   "source": [
    "import matplotlib.pyplot as plt\n",
    "\n",
    "plt.plot(x, y, '-')\n",
    "plt.show()"
   ]
  },
  {
   "cell_type": "markdown",
   "metadata": {},
   "source": [
    "## 다항회귀\n",
    "- non-linear Regression\n",
    "- Quadratic Regression\n",
    "- Cubic Regression\n",
    "- Exponetial Regression\n",
    "- Sine/Cosine Regression"
   ]
  },
  {
   "cell_type": "markdown",
   "metadata": {},
   "source": [
    "### Quadratic Regession\n",
    "\n",
    "$$\n",
    "\\begin{align}\n",
    "    f(\\beta, x) &= b + \\beta_1x + \\beta_2x^2 \\\\\n",
    "    &= [x \\;\\;x^2] \n",
    "    \\begin{bmatrix}\n",
    "            \\beta_1\\\\\n",
    "            \\beta_2 \\\\\n",
    "    \\end{bmatrix} + b \\\\\n",
    "    &= X\\beta + b\n",
    "\\end{align}\n",
    "$$"
   ]
  },
  {
   "cell_type": "code",
   "execution_count": 16,
   "metadata": {},
   "outputs": [],
   "source": [
    "x = np.linspace(-1, 1, 100)\n",
    "y = 1 + 10 * x + 20 * x**2"
   ]
  },
  {
   "cell_type": "code",
   "execution_count": 17,
   "metadata": {},
   "outputs": [
    {
     "data": {
      "image/png": "[encoded data removed]",
      "text/plain": [
       "<Figure size 432x288 with 1 Axes>"
      ]
     },
     "metadata": {
      "needs_background": "light"
     },
     "output_type": "display_data"
    }
   ],
   "source": [
    "plt.plot(x, y, '-')\n",
    "plt.show()"
   ]
  },
  {
   "cell_type": "markdown",
   "metadata": {},
   "source": [
    "### cubic Regression\n",
    "$$\n",
    "\\begin{align}\n",
    "    f(\\beta, x) &= b + \\beta_1x + \\beta_2x^2 \\beta_3 x^3\\\\\n",
    "    &= [x \\;\\;x^2 \\;\\; x^3] \n",
    "    \\begin{bmatrix}\n",
    "            \\beta_1\\\\\n",
    "            \\beta_2 \\\\\n",
    "            \\beta_3\n",
    "    \\end{bmatrix} + b \\\\\n",
    "    &= X\\beta + b\n",
    "\\end{align}\n",
    "$$"
   ]
  },
  {
   "cell_type": "code",
   "execution_count": 18,
   "metadata": {},
   "outputs": [],
   "source": [
    "x = np.linspace(-1, 1, 100)\n",
    "y = 1 + 10 * x + 20 * x**2 + 30 * x ** 3"
   ]
  },
  {
   "cell_type": "code",
   "execution_count": 19,
   "metadata": {},
   "outputs": [
    {
     "data": {
      "image/png": "[encoded data removed]",
      "text/plain": [
       "<Figure size 432x288 with 1 Axes>"
      ]
     },
     "metadata": {
      "needs_background": "light"
     },
     "output_type": "display_data"
    }
   ],
   "source": [
    "plt.plot(x, y, '-')\n",
    "plt.show()"
   ]
  },
  {
   "cell_type": "markdown",
   "metadata": {},
   "source": [
    "### Exponential Regression\n",
    "$$\n",
    "    f(x) = e^{\\beta_1x} \\\\\n",
    "    g(x) = lnf(x) = \\beta_1x\n",
    "$$"
   ]
  },
  {
   "cell_type": "code",
   "execution_count": 20,
   "metadata": {},
   "outputs": [],
   "source": [
    "x = np.linspace(-1, 1, 100)\n",
    "y = np.exp(2 * x)"
   ]
  },
  {
   "cell_type": "code",
   "execution_count": 21,
   "metadata": {},
   "outputs": [
    {
     "data": {
      "image/png": "[encoded data removed]",
      "text/plain": [
       "<Figure size 432x288 with 1 Axes>"
      ]
     },
     "metadata": {
      "needs_background": "light"
     },
     "output_type": "display_data"
    }
   ],
   "source": [
    "plt.plot(x, y, '-')\n",
    "plt.show()"
   ]
  },
  {
   "cell_type": "markdown",
   "metadata": {},
   "source": [
    "### sine/cosine Regression\n",
    "$$\n",
    "    f(x) = \\beta_1 cos(\\pi x) + \\beta_2 sin(\\pi x)\n",
    "$$"
   ]
  },
  {
   "cell_type": "code",
   "execution_count": 22,
   "metadata": {},
   "outputs": [],
   "source": [
    "x = np.linspace(-1, 1, 100)\n",
    "y = 1 * np.cos(np.pi * x) + 2 * np.sin(np.pi * x)"
   ]
  },
  {
   "cell_type": "code",
   "execution_count": 23,
   "metadata": {},
   "outputs": [
    {
     "data": {
      "image/png": "[encoded data removed]",
      "text/plain": [
       "<Figure size 432x288 with 1 Axes>"
      ]
     },
     "metadata": {
      "needs_background": "light"
     },
     "output_type": "display_data"
    }
   ],
   "source": [
    "plt.plot(x, y, '-')\n",
    "plt.show()"
   ]
  },
  {
   "cell_type": "markdown",
   "metadata": {},
   "source": [
    "# 모수(parameter)적 추정(estimation)"
   ]
  },
  {
   "cell_type": "code",
   "execution_count": 6,
   "metadata": {},
   "outputs": [],
   "source": [
    "np.random.seed(123)\n",
    "x = np.linspace(-1, 1, 50)\n",
    "y = 1 + x + np.random.rand(len(x))"
   ]
  },
  {
   "cell_type": "code",
   "execution_count": 7,
   "metadata": {
    "scrolled": true
   },
   "outputs": [
    {
     "data": {
      "image/png": "[encoded data removed]",
      "text/plain": [
       "<Figure size 432x288 with 1 Axes>"
      ]
     },
     "metadata": {
      "needs_background": "light"
     },
     "output_type": "display_data"
    }
   ],
   "source": [
    "plt.plot(x, y, 'o')\n",
    "plt.plot(x, 1.5 + x, 'r-')\n",
    "plt.show()"
   ]
  },
  {
   "cell_type": "markdown",
   "metadata": {},
   "source": [
    "## direct solve(직접풀이법)\n",
    "- 연립방정식\n",
    "- 선형대수\n",
    "\n",
    "\\begin{equation}\n",
    "\\begin{bmatrix}\n",
    "1 & 4 & 2 & 0 \\\\\n",
    "9 & 5 & 0 & 0 \\\\\n",
    "4 & 0 & 2 & 4 \\\\\n",
    "6 & 1 & 8 & 3\n",
    "\\end{bmatrix}\n",
    "\\begin{bmatrix}\n",
    "\\beta_1\\\\\\beta_2\\\\\\beta_3\\\\\\beta_4\n",
    "\\end{bmatrix}=\n",
    "\\begin{bmatrix}\n",
    "15\\\\19\\\\26\\\\44\n",
    "\\end{bmatrix}\n",
    "\\end{equation}"
   ]
  },
  {
   "cell_type": "code",
   "execution_count": 26,
   "metadata": {},
   "outputs": [],
   "source": [
    "X = np.array([\n",
    "    [1,4,2,0],\n",
    "    [9,5,0,0],\n",
    "    [4,0,2,4],\n",
    "    [6,1,8,3]\n",
    "])\n",
    "\n",
    "Y = np.array([15, 19, 26, 44])"
   ]
  },
  {
   "cell_type": "code",
   "execution_count": 27,
   "metadata": {},
   "outputs": [
    {
     "data": {
      "text/plain": [
       "853.9999999999995"
      ]
     },
     "execution_count": 27,
     "metadata": {},
     "output_type": "execute_result"
    }
   ],
   "source": [
    "np.linalg.det(X)"
   ]
  },
  {
   "cell_type": "code",
   "execution_count": 28,
   "metadata": {},
   "outputs": [],
   "source": [
    "X_inv = np.linalg.inv(X)"
   ]
  },
  {
   "cell_type": "code",
   "execution_count": 29,
   "metadata": {},
   "outputs": [
    {
     "data": {
      "text/plain": [
       "array([1., 2., 3., 4.])"
      ]
     },
     "execution_count": 29,
     "metadata": {},
     "output_type": "execute_result"
    }
   ],
   "source": [
    "np.dot(X_inv, Y)"
   ]
  },
  {
   "cell_type": "code",
   "execution_count": 30,
   "metadata": {},
   "outputs": [
    {
     "data": {
      "text/plain": [
       "array([1., 2., 3., 4.])"
      ]
     },
     "execution_count": 30,
     "metadata": {},
     "output_type": "execute_result"
    }
   ],
   "source": [
    "np.linalg.solve(X, Y)"
   ]
  },
  {
   "cell_type": "markdown",
   "metadata": {},
   "source": [
    "## 반복풀이법\n",
    "- Gradient Descent or Steepest Descent"
   ]
  },
  {
   "cell_type": "markdown",
   "metadata": {},
   "source": [
    "### 손실함수, 에러함수, 목적함수\n",
    "- Loss function, Error function, Objective function, Cost function"
   ]
  },
  {
   "cell_type": "markdown",
   "metadata": {},
   "source": [
    "$$\n",
    "    L(\\beta_0, \\beta_1) = \\sum_{i=1}^n(Y_i - \\beta_0 - \\beta_1 X_i)^2\n",
    "$$"
   ]
  },
  {
   "cell_type": "code",
   "execution_count": 31,
   "metadata": {},
   "outputs": [
    {
     "data": {
      "text/latex": [
       "$\\displaystyle \\left(- \\beta_{0} - \\beta_{1} x + y\\right)^{2}$"
      ],
      "text/plain": [
       "(-beta0 - beta1*x + y)**2"
      ]
     },
     "metadata": {},
     "output_type": "display_data"
    },
    {
     "data": {
      "text/latex": [
       "$\\displaystyle 2 \\beta_{0} + 2 \\beta_{1} x - 2 y$"
      ],
      "text/plain": [
       "2*beta0 + 2*beta1*x - 2*y"
      ]
     },
     "metadata": {},
     "output_type": "display_data"
    },
    {
     "data": {
      "text/latex": [
       "$\\displaystyle - 2 x \\left(- \\beta_{0} - \\beta_{1} x + y\\right)$"
      ],
      "text/plain": [
       "-2*x*(-beta0 - beta1*x + y)"
      ]
     },
     "metadata": {},
     "output_type": "display_data"
    }
   ],
   "source": [
    "import sympy as sp\n",
    "beta0 = sp.Symbol('beta0')\n",
    "beta1 = sp.Symbol('beta1')\n",
    "x = sp.Symbol('x')\n",
    "y = sp.Symbol('y')\n",
    "L = (y - beta0 - beta1 * x) ** 2\n",
    "display(L)\n",
    "display( sp.diff(L, beta0) )\n",
    "display( sp.diff(L, beta1) )"
   ]
  },
  {
   "cell_type": "code",
   "execution_count": 37,
   "metadata": {},
   "outputs": [],
   "source": [
    "def loss(beta):\n",
    "    yhat = beta[0] + beta[1] * x # forward model, predict, 예측값, ... \n",
    "    loss = np.sum((y - yhat) ** 2)\n",
    "    return loss\n",
    "\n",
    "def grad_beta0(beta):\n",
    "    return np.sum(2 * beta[0] + 2 * beta[1] * x - 2 * y)\n",
    "\n",
    "def grad_beta1(beta):\n",
    "    return np.sum(-2 * x *(- beta[0] - beta[1] * x + y))"
   ]
  },
  {
   "cell_type": "markdown",
   "metadata": {},
   "source": [
    "### 최적화"
   ]
  },
  {
   "cell_type": "code",
   "execution_count": 38,
   "metadata": {},
   "outputs": [
    {
     "name": "stdout",
     "output_type": "stream",
     "text": [
      "beta: [0 0], loss: 133.45678978479816\n",
      "beta: [1.50185787 0.3532265 ], loss: 10.365400841199506\n",
      "beta: [1.50185787 0.58390502], loss: 5.96721793070892\n",
      "beta: [1.50185787 0.73455223], loss: 4.091441462428053\n",
      "beta: [1.50185787 0.83293407], loss: 3.2914435017784887\n",
      "beta: [1.50185787 0.89718344], loss: 2.9502532011932514\n",
      "beta: [1.50185787 0.93914221], loss: 2.8047393037341575\n",
      "beta: [1.50185787 0.96654386], loss: 2.74267923251462\n",
      "beta: [1.50185787 0.98443881], loss: 2.7162112971007053\n",
      "beta: [1.50185787 0.99612531], loss: 2.7049230147750705\n"
     ]
    }
   ],
   "source": [
    "B0 = np.array([0, 0])\n",
    "maxIter = 10\n",
    "lr = 0.01\n",
    "history = []\n",
    "for i in range(maxIter):\n",
    "    history.append(loss(B0))\n",
    "    grad = np.array([grad_beta0(B0), grad_beta1(B0)])\n",
    "    B1 = B0 - lr * grad\n",
    "    print('beta: {}, loss: {}'.format(B0, loss(B0)))\n",
    "    B0 = B1"
   ]
  },
  {
   "cell_type": "code",
   "execution_count": 39,
   "metadata": {},
   "outputs": [
    {
     "data": {
      "image/png": "[encoded data removed]",
      "text/plain": [
       "<Figure size 432x288 with 1 Axes>"
      ]
     },
     "metadata": {
      "needs_background": "light"
     },
     "output_type": "display_data"
    }
   ],
   "source": [
    "plt.plot(history)\n",
    "plt.show()"
   ]
  },
  {
   "cell_type": "code",
   "execution_count": 40,
   "metadata": {},
   "outputs": [
    {
     "data": {
      "text/plain": [
       "array([1, 2, 3, 4])"
      ]
     },
     "execution_count": 40,
     "metadata": {},
     "output_type": "execute_result"
    }
   ],
   "source": [
    "beta"
   ]
  },
  {
   "cell_type": "code",
   "execution_count": 41,
   "metadata": {
    "scrolled": true
   },
   "outputs": [
    {
     "data": {
      "image/png": "[encoded data removed]",
      "text/plain": [
       "<Figure size 432x288 with 1 Axes>"
      ]
     },
     "metadata": {
      "needs_background": "light"
     },
     "output_type": "display_data"
    }
   ],
   "source": [
    "beta = B0\n",
    "plt.plot(x, y, 'o')\n",
    "plt.plot(x, beta[0] + beta[1] * x, 'r-')\n",
    "plt.show()"
   ]
  },
  {
   "cell_type": "markdown",
   "metadata": {},
   "source": [
    "# 비선형 회귀(Non-Linear Regression)\n",
    "- 모수적 추정\n",
    "- 선이 아닌 곡선을 사용하는 모델\n",
    "- 정확도가 그리 높지 않다는 것이 단점"
   ]
  },
  {
   "cell_type": "markdown",
   "metadata": {},
   "source": [
    "## 샘플 데이터\n",
    "\n",
    "$$\n",
    "    y = sin(2\\pi x)\n",
    "$$\n",
    "\n",
    "- 이런 함수를 가정해서 샘플을 생성"
   ]
  },
  {
   "cell_type": "code",
   "execution_count": 75,
   "metadata": {},
   "outputs": [],
   "source": [
    "np.random.seed(123)\n",
    "\n",
    "x = np.linspace(0, 1, 1000) # 그림 그릴때 사용\n",
    "y = np.sin(2 * np.pi * x) + (np.random.randn(1000)/5)\n",
    "# y = 2 + 1.5 * x + (np.random.randn(100)/5) # b + ax + e\n",
    "\n",
    "N = 10 # 자료의 갯수\n",
    "x_train = np.linspace(0, 1, N)\n",
    "y_train = np.sin(2 * np.pi * x_train) + (np.random.randn(N)/5)\n",
    "\n",
    "NN = 50 # 자료의 갯수\n",
    "x_test = np.linspace(0, 1, NN)\n",
    "y_test = np.sin(2 * np.pi * x_test) + (np.random.randn(NN)/5)"
   ]
  },
  {
   "cell_type": "code",
   "execution_count": 76,
   "metadata": {
    "scrolled": true
   },
   "outputs": [
    {
     "data": {
      "image/png": "[encoded data removed]",
      "text/plain": [
       "<Figure size 432x288 with 1 Axes>"
      ]
     },
     "metadata": {
      "needs_background": "light"
     },
     "output_type": "display_data"
    }
   ],
   "source": [
    "plt.plot(x_train, y_train, 'o', label='train')\n",
    "plt.plot(x_test, y_test, 'o', label='test')\n",
    "plt.legend()\n",
    "plt.show()"
   ]
  },
  {
   "cell_type": "markdown",
   "metadata": {},
   "source": [
    "## 선형모델의 적용\n",
    "- 주어진 데이터가 선형적인 관계가 있을 것으로 가정"
   ]
  },
  {
   "cell_type": "markdown",
   "metadata": {},
   "source": [
    "### 손실함수 정의"
   ]
  },
  {
   "cell_type": "code",
   "execution_count": 72,
   "metadata": {},
   "outputs": [],
   "source": [
    "def forward_model(beta):\n",
    "    return beta[1:] * x_train + beta[0]\n",
    "\n",
    "def loss(beta):\n",
    "    yhat = forward_model(beta)\n",
    "    return np.sum((y_train - yhat)**2)"
   ]
  },
  {
   "cell_type": "markdown",
   "metadata": {},
   "source": [
    "### 최적화"
   ]
  },
  {
   "cell_type": "code",
   "execution_count": 77,
   "metadata": {},
   "outputs": [],
   "source": [
    "from scipy.optimize import minimize\n",
    "\n",
    "B = np.array([0,0])\n",
    "result = minimize(loss, B)"
   ]
  },
  {
   "cell_type": "code",
   "execution_count": 78,
   "metadata": {},
   "outputs": [
    {
     "data": {
      "image/png": "[encoded data removed]",
      "text/plain": [
       "<Figure size 432x288 with 1 Axes>"
      ]
     },
     "metadata": {
      "needs_background": "light"
     },
     "output_type": "display_data"
    }
   ],
   "source": [
    "beta = result.x\n",
    "plt.plot(x_train, y_train, 'o', label='train')\n",
    "plt.plot(x_test, y_test, 'o', label='test')\n",
    "plt.legend()\n",
    "plt.plot(x, beta[0] + beta[1] * x)\n",
    "plt.show()"
   ]
  },
  {
   "cell_type": "markdown",
   "metadata": {},
   "source": [
    "## qubic model 적용"
   ]
  },
  {
   "cell_type": "code",
   "execution_count": 13,
   "metadata": {},
   "outputs": [],
   "source": [
    "x_qubic = x_train.reshape(10,1)\n",
    "x_qubic = np.c_[x_qubic, x_train ** 2]\n",
    "x_qubic = np.c_[x_qubic, x_train ** 3]\n",
    "\n",
    "xx = x.reshape(x.shape[0],1)\n",
    "xx = np.c_[xx, x ** 2]\n",
    "xx = np.c_[xx, x ** 3]"
   ]
  },
  {
   "cell_type": "code",
   "execution_count": 14,
   "metadata": {},
   "outputs": [],
   "source": [
    "def forward_model(x, beta):\n",
    "    return np.dot(x, beta[1:]) + beta[0]\n",
    "\n",
    "def loss(beta):\n",
    "    model = forward_model(x_qubic, beta)\n",
    "    return np.sum((y_train - model)**2)"
   ]
  },
  {
   "cell_type": "code",
   "execution_count": 16,
   "metadata": {},
   "outputs": [],
   "source": [
    "B = np.array([0,0,0,0])\n",
    "result = minimize(loss, B)"
   ]
  },
  {
   "cell_type": "code",
   "execution_count": 17,
   "metadata": {},
   "outputs": [
    {
     "data": {
      "image/png": "[encoded data removed]",
      "text/plain": [
       "<Figure size 432x288 with 1 Axes>"
      ]
     },
     "metadata": {
      "needs_background": "light"
     },
     "output_type": "display_data"
    }
   ],
   "source": [
    "beta = result.x\n",
    "plt.plot(x_train, y_train, 'o', label='train')\n",
    "plt.plot(x_test, y_test, 'o', label='test')\n",
    "plt.legend()\n",
    "plt.plot(x, forward_model(xx, beta))\n",
    "plt.show()"
   ]
  },
  {
   "cell_type": "markdown",
   "metadata": {},
   "source": [
    "## 과적합(overfit)\n",
    "- 자료의 갯수가 n일 때, n-1차식에 대한 유일한 함수의 존재는 증명"
   ]
  },
  {
   "cell_type": "code",
   "execution_count": 2,
   "metadata": {},
   "outputs": [
    {
     "ename": "NameError",
     "evalue": "name 'x_train' is not defined",
     "output_type": "error",
     "traceback": [
      "\u001b[0;31m---------------------------------------------------------------------------\u001b[0m",
      "\u001b[0;31mNameError\u001b[0m                                 Traceback (most recent call last)",
      "\u001b[0;32m<ipython-input-2-14fcf91c5f34>\u001b[0m in \u001b[0;36m<module>\u001b[0;34m\u001b[0m\n\u001b[1;32m      1\u001b[0m \u001b[0;32mimport\u001b[0m \u001b[0mstatsmodels\u001b[0m\u001b[0;34m.\u001b[0m\u001b[0mapi\u001b[0m \u001b[0;32mas\u001b[0m \u001b[0msm\u001b[0m\u001b[0;34m\u001b[0m\u001b[0;34m\u001b[0m\u001b[0m\n\u001b[1;32m      2\u001b[0m \u001b[0;34m\u001b[0m\u001b[0m\n\u001b[0;32m----> 3\u001b[0;31m \u001b[0mx_poly\u001b[0m \u001b[0;34m=\u001b[0m \u001b[0mx_train\u001b[0m\u001b[0;34m.\u001b[0m\u001b[0mreshape\u001b[0m\u001b[0;34m(\u001b[0m\u001b[0;36m10\u001b[0m\u001b[0;34m,\u001b[0m\u001b[0;36m1\u001b[0m\u001b[0;34m)\u001b[0m\u001b[0;34m\u001b[0m\u001b[0;34m\u001b[0m\u001b[0m\n\u001b[0m\u001b[1;32m      4\u001b[0m \u001b[0mx_poly\u001b[0m \u001b[0;34m=\u001b[0m \u001b[0msm\u001b[0m\u001b[0;34m.\u001b[0m\u001b[0madd_constant\u001b[0m\u001b[0;34m(\u001b[0m\u001b[0mx_poly\u001b[0m\u001b[0;34m)\u001b[0m\u001b[0;34m\u001b[0m\u001b[0;34m\u001b[0m\u001b[0m\n\u001b[1;32m      5\u001b[0m \u001b[0mx_poly\u001b[0m \u001b[0;34m=\u001b[0m \u001b[0mnp\u001b[0m\u001b[0;34m.\u001b[0m\u001b[0mc_\u001b[0m\u001b[0;34m[\u001b[0m\u001b[0mx_poly\u001b[0m\u001b[0;34m,\u001b[0m \u001b[0mx_train\u001b[0m \u001b[0;34m**\u001b[0m \u001b[0;36m2\u001b[0m\u001b[0;34m]\u001b[0m\u001b[0;34m\u001b[0m\u001b[0;34m\u001b[0m\u001b[0m\n",
      "\u001b[0;31mNameError\u001b[0m: name 'x_train' is not defined"
     ]
    }
   ],
   "source": [
    "import statsmodels.api as sm\n",
    "\n",
    "x_poly = x_train.reshape(10,1)\n",
    "x_poly = sm.add_constant(x_poly)\n",
    "x_poly = np.c_[x_poly, x_train ** 2]\n",
    "x_poly = np.c_[x_poly, x_train ** 3]\n",
    "x_poly = np.c_[x_poly, x_train ** 4]\n",
    "x_poly = np.c_[x_poly, x_train ** 5]\n",
    "x_poly = np.c_[x_poly, x_train ** 6]\n",
    "x_poly = np.c_[x_poly, x_train ** 7]\n",
    "x_poly = np.c_[x_poly, x_train ** 8]\n",
    "x_poly = np.c_[x_poly, x_train ** 9]\n",
    "\n",
    "xx = x.reshape(x.shape[0],1)\n",
    "xx = sm.add_constant(xx)\n",
    "xx = np.c_[xx, x ** 2]\n",
    "xx = np.c_[xx, x ** 3]\n",
    "xx = np.c_[xx, x ** 4]\n",
    "xx = np.c_[xx, x ** 5]\n",
    "xx = np.c_[xx, x ** 6]\n",
    "xx = np.c_[xx, x ** 7]\n",
    "xx = np.c_[xx, x ** 8]\n",
    "xx = np.c_[xx, x ** 9]"
   ]
  },
  {
   "cell_type": "code",
   "execution_count": 98,
   "metadata": {},
   "outputs": [],
   "source": [
    "def forward_model(x, beta):\n",
    "    return np.dot(x, beta)\n",
    "\n",
    "def loss(beta):\n",
    "    model = forward_model(x_poly, beta)\n",
    "    return np.sum((y_train - model)**2)\n",
    "\n",
    "def grad_loss(beta):\n",
    "    error = forward_model(x_poly, beta) - y_train\n",
    "    return 2.0 * np.dot(error, x_poly)"
   ]
  },
  {
   "cell_type": "code",
   "execution_count": 150,
   "metadata": {},
   "outputs": [],
   "source": [
    "# B0 = np.array([0,0,0,0,0,0,0,0,0,0])\n",
    "B0 = np.random.randn(10) * 1000\n",
    "result = minimize(loss, B0)"
   ]
  },
  {
   "cell_type": "code",
   "execution_count": 187,
   "metadata": {},
   "outputs": [],
   "source": [
    "B0 = np.array([0,0,0,0,0,0,0,0,0,0], dtype=np.float64)\n",
    "# B0 = np.random.randn(10) * 1000\n",
    "lr = 0.01\n",
    "maxIter = 100000\n",
    "for i in range(maxIter):\n",
    "    grad = grad_loss(B0)\n",
    "    B1 = B0 - lr * grad\n",
    "    B0 = B1"
   ]
  },
  {
   "cell_type": "code",
   "execution_count": 113,
   "metadata": {},
   "outputs": [],
   "source": [
    "from sklearn.linear_model import LinearRegression, SGDRegressor\n",
    "model = LinearRegression().fit(x_poly, y_train)"
   ]
  },
  {
   "cell_type": "code",
   "execution_count": 110,
   "metadata": {},
   "outputs": [],
   "source": [
    "from statsmodels.api import OLS\n",
    "model2 = OLS(y_train, x_poly).fit()"
   ]
  },
  {
   "cell_type": "code",
   "execution_count": 181,
   "metadata": {},
   "outputs": [],
   "source": [
    "coef = np.polyfit(x_train, y_train, 9)\n",
    "func = np.poly1d(coef)"
   ]
  },
  {
   "cell_type": "code",
   "execution_count": 189,
   "metadata": {},
   "outputs": [
    {
     "data": {
      "image/png": "[encoded data removed]",
      "text/plain": [
       "<Figure size 432x288 with 1 Axes>"
      ]
     },
     "metadata": {
      "needs_background": "light"
     },
     "output_type": "display_data"
    }
   ],
   "source": [
    "beta = B0\n",
    "plt.plot(x_train, y_train, 'o')\n",
    "plt.plot(x_test, y_test, 'o')\n",
    "# plt.plot(x, func(x))\n",
    "plt.plot(x, forward_model(xx, beta))\n",
    "plt.show()"
   ]
  },
  {
   "cell_type": "code",
   "execution_count": null,
   "metadata": {},
   "outputs": [],
   "source": []
  }
 ],
 "metadata": {
  "kernelspec": {
   "display_name": "Python 3",
   "language": "python",
   "name": "python3"
  },
  "language_info": {
   "codemirror_mode": {
    "name": "ipython",
    "version": 3
   },
   "file_extension": ".py",
   "mimetype": "text/x-python",
   "name": "python",
   "nbconvert_exporter": "python",
   "pygments_lexer": "ipython3",
   "version": "3.8.5"
  },
  "toc": {
   "base_numbering": 1,
   "nav_menu": {},
   "number_sections": true,
   "sideBar": true,
   "skip_h1_title": false,
   "title_cell": "Table of Contents",
   "title_sidebar": "Contents",
   "toc_cell": false,
   "toc_position": {},
   "toc_section_display": true,
   "toc_window_display": true
  },
  "varInspector": {
   "cols": {
    "lenName": 16,
    "lenType": 16,
    "lenVar": 40
   },
   "kernels_config": {
    "python": {
     "delete_cmd_postfix": "",
     "delete_cmd_prefix": "del ",
     "library": "var_list.py",
     "varRefreshCmd": "print(var_dic_list())"
    },
    "r": {
     "delete_cmd_postfix": ") ",
     "delete_cmd_prefix": "rm(",
     "library": "var_list.r",
     "varRefreshCmd": "cat(var_dic_list()) "
    }
   },
   "types_to_exclude": [
    "module",
    "function",
    "builtin_function_or_method",
    "instance",
    "_Feature"
   ],
   "window_display": false
  }
 },
 "nbformat": 4,
 "nbformat_minor": 4
}
