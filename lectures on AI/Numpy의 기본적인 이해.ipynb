{
 "cells": [
  {
   "cell_type": "code",
   "execution_count": 2,
   "id": "decreased-watch",
   "metadata": {},
   "outputs": [],
   "source": [
    "import numpy as np\n",
    "import matplotlib.pyplot as plt"
   ]
  },
  {
   "cell_type": "markdown",
   "id": "official-midwest",
   "metadata": {},
   "source": [
    "# Numpy 라이브러리 \n",
    "- 파이썬에서 수치해석을 하기 위한 기능을 제공\n",
    "- 벡터, 행렬, ... 과 형태를 편하게 표현\n",
    "- 내적과 같은 연산을 편하게 구현"
   ]
  },
  {
   "cell_type": "markdown",
   "id": "encouraging-sword",
   "metadata": {},
   "source": [
    "## 자료의 형태\n",
    "- 수학적으로 엄밀한 정의를 따르진 않습니다. \n",
    "\n",
    "1. Scalar(스칼라, 스케일러)\n",
    "- 물리학에서는 `양(volume)`을 표현하는 형태(방향이 없는)\n",
    "- 파이썬에서는 변하지 않는 `상수` 정도로 해석\n",
    "$$\n",
    "    10, [[10]]\n",
    "$$\n",
    "\n",
    "2. Vector\n",
    "- 물리학에서는 방향성을 가지고 있는 형태\n",
    "- 파이썬에서는 행이 `n`이고, 열이 `1`인 형태를 벡터라고 부릅니다. \n",
    "- 벡터라고 부르는건 기본적으로 `열벡터`를 의미합니다. \n",
    "\n",
    "$$\n",
    "    \\overrightarrow x, \\mathbb{A}\n",
    "$$\n",
    "\n",
    "3. Matrix\n",
    "- 여러개의 벡터가 모여서 행렬을 이루게 된다. \n",
    "\n",
    "$$\n",
    "    \\mathbb{A}\n",
    "$$"
   ]
  },
  {
   "cell_type": "markdown",
   "id": "latin-discovery",
   "metadata": {},
   "source": [
    "## 기본적인 자료형(ndarray, matrix)"
   ]
  },
  {
   "cell_type": "markdown",
   "id": "foster-softball",
   "metadata": {},
   "source": [
    "### ndarray\n",
    "- N-Dimentional Array\n",
    "- 다차원 배열"
   ]
  },
  {
   "cell_type": "code",
   "execution_count": 65,
   "id": "universal-pregnancy",
   "metadata": {},
   "outputs": [
    {
     "data": {
      "text/plain": [
       "array([1, 2, 3, 4, 5])"
      ]
     },
     "execution_count": 65,
     "metadata": {},
     "output_type": "execute_result"
    }
   ],
   "source": [
    "# 쉽게는 파이썬의 리스트 정도로 해석될 수도 있지만 (형태는 비슷)\n",
    "# 기본적으로는 리스트와는 아주 많이 달라요\n",
    "\n",
    "# 1차원 배열\n",
    "arr = np.array([1,2,3,4,5])\n",
    "arr"
   ]
  },
  {
   "cell_type": "markdown",
   "id": "danish-counter",
   "metadata": {},
   "source": [
    "### matrix\n",
    "- 수학적 용도로 많이 사용"
   ]
  },
  {
   "cell_type": "code",
   "execution_count": 7,
   "id": "sitting-drill",
   "metadata": {},
   "outputs": [
    {
     "data": {
      "text/plain": [
       "matrix([[ 1,  2,  3,  4,  5],\n",
       "        [ 6,  7,  8,  9, 10],\n",
       "        [11, 12, 13, 14, 15]])"
      ]
     },
     "execution_count": 7,
     "metadata": {},
     "output_type": "execute_result"
    }
   ],
   "source": [
    "mat = np.matrix('1,2,3,4,5 ; 6,7,8,9,10 ; 11, 12, 13, 14, 15')\n",
    "mat"
   ]
  },
  {
   "cell_type": "markdown",
   "id": "micro-latino",
   "metadata": {},
   "source": [
    "## Numpy 배열(ndarray)"
   ]
  },
  {
   "cell_type": "code",
   "execution_count": 16,
   "id": "beneficial-arbitration",
   "metadata": {},
   "outputs": [
    {
     "data": {
      "text/plain": [
       "array([1, 2, 3, 4, 5])"
      ]
     },
     "execution_count": 16,
     "metadata": {},
     "output_type": "execute_result"
    }
   ],
   "source": [
    "# 1차원 배열\n",
    "# 행벡터라고 볼 수 있는데, 벡터로써 취급이 됩니다. \n",
    "arr = np.array([1,2,3,4,5])\n",
    "arr"
   ]
  },
  {
   "cell_type": "code",
   "execution_count": 13,
   "id": "overall-orleans",
   "metadata": {},
   "outputs": [
    {
     "data": {
      "text/plain": [
       "array([[ 1,  2,  3,  4,  5],\n",
       "       [ 6,  7,  8,  9, 10]])"
      ]
     },
     "execution_count": 13,
     "metadata": {},
     "output_type": "execute_result"
    }
   ],
   "source": [
    "# 2차원 배열\n",
    "arr2 = np.array([\n",
    "    [1,2,3,4,5],\n",
    "    [6,7,8,9,10]\n",
    "])\n",
    "arr2"
   ]
  },
  {
   "cell_type": "markdown",
   "id": "fixed-journalist",
   "metadata": {},
   "source": [
    "### n x m 차원 배열\n",
    "\n",
    "\\begin{bmatrix}\n",
    "1 & 4 & 2 \\\\\n",
    "9 & 5 & 0 \\\\\n",
    "4 & 0 & 2 \\\\\n",
    "6 & 1 & 8 \n",
    "\\end{bmatrix}\n",
    "\n",
    "- n: 행\n",
    "- m: 열"
   ]
  },
  {
   "cell_type": "code",
   "execution_count": 15,
   "id": "genuine-central",
   "metadata": {},
   "outputs": [
    {
     "data": {
      "text/plain": [
       "array([[1, 4, 2],\n",
       "       [9, 5, 0],\n",
       "       [4, 0, 2],\n",
       "       [6, 1, 8]])"
      ]
     },
     "execution_count": 15,
     "metadata": {},
     "output_type": "execute_result"
    }
   ],
   "source": [
    "arrn = np.array([\n",
    "    [1,4,2],\n",
    "    [9,5,0],\n",
    "    [4,0,2],\n",
    "    [6,1,8]\n",
    "])\n",
    "arrn"
   ]
  },
  {
   "cell_type": "markdown",
   "id": "nominated-mandate",
   "metadata": {},
   "source": [
    "### 열벡터\n",
    "\\begin{bmatrix}\n",
    "        1 \\\\\n",
    "        2 \\\\\n",
    "        3 \\\\\n",
    "        4\n",
    "\\end{bmatrix}"
   ]
  },
  {
   "cell_type": "code",
   "execution_count": 18,
   "id": "architectural-numbers",
   "metadata": {},
   "outputs": [
    {
     "data": {
      "text/plain": [
       "array([[1],\n",
       "       [2],\n",
       "       [3],\n",
       "       [4]])"
      ]
     },
     "execution_count": 18,
     "metadata": {},
     "output_type": "execute_result"
    }
   ],
   "source": [
    "vector = np.array([\n",
    "    [1],\n",
    "    [2],\n",
    "    [3],\n",
    "    [4]\n",
    "])\n",
    "vector"
   ]
  },
  {
   "cell_type": "markdown",
   "id": "loving-registrar",
   "metadata": {},
   "source": [
    "## ndarray의 속성"
   ]
  },
  {
   "cell_type": "code",
   "execution_count": 20,
   "id": "informative-wayne",
   "metadata": {},
   "outputs": [
    {
     "name": "stdout",
     "output_type": "stream",
     "text": [
      "1\n",
      "2\n",
      "2\n"
     ]
    }
   ],
   "source": [
    "print(arr.ndim)\n",
    "print(arrn.ndim)\n",
    "print(vector.ndim)"
   ]
  },
  {
   "cell_type": "code",
   "execution_count": 22,
   "id": "infinite-cleveland",
   "metadata": {},
   "outputs": [
    {
     "name": "stdout",
     "output_type": "stream",
     "text": [
      "(5,)\n",
      "(4, 3)\n",
      "(4, 1)\n"
     ]
    }
   ],
   "source": [
    "# 배열의 모양(크기)\n",
    "print(arr.shape)\n",
    "print(arrn.shape)\n",
    "print(vector.shape)"
   ]
  },
  {
   "cell_type": "markdown",
   "id": "verified-seller",
   "metadata": {},
   "source": [
    "## 배열의 인덱싱과 슬라이싱\n",
    "- 파이썬에서의 리스트와는 다르게 동작\n",
    "- 인덱싱과 슬라이싱은 많이 익숙해져서 편하게 다룰 수 있어야 합니다. "
   ]
  },
  {
   "cell_type": "markdown",
   "id": "figured-bachelor",
   "metadata": {},
   "source": [
    "### 1차원 인덱싱과 슬라이스\n",
    "- 어떤 언어든지 1차원은 쉬운것 같아요 \n",
    "- C언어만 빼고, 얘는 1차원도 어려워요 "
   ]
  },
  {
   "cell_type": "code",
   "execution_count": 25,
   "id": "japanese-literature",
   "metadata": {},
   "outputs": [
    {
     "data": {
      "text/plain": [
       "array([1, 2, 3, 4, 5])"
      ]
     },
     "execution_count": 25,
     "metadata": {},
     "output_type": "execute_result"
    }
   ],
   "source": [
    "arr"
   ]
  },
  {
   "cell_type": "code",
   "execution_count": 26,
   "id": "imposed-angel",
   "metadata": {},
   "outputs": [
    {
     "data": {
      "text/plain": [
       "1"
      ]
     },
     "execution_count": 26,
     "metadata": {},
     "output_type": "execute_result"
    }
   ],
   "source": [
    "# 파이썬에서 인덱스 번호는 0번부터 시작\n",
    "# 음수 인덱싱도 가능\n",
    "arr[0]"
   ]
  },
  {
   "cell_type": "code",
   "execution_count": 27,
   "id": "sought-registration",
   "metadata": {},
   "outputs": [
    {
     "data": {
      "text/plain": [
       "5"
      ]
     },
     "execution_count": 27,
     "metadata": {},
     "output_type": "execute_result"
    }
   ],
   "source": [
    "arr[-1]"
   ]
  },
  {
   "cell_type": "code",
   "execution_count": 30,
   "id": "closed-quantity",
   "metadata": {},
   "outputs": [
    {
     "data": {
      "text/plain": [
       "array([1, 2])"
      ]
     },
     "execution_count": 30,
     "metadata": {},
     "output_type": "execute_result"
    }
   ],
   "source": [
    "# 마지막 인덱스는 열려있는 연산 \n",
    "# arr[0:2)\n",
    "arr[0:2] "
   ]
  },
  {
   "cell_type": "code",
   "execution_count": 31,
   "id": "initial-handy",
   "metadata": {},
   "outputs": [
    {
     "data": {
      "text/plain": [
       "array([1, 2, 3, 4, 5])"
      ]
     },
     "execution_count": 31,
     "metadata": {},
     "output_type": "execute_result"
    }
   ],
   "source": [
    "arr[:]"
   ]
  },
  {
   "cell_type": "code",
   "execution_count": 33,
   "id": "heated-small",
   "metadata": {},
   "outputs": [
    {
     "data": {
      "text/plain": [
       "array([1, 2, 3])"
      ]
     },
     "execution_count": 33,
     "metadata": {},
     "output_type": "execute_result"
    }
   ],
   "source": [
    "arr[:3]"
   ]
  },
  {
   "cell_type": "code",
   "execution_count": 34,
   "id": "purple-computer",
   "metadata": {},
   "outputs": [
    {
     "data": {
      "text/plain": [
       "array([3, 4, 5])"
      ]
     },
     "execution_count": 34,
     "metadata": {},
     "output_type": "execute_result"
    }
   ],
   "source": [
    "arr[2:]"
   ]
  },
  {
   "cell_type": "code",
   "execution_count": 37,
   "id": "atlantic-trustee",
   "metadata": {},
   "outputs": [
    {
     "data": {
      "text/plain": [
       "array([5, 4])"
      ]
     },
     "execution_count": 37,
     "metadata": {},
     "output_type": "execute_result"
    }
   ],
   "source": [
    "arr[-1:-3:-1]"
   ]
  },
  {
   "cell_type": "markdown",
   "id": "nutritional-actor",
   "metadata": {},
   "source": [
    "### 2차원 배열의 인덱싱과 슬라이싱"
   ]
  },
  {
   "cell_type": "code",
   "execution_count": 38,
   "id": "tutorial-portal",
   "metadata": {},
   "outputs": [
    {
     "data": {
      "text/plain": [
       "array([[1, 4, 2],\n",
       "       [9, 5, 0],\n",
       "       [4, 0, 2],\n",
       "       [6, 1, 8]])"
      ]
     },
     "execution_count": 38,
     "metadata": {},
     "output_type": "execute_result"
    }
   ],
   "source": [
    "arrn"
   ]
  },
  {
   "cell_type": "code",
   "execution_count": 40,
   "id": "vocal-lodging",
   "metadata": {},
   "outputs": [
    {
     "data": {
      "text/plain": [
       "5"
      ]
     },
     "execution_count": 40,
     "metadata": {},
     "output_type": "execute_result"
    }
   ],
   "source": [
    "arrn[1,1] # 리스트와는 다르게 콤마로 행과 열을 구분"
   ]
  },
  {
   "cell_type": "code",
   "execution_count": 41,
   "id": "residential-chase",
   "metadata": {},
   "outputs": [
    {
     "data": {
      "text/plain": [
       "8"
      ]
     },
     "execution_count": 41,
     "metadata": {},
     "output_type": "execute_result"
    }
   ],
   "source": [
    "arrn[-1,-1]"
   ]
  },
  {
   "cell_type": "code",
   "execution_count": 47,
   "id": "familiar-bailey",
   "metadata": {},
   "outputs": [
    {
     "name": "stdout",
     "output_type": "stream",
     "text": [
      "[1 4 2]\n",
      "[1 4 2]\n",
      "[1 4 2]\n"
     ]
    }
   ],
   "source": [
    "# 배열에서는 행따로, 열따로 슬라이스가 가능\n",
    "# 이걸 구분하는게 콤마로 구분\n",
    "# 사소해보이지만, 사소하지 않은 그래서 중요한\n",
    "\n",
    "# 한 행 전체를 표현\n",
    "print( arrn[0] )\n",
    "print( arrn[0,])\n",
    "print( arrn[0,:])"
   ]
  },
  {
   "cell_type": "code",
   "execution_count": 51,
   "id": "crazy-defense",
   "metadata": {},
   "outputs": [
    {
     "name": "stdout",
     "output_type": "stream",
     "text": [
      "[1 9 4 6]\n",
      "[1 9]\n",
      "[9 4]\n"
     ]
    }
   ],
   "source": [
    "# 한 열 전체를 표현\n",
    "\n",
    "print( arrn[:,0])\n",
    "print( arrn[0:2,0])\n",
    "print( arrn[1:3,0])"
   ]
  },
  {
   "cell_type": "code",
   "execution_count": 52,
   "id": "comprehensive-recipient",
   "metadata": {},
   "outputs": [
    {
     "data": {
      "text/plain": [
       "array([[ 1,  2,  3,  4,  5,  6,  7,  8,  9, 10],\n",
       "       [11, 12, 13, 14, 15, 16, 17, 18, 19, 20],\n",
       "       [21, 22, 23, 24, 25, 26, 27, 28, 29, 30]])"
      ]
     },
     "execution_count": 52,
     "metadata": {},
     "output_type": "execute_result"
    }
   ],
   "source": [
    "arrn = np.array([\n",
    "    [1,2,3,4,5,6,7,8,9,10],\n",
    "    [11, 12, 13, 14, 15, 16, 17, 18, 19, 20],\n",
    "    [21, 22, 23, 24, 25, 26, 27, 28, 29, 30]\n",
    "])\n",
    "arrn"
   ]
  },
  {
   "cell_type": "code",
   "execution_count": 53,
   "id": "interracial-montgomery",
   "metadata": {},
   "outputs": [
    {
     "data": {
      "text/plain": [
       "16"
      ]
     },
     "execution_count": 53,
     "metadata": {},
     "output_type": "execute_result"
    }
   ],
   "source": [
    "# 16이라는 값만 표현\n",
    "arrn[1,5]"
   ]
  },
  {
   "cell_type": "code",
   "execution_count": 55,
   "id": "tutorial-rubber",
   "metadata": {},
   "outputs": [
    {
     "data": {
      "text/plain": [
       "29"
      ]
     },
     "execution_count": 55,
     "metadata": {},
     "output_type": "execute_result"
    }
   ],
   "source": [
    "# 29라는 값만 표현\n",
    "arrn[2,8] # 3번째 행 9번째 열이라고 읽고, 2,8이라고 쓴다. "
   ]
  },
  {
   "cell_type": "code",
   "execution_count": 57,
   "id": "theoretical-miracle",
   "metadata": {},
   "outputs": [
    {
     "data": {
      "text/plain": [
       "array([14, 15, 16])"
      ]
     },
     "execution_count": 57,
     "metadata": {},
     "output_type": "execute_result"
    }
   ],
   "source": [
    "# 14, 15, 16을 나란히 표현\n",
    "arrn[1, 3:6]"
   ]
  },
  {
   "cell_type": "code",
   "execution_count": 58,
   "id": "wrong-woman",
   "metadata": {},
   "outputs": [
    {
     "data": {
      "text/plain": [
       "array([18, 28])"
      ]
     },
     "execution_count": 58,
     "metadata": {},
     "output_type": "execute_result"
    }
   ],
   "source": [
    "# 18, 28을 나란히 표현\n",
    "arrn[1:3 , 7]"
   ]
  },
  {
   "cell_type": "code",
   "execution_count": 59,
   "id": "fancy-secondary",
   "metadata": {},
   "outputs": [
    {
     "data": {
      "text/plain": [
       "array([[ 9, 10],\n",
       "       [19, 20]])"
      ]
     },
     "execution_count": 59,
     "metadata": {},
     "output_type": "execute_result"
    }
   ],
   "source": [
    "# 9, 10, 19, 20을 나란히 표현\n",
    "arrn[0:2, 8:10]"
   ]
  },
  {
   "cell_type": "markdown",
   "id": "patent-testimony",
   "metadata": {},
   "source": [
    "### 인덱싱과 슬라이스 연습"
   ]
  },
  {
   "cell_type": "code",
   "execution_count": 6,
   "id": "first-biography",
   "metadata": {},
   "outputs": [
    {
     "data": {
      "text/plain": [
       "array([[ 1,  2,  3,  4,  5,  6,  7,  8,  9, 10],\n",
       "       [11, 12, 13, 14, 15, 16, 17, 18, 19, 20],\n",
       "       [21, 22, 23, 24, 25, 26, 27, 28, 29, 30],\n",
       "       [31, 32, 33, 34, 35, 36, 37, 38, 39, 40],\n",
       "       [41, 42, 43, 44, 45, 46, 47, 48, 49, 50]])"
      ]
     },
     "execution_count": 6,
     "metadata": {},
     "output_type": "execute_result"
    }
   ],
   "source": [
    "np.arange(1, 51).reshape(5,10)"
   ]
  },
  {
   "cell_type": "code",
   "execution_count": 15,
   "id": "exotic-wealth",
   "metadata": {},
   "outputs": [],
   "source": [
    "arrn = []\n",
    "for i in range(0, 5):\n",
    "   arr = [x for x in range(i*10 + 1, ((i+1)*10)+1)]\n",
    "   arrn.append(arr)"
   ]
  },
  {
   "cell_type": "code",
   "execution_count": 16,
   "id": "exceptional-conviction",
   "metadata": {},
   "outputs": [
    {
     "data": {
      "text/plain": [
       "array([[ 1,  2,  3,  4,  5,  6,  7,  8,  9, 10],\n",
       "       [11, 12, 13, 14, 15, 16, 17, 18, 19, 20],\n",
       "       [21, 22, 23, 24, 25, 26, 27, 28, 29, 30],\n",
       "       [31, 32, 33, 34, 35, 36, 37, 38, 39, 40],\n",
       "       [41, 42, 43, 44, 45, 46, 47, 48, 49, 50]])"
      ]
     },
     "execution_count": 16,
     "metadata": {},
     "output_type": "execute_result"
    }
   ],
   "source": [
    "np.array(arrn)"
   ]
  },
  {
   "cell_type": "code",
   "execution_count": 61,
   "id": "legislative-header",
   "metadata": {},
   "outputs": [
    {
     "data": {
      "text/plain": [
       "array([[ 1,  2,  3,  4,  5,  6,  7,  8,  9, 10],\n",
       "       [11, 12, 13, 14, 15, 16, 17, 18, 19, 20],\n",
       "       [21, 22, 23, 24, 25, 26, 27, 28, 29, 30],\n",
       "       [31, 32, 33, 34, 35, 36, 37, 38, 39, 40],\n",
       "       [41, 42, 43, 44, 45, 46, 47, 48, 49, 50]])"
      ]
     },
     "execution_count": 61,
     "metadata": {},
     "output_type": "execute_result"
    }
   ],
   "source": [
    "arrn = np.array([\n",
    "    [1,2,3,4,5,6,7,8,9,10],\n",
    "    [11, 12, 13, 14, 15, 16, 17, 18, 19, 20],\n",
    "    [21, 22, 23, 24, 25, 26, 27, 28, 29, 30],\n",
    "    [31, 32, 33, 34, 35, 36, 37, 38, 39, 40],\n",
    "    [41, 42, 43, 44, 45, 46, 47, 48, 49, 50]\n",
    "])\n",
    "arrn"
   ]
  },
  {
   "cell_type": "code",
   "execution_count": 62,
   "id": "democratic-syndrome",
   "metadata": {},
   "outputs": [],
   "source": [
    "# TODO\n",
    "# [[14, 15, 16, 17], [24, 25, 26, 27], [34, 35, 36, 37]]"
   ]
  },
  {
   "cell_type": "code",
   "execution_count": 63,
   "id": "numeric-chicago",
   "metadata": {},
   "outputs": [],
   "source": [
    "# TODO\n",
    "# [12, 22, 32]"
   ]
  },
  {
   "cell_type": "markdown",
   "id": "dynamic-interview",
   "metadata": {},
   "source": [
    "## 배열인덱싱(array indexing), 팬시 인덱싱(fancy indexing)"
   ]
  },
  {
   "cell_type": "markdown",
   "id": "experienced-worker",
   "metadata": {},
   "source": [
    "### Boolean index\n",
    "- 원본 배열의 크기와 같은 크기여야 한다. \n",
    "- 조건에 맞는 자료를 검색하는 경우에 매우 유용하게 사용된다. "
   ]
  },
  {
   "cell_type": "code",
   "execution_count": 66,
   "id": "above-british",
   "metadata": {},
   "outputs": [
    {
     "data": {
      "text/plain": [
       "array([1, 2, 3, 4, 5])"
      ]
     },
     "execution_count": 66,
     "metadata": {},
     "output_type": "execute_result"
    }
   ],
   "source": [
    "arr"
   ]
  },
  {
   "cell_type": "code",
   "execution_count": 71,
   "id": "finnish-marijuana",
   "metadata": {},
   "outputs": [
    {
     "data": {
      "text/plain": [
       "array([1, 3])"
      ]
     },
     "execution_count": 71,
     "metadata": {},
     "output_type": "execute_result"
    }
   ],
   "source": [
    "arr[\n",
    "    [True, False, True, False, False]\n",
    "]"
   ]
  },
  {
   "cell_type": "code",
   "execution_count": 69,
   "id": "major-wednesday",
   "metadata": {},
   "outputs": [
    {
     "data": {
      "text/plain": [
       "array([1, 4])"
      ]
     },
     "execution_count": 69,
     "metadata": {},
     "output_type": "execute_result"
    }
   ],
   "source": [
    "idx = np.array([True, False, False, True, False])\n",
    "arr[idx]"
   ]
  },
  {
   "cell_type": "markdown",
   "id": "assisted-involvement",
   "metadata": {},
   "source": [
    "### Interger index\n",
    "- 크기가 같지 않아도 상관이 없다. "
   ]
  },
  {
   "cell_type": "code",
   "execution_count": 72,
   "id": "super-longer",
   "metadata": {},
   "outputs": [
    {
     "data": {
      "text/plain": [
       "array([1, 2, 3, 4, 5])"
      ]
     },
     "execution_count": 72,
     "metadata": {},
     "output_type": "execute_result"
    }
   ],
   "source": [
    "arr"
   ]
  },
  {
   "cell_type": "code",
   "execution_count": 74,
   "id": "vertical-appraisal",
   "metadata": {},
   "outputs": [
    {
     "data": {
      "text/plain": [
       "array([2, 2, 2, 2, 2, 3, 3, 4, 4, 4, 5, 5, 5, 5, 5, 2, 3, 3, 2])"
      ]
     },
     "execution_count": 74,
     "metadata": {},
     "output_type": "execute_result"
    }
   ],
   "source": [
    "arr[\n",
    "    [1,1,1,1,1,2,2,3,3,3,4,4,4,4,4,1,2,2,1]\n",
    "]"
   ]
  },
  {
   "cell_type": "markdown",
   "id": "sublime-hampshire",
   "metadata": {},
   "source": [
    "## 배열의 타입\n",
    "- 정수(int32, int64), 실수(float32, float64)"
   ]
  },
  {
   "cell_type": "code",
   "execution_count": 75,
   "id": "subjective-alaska",
   "metadata": {},
   "outputs": [
    {
     "data": {
      "text/plain": [
       "array([1, 2, 3, 4, 5])"
      ]
     },
     "execution_count": 75,
     "metadata": {},
     "output_type": "execute_result"
    }
   ],
   "source": [
    "arr"
   ]
  },
  {
   "cell_type": "code",
   "execution_count": 76,
   "id": "several-monday",
   "metadata": {},
   "outputs": [
    {
     "data": {
      "text/plain": [
       "dtype('int64')"
      ]
     },
     "execution_count": 76,
     "metadata": {},
     "output_type": "execute_result"
    }
   ],
   "source": [
    "arr.dtype"
   ]
  },
  {
   "cell_type": "code",
   "execution_count": 78,
   "id": "bottom-antibody",
   "metadata": {},
   "outputs": [
    {
     "data": {
      "text/plain": [
       "array([1. , 2. , 3. , 4. , 0.5])"
      ]
     },
     "execution_count": 78,
     "metadata": {},
     "output_type": "execute_result"
    }
   ],
   "source": [
    "arrf = np.array([1,2,3,4,.5])\n",
    "arrf"
   ]
  },
  {
   "cell_type": "code",
   "execution_count": 79,
   "id": "bound-presentation",
   "metadata": {},
   "outputs": [
    {
     "data": {
      "text/plain": [
       "dtype('float64')"
      ]
     },
     "execution_count": 79,
     "metadata": {},
     "output_type": "execute_result"
    }
   ],
   "source": [
    "arrf.dtype"
   ]
  },
  {
   "cell_type": "code",
   "execution_count": 80,
   "id": "portuguese-preserve",
   "metadata": {},
   "outputs": [],
   "source": [
    "arrf = np.array([1,2,3,4,5], dtype=np.float64)"
   ]
  },
  {
   "cell_type": "code",
   "execution_count": 82,
   "id": "painted-rings",
   "metadata": {},
   "outputs": [
    {
     "data": {
      "text/plain": [
       "array([1, 2, 3, 4, 5])"
      ]
     },
     "execution_count": 82,
     "metadata": {},
     "output_type": "execute_result"
    }
   ],
   "source": [
    "arrf.astype(np.int64)"
   ]
  },
  {
   "cell_type": "markdown",
   "id": "animated-paragraph",
   "metadata": {},
   "source": [
    "## Numpy의 특별한 타입\n",
    "- NaN(Nat a Number)\n",
    "    - 결측치를 표현하는 용도로 사용\n",
    "- inf(infinity)"
   ]
  },
  {
   "cell_type": "code",
   "execution_count": 87,
   "id": "dominant-house",
   "metadata": {},
   "outputs": [
    {
     "name": "stdout",
     "output_type": "stream",
     "text": [
      "<class 'float'>\n",
      "<class 'float'>\n"
     ]
    }
   ],
   "source": [
    "print(type(np.nan))\n",
    "print(type(np.inf))"
   ]
  },
  {
   "cell_type": "code",
   "execution_count": 85,
   "id": "mexican-navigation",
   "metadata": {},
   "outputs": [
    {
     "name": "stderr",
     "output_type": "stream",
     "text": [
      "<ipython-input-85-f6e7c0610b57>:1: RuntimeWarning: divide by zero encountered in log\n",
      "  np.log(0)\n"
     ]
    },
    {
     "data": {
      "text/plain": [
       "-inf"
      ]
     },
     "execution_count": 85,
     "metadata": {},
     "output_type": "execute_result"
    }
   ],
   "source": [
    "np.log(0)"
   ]
  },
  {
   "cell_type": "code",
   "execution_count": 86,
   "id": "acquired-grove",
   "metadata": {},
   "outputs": [
    {
     "name": "stderr",
     "output_type": "stream",
     "text": [
      "<ipython-input-86-82fd975ed980>:1: RuntimeWarning: invalid value encountered in true_divide\n",
      "  np.array([0]) / np.array([0])\n"
     ]
    },
    {
     "data": {
      "text/plain": [
       "array([nan])"
      ]
     },
     "execution_count": 86,
     "metadata": {},
     "output_type": "execute_result"
    }
   ],
   "source": [
    "np.array([0]) / np.array([0])"
   ]
  },
  {
   "cell_type": "markdown",
   "id": "backed-shipping",
   "metadata": {},
   "source": [
    "## 배열을 생성하는 방법"
   ]
  },
  {
   "cell_type": "markdown",
   "id": "resident-brush",
   "metadata": {},
   "source": [
    "### 초기화된 배열"
   ]
  },
  {
   "cell_type": "code",
   "execution_count": 90,
   "id": "loaded-likelihood",
   "metadata": {},
   "outputs": [
    {
     "data": {
      "text/plain": [
       "array([[0, 0, 0],\n",
       "       [0, 0, 0],\n",
       "       [0, 0, 0],\n",
       "       [0, 0, 0]])"
      ]
     },
     "execution_count": 90,
     "metadata": {},
     "output_type": "execute_result"
    }
   ],
   "source": [
    "np.zeros((4,3), dtype=np.int64)"
   ]
  },
  {
   "cell_type": "code",
   "execution_count": 91,
   "id": "straight-importance",
   "metadata": {},
   "outputs": [
    {
     "data": {
      "text/plain": [
       "array([[1],\n",
       "       [1],\n",
       "       [1],\n",
       "       [1]], dtype=int32)"
      ]
     },
     "execution_count": 91,
     "metadata": {},
     "output_type": "execute_result"
    }
   ],
   "source": [
    "np.ones((4,1), dtype=np.int32)"
   ]
  },
  {
   "cell_type": "code",
   "execution_count": 92,
   "id": "amateur-technology",
   "metadata": {},
   "outputs": [
    {
     "data": {
      "text/plain": [
       "array([[5],\n",
       "       [5],\n",
       "       [5],\n",
       "       [5]])"
      ]
     },
     "execution_count": 92,
     "metadata": {},
     "output_type": "execute_result"
    }
   ],
   "source": [
    "np.full((4,1), 5)"
   ]
  },
  {
   "cell_type": "code",
   "execution_count": 210,
   "id": "quality-russian",
   "metadata": {},
   "outputs": [
    {
     "data": {
      "text/plain": [
       "array([1, 2, 3, 4, 5, 6, 7, 8, 9])"
      ]
     },
     "execution_count": 210,
     "metadata": {},
     "output_type": "execute_result"
    }
   ],
   "source": [
    "np.arange(1, 10)"
   ]
  },
  {
   "cell_type": "code",
   "execution_count": 97,
   "id": "instructional-harvest",
   "metadata": {},
   "outputs": [
    {
     "data": {
      "text/plain": [
       "array([ 0,  1,  2,  3,  4,  5,  6,  7,  8, 10])"
      ]
     },
     "execution_count": 97,
     "metadata": {},
     "output_type": "execute_result"
    }
   ],
   "source": [
    "np.linspace(0, 10, 10, dtype=np.int64)"
   ]
  },
  {
   "cell_type": "markdown",
   "id": "greatest-humanity",
   "metadata": {},
   "source": [
    "## 랜덤 배열 생성"
   ]
  },
  {
   "cell_type": "code",
   "execution_count": 101,
   "id": "norwegian-recipient",
   "metadata": {},
   "outputs": [
    {
     "data": {
      "text/plain": [
       "array([0.93968533, 0.06779707, 0.25730692, 0.03056509, 0.80817237,\n",
       "       0.91823023, 0.92757952, 0.66252084, 0.34846893, 0.40855654])"
      ]
     },
     "execution_count": 101,
     "metadata": {},
     "output_type": "execute_result"
    }
   ],
   "source": [
    "np.random.rand(10)"
   ]
  },
  {
   "cell_type": "code",
   "execution_count": 103,
   "id": "solid-mediterranean",
   "metadata": {},
   "outputs": [
    {
     "data": {
      "text/plain": [
       "array([[0.44712203, 0.27076917, 0.04434374],\n",
       "       [0.45769978, 0.39648224, 0.45964064],\n",
       "       [0.11601003, 0.34644168, 0.4676779 ],\n",
       "       [0.87424478, 0.80162365, 0.68715489]])"
      ]
     },
     "execution_count": 103,
     "metadata": {},
     "output_type": "execute_result"
    }
   ],
   "source": [
    "np.random.rand(4,3)"
   ]
  },
  {
   "cell_type": "code",
   "execution_count": 106,
   "id": "featured-panic",
   "metadata": {},
   "outputs": [
    {
     "data": {
      "text/plain": [
       "array([1, 9, 7, 6, 2])"
      ]
     },
     "execution_count": 106,
     "metadata": {},
     "output_type": "execute_result"
    }
   ],
   "source": [
    "np.random.randint(1,10, size=5)"
   ]
  },
  {
   "cell_type": "code",
   "execution_count": 107,
   "id": "fuzzy-postcard",
   "metadata": {},
   "outputs": [
    {
     "data": {
      "text/plain": [
       "array([[9, 1, 9],\n",
       "       [5, 5, 4],\n",
       "       [5, 4, 9],\n",
       "       [9, 7, 6]])"
      ]
     },
     "execution_count": 107,
     "metadata": {},
     "output_type": "execute_result"
    }
   ],
   "source": [
    "np.random.randint(1,10, size=(4,3))"
   ]
  },
  {
   "cell_type": "code",
   "execution_count": 110,
   "id": "contemporary-thomson",
   "metadata": {},
   "outputs": [
    {
     "data": {
      "text/plain": [
       "array([[-2.44271085, -1.33731024,  0.28007843,  0.58943545,  0.0748648 ],\n",
       "       [-0.56047348,  0.53204246,  1.3918799 ,  0.13952211,  0.18227752],\n",
       "       [-0.86649198, -0.2358299 , -0.85593778,  0.85615356,  1.85813234],\n",
       "       [ 0.11161369,  1.07100055, -1.43681328,  0.59894827,  0.63725996],\n",
       "       [-0.45561822,  0.46933664,  1.31352202,  0.68904904, -0.86014774]])"
      ]
     },
     "execution_count": 110,
     "metadata": {},
     "output_type": "execute_result"
    }
   ],
   "source": [
    "np.random.randn(5,5) #정규분포로 부터 샘플링"
   ]
  },
  {
   "cell_type": "code",
   "execution_count": 116,
   "id": "technical-irish",
   "metadata": {},
   "outputs": [
    {
     "data": {
      "text/plain": [
       "array([[2, 8, 7],\n",
       "       [0, 5, 6]])"
      ]
     },
     "execution_count": 116,
     "metadata": {},
     "output_type": "execute_result"
    }
   ],
   "source": [
    "# 중복없이 랜덤한 값을 선택\n",
    "arr = np.arange(10)\n",
    "np.random.choice(arr, size=(2,3), replace=False)"
   ]
  },
  {
   "cell_type": "code",
   "execution_count": 129,
   "id": "packed-shipping",
   "metadata": {},
   "outputs": [
    {
     "data": {
      "text/plain": [
       "array([3, 6, 5, 4, 8])"
      ]
     },
     "execution_count": 129,
     "metadata": {},
     "output_type": "execute_result"
    }
   ],
   "source": [
    "np.random.seed(1234)\n",
    "np.random.randint(10, size=5)"
   ]
  },
  {
   "cell_type": "markdown",
   "id": "devoted-constitution",
   "metadata": {},
   "source": [
    "## 배열의 모양\n",
    "- reshape\n",
    "    - 저차원 고차원으로 변경 \n",
    "    - 고차원에서 저차원 변경\n",
    "- 변경하는 차원의 크기가 꼭, 같아야 됩니다. "
   ]
  },
  {
   "cell_type": "markdown",
   "id": "numeric-mechanism",
   "metadata": {},
   "source": [
    "### 저차원에서 고차원으로 변경"
   ]
  },
  {
   "cell_type": "code",
   "execution_count": 131,
   "id": "sticky-compact",
   "metadata": {},
   "outputs": [
    {
     "data": {
      "text/plain": [
       "array([1, 2, 3, 4, 5, 6, 7, 8, 9])"
      ]
     },
     "execution_count": 131,
     "metadata": {},
     "output_type": "execute_result"
    }
   ],
   "source": [
    "arr = np.arange(1, 10)\n",
    "arr"
   ]
  },
  {
   "cell_type": "code",
   "execution_count": 132,
   "id": "guided-winner",
   "metadata": {},
   "outputs": [
    {
     "data": {
      "text/plain": [
       "array([[1, 2, 3],\n",
       "       [4, 5, 6],\n",
       "       [7, 8, 9]])"
      ]
     },
     "execution_count": 132,
     "metadata": {},
     "output_type": "execute_result"
    }
   ],
   "source": [
    "arr.reshape(3,3)"
   ]
  },
  {
   "cell_type": "code",
   "execution_count": 134,
   "id": "recreational-philadelphia",
   "metadata": {},
   "outputs": [
    {
     "data": {
      "text/plain": [
       "array([[1],\n",
       "       [2],\n",
       "       [3],\n",
       "       [4],\n",
       "       [5],\n",
       "       [6],\n",
       "       [7],\n",
       "       [8],\n",
       "       [9]])"
      ]
     },
     "execution_count": 134,
     "metadata": {},
     "output_type": "execute_result"
    }
   ],
   "source": [
    "arr.reshape(9,1)"
   ]
  },
  {
   "cell_type": "markdown",
   "id": "analyzed-madison",
   "metadata": {},
   "source": [
    "### 고차원에서 저차원으로 변경"
   ]
  },
  {
   "cell_type": "code",
   "execution_count": 136,
   "id": "pressed-surface",
   "metadata": {},
   "outputs": [
    {
     "data": {
      "text/plain": [
       "array([[0, 5, 2],\n",
       "       [6, 3, 7],\n",
       "       [0, 9, 0],\n",
       "       [3, 2, 3]])"
      ]
     },
     "execution_count": 136,
     "metadata": {},
     "output_type": "execute_result"
    }
   ],
   "source": [
    "arrn = np.random.randint(10, size=(4,3))\n",
    "arrn"
   ]
  },
  {
   "cell_type": "code",
   "execution_count": 137,
   "id": "persistent-gates",
   "metadata": {},
   "outputs": [
    {
     "data": {
      "text/plain": [
       "array([0, 5, 2, 6, 3, 7, 0, 9, 0, 3, 2, 3])"
      ]
     },
     "execution_count": 137,
     "metadata": {},
     "output_type": "execute_result"
    }
   ],
   "source": [
    "arrn.flatten()"
   ]
  },
  {
   "cell_type": "code",
   "execution_count": 138,
   "id": "dynamic-exclusion",
   "metadata": {},
   "outputs": [
    {
     "data": {
      "text/plain": [
       "array([0, 6, 0, 3, 5, 3, 9, 2, 2, 7, 0, 3])"
      ]
     },
     "execution_count": 138,
     "metadata": {},
     "output_type": "execute_result"
    }
   ],
   "source": [
    "arrn.flatten(order='F')"
   ]
  },
  {
   "cell_type": "markdown",
   "id": "existing-pharmaceutical",
   "metadata": {},
   "source": [
    "## 배열의 함수\n",
    "- 기술(기초) 통계: 평균, 분산, 중앙, 최빈, 최대, 최소\n",
    "- 집계(aggrigation): sum, count"
   ]
  },
  {
   "cell_type": "code",
   "execution_count": 139,
   "id": "annual-partner",
   "metadata": {},
   "outputs": [
    {
     "data": {
      "text/plain": [
       "array([1, 2, 3, 4, 5, 6, 7, 8, 9])"
      ]
     },
     "execution_count": 139,
     "metadata": {},
     "output_type": "execute_result"
    }
   ],
   "source": [
    "arr"
   ]
  },
  {
   "cell_type": "code",
   "execution_count": 140,
   "id": "solved-strain",
   "metadata": {},
   "outputs": [
    {
     "data": {
      "text/plain": [
       "5.0"
      ]
     },
     "execution_count": 140,
     "metadata": {},
     "output_type": "execute_result"
    }
   ],
   "source": [
    "arr.mean()"
   ]
  },
  {
   "cell_type": "code",
   "execution_count": 143,
   "id": "instructional-substance",
   "metadata": {},
   "outputs": [
    {
     "data": {
      "text/plain": [
       "6.666666666666667"
      ]
     },
     "execution_count": 143,
     "metadata": {},
     "output_type": "execute_result"
    }
   ],
   "source": [
    "arr.var()"
   ]
  },
  {
   "cell_type": "code",
   "execution_count": 144,
   "id": "lonely-orbit",
   "metadata": {},
   "outputs": [
    {
     "data": {
      "text/plain": [
       "2.581988897471611"
      ]
     },
     "execution_count": 144,
     "metadata": {},
     "output_type": "execute_result"
    }
   ],
   "source": [
    "arr.std()"
   ]
  },
  {
   "cell_type": "code",
   "execution_count": 147,
   "id": "contrary-silence",
   "metadata": {},
   "outputs": [
    {
     "data": {
      "text/plain": [
       "5.0"
      ]
     },
     "execution_count": 147,
     "metadata": {},
     "output_type": "execute_result"
    }
   ],
   "source": [
    "# 자료를 순서대로 정렬했을 때, 가운데 오는 값\n",
    "np.median(arr)"
   ]
  },
  {
   "cell_type": "code",
   "execution_count": 153,
   "id": "super-album",
   "metadata": {},
   "outputs": [
    {
     "data": {
      "text/plain": [
       "array([1, 9, 9, 7, 9, 7, 4, 2, 3, 6])"
      ]
     },
     "execution_count": 153,
     "metadata": {},
     "output_type": "execute_result"
    }
   ],
   "source": [
    "from scipy.stats import mode\n",
    "arrr = np.random.randint(1, 10, size=10)\n",
    "arrr"
   ]
  },
  {
   "cell_type": "code",
   "execution_count": 154,
   "id": "southwest-address",
   "metadata": {},
   "outputs": [
    {
     "data": {
      "text/plain": [
       "ModeResult(mode=array([9]), count=array([3]))"
      ]
     },
     "execution_count": 154,
     "metadata": {},
     "output_type": "execute_result"
    }
   ],
   "source": [
    "mode(arrr)"
   ]
  },
  {
   "cell_type": "code",
   "execution_count": 155,
   "id": "tropical-scanner",
   "metadata": {},
   "outputs": [
    {
     "data": {
      "text/plain": [
       "1"
      ]
     },
     "execution_count": 155,
     "metadata": {},
     "output_type": "execute_result"
    }
   ],
   "source": [
    "arr.min()"
   ]
  },
  {
   "cell_type": "code",
   "execution_count": 156,
   "id": "instant-theater",
   "metadata": {},
   "outputs": [
    {
     "data": {
      "text/plain": [
       "9"
      ]
     },
     "execution_count": 156,
     "metadata": {},
     "output_type": "execute_result"
    }
   ],
   "source": [
    "arr.max()"
   ]
  },
  {
   "cell_type": "markdown",
   "id": "corrected-payment",
   "metadata": {},
   "source": [
    "### 4분위수"
   ]
  },
  {
   "cell_type": "code",
   "execution_count": 170,
   "id": "sorted-objective",
   "metadata": {},
   "outputs": [
    {
     "name": "stdout",
     "output_type": "stream",
     "text": [
      "3.0\n",
      "3.0\n"
     ]
    }
   ],
   "source": [
    "# 1분위수\n",
    "# 전체 데이터의 25%에 해당하는 값\n",
    "print( np.percentile(arr, 25) )\n",
    "print( np.quantile(arr, .25) )"
   ]
  },
  {
   "cell_type": "code",
   "execution_count": 171,
   "id": "closed-velvet",
   "metadata": {},
   "outputs": [
    {
     "name": "stdout",
     "output_type": "stream",
     "text": [
      "5.0\n",
      "5.0\n"
     ]
    }
   ],
   "source": [
    "# 2분위수\n",
    "# 전체 데이터의 50%에 해당하는 값\n",
    "# 중앙값과 동일\n",
    "print(np.percentile(arr, 50))\n",
    "print(np.quantile(arr, .50))"
   ]
  },
  {
   "cell_type": "code",
   "execution_count": 173,
   "id": "median-infrastructure",
   "metadata": {},
   "outputs": [
    {
     "name": "stdout",
     "output_type": "stream",
     "text": [
      "7.0\n",
      "7.0\n"
     ]
    }
   ],
   "source": [
    "# 3분위수\n",
    "# 전체 데이터의 75%에 해당하는 값\n",
    "print(np.percentile(arr, 75))\n",
    "print(np.quantile(arr, .75))"
   ]
  },
  {
   "cell_type": "code",
   "execution_count": 176,
   "id": "powerful-married",
   "metadata": {},
   "outputs": [
    {
     "data": {
      "text/plain": [
       "45"
      ]
     },
     "execution_count": 176,
     "metadata": {},
     "output_type": "execute_result"
    }
   ],
   "source": [
    "arr.sum()"
   ]
  },
  {
   "cell_type": "code",
   "execution_count": 178,
   "id": "loved-inventory",
   "metadata": {},
   "outputs": [
    {
     "data": {
      "text/plain": [
       "array([ 1,  3,  6, 10, 15, 21, 28, 36, 45])"
      ]
     },
     "execution_count": 178,
     "metadata": {},
     "output_type": "execute_result"
    }
   ],
   "source": [
    "arr.cumsum()"
   ]
  },
  {
   "cell_type": "markdown",
   "id": "naked-cream",
   "metadata": {},
   "source": [
    "## axis란? "
   ]
  },
  {
   "cell_type": "code",
   "execution_count": 184,
   "id": "unknown-feedback",
   "metadata": {},
   "outputs": [
    {
     "data": {
      "text/plain": [
       "array([1, 2, 3, 4, 5, 6, 7, 8, 9])"
      ]
     },
     "execution_count": 184,
     "metadata": {},
     "output_type": "execute_result"
    }
   ],
   "source": [
    "arr"
   ]
  },
  {
   "cell_type": "code",
   "execution_count": 188,
   "id": "continental-presentation",
   "metadata": {},
   "outputs": [
    {
     "data": {
      "text/plain": [
       "45"
      ]
     },
     "execution_count": 188,
     "metadata": {},
     "output_type": "execute_result"
    }
   ],
   "source": [
    "arr.sum(axis=0)"
   ]
  },
  {
   "cell_type": "code",
   "execution_count": 189,
   "id": "pretty-hundred",
   "metadata": {},
   "outputs": [
    {
     "data": {
      "text/plain": [
       "array([[0, 5, 2],\n",
       "       [6, 3, 7],\n",
       "       [0, 9, 0],\n",
       "       [3, 2, 3]])"
      ]
     },
     "execution_count": 189,
     "metadata": {},
     "output_type": "execute_result"
    }
   ],
   "source": [
    "arrn"
   ]
  },
  {
   "cell_type": "code",
   "execution_count": 200,
   "id": "english-waters",
   "metadata": {},
   "outputs": [
    {
     "data": {
      "text/plain": [
       "array([ 9, 19, 12])"
      ]
     },
     "execution_count": 200,
     "metadata": {},
     "output_type": "execute_result"
    }
   ],
   "source": [
    "arrn.sum(axis=0) # 행을 기준으로 모든 행의 값을 더해준다. "
   ]
  },
  {
   "cell_type": "code",
   "execution_count": 201,
   "id": "historical-corrections",
   "metadata": {},
   "outputs": [
    {
     "data": {
      "text/plain": [
       "array([ 7, 16,  9,  8])"
      ]
     },
     "execution_count": 201,
     "metadata": {},
     "output_type": "execute_result"
    }
   ],
   "source": [
    "arrn.sum(axis=1) # 열을 기준으로 모든 열의 값을 더해준다. "
   ]
  },
  {
   "cell_type": "markdown",
   "id": "qualified-condition",
   "metadata": {},
   "source": [
    "# Numpy을 이용한 연산"
   ]
  },
  {
   "cell_type": "markdown",
   "id": "alien-atlanta",
   "metadata": {},
   "source": [
    "## 여러가지 형태의 벡터와 행렬"
   ]
  },
  {
   "cell_type": "markdown",
   "id": "instrumental-treasurer",
   "metadata": {},
   "source": [
    "### 영벡터"
   ]
  },
  {
   "cell_type": "code",
   "execution_count": 282,
   "id": "atomic-thursday",
   "metadata": {},
   "outputs": [
    {
     "data": {
      "text/plain": [
       "array([[0.],\n",
       "       [0.],\n",
       "       [0.],\n",
       "       [0.]])"
      ]
     },
     "execution_count": 282,
     "metadata": {},
     "output_type": "execute_result"
    }
   ],
   "source": [
    "np.zeros((4,1))"
   ]
  },
  {
   "cell_type": "markdown",
   "id": "favorite-pizza",
   "metadata": {},
   "source": [
    "### 일벡터"
   ]
  },
  {
   "cell_type": "code",
   "execution_count": 283,
   "id": "understood-level",
   "metadata": {},
   "outputs": [
    {
     "data": {
      "text/plain": [
       "array([[1.],\n",
       "       [1.],\n",
       "       [1.],\n",
       "       [1.]])"
      ]
     },
     "execution_count": 283,
     "metadata": {},
     "output_type": "execute_result"
    }
   ],
   "source": [
    "np.ones((4,1))"
   ]
  },
  {
   "cell_type": "markdown",
   "id": "architectural-madagascar",
   "metadata": {},
   "source": [
    "### 정방행렬(squre matrix)\n",
    "- 행과 열의 갯수가 동일한 행렬"
   ]
  },
  {
   "cell_type": "code",
   "execution_count": 285,
   "id": "quality-province",
   "metadata": {},
   "outputs": [
    {
     "data": {
      "text/plain": [
       "array([[9, 1, 2, 9, 1],\n",
       "       [5, 7, 4, 7, 7],\n",
       "       [1, 4, 0, 5, 4],\n",
       "       [9, 2, 9, 1, 3],\n",
       "       [5, 9, 3, 0, 4]])"
      ]
     },
     "execution_count": 285,
     "metadata": {},
     "output_type": "execute_result"
    }
   ],
   "source": [
    "np.random.randint(10, size=(5,5))"
   ]
  },
  {
   "cell_type": "markdown",
   "id": "quiet-representative",
   "metadata": {},
   "source": [
    "### 대각행렬(digonal matrix)\n",
    "- 행과 열이 같은 위치를 대각이라고 표현\n",
    "- 비대각(대각 위치가 아닌/행과 열이 다른위치)\n",
    "- 비대각이 전부 0인 요소"
   ]
  },
  {
   "cell_type": "code",
   "execution_count": 286,
   "id": "visible-grave",
   "metadata": {},
   "outputs": [
    {
     "data": {
      "text/plain": [
       "array([[1, 0, 0, 0, 0],\n",
       "       [0, 2, 0, 0, 0],\n",
       "       [0, 0, 3, 0, 0],\n",
       "       [0, 0, 0, 4, 0],\n",
       "       [0, 0, 0, 0, 5]])"
      ]
     },
     "execution_count": 286,
     "metadata": {},
     "output_type": "execute_result"
    }
   ],
   "source": [
    "np.diag([1,2,3,4,5])"
   ]
  },
  {
   "cell_type": "markdown",
   "id": "supposed-williams",
   "metadata": {},
   "source": [
    "### 항등행렬(identity matrix)\n",
    "- 대각행렬 중에서도 대각위치의 값이 모두 1인 행렬"
   ]
  },
  {
   "cell_type": "code",
   "execution_count": 287,
   "id": "speaking-scottish",
   "metadata": {},
   "outputs": [
    {
     "data": {
      "text/plain": [
       "array([[1, 0, 0, 0, 0],\n",
       "       [0, 1, 0, 0, 0],\n",
       "       [0, 0, 1, 0, 0],\n",
       "       [0, 0, 0, 1, 0],\n",
       "       [0, 0, 0, 0, 1]])"
      ]
     },
     "execution_count": 287,
     "metadata": {},
     "output_type": "execute_result"
    }
   ],
   "source": [
    "np.diag([1,1,1,1,1])"
   ]
  },
  {
   "cell_type": "markdown",
   "id": "asian-frequency",
   "metadata": {},
   "source": [
    "### Transpose(전치연산, 전치행렬)\n",
    "- 행과 열을 바꾸는 연산 전치연산\n",
    "- 그 행렬을 전치행렬\n",
    "$$\n",
    "    \\mathbb{A}^{T}\n",
    "$$"
   ]
  },
  {
   "cell_type": "code",
   "execution_count": 291,
   "id": "united-block",
   "metadata": {},
   "outputs": [
    {
     "data": {
      "text/plain": [
       "array([[2, 2, 3, 2],\n",
       "       [9, 7, 4, 8],\n",
       "       [1, 9, 2, 7]])"
      ]
     },
     "execution_count": 291,
     "metadata": {},
     "output_type": "execute_result"
    }
   ],
   "source": [
    "arrn = np.random.randint(10, size=(3,4))\n",
    "arrn"
   ]
  },
  {
   "cell_type": "code",
   "execution_count": 292,
   "id": "broad-solomon",
   "metadata": {},
   "outputs": [
    {
     "data": {
      "text/plain": [
       "array([[2, 9, 1],\n",
       "       [2, 7, 9],\n",
       "       [3, 4, 2],\n",
       "       [2, 8, 7]])"
      ]
     },
     "execution_count": 292,
     "metadata": {},
     "output_type": "execute_result"
    }
   ],
   "source": [
    "arrn.T"
   ]
  },
  {
   "cell_type": "code",
   "execution_count": 295,
   "id": "sweet-lucas",
   "metadata": {},
   "outputs": [
    {
     "data": {
      "text/plain": [
       "array([1, 2, 3, 4, 5, 6, 7, 8, 9])"
      ]
     },
     "execution_count": 295,
     "metadata": {},
     "output_type": "execute_result"
    }
   ],
   "source": [
    "# 1차원 배열에 대해서는 전치행렬이 정의되지 않는다. \n",
    "arr.T"
   ]
  },
  {
   "cell_type": "markdown",
   "id": "statistical-palace",
   "metadata": {},
   "source": [
    "## 타입에 따른 연산"
   ]
  },
  {
   "cell_type": "markdown",
   "id": "cordless-stability",
   "metadata": {},
   "source": [
    "### Scalar와 벡터의 연산\n",
    "- 사칙연산이 가능"
   ]
  }
 ],
 "metadata": {
  "kernelspec": {
   "display_name": "Python 3",
   "language": "python",
   "name": "python3"
  },
  "toc": {
   "base_numbering": 1,
   "nav_menu": {},
   "number_sections": true,
   "sideBar": true,
   "skip_h1_title": false,
   "title_cell": "Table of Contents",
   "title_sidebar": "Contents",
   "toc_cell": false,
   "toc_position": {
    "height": "calc(100% - 180px)",
    "left": "10px",
    "top": "150px",
    "width": "319px"
   },
   "toc_section_display": true,
   "toc_window_display": true
  }
 },
 "nbformat": 4,
 "nbformat_minor": 5
}
